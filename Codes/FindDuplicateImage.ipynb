{
  "nbformat": 4,
  "nbformat_minor": 0,
  "metadata": {
    "colab": {
      "provenance": [],
      "toc_visible": true
    },
    "kernelspec": {
      "name": "python3",
      "display_name": "Python 3"
    },
    "language_info": {
      "name": "python"
    }
  },
  "cells": [
    {
      "cell_type": "code",
      "execution_count": 8,
      "metadata": {
        "id": "Com_w_t7uEtq"
      },
      "outputs": [],
      "source": [
        "from tensorflow.keras.applications import VGG16\n",
        "\n",
        "# Load the pre-trained VGG16 model\n",
        "model = VGG16(weights='imagenet', include_top=False)\n"
      ]
    },
    {
      "cell_type": "code",
      "source": [
        "from tensorflow.keras.preprocessing import image\n",
        "from tensorflow.keras.applications.vgg16 import preprocess_input\n",
        "import numpy as np\n",
        "\n",
        "img_path = '/content/image.jpg'\n",
        "img = image.load_img(img_path, target_size=(224, 224))  # Resize to match VGG16 input size\n",
        "x = image.img_to_array(img)\n",
        "x = np.expand_dims(x, axis=0)\n",
        "x = preprocess_input(x)\n"
      ],
      "metadata": {
        "id": "a7JJdHsluNAU"
      },
      "execution_count": 9,
      "outputs": []
    },
    {
      "cell_type": "code",
      "source": [
        "img_path_2 = '/content/image_2.jpg'\n",
        "img2= image.load_img(img_path_2, target_size=(224, 224))  # Resize to match VGG16 input size\n",
        "x2 = image.img_to_array(img2)\n",
        "x2= np.expand_dims(x2, axis=0)\n",
        "x2 = preprocess_input(x2)\n"
      ],
      "metadata": {
        "id": "p1GGpW5gvChR"
      },
      "execution_count": 10,
      "outputs": []
    },
    {
      "cell_type": "code",
      "source": [
        "features = model.predict(x)\n"
      ],
      "metadata": {
        "colab": {
          "base_uri": "https://localhost:8080/"
        },
        "id": "6wW8oN4ausaL",
        "outputId": "0200615b-0cdb-46b1-843a-03ee7e6d0303"
      },
      "execution_count": 11,
      "outputs": [
        {
          "output_type": "stream",
          "name": "stdout",
          "text": [
            "1/1 [==============================] - 1s 713ms/step\n"
          ]
        }
      ]
    },
    {
      "cell_type": "code",
      "source": [
        "features_2 = model.predict(x2)\n"
      ],
      "metadata": {
        "colab": {
          "base_uri": "https://localhost:8080/"
        },
        "id": "_qimE4UpO2y2",
        "outputId": "4f1b6d34-4d28-439d-bdf9-81d58c68191c"
      },
      "execution_count": 14,
      "outputs": [
        {
          "output_type": "stream",
          "name": "stdout",
          "text": [
            "1/1 [==============================] - 1s 988ms/step\n"
          ]
        }
      ]
    },
    {
      "cell_type": "code",
      "source": [
        "print(features.shape)  # Shape of the feature vector\n",
        "print(features.flatten())  # Flatten the features for use as a vector\n"
      ],
      "metadata": {
        "colab": {
          "base_uri": "https://localhost:8080/"
        },
        "id": "rLm3TvGDuuxN",
        "outputId": "6da81703-8823-4b7c-e750-48f75900dc28"
      },
      "execution_count": 15,
      "outputs": [
        {
          "output_type": "stream",
          "name": "stdout",
          "text": [
            "(1, 7, 7, 512)\n",
            "[0. 0. 0. ... 0. 0. 0.]\n"
          ]
        }
      ]
    },
    {
      "cell_type": "code",
      "source": [
        "print(features_2.shape)  # Shape of the feature vector\n",
        "print(features_2.flatten())  # Flatten the features for use as a vector\n"
      ],
      "metadata": {
        "colab": {
          "base_uri": "https://localhost:8080/"
        },
        "id": "5lfS1dnavcEF",
        "outputId": "79be1e3c-a7e7-49f9-bf2c-2a6ae8eb40a1"
      },
      "execution_count": 16,
      "outputs": [
        {
          "output_type": "stream",
          "name": "stdout",
          "text": [
            "(1, 7, 7, 512)\n",
            "[0. 0. 0. ... 0. 0. 0.]\n"
          ]
        }
      ]
    },
    {
      "cell_type": "code",
      "source": [
        "from scipy.spatial import distance\n",
        "cosine_similarity = 1 - distance.cosine(features.flatten(), features_2.flatten())\n",
        "print(cosine_similarity)"
      ],
      "metadata": {
        "colab": {
          "base_uri": "https://localhost:8080/"
        },
        "id": "JlUJKbyJydUd",
        "outputId": "ff2b0a3b-a67e-45c8-8922-c3df31d029f8"
      },
      "execution_count": 18,
      "outputs": [
        {
          "output_type": "stream",
          "name": "stdout",
          "text": [
            "0.9985512495040894\n"
          ]
        }
      ]
    }
  ]
}