{
 "cells": [
  {
   "cell_type": "code",
   "execution_count": 2,
   "id": "e9f81b73-a88e-4819-a8d9-5490d2342f56",
   "metadata": {},
   "outputs": [],
   "source": [
    "from langchain.embeddings import HuggingFaceEmbeddings\n",
    "\n",
    "\n",
    "modelPath = \"BAAI/bge-large-en-v1.5\"\n",
    "\n",
    "# Create a dictionary with model configuration options, specifying to use the CPU for computations\n",
    "model_kwargs = {'device':'cpu'}"
   ]
  },
  {
   "cell_type": "code",
   "execution_count": 3,
   "id": "811a0ed8-a4af-4512-b7db-9dadaf2dc44c",
   "metadata": {},
   "outputs": [],
   "source": [
    "# Create a dictionary with encoding options, specifically setting 'normalize_embeddings' to False\n",
    "encode_kwargs = {'normalize_embeddings': True}\n"
   ]
  },
  {
   "cell_type": "code",
   "execution_count": 4,
   "id": "dfea31c4-fff6-40d9-a782-1c79614db72f",
   "metadata": {},
   "outputs": [],
   "source": [
    "# Initialize an instance of HuggingFaceEmbeddings with the specified parameters\n",
    "embeddings = HuggingFaceEmbeddings(\n",
    "    model_name=modelPath,     # Provide the pre-trained model's path\n",
    "    model_kwargs=model_kwargs, # Pass the model configuration options\n",
    "    encode_kwargs=encode_kwargs # Pass the encoding options\n",
    ")"
   ]
  },
  {
   "cell_type": "code",
   "execution_count": 5,
   "id": "f9ee91f4-19e4-43dd-ab1a-b797d4a55e3e",
   "metadata": {},
   "outputs": [],
   "source": [
    "from langchain.vectorstores import Chroma\n",
    "import PyPDF2"
   ]
  },
  {
   "cell_type": "code",
   "execution_count": 6,
   "id": "90eec6b9-045c-4e61-9974-779751c8a01a",
   "metadata": {},
   "outputs": [],
   "source": [
    "def extract_text_from_pdf(pdf_path):\n",
    "    text = \"\"\n",
    "    with open(pdf_path, \"rb\") as pdf_file:\n",
    "        pdf_reader = PyPDF2.PdfReader(pdf_file)\n",
    "        for page_num in range(len(pdf_reader.pages)):\n",
    "            page = pdf_reader.pages[page_num]\n",
    "            text += page.extract_text()\n",
    "    return text"
   ]
  },
  {
   "cell_type": "code",
   "execution_count": 7,
   "id": "82ab9d3f-b54a-4591-bdb1-c35f84916db0",
   "metadata": {},
   "outputs": [],
   "source": [
    "# Path to your PDF file\n",
    "pdf_file_path = \"C:\\\\Users\\\\thara\\\\Downloads\\\\test.pdf\"\n",
    "\n",
    "# Path to your PDF file\n",
    "pdf_file_path_2= \"C:\\\\Users\\\\thara\\\\Downloads\\\\test2.pdf\""
   ]
  },
  {
   "cell_type": "code",
   "execution_count": 8,
   "id": "5a09d657-5fdc-46e6-bdac-4a78a0756627",
   "metadata": {},
   "outputs": [],
   "source": [
    "pdf_text = extract_text_from_pdf(pdf_file_path)\n",
    "pdf_text_2 = extract_text_from_pdf(pdf_file_path_2)"
   ]
  },
  {
   "cell_type": "code",
   "execution_count": 9,
   "id": "d19a65e5-add2-48ea-aca7-48646c0213d8",
   "metadata": {},
   "outputs": [],
   "source": [
    "def cosine_similarity_Thara(A, B):\n",
    "    dot_product = np.dot(A, B)\n",
    "    norm_A = np.linalg.norm(A)\n",
    "    norm_B = np.linalg.norm(B)\n",
    "    similarity = dot_product / (norm_A * norm_B)\n",
    "    return similarity\n"
   ]
  },
  {
   "cell_type": "code",
   "execution_count": 11,
   "id": "26bf2e29-2def-485f-b411-4cd6d09a0d9a",
   "metadata": {},
   "outputs": [
    {
     "name": "stdout",
     "output_type": "stream",
     "text": [
      "Cosine Similarity : 1.0000000000000002\n"
     ]
    }
   ],
   "source": [
    "import numpy as np\n",
    "\n",
    "\n",
    "vector_A = np.array(embeddings.embed_query(pdf_text_2))\n",
    "vector_B = np.array(embeddings.embed_query(pdf_text_2))\n",
    "\n",
    "similarity_score = cosine_similarity_Thara(vector_A, vector_B)\n",
    "print(f\"Cosine Similarity : {similarity_score}\")"
   ]
  },
  {
   "cell_type": "code",
   "execution_count": 17,
   "id": "c3a2e21e-271f-4a62-a620-0884c647d9e6",
   "metadata": {},
   "outputs": [
    {
     "name": "stdout",
     "output_type": "stream",
     "text": [
      "Similarity percentage: 100.00000000000003\n",
      "Both the documents are identical\n"
     ]
    }
   ],
   "source": [
    "\n",
    "Percentage_similarity = similarity_score * 100\n",
    "print(f\"Similarity percentage: {Percentage_similarity}\")\n",
    "\n",
    "# Set a threshold for similarity (e.g., 0.8)\n",
    "threshold = 0.9\n",
    "if similarity_score >= threshold:\n",
    "    print(\"Both the documents are identical\")\n",
    "else:\n",
    "   print(\"Both the documents are not identical\")"
   ]
  },
  {
   "cell_type": "code",
   "execution_count": 110,
   "id": "7463dbd3-1e05-47ee-92f9-01c742312c3e",
   "metadata": {},
   "outputs": [
    {
     "data": {
      "text/plain": [
       "'To choose one page from a PDF, you can12: \\n• Open your PDF in Preview. Navigate to File > Print. A new dialog box will \\nappear. Under Pages, select the page number you want to save separately. \\nFrom the dropdown, change from PDF to Save as PDF. Choose your \\ndesired location for the new file and select S ave. \\n• Go to Tools > Organize Pages. Choose Replace from the top menu. Choose \\nyour file. Select the Original page (s) you want to replace. Set the \\nReplacement page range. Click OK.  \\n• Go to the Extract pages tab, then choose the Select pages mode. Select the \\nthumbnails of the pages you wish to extract. Check the box ✅ if you want \\nto merge your extracted pages in one PDF. Hit the Split PDF button.  \\n• Press ⌘ Command + P. This will open the Print menu. Set \"Pages\" as \\nSelected Pages in Sidebar. By default, this will be preset to All. \\nAlternatively, you can select Single or Range.  \\n '"
      ]
     },
     "execution_count": 110,
     "metadata": {},
     "output_type": "execute_result"
    }
   ],
   "source": [
    "pdf_text"
   ]
  },
  {
   "cell_type": "code",
   "execution_count": 93,
   "id": "f0e4e630-229a-4c41-9730-58fc3702b344",
   "metadata": {},
   "outputs": [],
   "source": [
    "Chroma_db = Chroma.from_texts(pdf_text, embedding=embeddings,persist_directory=\"C:\\\\Users\\\\thara\\\\Downloads\\\\ankit\")"
   ]
  },
  {
   "cell_type": "code",
   "execution_count": null,
   "id": "727d875f-bc1b-4c20-b055-08d8f89ec505",
   "metadata": {},
   "outputs": [],
   "source": [
    "#############################################################################################################\n",
    "###################################################################################\n",
    "Ignore the code below."
   ]
  },
  {
   "cell_type": "code",
   "execution_count": 95,
   "id": "a65e5841-e504-44ce-b96a-ed29341341f1",
   "metadata": {},
   "outputs": [
    {
     "data": {
      "text/plain": [
       "'Here is an article on ChatGPT:  \\n \\nTitle: \"ChatGPT: Understanding OpenAI\\'s Language Model\"  \\n \\nIntroduction:  \\nOpenAI\\'s ChatGPT is a powerful language model designed to understand and generate human -like \\ntext. It belongs to the family of GPT (Generative Pre -trained Transformer) models developed by \\nOpenAI. ChatGPT has gained widespread attention for its ability to e ngage in natural language \\nconversations, assist with various tasks, and provide insights into the capabilities and limitations of \\nAI-driven communication.  \\n \\nUnderstanding ChatGPT:  \\nChatGPT is built upon the Transformer architecture, which revolutionized natural language \\nprocessing (NLP) by introducing attention mechanisms. These mechanisms enable the model to focus \\non relevant parts of the input sequence, making it highly effective i n understanding and generating \\ntext. ChatGPT\\'s training data includes a diverse range of text from books, articles, websites, and \\nother sources, allowing it to learn patterns and nuances of human language.  \\n \\nCapabilities of ChatGPT:  \\n1. Conversational Abilities: ChatGPT can engage in conversations on a wide range of topics. It can \\nunderstand context, maintain coherence, and generate responses that are contextually relevant.  \\n2. Task Assistance: ChatGPT can assist users with tasks such as answering questions, providing \\nexplanations, summarizing text, and generating creative content like stories or poems.  \\n3. Language Translation: ChatGPT can translate text between languages, although its proficiency may \\nvary depending on the language pair and complexity of the content.  \\n4. Text Generation: ChatGPT can generate text based on prompts provided by users. This capability is \\nuseful for content creation, brainstorming, and generating ideas.  \\n \\nLimitations of ChatGPT:  \\n1. Lack of Real -world Understanding: While ChatGPT excels in generating text based on patterns in its \\ntraining data, it lacks real -world understanding and common sense reasoning. This can lead to \\ninaccurate or nonsensical responses in certain contexts.  \\n2. Bias and Inaccuracy: Like any AI model trained on large datasets, ChatGPT can exhibit biases and \\ninaccuracies, especially when dealing with sensitive topics or controversial content.  \\n3. Contextual Limitations: ChatGPT\\'s ability to maintain context and coherence is impressive but not \\nperfect. It may struggle with long -term context or complex conversations that require nuanced \\nunderstanding.  '"
      ]
     },
     "execution_count": 95,
     "metadata": {},
     "output_type": "execute_result"
    }
   ],
   "source": [
    "pdf_text_2"
   ]
  },
  {
   "cell_type": "code",
   "execution_count": 96,
   "id": "2a0d9bab-5a78-4a7c-843f-e4f26aa8b38e",
   "metadata": {},
   "outputs": [],
   "source": [
    "query = pdf_text_2"
   ]
  },
  {
   "cell_type": "code",
   "execution_count": 97,
   "id": "2c88b6ba-4993-457d-b372-c04cc21cff5c",
   "metadata": {},
   "outputs": [
    {
     "name": "stdout",
     "output_type": "stream",
     "text": [
      "[(Document(page_content='g'), 0.9926344156265259)]\n"
     ]
    }
   ],
   "source": [
    "docs_score = Chroma_db.similarity_search_with_score(query=query, k = 1)\n",
    "print(docs_score)"
   ]
  },
  {
   "cell_type": "code",
   "execution_count": 99,
   "id": "3d56d844-7983-4678-9d64-282432b0e3f3",
   "metadata": {},
   "outputs": [
    {
     "name": "stdout",
     "output_type": "stream",
     "text": [
      "[Document(page_content='g')]\n"
     ]
    }
   ],
   "source": [
    "\n",
    "# load from disk - chroma db file\n",
    "db3 = Chroma(embedding_function=embeddings,persist_directory=\"C:\\\\Users\\\\thara\\\\Downloads\\\\ankit\")\n",
    "docs = db3.similarity_search(query, k = 1)\n",
    "print(docs)"
   ]
  },
  {
   "cell_type": "code",
   "execution_count": 100,
   "id": "f451854b-26ce-48b1-adf1-f993c9aea3d0",
   "metadata": {},
   "outputs": [
    {
     "name": "stdout",
     "output_type": "stream",
     "text": [
      "g\n"
     ]
    }
   ],
   "source": [
    "print(docs[0].page_content)"
   ]
  },
  {
   "cell_type": "code",
   "execution_count": 53,
   "id": "800d0692-5d23-46c6-b313-7aa3a2bdb93a",
   "metadata": {},
   "outputs": [
    {
     "data": {
      "text/plain": [
       "'Here is an article on ChatGPT:  \\n \\nTitle: \"ChatGPT: Understanding OpenAI\\'s Language Model\"  \\n \\nIntroduction:  \\nOpenAI\\'s ChatGPT is a powerful language model designed to understand and generate human -like \\ntext. It belongs to the family of GPT (Generative Pre -trained Transformer) models developed by \\nOpenAI. ChatGPT has gained widespread attention for its ability to e ngage in natural language \\nconversations, assist with various tasks, and provide insights into the capabilities and limitations of \\nAI-driven communication.  \\n \\nUnderstanding ChatGPT:  \\nChatGPT is built upon the Transformer architecture, which revolutionized natural language \\nprocessing (NLP) by introducing attention mechanisms. These mechanisms enable the model to focus \\non relevant parts of the input sequence, making it highly effective i n understanding and generating \\ntext. ChatGPT\\'s training data includes a diverse range of text from books, articles, websites, and \\nother sources, allowing it to learn patterns and nuances of human language.  \\n \\nCapabilities of ChatGPT:  \\n1. Conversational Abilities: ChatGPT can engage in conversations on a wide range of topics. It can \\nunderstand context, maintain coherence, and generate responses that are contextually relevant.  \\n2. Task Assistance: ChatGPT can assist users with tasks such as answering questions, providing \\nexplanations, summarizing text, and generating creative content like stories or poems.  \\n3. Language Translation: ChatGPT can translate text between languages, although its proficiency may \\nvary depending on the language pair and complexity of the content.  \\n4. Text Generation: ChatGPT can generate text based on prompts provided by users. This capability is \\nuseful for content creation, brainstorming, and generating ideas.  \\n \\nLimitations of ChatGPT:  \\n1. Lack of Real -world Understanding: While ChatGPT excels in generating text based on patterns in its \\ntraining data, it lacks real -world understanding and common sense reasoning. This can lead to \\ninaccurate or nonsensical responses in certain contexts.  \\n2. Bias and Inaccuracy: Like any AI model trained on large datasets, ChatGPT can exhibit biases and \\ninaccuracies, especially when dealing with sensitive topics or controversial content.  \\n3. Contextual Limitations: ChatGPT\\'s ability to maintain context and coherence is impressive but not \\nperfect. It may struggle with long -term context or complex conversations that require nuanced \\nunderstanding.  '"
      ]
     },
     "execution_count": 53,
     "metadata": {},
     "output_type": "execute_result"
    }
   ],
   "source": [
    "pdf_text"
   ]
  },
  {
   "cell_type": "code",
   "execution_count": 54,
   "id": "74288d4f-e42f-4ace-841f-dfd00cb152dd",
   "metadata": {},
   "outputs": [],
   "source": [
    "import numpy as np"
   ]
  },
  {
   "cell_type": "code",
   "execution_count": 105,
   "id": "ee96efaa-bcac-423a-b77b-ee32521301ed",
   "metadata": {},
   "outputs": [
    {
     "data": {
      "text/plain": [
       "'Here is an article on ChatGPT:  \\n \\nTitle: \"ChatGPT: Understanding OpenAI\\'s Language Model\"  \\n \\nIntroduction:  \\nOpenAI\\'s ChatGPT is a powerful language model designed to understand and generate human -like \\ntext. It belongs to the family of GPT (Generative Pre -trained Transformer) models developed by \\nOpenAI. ChatGPT has gained widespread attention for its ability to e ngage in natural language \\nconversations, assist with various tasks, and provide insights into the capabilities and limitations of \\nAI-driven communication.  \\n \\nUnderstanding ChatGPT:  \\nChatGPT is built upon the Transformer architecture, which revolutionized natural language \\nprocessing (NLP) by introducing attention mechanisms. These mechanisms enable the model to focus \\non relevant parts of the input sequence, making it highly effective i n understanding and generating \\ntext. ChatGPT\\'s training data includes a diverse range of text from books, articles, websites, and \\nother sources, allowing it to learn patterns and nuances of human language.  \\n \\nCapabilities of ChatGPT:  \\n1. Conversational Abilities: ChatGPT can engage in conversations on a wide range of topics. It can \\nunderstand context, maintain coherence, and generate responses that are contextually relevant.  \\n2. Task Assistance: ChatGPT can assist users with tasks such as answering questions, providing \\nexplanations, summarizing text, and generating creative content like stories or poems.  \\n3. Language Translation: ChatGPT can translate text between languages, although its proficiency may \\nvary depending on the language pair and complexity of the content.  \\n4. Text Generation: ChatGPT can generate text based on prompts provided by users. This capability is \\nuseful for content creation, brainstorming, and generating ideas.  \\n \\nLimitations of ChatGPT:  \\n1. Lack of Real -world Understanding: While ChatGPT excels in generating text based on patterns in its \\ntraining data, it lacks real -world understanding and common sense reasoning. This can lead to \\ninaccurate or nonsensical responses in certain contexts.  \\n2. Bias and Inaccuracy: Like any AI model trained on large datasets, ChatGPT can exhibit biases and \\ninaccuracies, especially when dealing with sensitive topics or controversial content.  \\n3. Contextual Limitations: ChatGPT\\'s ability to maintain context and coherence is impressive but not \\nperfect. It may struggle with long -term context or complex conversations that require nuanced \\nunderstanding.  '"
      ]
     },
     "execution_count": 105,
     "metadata": {},
     "output_type": "execute_result"
    }
   ],
   "source": [
    "pdf_text_2"
   ]
  },
  {
   "cell_type": "code",
   "execution_count": 107,
   "id": "87b26173-74aa-462c-b2fa-bfde9866d323",
   "metadata": {},
   "outputs": [],
   "source": [
    "vector_A = np.array(embeddings.embed_query(\"how to choose one page from pdf\"))\n",
    "vector_list  = vector_A.tolist()"
   ]
  },
  {
   "cell_type": "code",
   "execution_count": 108,
   "id": "f6df9bf9-c6eb-41f0-8103-c960d12d9ca5",
   "metadata": {},
   "outputs": [
    {
     "name": "stdout",
     "output_type": "stream",
     "text": [
      "[(Document(page_content='P'), 1.0343430042266846)]\n"
     ]
    }
   ],
   "source": [
    "\n",
    "# load from disk - chroma db file\n",
    "db3 = Chroma(embedding_function=embeddings,persist_directory=\"C:\\\\Users\\\\thara\\\\Downloads\\\\ankit\")\n",
    "docs = db3.similarity_search_by_vector_with_relevance_scores(vector_list, k=1)\n",
    "print(docs)"
   ]
  },
  {
   "cell_type": "code",
   "execution_count": 69,
   "id": "065ee6e7-486b-49e7-ad82-f4a26cf2de8f",
   "metadata": {},
   "outputs": [],
   "source": [
    "import chromadb0.9926344156265259\n",
    "from chromadb.config import Settings"
   ]
  },
  {
   "cell_type": "code",
   "execution_count": 71,
   "id": "88bec696-1635-4022-9e8a-0f04a7009773",
   "metadata": {},
   "outputs": [],
   "source": [
    "settings = Settings(chroma_db_impl=\"duckdb+parquet\", persist_directory=\"chroma_data\")"
   ]
  },
  {
   "cell_type": "code",
   "execution_count": null,
   "id": "b7c47999-6aa5-432f-8fb1-970615a72ebe",
   "metadata": {},
   "outputs": [],
   "source": []
  }
 ],
 "metadata": {
  "kernelspec": {
   "display_name": "Python 3 (ipykernel)",
   "language": "python",
   "name": "python3"
  },
  "language_info": {
   "codemirror_mode": {
    "name": "ipython",
    "version": 3
   },
   "file_extension": ".py",
   "mimetype": "text/x-python",
   "name": "python",
   "nbconvert_exporter": "python",
   "pygments_lexer": "ipython3",
   "version": "3.11.5"
  }
 },
 "nbformat": 4,
 "nbformat_minor": 5
}
