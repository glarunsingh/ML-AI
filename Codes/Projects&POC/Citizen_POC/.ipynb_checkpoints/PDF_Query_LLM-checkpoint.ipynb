{
 "cells": [
  {
   "cell_type": "code",
   "execution_count": 1,
   "metadata": {
    "colab": {
     "base_uri": "https://localhost:8080/"
    },
    "id": "xlorSbccWEDa",
    "outputId": "6c2fc9ae-96aa-4f37-a519-b41c4d4cb7be"
   },
   "outputs": [
    {
     "name": "stdout",
     "output_type": "stream",
     "text": [
      "Defaulting to user installation because normal site-packages is not writeable\n",
      "Requirement already satisfied: langchain in c:\\users\\janu\\appdata\\roaming\\python\\python311\\site-packages (0.1.16)\n",
      "Requirement already satisfied: PyYAML>=5.3 in c:\\programdata\\anaconda3\\lib\\site-packages (from langchain) (6.0.1)\n",
      "Requirement already satisfied: SQLAlchemy<3,>=1.4 in c:\\programdata\\anaconda3\\lib\\site-packages (from langchain) (2.0.25)\n",
      "Requirement already satisfied: aiohttp<4.0.0,>=3.8.3 in c:\\programdata\\anaconda3\\lib\\site-packages (from langchain) (3.9.3)\n",
      "Requirement already satisfied: dataclasses-json<0.7,>=0.5.7 in c:\\users\\janu\\appdata\\roaming\\python\\python311\\site-packages (from langchain) (0.6.4)\n",
      "Requirement already satisfied: jsonpatch<2.0,>=1.33 in c:\\users\\janu\\appdata\\roaming\\python\\python311\\site-packages (from langchain) (1.33)\n",
      "Requirement already satisfied: langchain-community<0.1,>=0.0.32 in c:\\users\\janu\\appdata\\roaming\\python\\python311\\site-packages (from langchain) (0.0.34)\n",
      "Requirement already satisfied: langchain-core<0.2.0,>=0.1.42 in c:\\users\\janu\\appdata\\roaming\\python\\python311\\site-packages (from langchain) (0.1.45)\n",
      "Requirement already satisfied: langchain-text-splitters<0.1,>=0.0.1 in c:\\users\\janu\\appdata\\roaming\\python\\python311\\site-packages (from langchain) (0.0.1)\n",
      "Requirement already satisfied: langsmith<0.2.0,>=0.1.17 in c:\\users\\janu\\appdata\\roaming\\python\\python311\\site-packages (from langchain) (0.1.43)\n",
      "Requirement already satisfied: numpy<2,>=1 in c:\\programdata\\anaconda3\\lib\\site-packages (from langchain) (1.26.4)\n",
      "Requirement already satisfied: pydantic<3,>=1 in c:\\programdata\\anaconda3\\lib\\site-packages (from langchain) (1.10.12)\n",
      "Requirement already satisfied: requests<3,>=2 in c:\\programdata\\anaconda3\\lib\\site-packages (from langchain) (2.31.0)\n",
      "Requirement already satisfied: tenacity<9.0.0,>=8.1.0 in c:\\programdata\\anaconda3\\lib\\site-packages (from langchain) (8.2.2)\n",
      "Requirement already satisfied: aiosignal>=1.1.2 in c:\\programdata\\anaconda3\\lib\\site-packages (from aiohttp<4.0.0,>=3.8.3->langchain) (1.2.0)\n",
      "Requirement already satisfied: attrs>=17.3.0 in c:\\programdata\\anaconda3\\lib\\site-packages (from aiohttp<4.0.0,>=3.8.3->langchain) (23.1.0)\n",
      "Requirement already satisfied: frozenlist>=1.1.1 in c:\\programdata\\anaconda3\\lib\\site-packages (from aiohttp<4.0.0,>=3.8.3->langchain) (1.4.0)\n",
      "Requirement already satisfied: multidict<7.0,>=4.5 in c:\\programdata\\anaconda3\\lib\\site-packages (from aiohttp<4.0.0,>=3.8.3->langchain) (6.0.4)\n",
      "Requirement already satisfied: yarl<2.0,>=1.0 in c:\\programdata\\anaconda3\\lib\\site-packages (from aiohttp<4.0.0,>=3.8.3->langchain) (1.9.3)\n",
      "Requirement already satisfied: marshmallow<4.0.0,>=3.18.0 in c:\\users\\janu\\appdata\\roaming\\python\\python311\\site-packages (from dataclasses-json<0.7,>=0.5.7->langchain) (3.21.1)\n",
      "Requirement already satisfied: typing-inspect<1,>=0.4.0 in c:\\users\\janu\\appdata\\roaming\\python\\python311\\site-packages (from dataclasses-json<0.7,>=0.5.7->langchain) (0.9.0)\n",
      "Requirement already satisfied: jsonpointer>=1.9 in c:\\programdata\\anaconda3\\lib\\site-packages (from jsonpatch<2.0,>=1.33->langchain) (2.1)\n",
      "Requirement already satisfied: packaging<24.0,>=23.2 in c:\\users\\janu\\appdata\\roaming\\python\\python311\\site-packages (from langchain-core<0.2.0,>=0.1.42->langchain) (23.2)\n",
      "Requirement already satisfied: orjson<4.0.0,>=3.9.14 in c:\\users\\janu\\appdata\\roaming\\python\\python311\\site-packages (from langsmith<0.2.0,>=0.1.17->langchain) (3.10.0)\n",
      "Requirement already satisfied: typing-extensions>=4.2.0 in c:\\programdata\\anaconda3\\lib\\site-packages (from pydantic<3,>=1->langchain) (4.9.0)\n",
      "Requirement already satisfied: charset-normalizer<4,>=2 in c:\\programdata\\anaconda3\\lib\\site-packages (from requests<3,>=2->langchain) (2.0.4)\n",
      "Requirement already satisfied: idna<4,>=2.5 in c:\\programdata\\anaconda3\\lib\\site-packages (from requests<3,>=2->langchain) (3.4)\n",
      "Requirement already satisfied: urllib3<3,>=1.21.1 in c:\\programdata\\anaconda3\\lib\\site-packages (from requests<3,>=2->langchain) (2.0.7)\n",
      "Requirement already satisfied: certifi>=2017.4.17 in c:\\programdata\\anaconda3\\lib\\site-packages (from requests<3,>=2->langchain) (2024.2.2)\n",
      "Requirement already satisfied: greenlet!=0.4.17 in c:\\programdata\\anaconda3\\lib\\site-packages (from SQLAlchemy<3,>=1.4->langchain) (3.0.1)\n",
      "Requirement already satisfied: mypy-extensions>=0.3.0 in c:\\programdata\\anaconda3\\lib\\site-packages (from typing-inspect<1,>=0.4.0->dataclasses-json<0.7,>=0.5.7->langchain) (1.0.0)\n",
      "Defaulting to user installation because normal site-packages is not writeable\n",
      "Requirement already satisfied: openai in c:\\users\\janu\\appdata\\roaming\\python\\python311\\site-packages (1.20.0)\n",
      "Requirement already satisfied: anyio<5,>=3.5.0 in c:\\programdata\\anaconda3\\lib\\site-packages (from openai) (4.2.0)\n",
      "Requirement already satisfied: distro<2,>=1.7.0 in c:\\programdata\\anaconda3\\lib\\site-packages (from openai) (1.8.0)\n",
      "Requirement already satisfied: httpx<1,>=0.23.0 in c:\\users\\janu\\appdata\\roaming\\python\\python311\\site-packages (from openai) (0.27.0)\n",
      "Requirement already satisfied: pydantic<3,>=1.9.0 in c:\\programdata\\anaconda3\\lib\\site-packages (from openai) (1.10.12)\n",
      "Requirement already satisfied: sniffio in c:\\programdata\\anaconda3\\lib\\site-packages (from openai) (1.3.0)\n",
      "Requirement already satisfied: tqdm>4 in c:\\users\\janu\\appdata\\roaming\\python\\python311\\site-packages (from openai) (4.66.2)\n",
      "Requirement already satisfied: typing-extensions<5,>=4.7 in c:\\programdata\\anaconda3\\lib\\site-packages (from openai) (4.9.0)\n",
      "Requirement already satisfied: idna>=2.8 in c:\\programdata\\anaconda3\\lib\\site-packages (from anyio<5,>=3.5.0->openai) (3.4)\n",
      "Requirement already satisfied: certifi in c:\\programdata\\anaconda3\\lib\\site-packages (from httpx<1,>=0.23.0->openai) (2024.2.2)\n",
      "Requirement already satisfied: httpcore==1.* in c:\\users\\janu\\appdata\\roaming\\python\\python311\\site-packages (from httpx<1,>=0.23.0->openai) (1.0.5)\n",
      "Requirement already satisfied: h11<0.15,>=0.13 in c:\\users\\janu\\appdata\\roaming\\python\\python311\\site-packages (from httpcore==1.*->httpx<1,>=0.23.0->openai) (0.14.0)\n",
      "Requirement already satisfied: colorama in c:\\programdata\\anaconda3\\lib\\site-packages (from tqdm>4->openai) (0.4.6)\n",
      "Defaulting to user installation because normal site-packages is not writeable\n",
      "Requirement already satisfied: PyPDF2 in c:\\users\\janu\\appdata\\roaming\\python\\python311\\site-packages (3.0.1)\n",
      "Defaulting to user installation because normal site-packages is not writeable\n",
      "Requirement already satisfied: faiss-cpu in c:\\users\\janu\\appdata\\roaming\\python\\python311\\site-packages (1.8.0)\n",
      "Requirement already satisfied: numpy in c:\\programdata\\anaconda3\\lib\\site-packages (from faiss-cpu) (1.26.4)\n",
      "Defaulting to user installation because normal site-packages is not writeable\n",
      "Requirement already satisfied: tiktoken in c:\\users\\janu\\appdata\\roaming\\python\\python311\\site-packages (0.5.2)\n",
      "Requirement already satisfied: regex>=2022.1.18 in c:\\programdata\\anaconda3\\lib\\site-packages (from tiktoken) (2023.10.3)\n",
      "Requirement already satisfied: requests>=2.26.0 in c:\\programdata\\anaconda3\\lib\\site-packages (from tiktoken) (2.31.0)\n",
      "Requirement already satisfied: charset-normalizer<4,>=2 in c:\\programdata\\anaconda3\\lib\\site-packages (from requests>=2.26.0->tiktoken) (2.0.4)\n",
      "Requirement already satisfied: idna<4,>=2.5 in c:\\programdata\\anaconda3\\lib\\site-packages (from requests>=2.26.0->tiktoken) (3.4)\n",
      "Requirement already satisfied: urllib3<3,>=1.21.1 in c:\\programdata\\anaconda3\\lib\\site-packages (from requests>=2.26.0->tiktoken) (2.0.7)\n",
      "Requirement already satisfied: certifi>=2017.4.17 in c:\\programdata\\anaconda3\\lib\\site-packages (from requests>=2.26.0->tiktoken) (2024.2.2)\n"
     ]
    }
   ],
   "source": [
    "!pip install langchain\n",
    "!pip install openai\n",
    "!pip install PyPDF2\n",
    "!pip install faiss-cpu\n",
    "!pip install tiktoken"
   ]
  },
  {
   "cell_type": "code",
   "execution_count": 2,
   "metadata": {
    "id": "nq0vKGFeW1KD"
   },
   "outputs": [],
   "source": [
    "from PyPDF2 import PdfReader\n",
    "from langchain.embeddings.openai import OpenAIEmbeddings\n",
    "from langchain.text_splitter import CharacterTextSplitter\n",
    "from langchain.vectorstores import ElasticVectorSearch, Pinecone, Weaviate, FAISS\n",
    "\n",
    "from langchain_openai import AzureChatOpenAI\n",
    "from langchain_openai import AzureOpenAIEmbeddings"
   ]
  },
  {
   "cell_type": "code",
   "execution_count": null,
   "metadata": {
    "id": "yKaKB_GjWKjL"
   },
   "outputs": [],
   "source": [
    "# Get your API keys from openai, you will need to create an account.\n",
    "# Here is the link to get the keys: https://platform.openai.com/account/billing/overview\n",
    "import os\n",
    "os.environ[\"OPENAI_API_KEY\"] = \"YOUR-OPENAI-API-KEY\""
   ]
  },
  {
   "cell_type": "code",
   "execution_count": 15,
   "metadata": {},
   "outputs": [],
   "source": [
    "import os\n",
    "\n",
    "#Setting Environment variable\n",
    "os.environ[\"AZURE_OPENAI_API_VERSION\"] = \"2023-07-01-preview\"\n",
    "os.environ[\"AZURE_OPENAI_ENDPOINT\"] = 'https://dskumar.openai.azure.com/'\n",
    "os.environ[\"AZURE_OPENAI_API_KEY\"] =\"62855d6dd08945819bf83aee0c104127\"\n",
    "os.environ[\"AZURE_OPENAI_CHAT_DEPLOYMENT_NAME\"] =\"DskumarDeployment\"\n",
    "os.environ['OPENAI_TYPE']=\"Azure\"\n",
    "os.environ[\"LLM_MODEL\"] = \"gpt-35-turbo-16k\"\n",
    "os.environ[\"LLM_EMBEDDING_MODEL\"] = \"dskumar-text-embedding-ada-002\""
   ]
  },
  {
   "cell_type": "code",
   "execution_count": 4,
   "metadata": {},
   "outputs": [],
   "source": [
    "from langchain_core.messages import AIMessage,SystemMessage,HumanMessage\n",
    "from langchain_openai import AzureChatOpenAI\n",
    "\n",
    "model = AzureChatOpenAI(\n",
    "    openai_api_version=os.environ[\"AZURE_OPENAI_API_VERSION\"],\n",
    "    azure_deployment=os.environ[\"AZURE_OPENAI_CHAT_DEPLOYMENT_NAME\"],\n",
    ")"
   ]
  },
  {
   "cell_type": "code",
   "execution_count": 6,
   "metadata": {
    "id": "NalD3XkQWrJR"
   },
   "outputs": [],
   "source": [
    "# location of the pdf file/files.\n",
    "reader = PdfReader(r'C:\\Users\\JANU\\OneDrive\\Documents\\GitHub\\ML-AI\\Codes\\Projects&POC\\Citizen_POC\\Citizens bank-2023.pdf')"
   ]
  },
  {
   "cell_type": "code",
   "execution_count": 7,
   "metadata": {
    "colab": {
     "base_uri": "https://localhost:8080/"
    },
    "id": "SwbEBhd0ZUfX",
    "outputId": "03542b02-bbc2-4c2a-def0-cae133e0b9f9"
   },
   "outputs": [
    {
     "data": {
      "text/plain": [
       "<PyPDF2._reader.PdfReader at 0x1e541fe1f10>"
      ]
     },
     "execution_count": 7,
     "metadata": {},
     "output_type": "execute_result"
    }
   ],
   "source": [
    "reader"
   ]
  },
  {
   "cell_type": "code",
   "execution_count": 8,
   "metadata": {
    "id": "2VXlucKiW7bX"
   },
   "outputs": [],
   "source": [
    "# read data from the file and put them into a variable called raw_text\n",
    "raw_text = ''\n",
    "for i, page in enumerate(reader.pages):\n",
    "    text = page.extract_text()\n",
    "    if text:\n",
    "        raw_text += text"
   ]
  },
  {
   "cell_type": "code",
   "execution_count": null,
   "metadata": {
    "id": "Gy3UwHGAZa0M"
   },
   "outputs": [],
   "source": [
    "# raw_text"
   ]
  },
  {
   "cell_type": "code",
   "execution_count": 9,
   "metadata": {
    "colab": {
     "base_uri": "https://localhost:8080/",
     "height": 36
    },
    "id": "CQkqUBlzW-Xv",
    "outputId": "d49d70f1-e076-48f2-dbce-f14d6ff0e279"
   },
   "outputs": [
    {
     "data": {
      "text/plain": [
       "'UNITED STATES\\nSECURITIES AND EXCHANGE COMMISSION\\nWashington, D.C. 20549\\nFORM 10-K\\n☒ ANNUAL REPORT PU'"
      ]
     },
     "execution_count": 9,
     "metadata": {},
     "output_type": "execute_result"
    }
   ],
   "source": [
    "raw_text[:100]"
   ]
  },
  {
   "cell_type": "code",
   "execution_count": 10,
   "metadata": {
    "id": "VdXzkpf9XAfP"
   },
   "outputs": [],
   "source": [
    "# We need to split the text that we read into smaller chunks so that during information retreival we don't hit the token size limits.\n",
    "\n",
    "text_splitter = CharacterTextSplitter(\n",
    "    separator = \"\\n\",\n",
    "    chunk_size = 1000,\n",
    "    chunk_overlap  = 200,\n",
    "    length_function = len,\n",
    ")\n",
    "texts = text_splitter.split_text(raw_text)"
   ]
  },
  {
   "cell_type": "code",
   "execution_count": 11,
   "metadata": {
    "colab": {
     "base_uri": "https://localhost:8080/"
    },
    "id": "ozkNTiNuZ0TX",
    "outputId": "dd800c23-e6fb-401a-ba22-1bb4a6b7d854"
   },
   "outputs": [
    {
     "data": {
      "text/plain": [
       "933"
      ]
     },
     "execution_count": 11,
     "metadata": {},
     "output_type": "execute_result"
    }
   ],
   "source": [
    "len(texts)"
   ]
  },
  {
   "cell_type": "code",
   "execution_count": 12,
   "metadata": {
    "colab": {
     "base_uri": "https://localhost:8080/",
     "height": 157
    },
    "id": "1SqdR3wFZ3Ih",
    "outputId": "8351feea-aa9a-4092-edfa-9f7a52e231ff"
   },
   "outputs": [
    {
     "data": {
      "text/plain": [
       "'UNITED STATES\\nSECURITIES AND EXCHANGE COMMISSION\\nWashington, D.C. 20549\\nFORM 10-K\\n☒ ANNUAL REPORT PURSUANT TO SECTION 13 OR 15(d)\\nOF THE SECURITIES EXCHANGE ACT OF 1934\\nFor the Fiscal Year Ended\\nDecember 31, 2023\\n☐ TRANSITION REPORT PURSUANT TO SECTION 13 OR 15(d)\\nOF THE SECURITIES EXCHANGE ACT OF 1934\\nFor the T ransition Period From\\n(Not Applicable)\\nCommission File Number 001-36636\\n(Exact name of the registrant as specified in its charter)\\nDelaware 05-0412693\\n(State or Other Jurisdiction of\\nIncorporation or Organization)(I.R.S. Employer\\nIdentification Number)\\nOne Citizens Plaza, Providence, RI 02903\\n(Address of principal executive offices, including zip code)\\n(203) 900-6715\\n(Registrant’s telephone number, including area code)\\nSecurities registered pursuant to Section 12(b) of the Act:\\nTitle of each class Trading symbol(s) Name of each exchange on which registered\\nCommon stock, $0.01 par value per share CFG New York Stock Exchange'"
      ]
     },
     "execution_count": 12,
     "metadata": {},
     "output_type": "execute_result"
    }
   ],
   "source": [
    "texts[0]"
   ]
  },
  {
   "cell_type": "code",
   "execution_count": 13,
   "metadata": {
    "colab": {
     "base_uri": "https://localhost:8080/",
     "height": 157
    },
    "id": "059PoKYUZ6dJ",
    "outputId": "acad05e9-e687-4123-8460-72d426c8b3ad"
   },
   "outputs": [
    {
     "data": {
      "text/plain": [
       "'Title of each class Trading symbol(s) Name of each exchange on which registered\\nCommon stock, $0.01 par value per share CFG New York Stock Exchange\\nDepositary Shares, each representing a 1/40th interest in a share of 6.350% Fixed-to-Floating\\nRate Non-Cumulative Perpetual Preferred Stock, Series DCFG PrD New York Stock Exchange\\nDepositary Shares, each representing a 1/40th interest in a share of 5.000% Fixed-Rate Non-\\nCumulative Perpetual Preferred Stock, Series ECFG PrE New York Stock Exchange\\nSecurities registered pursuant to Section 12(g) of the Act:\\nNone\\nIndicate by check mark if the registrant is a well-known seasoned issuer, as defined in Rule 405 of the Securities Act. ☑ Yes ☐ No\\nIndicate by check mark if the registrant is not required to file reports pursuant to Section 13 or Section 15(d) of the Act. ☐ Yes ☑ No'"
      ]
     },
     "execution_count": 13,
     "metadata": {},
     "output_type": "execute_result"
    }
   ],
   "source": [
    "texts[1]"
   ]
  },
  {
   "cell_type": "code",
   "execution_count": 16,
   "metadata": {
    "id": "TcZUsQVyXBPX"
   },
   "outputs": [],
   "source": [
    "# Download embeddings from OpenAI\n",
    "#embeddings = OpenAIEmbeddings()\n",
    "\n",
    "\n",
    "from langchain_openai import AzureChatOpenAI\n",
    "from langchain_openai import AzureOpenAIEmbeddings\n",
    "\n",
    "#embeddings\n",
    "embeddings = AzureOpenAIEmbeddings(model = os.environ[\"LLM_EMBEDDING_MODEL\"],)\n"
   ]
  },
  {
   "cell_type": "code",
   "execution_count": 34,
   "metadata": {
    "id": "9C8py6wQXE5_"
   },
   "outputs": [],
   "source": [
    "#vectorstore\n",
    "vectorstore = FAISS.from_texts(texts, embeddings)"
   ]
  },
  {
   "cell_type": "code",
   "execution_count": 18,
   "metadata": {
    "colab": {
     "base_uri": "https://localhost:8080/"
    },
    "id": "E_t_EpZ_XGz2",
    "outputId": "1461a4ea-0e32-40f0-dd05-a04e3c6fa243"
   },
   "outputs": [
    {
     "data": {
      "text/plain": [
       "<langchain_community.vectorstores.faiss.FAISS at 0x1e542549750>"
      ]
     },
     "execution_count": 18,
     "metadata": {},
     "output_type": "execute_result"
    }
   ],
   "source": [
    "docsearch"
   ]
  },
  {
   "cell_type": "code",
   "execution_count": 70,
   "metadata": {},
   "outputs": [],
   "source": [
    "#retriver\n",
    "retriever = vectorstore.as_retriever()"
   ]
  },
  {
   "cell_type": "code",
   "execution_count": 19,
   "metadata": {
    "id": "wpQ2VnBvXI2f"
   },
   "outputs": [],
   "source": [
    "from langchain.chains.question_answering import load_qa_chain\n",
    "from langchain.llms import AzureOpenAI"
   ]
  },
  {
   "cell_type": "code",
   "execution_count": 21,
   "metadata": {
    "id": "_L_Ywm-iXLhm"
   },
   "outputs": [],
   "source": [
    "chain = load_qa_chain(model, chain_type=\"stuff\")"
   ]
  },
  {
   "cell_type": "code",
   "execution_count": 25,
   "metadata": {
    "colab": {
     "base_uri": "https://localhost:8080/",
     "height": 36
    },
    "id": "3mtAth2jXNKO",
    "outputId": "4150fc7a-7705-41ec-a562-ac86e0cfb4f3"
   },
   "outputs": [
    {
     "data": {
      "text/plain": [
       "\"The bank's core products and services include:\\n\\n- Consumer Banking: This includes a full range of banking services such as deposits, mortgage and home equity lending, credit cards, small business loans, wealth management, and investment services. They also offer education and point-of-sale finance loans.\\n\\n- Commercial Banking: This segment serves companies and institutions with annual revenues ranging from $25 million to over $3.0 billion. They offer financial products and solutions such as lending and leasing, deposit and treasury management services, foreign exchange, interest rate and commodity risk management solutions, loan syndication, corporate finance, merger and acquisition, and debt and equity capital markets capabilities.\\n\\n- Citizens Private Bank: Launched in 2023, this segment integrates wealth management and banking services to serve high net-worth individuals, families, and businesses.\\n\\nOverall, the bank provides a range of traditional banking products and services, including deposits, loans, credit cards, wealth management, and investment services.\""
      ]
     },
     "execution_count": 25,
     "metadata": {},
     "output_type": "execute_result"
    }
   ],
   "source": [
    "query = \"What are the bank’s core products and services?\"\n",
    "docs = docsearch.similarity_search(query)\n",
    "chain.run(input_documents=docs, question=query)"
   ]
  },
  {
   "cell_type": "code",
   "execution_count": 26,
   "metadata": {
    "id": "qLynnMo0cj8m"
   },
   "outputs": [
    {
     "data": {
      "text/plain": [
       "\"The company's return on equity (ROE) is not explicitly provided in the given information.\""
      ]
     },
     "execution_count": 26,
     "metadata": {},
     "output_type": "execute_result"
    }
   ],
   "source": [
    "query = \"What is the company's return on equity (ROE)?\"\n",
    "docs = docsearch.similarity_search(query)\n",
    "chain.run(input_documents=docs, question=query)"
   ]
  },
  {
   "cell_type": "code",
   "execution_count": 36,
   "metadata": {},
   "outputs": [
    {
     "data": {
      "text/plain": [
       "'The net income of the company for 2023 is $1,608 million.'"
      ]
     },
     "execution_count": 36,
     "metadata": {},
     "output_type": "execute_result"
    }
   ],
   "source": [
    "query = \"what is the net income of the company for 2023?\"\n",
    "docs = docsearch.similarity_search(query)\n",
    "chain.run(input_documents=docs, question=query)"
   ]
  },
  {
   "cell_type": "code",
   "execution_count": 94,
   "metadata": {},
   "outputs": [
    {
     "data": {
      "text/plain": [
       "\"The shareholder's equity of the company for 2023 is $24,342.\""
      ]
     },
     "execution_count": 94,
     "metadata": {},
     "output_type": "execute_result"
    }
   ],
   "source": [
    "query = \"what is the shareholder’s equity of the company for 2023?\"\n",
    "docs = docsearch.similarity_search(query)\n",
    "chain.run(input_documents=docs, question=query)"
   ]
  },
  {
   "cell_type": "code",
   "execution_count": 38,
   "metadata": {},
   "outputs": [
    {
     "data": {
      "text/plain": [
       "'The stock symbol name of the company is CFG.'"
      ]
     },
     "execution_count": 38,
     "metadata": {},
     "output_type": "execute_result"
    }
   ],
   "source": [
    "query = \"what is the stock symbol name of the company?\"\n",
    "docs = docsearch.similarity_search(query)\n",
    "chain.run(input_documents=docs, question=query)"
   ]
  },
  {
   "cell_type": "code",
   "execution_count": 50,
   "metadata": {},
   "outputs": [
    {
     "data": {
      "text/plain": [
       "'The ROE (Return on Equity) for the year 2023 is not explicitly stated in the given context.'"
      ]
     },
     "execution_count": 50,
     "metadata": {},
     "output_type": "execute_result"
    }
   ],
   "source": [
    "query = \"ROE will be calculated based on net income of the company/shareholder’s equity of the company. What is the ROE of the company for the year 2023? \"\n",
    "docs = docsearch.similarity_search(query)\n",
    "chain.run(input_documents=docs, question=query)"
   ]
  },
  {
   "cell_type": "code",
   "execution_count": 51,
   "metadata": {},
   "outputs": [
    {
     "ename": "NameError",
     "evalue": "name 'chat_history' is not defined",
     "output_type": "error",
     "traceback": [
      "\u001b[1;31m---------------------------------------------------------------------------\u001b[0m",
      "\u001b[1;31mNameError\u001b[0m                                 Traceback (most recent call last)",
      "Cell \u001b[1;32mIn[51], line 5\u001b[0m\n\u001b[0;32m      1\u001b[0m \u001b[38;5;28;01mfrom\u001b[39;00m \u001b[38;5;21;01mlangchain\u001b[39;00m\u001b[38;5;21;01m.\u001b[39;00m\u001b[38;5;21;01mmemory\u001b[39;00m \u001b[38;5;28;01mimport\u001b[39;00m ConversationBufferMemory\n\u001b[0;32m      3\u001b[0m memory \u001b[38;5;241m=\u001b[39m ConversationBufferMemory(\n\u001b[0;32m      4\u001b[0m     memory_key\u001b[38;5;241m=\u001b[39m\u001b[38;5;124m\"\u001b[39m\u001b[38;5;124mchat_history\u001b[39m\u001b[38;5;124m\"\u001b[39m,\n\u001b[1;32m----> 5\u001b[0m     chat_memory\u001b[38;5;241m=\u001b[39mchat_history,  \u001b[38;5;66;03m# this is your persistence strategy subclass of `BaseChatMessageHistory`\u001b[39;00m\n\u001b[0;32m      6\u001b[0m     output_key\u001b[38;5;241m=\u001b[39m\u001b[38;5;124m\"\u001b[39m\u001b[38;5;124manswer\u001b[39m\u001b[38;5;124m\"\u001b[39m,\n\u001b[0;32m      7\u001b[0m     return_messages\u001b[38;5;241m=\u001b[39m\u001b[38;5;28;01mTrue\u001b[39;00m\n\u001b[0;32m      8\u001b[0m )\n\u001b[0;32m     10\u001b[0m qa \u001b[38;5;241m=\u001b[39m ConversationalRetrievalChain\u001b[38;5;241m.\u001b[39mfrom_llm(\n\u001b[0;32m     11\u001b[0m     llm\u001b[38;5;241m=\u001b[39mmodel,\n\u001b[0;32m     12\u001b[0m     memory\u001b[38;5;241m=\u001b[39mmemory,\n\u001b[1;32m   (...)\u001b[0m\n\u001b[0;32m     16\u001b[0m     verbose\u001b[38;5;241m=\u001b[39m\u001b[38;5;28;01mTrue\u001b[39;00m\n\u001b[0;32m     17\u001b[0m )\n",
      "\u001b[1;31mNameError\u001b[0m: name 'chat_history' is not defined"
     ]
    }
   ],
   "source": [
    "from langchain.memory import ConversationBufferMemory\n",
    "\n",
    "memory = ConversationBufferMemory(\n",
    "    memory_key=\"chat_history\",\n",
    "    chat_memory=chat_history,  # this is your persistence strategy subclass of `BaseChatMessageHistory`\n",
    "    output_key=\"answer\",\n",
    "    return_messages=True\n",
    ")\n",
    "\n",
    "qa = ConversationalRetrievalChain.from_llm(\n",
    "    llm=model,\n",
    "    memory=memory,\n",
    "    retriever=retriever, \n",
    "    return_source_documents=True,\n",
    "    return_generated_question=True,\n",
    "    verbose=True\n",
    ")"
   ]
  },
  {
   "cell_type": "code",
   "execution_count": 67,
   "metadata": {},
   "outputs": [],
   "source": [
    "from langchain.tools.retriever import create_retriever_tool"
   ]
  },
  {
   "cell_type": "code",
   "execution_count": 109,
   "metadata": {},
   "outputs": [],
   "source": [
    "retriever_tool = create_retriever_tool(\n",
    "    retriever,\n",
    "    \"input\",\n",
    "    \"use this document for all the question and answers\",\n",
    ")"
   ]
  },
  {
   "cell_type": "code",
   "execution_count": 110,
   "metadata": {},
   "outputs": [],
   "source": [
    "tools = [retriever_tool]"
   ]
  },
  {
   "cell_type": "code",
   "execution_count": 73,
   "metadata": {},
   "outputs": [],
   "source": [
    "from langchain_openai import AzureChatOpenAI\n",
    "\n",
    "chat_model = AzureChatOpenAI(\n",
    "    openai_api_version=os.environ[\"AZURE_OPENAI_API_VERSION\"],\n",
    "    azure_deployment=os.environ[\"AZURE_OPENAI_CHAT_DEPLOYMENT_NAME\"],\n",
    ")\n"
   ]
  },
  {
   "cell_type": "code",
   "execution_count": 74,
   "metadata": {},
   "outputs": [
    {
     "name": "stdout",
     "output_type": "stream",
     "text": [
      "Defaulting to user installation because normal site-packages is not writeable\n",
      "Requirement already satisfied: langchainhub in c:\\users\\janu\\appdata\\roaming\\python\\python311\\site-packages (0.1.15)\n",
      "Requirement already satisfied: requests<3,>=2 in c:\\programdata\\anaconda3\\lib\\site-packages (from langchainhub) (2.31.0)\n",
      "Requirement already satisfied: types-requests<3.0.0.0,>=2.31.0.2 in c:\\users\\janu\\appdata\\roaming\\python\\python311\\site-packages (from langchainhub) (2.31.0.20240406)\n",
      "Requirement already satisfied: charset-normalizer<4,>=2 in c:\\programdata\\anaconda3\\lib\\site-packages (from requests<3,>=2->langchainhub) (2.0.4)\n",
      "Requirement already satisfied: idna<4,>=2.5 in c:\\programdata\\anaconda3\\lib\\site-packages (from requests<3,>=2->langchainhub) (3.4)\n",
      "Requirement already satisfied: urllib3<3,>=1.21.1 in c:\\programdata\\anaconda3\\lib\\site-packages (from requests<3,>=2->langchainhub) (2.0.7)\n",
      "Requirement already satisfied: certifi>=2017.4.17 in c:\\programdata\\anaconda3\\lib\\site-packages (from requests<3,>=2->langchainhub) (2024.2.2)\n"
     ]
    }
   ],
   "source": [
    "!pip install langchainhub"
   ]
  },
  {
   "cell_type": "code",
   "execution_count": 75,
   "metadata": {},
   "outputs": [
    {
     "data": {
      "text/plain": [
       "[SystemMessagePromptTemplate(prompt=PromptTemplate(input_variables=[], template='You are a helpful assistant')),\n",
       " MessagesPlaceholder(variable_name='chat_history', optional=True),\n",
       " HumanMessagePromptTemplate(prompt=PromptTemplate(input_variables=['input'], template='{input}')),\n",
       " MessagesPlaceholder(variable_name='agent_scratchpad')]"
      ]
     },
     "execution_count": 75,
     "metadata": {},
     "output_type": "execute_result"
    }
   ],
   "source": [
    "from langchain import hub\n",
    "\n",
    "# Get the prompt to use - you can modify this! - https://smith.langchain.com/hub/hwchase17/openai-functions-agent\n",
    "prompt = hub.pull(\"hwchase17/openai-functions-agent\")\n",
    "prompt.messages"
   ]
  },
  {
   "cell_type": "code",
   "execution_count": 98,
   "metadata": {},
   "outputs": [],
   "source": [
    "from langchain.agents import create_tool_calling_agent\n",
    "\n",
    "agent = create_tool_calling_agent(chat_model, tools, prompt)"
   ]
  },
  {
   "cell_type": "code",
   "execution_count": 99,
   "metadata": {},
   "outputs": [],
   "source": [
    "from langchain.agents import AgentExecutor\n",
    "\n",
    "agent_executor = AgentExecutor(agent=agent, tools=tools, verbose=True)"
   ]
  },
  {
   "cell_type": "code",
   "execution_count": 100,
   "metadata": {},
   "outputs": [
    {
     "name": "stdout",
     "output_type": "stream",
     "text": [
      "\n",
      "\n",
      "\u001b[1m> Entering new AgentExecutor chain...\u001b[0m\n",
      "\u001b[32;1m\u001b[1;3mHello! How can I assist you today?\u001b[0m\n",
      "\n",
      "\u001b[1m> Finished chain.\u001b[0m\n"
     ]
    },
    {
     "data": {
      "text/plain": [
       "{'input': 'hi!', 'output': 'Hello! How can I assist you today?'}"
      ]
     },
     "execution_count": 100,
     "metadata": {},
     "output_type": "execute_result"
    }
   ],
   "source": [
    "agent_executor.invoke({\"input\": \"hi!\"})"
   ]
  },
  {
   "cell_type": "code",
   "execution_count": 101,
   "metadata": {},
   "outputs": [
    {
     "name": "stdout",
     "output_type": "stream",
     "text": [
      "\n",
      "\n",
      "\u001b[1m> Entering new AgentExecutor chain...\u001b[0m\n",
      "\u001b[32;1m\u001b[1;3mBanks typically offer a wide range of products and services to meet the financial needs of individuals, businesses, and organizations. Some of the core products and services offered by banks include:\n",
      "\n",
      "1. Deposit Accounts: Banks offer various types of deposit accounts, such as savings accounts, checking accounts, and certificates of deposit (CDs). These accounts allow individuals and businesses to store their money securely and earn interest on their deposits.\n",
      "\n",
      "2. Loans: Banks provide loans to individuals and businesses for various purposes, such as home mortgages, car loans, personal loans, and business loans. These loans are typically accompanied by interest and repayment terms.\n",
      "\n",
      "3. Credit Cards: Banks issue credit cards that allow individuals to make purchases on credit. Credit cards come with a credit limit and often offer rewards or cashback programs.\n",
      "\n",
      "4. Investments and Wealth Management: Banks may offer investment services, including brokerage accounts, mutual funds, and retirement planning. They may also provide wealth management services for high-net-worth individuals and institutions.\n",
      "\n",
      "5. Payment Services: Banks facilitate various payment services, including wire transfers, online banking, bill payments, and mobile banking. They also issue debit cards for easy access to funds in deposit accounts.\n",
      "\n",
      "6. Foreign Exchange and International Services: Banks offer services for currency exchange, international money transfers, and foreign currency accounts to facilitate international transactions.\n",
      "\n",
      "7. Insurance: Some banks provide insurance services, such as life insurance, health insurance, travel insurance, and property insurance.\n",
      "\n",
      "8. Treasury and Cash Management: Banks offer treasury and cash management services to businesses, including cash flow management, payroll services, merchant services, and business banking solutions.\n",
      "\n",
      "9. Trade Finance: Banks provide trade finance services, such as letters of credit, documentary collections, and trade financing solutions to facilitate international trade transactions.\n",
      "\n",
      "10. Financial Advisory: Banks may offer financial advisory services to individuals and businesses, providing guidance on investments, retirement planning, tax planning, and other financial matters.\n",
      "\n",
      "It's important to note that the specific products and services offered by banks may vary depending on the bank's size, location, and target market.\u001b[0m\n",
      "\n",
      "\u001b[1m> Finished chain.\u001b[0m\n"
     ]
    },
    {
     "data": {
      "text/plain": [
       "{'input': 'What are the bank’s core products and services?',\n",
       " 'output': \"Banks typically offer a wide range of products and services to meet the financial needs of individuals, businesses, and organizations. Some of the core products and services offered by banks include:\\n\\n1. Deposit Accounts: Banks offer various types of deposit accounts, such as savings accounts, checking accounts, and certificates of deposit (CDs). These accounts allow individuals and businesses to store their money securely and earn interest on their deposits.\\n\\n2. Loans: Banks provide loans to individuals and businesses for various purposes, such as home mortgages, car loans, personal loans, and business loans. These loans are typically accompanied by interest and repayment terms.\\n\\n3. Credit Cards: Banks issue credit cards that allow individuals to make purchases on credit. Credit cards come with a credit limit and often offer rewards or cashback programs.\\n\\n4. Investments and Wealth Management: Banks may offer investment services, including brokerage accounts, mutual funds, and retirement planning. They may also provide wealth management services for high-net-worth individuals and institutions.\\n\\n5. Payment Services: Banks facilitate various payment services, including wire transfers, online banking, bill payments, and mobile banking. They also issue debit cards for easy access to funds in deposit accounts.\\n\\n6. Foreign Exchange and International Services: Banks offer services for currency exchange, international money transfers, and foreign currency accounts to facilitate international transactions.\\n\\n7. Insurance: Some banks provide insurance services, such as life insurance, health insurance, travel insurance, and property insurance.\\n\\n8. Treasury and Cash Management: Banks offer treasury and cash management services to businesses, including cash flow management, payroll services, merchant services, and business banking solutions.\\n\\n9. Trade Finance: Banks provide trade finance services, such as letters of credit, documentary collections, and trade financing solutions to facilitate international trade transactions.\\n\\n10. Financial Advisory: Banks may offer financial advisory services to individuals and businesses, providing guidance on investments, retirement planning, tax planning, and other financial matters.\\n\\nIt's important to note that the specific products and services offered by banks may vary depending on the bank's size, location, and target market.\"}"
      ]
     },
     "execution_count": 101,
     "metadata": {},
     "output_type": "execute_result"
    }
   ],
   "source": [
    "agent_executor.invoke({\"input\": \"What are the bank’s core products and services?\"})"
   ]
  },
  {
   "cell_type": "code",
   "execution_count": 105,
   "metadata": {},
   "outputs": [
    {
     "name": "stdout",
     "output_type": "stream",
     "text": [
      "\n",
      "\n",
      "\u001b[1m> Entering new AgentExecutor chain...\u001b[0m\n",
      "\u001b[32;1m\u001b[1;3m\n",
      "Invoking: `ROE` with `{'query': 'net income for 2023'}`\n",
      "\n",
      "\n",
      "\u001b[0m\u001b[36;1m\u001b[1;3mYear Ended December 31, 2023\n",
      "(dollars in millions)Consumer\n",
      "BankingCommercial\n",
      "Banking Non-Core Other Consolidated\n",
      "Net interest income $4,187 $2,292 ($129) ($109) $6,241 \n",
      "Noninterest income 1,067 784 — 132 1,983 \n",
      "Total revenue 5,254 3,076 (129) 23 8,224 \n",
      "Noninterest expense 3,542 1,295 123 547 5,507 \n",
      "Profit (loss) before provision (benefit) for credit losses 1,712 1,781 (252) (524) 2,717 \n",
      "Provision (benefit) for credit losses 280 250 78 79 687 \n",
      "Income (loss) before income tax expense (benefit) 1,432 1,531 (330) (603) 2,030 \n",
      "Income tax expense (benefit) 373 378 (86) (243) 422 \n",
      "Net income (loss) $1,059 $1,153 ($244) ($360) $1,608 \n",
      "Total average assets $72,693 $76,028 $13,745 $59,755 $222,221 \n",
      "Year Ended December 31, 2022\n",
      "(dollars in millions)Consumer\n",
      "BankingCommercial\n",
      "Banking Non-Core Other Consolidated\n",
      "Net interest income $3,649 $2,103 $378 ($118) $6,012 \n",
      "Noninterest income 1,063 845 — 101 2,009 \n",
      "Total revenue 4,712 2,948 378 (17) 8,021 \n",
      "Noninterest expense 3,255 1,223 136 278 4,892\n",
      "\n",
      "•Total revenue increased $203 million to $8.2 billion compared to 2022, driven by an increase of 4% in net interest income, including the\n",
      "impacts of the HSBC transaction and Investors acquisition.\n",
      "•The efficiency ratio of 67.0% compared to 61.0% in 2022.\n",
      "◦On an Underlying basis, the efficiency ratio of 60.8% compared to 57.5% in 2022.\n",
      "•ROTCE of 10.9% compared to 13.9% in 2022.\n",
      "◦On an Underlying basis, ROTCE of 13.5% compared to 16.4%.\n",
      "•Tangible book value per common share of $30.91 increased 11% from 2022.\n",
      "For additional information regarding our financial performance, see “Results of Operations — 2023 compared with 2022” included in this\n",
      "report.(1) (2) (3)\n",
      "(1) (2) (4)\n",
      "(1)\n",
      "(2) \n",
      "(3) \n",
      "(4)\n",
      "Citizens Financial Group, Inc. | 39RESULTS OF OPERATIONS — 2023 compared with 2022\n",
      "Net Interest Income\n",
      "Net interest income is our largest source of revenue and is the difference between the interest earned on interest-earning assets\n",
      "\n",
      "(dollars in millions) 2023 2022 2021\n",
      "OPERATING ACTIVITIES\n",
      "Net income $1,608 $2,073 $2,319 \n",
      "Adjustments to reconcile net income to net change in cash due to operating activities:\n",
      "Provision (benefit) for credit losses 687 474 (411)\n",
      "Net change in loans held for sale, at fair value 98 1,733 1,085 \n",
      "Depreciation, amortization and accretion 478 565 625 \n",
      "Deferred income tax expense (benefit) (242) 57 (429)\n",
      "Share-based compensation 87 84 59 \n",
      "Net gain on sale of assets (28) (9) (11)\n",
      "Net (increase) decrease in other assets 612 (1,894) (1,719)\n",
      "Net increase (decrease) in other liabilities (339) 1,036 757 \n",
      "Net change due to operating activities 2,961 4,119 2,275 \n",
      "INVESTING ACTIVITIES\n",
      "Investment securities:\n",
      "Purchases of debt securities available for sale (10,087) (10,776) (12,406)\n",
      "Proceeds from maturities and paydowns of debt securities available for sale 2,001 3,422 7,810 \n",
      "Proceeds from sales of debt securities available for sale 2,941 1,178 790\n",
      "\n",
      "investment, equipment and software driven by software maintenance and amortization costs, and other operating expense associated with\n",
      "advertising and fraud losses.\n",
      "Net charge-offs increased $106 million compared to 2022, driven by other retail and education as credit losses continue to gradually\n",
      "normalize from pandemic-era lows.\n",
      "Commercial Banking\n",
      "Net interest income increased $189 million compared to 2022, driven by higher net interest margin reflecting higher interest-earning\n",
      "asset yields given higher market interest rates and growth in average interest-earning assets, including the impact of the Investors acquisition.\n",
      "This increase was partially offset by higher funding costs.\n",
      "Noninterest income decreased $61 million compared to 2022, driven by capital markets fees reflecting lower loan syndication,\n",
      "underwriting and M&A advisory fees, and foreign exchange and derivative products revenue reflecting lower client hedging activity. This decline\u001b[0m\u001b[32;1m\u001b[1;3mThe net income of the company for 2023 is $1,608 million.\u001b[0m\n",
      "\n",
      "\u001b[1m> Finished chain.\u001b[0m\n"
     ]
    },
    {
     "data": {
      "text/plain": [
       "{'input': 'what is the net income of the company for 2023?',\n",
       " 'chat_history': [],\n",
       " 'output': 'The net income of the company for 2023 is $1,608 million.'}"
      ]
     },
     "execution_count": 105,
     "metadata": {},
     "output_type": "execute_result"
    }
   ],
   "source": [
    "agent_executor.invoke({\"input\": \"what is the net income of the company for 2023?\", \"chat_history\": []})"
   ]
  },
  {
   "cell_type": "code",
   "execution_count": 102,
   "metadata": {},
   "outputs": [
    {
     "name": "stdout",
     "output_type": "stream",
     "text": [
      "\n",
      "\n",
      "\u001b[1m> Entering new AgentExecutor chain...\u001b[0m\n",
      "\u001b[32;1m\u001b[1;3m\n",
      "Invoking: `ROE` with `{'query': 'shareholder’s equity of the company for 2023'}`\n",
      "\n",
      "\n",
      "\u001b[0m\u001b[36;1m\u001b[1;3mDerivative liabilities 1,562 1,909 \n",
      "Long-term borrowed funds 13,467 15,887 \n",
      "Other liabilities 4,746 4,520 \n",
      "TOTAL LIABILITIES 197,622 203,043 \n",
      "Commitments and Contingencies (refer to Note 19)\n",
      "STOCKHOLDERS’ EQUITY:\n",
      "Preferred Stock:\n",
      "$25.00 par value,100,000,000 shares authorized; 2,050,000 shares issued and outstanding at December 31, 2023 and\n",
      "2022 2,014 2,014 \n",
      "Common stock:\n",
      "$0.01 par value, 1,000,000,000 shares authorized; 647,829,720 shares issued and 466,418,055 shares outstanding at\n",
      "December 31, 2023 and 645,220,018 shares issued and 492,282,158 shares outstanding at December 31, 2022 6 6 \n",
      "Additional paid-in capital 22,250 22,142 \n",
      "Retained earnings 9,816 9,159 \n",
      "Treasury stock, at cost, 181,411,665 and 152,937,860 shares at December 31, 2023 and 2022, respectively (5,986) (5,071)\n",
      "Accumulated other comprehensive income (loss) (3,758) (4,560)\n",
      "TOTAL STOCKHOLDERS’ EQUITY 24,342 23,690 \n",
      "TOTAL LIABILITIES AND STOCKHOLDERS’ EQUITY $221,964 $226,733\n",
      "\n",
      "12/31/2023 12/31/2022 12/31/2021 12/31/2020 12/31/2019 12/31/2018\n",
      "CFG $140 $157 $181 $132 $142 $100 \n",
      "S&P 500 Index 207 164 200 156 131 100 \n",
      "KBW BKX Index 132 133 169 122 136 100 \n",
      "Peer Regional Bank Average 133 134 162 120 134 100 ®\n",
      "Citizens Financial Group, Inc. | 35Issuer Purchase of Equity Securities\n",
      "Details of the repurchases of the Company’s common stock during the three months ended December 31, 2023 are included below:\n",
      "PeriodTotal Number of\n",
      "Shares RepurchasedAverage Price\n",
      "Paid Per ShareTotal Number of Shares\n",
      "Purchased as Part of\n",
      "Publicly Announced Plans or\n",
      "ProgramsMaximum Dollar Amount of Shares That\n",
      "May Yet Be Purchased as Part of\n",
      "Publicly Announced Plans or\n",
      "Programs\n",
      "October 1, 2023 - October 31, 2023 329 $16.82 — $1,094,000,058\n",
      "November 1, 2023 - November 30, 2023 335 $23.43 — $1,094,000,058\n",
      "December 1, 2023 - December 31, 2023 691 $12.41 — $1,094,000,058\n",
      "\n",
      "outstanding subordinated debt.\n",
      "Capital Transactions\n",
      "We completed the following capital transactions during 2023:\n",
      "•Repurchased $906 million of our outstanding common stock;\n",
      "•Declared quarterly common stock dividends of $0.42 per share, aggregating to $808 million; and\n",
      "•Declared preferred stock dividends aggregating to $117 million.\n",
      "For additional detail regarding our common and preferred stock dividends see Note 17.\n",
      "In February 2023, our Board of Directors increased our common share repurchase authorization to $2.0 billion, which was an increase of\n",
      "$1.15 billion above the $850 million of capacity remaining as of December 31, 2022 under the prior June 2022 authorization. See “Issuer\n",
      "Purchase of Equity Securities” in Item 5 above for information regarding our available capacity to repurchase shares at December 31, 2023. All\n",
      "future capital distributions are subject to consideration and approval by our Board of Directors prior to execution. The timing and amount of future\n",
      "\n",
      "(dollars in millions) 2023 2022 2021\n",
      "Supplemental disclosures:\n",
      "Interest paid $3,640 $989 $347 \n",
      "Income taxes paid 375 183 1,247 \n",
      "Non-cash items:\n",
      "Transfer of loans from portfolio to LHFS $2,617 $— $— \n",
      "Transfer of securities from AFS to HTM — 8,563 — \n",
      "Loans securitized and transferred to securities AFS 103 143 260 \n",
      "Investors Acquisition:\n",
      "Fair value of assets acquired, excluding cash and cash equivalents — 27,113 — \n",
      "Goodwill and other intangible assets — 992 — \n",
      "Fair value of liabilities assumed — 24,982 — \n",
      "Common stock issued — 3,036 — \n",
      "Replacement equity awards — 19 — \n",
      " Primarily includes cash paid of $355 million to acquire Investors less $287 million in cash acquired, and $143 million and $23 million of cash paid for the HSBC transaction and acquisition of DH Capital,\n",
      "LLC, respectively, for the year ended December 31, 2022.\n",
      " Cash and cash equivalents include cash and due from banks and interest-bearing cash and due from banks as reflected on the Consolidated Balance Sheets.\u001b[0m\u001b[32;1m\u001b[1;3mThe shareholder's equity of the company for 2023 is $24,342 million.\u001b[0m\n",
      "\n",
      "\u001b[1m> Finished chain.\u001b[0m\n"
     ]
    },
    {
     "data": {
      "text/plain": [
       "{'input': 'what is the shareholder’s equity of the company for 2023?',\n",
       " 'chat_history': [],\n",
       " 'output': \"The shareholder's equity of the company for 2023 is $24,342 million.\"}"
      ]
     },
     "execution_count": 102,
     "metadata": {},
     "output_type": "execute_result"
    }
   ],
   "source": [
    "agent_executor.invoke({\"input\": \"what is the shareholder’s equity of the company for 2023?\", \"chat_history\": []})"
   ]
  },
  {
   "cell_type": "code",
   "execution_count": 104,
   "metadata": {},
   "outputs": [
    {
     "name": "stdout",
     "output_type": "stream",
     "text": [
      "\n",
      "\n",
      "\u001b[1m> Entering new AgentExecutor chain...\u001b[0m\n",
      "\u001b[32;1m\u001b[1;3mTo provide you with the stock symbol name of a company, I need to know the name of the company you are referring to. Could you please provide me with the name of the company?\u001b[0m\n",
      "\n",
      "\u001b[1m> Finished chain.\u001b[0m\n"
     ]
    },
    {
     "data": {
      "text/plain": [
       "{'input': 'what is the stock symbol name of the company',\n",
       " 'chat_history': [],\n",
       " 'output': 'To provide you with the stock symbol name of a company, I need to know the name of the company you are referring to. Could you please provide me with the name of the company?'}"
      ]
     },
     "execution_count": 104,
     "metadata": {},
     "output_type": "execute_result"
    }
   ],
   "source": [
    "agent_executor.invoke({\"input\": \"what is the stock symbol name of the company\",\"chat_history\": []})"
   ]
  },
  {
   "cell_type": "code",
   "execution_count": 108,
   "metadata": {},
   "outputs": [
    {
     "name": "stdout",
     "output_type": "stream",
     "text": [
      "\n",
      "\n",
      "\u001b[1m> Entering new AgentExecutor chain...\u001b[0m\n",
      "\u001b[32;1m\u001b[1;3m\n",
      "Invoking: `ROE` with `{'query': 'ROE for 2023'}`\n",
      "\n",
      "\n",
      "\u001b[0m\u001b[36;1m\u001b[1;3m•Total revenue increased $203 million to $8.2 billion compared to 2022, driven by an increase of 4% in net interest income, including the\n",
      "impacts of the HSBC transaction and Investors acquisition.\n",
      "•The efficiency ratio of 67.0% compared to 61.0% in 2022.\n",
      "◦On an Underlying basis, the efficiency ratio of 60.8% compared to 57.5% in 2022.\n",
      "•ROTCE of 10.9% compared to 13.9% in 2022.\n",
      "◦On an Underlying basis, ROTCE of 13.5% compared to 16.4%.\n",
      "•Tangible book value per common share of $30.91 increased 11% from 2022.\n",
      "For additional information regarding our financial performance, see “Results of Operations — 2023 compared with 2022” included in this\n",
      "report.(1) (2) (3)\n",
      "(1) (2) (4)\n",
      "(1)\n",
      "(2) \n",
      "(3) \n",
      "(4)\n",
      "Citizens Financial Group, Inc. | 39RESULTS OF OPERATIONS — 2023 compared with 2022\n",
      "Net Interest Income\n",
      "Net interest income is our largest source of revenue and is the difference between the interest earned on interest-earning assets\n",
      "\n",
      "includes the provision for loan and lease losses and the provision for unfunded commitments. Refer to “Analysis of Financial Condition — Credit\n",
      "Quality” for more information.\n",
      "Provision expense of $687 million for 2023 compares to $474 million for 2022. The provision expense for 2023 reflects higher reserves\n",
      "against the Commercial Real Estate Office portfolio primarily driven by rising interest rates and return to office dynamics.\n",
      "Income Tax Expense\n",
      "Income tax expense of $422 million decreased $160 million and our effective income tax rate of 20.8% decreased from 21.9% compared\n",
      "to 2022. These decreases were driven by lower pre-tax income, the favorable impact of certain tax matters and additional benefits from tax-\n",
      "advantaged investments, partially offset by the adoption of the proportional amortization method for qualified investments in tax credit structures\n",
      "in 2023 and increased non-deductible FDIC premium expense.\n",
      "Business Operating Segments\n",
      "\n",
      "Commercial real estate 161 29,206 0.56 1 24,746 — \n",
      "Leases (4) 1,305 (0.29) — 1,521 (0.03)\n",
      "Total commercial 267 79,204 0.34 52 76,269 0.07 \n",
      "Residential mortgages 2 30,660 — (1) 27,759 — \n",
      "Home equity (10) 14,475 (0.07) (28) 13,057 (0.22)\n",
      "Automobile 55 10,374 0.53 36 13,729 0.26 \n",
      "Education 92 12,333 0.74 59 13,047 0.45 \n",
      "Other retail 203 5,171 3.93 152 5,483 2.77 \n",
      "Total retail 342 73,013 0.47 218 73,075 0.30 \n",
      "Total loans and leases $609 $152,217 0.40 % $270 $149,344 0.18 %\n",
      "For the year ended December 31, 2023, net charge-offs increased $339 million and the net charge-off ratio increased 22 basis points\n",
      "compared to 2022.\n",
      "For the year ended December 31, 2023, the increase in net charge-offs reflects a $124 million increase in retail, primarily other retail and\n",
      "education, and a $215 million increase in commercial, with increases in commercial real estate and commercial and industrial. The increase in\n",
      "\n",
      "interest-earning assets, including the impacts of the HSBC transaction and Investors acquisition.\n",
      "Net interest margin on a FTE basis was neutral compared to 2022, reflecting higher interest-earning asset growth and associated yields,\n",
      "offset by increased funding costs.\n",
      "Average interest-earning assets increased $7.6 billion, or 4%, compared to 2022, primarily attributable to growth in loans and leases\n",
      "reflecting the impacts of the HSBC transaction and Investors acquisition, and growth in investments.\n",
      "Average deposits increased $3.2 billion, or 2%, compared to 2022, primarily attributable to the impacts of the HSBC transaction and\n",
      "Investors acquisition.\n",
      "Average total borrowed funds increased $2.9 billion compared to 2022, driven by an increase in FHLB advances and secured\n",
      "borrowings collateralized by auto loans.\n",
      "Table 3: Changes in Net Interest Income Due to Average Volume and Average Rate\n",
      "Year Ended December 31,\n",
      " 2023 Versus 2022\u001b[0m\u001b[32;1m\u001b[1;3mI apologize, but I am unable to find the specific ROE for 2023 based on the information provided. The data provided seems to be a summary of the financial performance of a company, but it does not include the net income and shareholder's equity figures needed to calculate ROE. To calculate the ROE for 2023, you will need to have access to the company's financial statements or specific financial data for that year.\u001b[0m\n",
      "\n",
      "\u001b[1m> Finished chain.\u001b[0m\n"
     ]
    },
    {
     "data": {
      "text/plain": [
       "{'input': 'what is the ROE for 2023?',\n",
       " 'chat_history': [HumanMessage(content=\"ROE can be calculated using the formula net income divided by shareholder's equity\"),\n",
       "  AIMessage(content=\"Sure, I'll calculate ROE using this formula, ROE = net income of the company/shareholder's equity of the company\")],\n",
       " 'output': \"I apologize, but I am unable to find the specific ROE for 2023 based on the information provided. The data provided seems to be a summary of the financial performance of a company, but it does not include the net income and shareholder's equity figures needed to calculate ROE. To calculate the ROE for 2023, you will need to have access to the company's financial statements or specific financial data for that year.\"}"
      ]
     },
     "execution_count": 108,
     "metadata": {},
     "output_type": "execute_result"
    }
   ],
   "source": [
    "agent_executor.invoke({\"input\": \"what is the ROE for 2023?\",\n",
    "                       \"chat_history\":[HumanMessage(content=\"ROE can be calculated using the formula net income divided by shareholder's equity\"),\n",
    "            AIMessage(content=\"Sure, I'll calculate ROE using this formula, ROE = net income of the company/shareholder's equity of the company\"),\n",
    "                                      ]\n",
    "                      }\n",
    "                     )"
   ]
  },
  {
   "cell_type": "code",
   "execution_count": null,
   "metadata": {},
   "outputs": [],
   "source": []
  },
  {
   "cell_type": "code",
   "execution_count": null,
   "metadata": {},
   "outputs": [],
   "source": []
  },
  {
   "cell_type": "code",
   "execution_count": 82,
   "metadata": {},
   "outputs": [],
   "source": [
    "from langchain_core.prompts import ChatPromptTemplate\n",
    "\n",
    "chat_template = ChatPromptTemplate.from_messages(\n",
    "    [\n",
    "        (\"system\", \"These are some of the formulas for calcualting companies financial statement. ROE = Net income/Shareholder's equity. ROE ratio = (Net income/shareholder's equity)*100\"),\n",
    "        (\"human\", \"Hello, how are you doing?\"),\n",
    "        (\"ai\", \"I'm doing well, thanks!\"),\n",
    "        (\"human\", \"{user_input}\"),\n",
    "    ]\n",
    ")\n",
    "\n",
    "messages = chat_template.format_messages(user_input=\"How to calcualte ROE?\")"
   ]
  },
  {
   "cell_type": "code",
   "execution_count": 83,
   "metadata": {},
   "outputs": [
    {
     "data": {
      "text/plain": [
       "[SystemMessage(content=\"These are some of the formulas for calcualting companies financial statement. ROE = Net income/Shareholder's equity. ROE ratio = (Net income/shareholder's equity)*100\"),\n",
       " HumanMessage(content='Hello, how are you doing?'),\n",
       " AIMessage(content=\"I'm doing well, thanks!\"),\n",
       " HumanMessage(content='How to calcualte ROE?')]"
      ]
     },
     "execution_count": 83,
     "metadata": {},
     "output_type": "execute_result"
    }
   ],
   "source": [
    "messages"
   ]
  },
  {
   "cell_type": "code",
   "execution_count": 92,
   "metadata": {},
   "outputs": [
    {
     "ename": "AttributeError",
     "evalue": "'list' object has no attribute 'input_variables'",
     "output_type": "error",
     "traceback": [
      "\u001b[1;31m---------------------------------------------------------------------------\u001b[0m",
      "\u001b[1;31mAttributeError\u001b[0m                            Traceback (most recent call last)",
      "Cell \u001b[1;32mIn[92], line 3\u001b[0m\n\u001b[0;32m      1\u001b[0m \u001b[38;5;28;01mfrom\u001b[39;00m \u001b[38;5;21;01mlangchain\u001b[39;00m\u001b[38;5;21;01m.\u001b[39;00m\u001b[38;5;21;01magents\u001b[39;00m \u001b[38;5;28;01mimport\u001b[39;00m create_tool_calling_agent\n\u001b[1;32m----> 3\u001b[0m agent \u001b[38;5;241m=\u001b[39m create_tool_calling_agent(chat_model, tools, messages\n\u001b[0;32m      4\u001b[0m                                 )\n",
      "File \u001b[1;32m~\\AppData\\Roaming\\Python\\Python311\\site-packages\\langchain\\agents\\tool_calling_agent\\base.py:79\u001b[0m, in \u001b[0;36mcreate_tool_calling_agent\u001b[1;34m(llm, tools, prompt)\u001b[0m\n\u001b[0;32m     14\u001b[0m \u001b[38;5;28;01mdef\u001b[39;00m \u001b[38;5;21mcreate_tool_calling_agent\u001b[39m(\n\u001b[0;32m     15\u001b[0m     llm: BaseLanguageModel, tools: Sequence[BaseTool], prompt: ChatPromptTemplate\n\u001b[0;32m     16\u001b[0m ) \u001b[38;5;241m-\u001b[39m\u001b[38;5;241m>\u001b[39m Runnable:\n\u001b[0;32m     17\u001b[0m \u001b[38;5;250m    \u001b[39m\u001b[38;5;124;03m\"\"\"Create an agent that uses tools.\u001b[39;00m\n\u001b[0;32m     18\u001b[0m \n\u001b[0;32m     19\u001b[0m \u001b[38;5;124;03m    Args:\u001b[39;00m\n\u001b[1;32m   (...)\u001b[0m\n\u001b[0;32m     76\u001b[0m \u001b[38;5;124;03m            messages will be passed in here.\u001b[39;00m\n\u001b[0;32m     77\u001b[0m \u001b[38;5;124;03m    \"\"\"\u001b[39;00m\n\u001b[0;32m     78\u001b[0m     missing_vars \u001b[38;5;241m=\u001b[39m {\u001b[38;5;124m\"\u001b[39m\u001b[38;5;124magent_scratchpad\u001b[39m\u001b[38;5;124m\"\u001b[39m}\u001b[38;5;241m.\u001b[39mdifference(\n\u001b[1;32m---> 79\u001b[0m         prompt\u001b[38;5;241m.\u001b[39minput_variables \u001b[38;5;241m+\u001b[39m \u001b[38;5;28mlist\u001b[39m(prompt\u001b[38;5;241m.\u001b[39mpartial_variables)\n\u001b[0;32m     80\u001b[0m     )\n\u001b[0;32m     81\u001b[0m     \u001b[38;5;28;01mif\u001b[39;00m missing_vars:\n\u001b[0;32m     82\u001b[0m         \u001b[38;5;28;01mraise\u001b[39;00m \u001b[38;5;167;01mValueError\u001b[39;00m(\u001b[38;5;124mf\u001b[39m\u001b[38;5;124m\"\u001b[39m\u001b[38;5;124mPrompt missing required variables: \u001b[39m\u001b[38;5;132;01m{\u001b[39;00mmissing_vars\u001b[38;5;132;01m}\u001b[39;00m\u001b[38;5;124m\"\u001b[39m)\n",
      "\u001b[1;31mAttributeError\u001b[0m: 'list' object has no attribute 'input_variables'"
     ]
    }
   ],
   "source": [
    "from langchain.agents import create_tool_calling_agent\n",
    "\n",
    "agent = create_tool_calling_agent(chat_model, tools, messages\n",
    "                                )"
   ]
  },
  {
   "cell_type": "code",
   "execution_count": 91,
   "metadata": {},
   "outputs": [
    {
     "name": "stdout",
     "output_type": "stream",
     "text": [
      "[SystemMessage(content=\"You are a helpful assistant and use the following formulas to calcualte financial terms. ROE = Net income/Shareholder's equity.ROE ratio = (Net income/shareholder's equity)*100\"), HumanMessage(content='what is the formula for calculating ROE?')]\n"
     ]
    }
   ],
   "source": [
    "from langchain_core.messages import SystemMessage\n",
    "from langchain_core.prompts import HumanMessagePromptTemplate\n",
    "\n",
    "chat_template = ChatPromptTemplate.from_messages(\n",
    "    [\n",
    "        SystemMessage(\n",
    "            content=(\n",
    "                \"You are a helpful assistant and use the following formulas to calcualte financial terms. \"\n",
    "                \"ROE = Net income/Shareholder's equity.\"\n",
    "                \"ROE ratio = (Net income/shareholder's equity)*100\"\n",
    "            )\n",
    "        ),\n",
    "        HumanMessagePromptTemplate.from_template(\"{text}\"),\n",
    "    ]\n",
    ")\n",
    "messages = chat_template.format_messages(text=\"what is the formula for calculating ROE?\")\n",
    "print(messages)"
   ]
  },
  {
   "cell_type": "code",
   "execution_count": null,
   "metadata": {},
   "outputs": [],
   "source": []
  },
  {
   "cell_type": "code",
   "execution_count": null,
   "metadata": {},
   "outputs": [],
   "source": []
  },
  {
   "cell_type": "code",
   "execution_count": null,
   "metadata": {},
   "outputs": [],
   "source": []
  },
  {
   "cell_type": "code",
   "execution_count": null,
   "metadata": {},
   "outputs": [],
   "source": []
  },
  {
   "cell_type": "code",
   "execution_count": null,
   "metadata": {},
   "outputs": [],
   "source": []
  },
  {
   "cell_type": "code",
   "execution_count": null,
   "metadata": {},
   "outputs": [],
   "source": [
    "[SystemMessagePromptTemplate(prompt=PromptTemplate(input_variables=[], template='You are a helpful assistant')),\n",
    " MessagesPlaceholder(variable_name='chat_history', optional=True),\n",
    " HumanMessagePromptTemplate(prompt=PromptTemplate(input_variables=['input'], template='{input}')),\n",
    " MessagesPlaceholder(variable_name='agent_scratchpad')]"
   ]
  }
 ],
 "metadata": {
  "colab": {
   "provenance": []
  },
  "gpuClass": "standard",
  "kernelspec": {
   "display_name": "Python 3 (ipykernel)",
   "language": "python",
   "name": "python3"
  },
  "language_info": {
   "codemirror_mode": {
    "name": "ipython",
    "version": 3
   },
   "file_extension": ".py",
   "mimetype": "text/x-python",
   "name": "python",
   "nbconvert_exporter": "python",
   "pygments_lexer": "ipython3",
   "version": "3.11.7"
  }
 },
 "nbformat": 4,
 "nbformat_minor": 4
}
