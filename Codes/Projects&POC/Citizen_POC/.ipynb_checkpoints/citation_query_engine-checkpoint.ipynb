{
  "cells": [
    {
      "cell_type": "markdown",
      "id": "f560d34d",
      "metadata": {
        "id": "f560d34d"
      },
      "source": [
        "<a href=\"https://colab.research.google.com/github/jerryjliu/llama_index/blob/main/docs/docs/examples/query_engine/citation_query_engine.ipynb\" target=\"_parent\"><img src=\"https://colab.research.google.com/assets/colab-badge.svg\" alt=\"Open In Colab\"/></a>"
      ]
    },
    {
      "cell_type": "markdown",
      "id": "48f59719",
      "metadata": {
        "id": "48f59719"
      },
      "source": [
        "# CitationQueryEngine\n",
        "\n",
        "This notebook walks through how to use the CitationQueryEngine\n",
        "\n",
        "The CitationQueryEngine can be used with any existing index."
      ]
    },
    {
      "cell_type": "markdown",
      "id": "f5384b69",
      "metadata": {
        "id": "f5384b69"
      },
      "source": [
        "If you're opening this Notebook on colab, you will probably need to install LlamaIndex 🦙."
      ]
    },
    {
      "cell_type": "code",
      "execution_count": null,
      "id": "8dfd1054",
      "metadata": {
        "id": "8dfd1054"
      },
      "outputs": [],
      "source": [
        "%pip install llama-index-embeddings-openai\n",
        "%pip install llama-index-llms-openai"
      ]
    },
    {
      "cell_type": "code",
      "execution_count": null,
      "id": "5723d6ba",
      "metadata": {
        "id": "5723d6ba"
      },
      "outputs": [],
      "source": [
        "!pip install llama-index"
      ]
    },
    {
      "cell_type": "markdown",
      "id": "69269151",
      "metadata": {
        "id": "69269151"
      },
      "source": [
        "## Setup"
      ]
    },
    {
      "cell_type": "code",
      "execution_count": null,
      "id": "6b0d7e13",
      "metadata": {
        "id": "6b0d7e13",
        "outputId": "7b28f1e7-bc63-4ef0-bb23-a91b9b3a658e"
      },
      "outputs": [
        {
          "name": "stderr",
          "output_type": "stream",
          "text": [
            "/home/loganm/miniconda3/envs/llama-index/lib/python3.11/site-packages/tqdm/auto.py:21: TqdmWarning: IProgress not found. Please update jupyter and ipywidgets. See https://ipywidgets.readthedocs.io/en/stable/user_install.html\n",
            "  from .autonotebook import tqdm as notebook_tqdm\n"
          ]
        }
      ],
      "source": [
        "import os\n",
        "from llama_index.llms.openai import OpenAI\n",
        "from llama_index.core.query_engine import CitationQueryEngine\n",
        "from llama_index.core.retrievers import VectorIndexRetriever\n",
        "from llama_index.core import (\n",
        "    VectorStoreIndex,\n",
        "    SimpleDirectoryReader,\n",
        "    StorageContext,\n",
        "    load_index_from_storage,\n",
        ")"
      ]
    },
    {
      "cell_type": "code",
      "execution_count": null,
      "id": "0ed92efc",
      "metadata": {
        "id": "0ed92efc"
      },
      "outputs": [],
      "source": [
        "from llama_index.embeddings.openai import OpenAIEmbedding\n",
        "from llama_index.llms.openai import OpenAI\n",
        "from llama_index.core import Settings\n",
        "\n",
        "Settings.llm = OpenAI(model=\"gpt-3.5-turbo\")\n",
        "Settings.embed_model = OpenAIEmbedding(model=\"text-embedding-3-small\")"
      ]
    },
    {
      "cell_type": "markdown",
      "id": "5f5b3411",
      "metadata": {
        "id": "5f5b3411"
      },
      "source": [
        "## Download Data"
      ]
    },
    {
      "cell_type": "code",
      "execution_count": null,
      "id": "0fe05936",
      "metadata": {
        "id": "0fe05936"
      },
      "outputs": [],
      "source": [
        "!mkdir -p 'data/paul_graham/'\n",
        "!wget 'https://raw.githubusercontent.com/run-llama/llama_index/main/docs/docs/examples/data/paul_graham/paul_graham_essay.txt' -O 'data/paul_graham/paul_graham_essay.txt'"
      ]
    },
    {
      "cell_type": "code",
      "execution_count": null,
      "id": "80b8d666",
      "metadata": {
        "id": "80b8d666"
      },
      "outputs": [],
      "source": [
        "if not os.path.exists(\"./citation\"):\n",
        "    documents = SimpleDirectoryReader(\"./data/paul_graham\").load_data()\n",
        "    index = VectorStoreIndex.from_documents(\n",
        "        documents,\n",
        "    )\n",
        "    index.storage_context.persist(persist_dir=\"./citation\")\n",
        "else:\n",
        "    index = load_index_from_storage(\n",
        "        StorageContext.from_defaults(persist_dir=\"./citation\"),\n",
        "    )"
      ]
    },
    {
      "cell_type": "markdown",
      "id": "afc2c839",
      "metadata": {
        "id": "afc2c839"
      },
      "source": [
        "## Create the CitationQueryEngine w/ Default Arguments"
      ]
    },
    {
      "cell_type": "code",
      "execution_count": null,
      "id": "7bc3d1e9",
      "metadata": {
        "id": "7bc3d1e9"
      },
      "outputs": [],
      "source": [
        "query_engine = CitationQueryEngine.from_args(\n",
        "    index,\n",
        "    similarity_top_k=3,\n",
        "    # here we can control how granular citation sources are, the default is 512\n",
        "    citation_chunk_size=512,\n",
        ")"
      ]
    },
    {
      "cell_type": "code",
      "execution_count": null,
      "id": "b80df9c3",
      "metadata": {
        "id": "b80df9c3"
      },
      "outputs": [],
      "source": [
        "response = query_engine.query(\"What did the author do growing up?\")"
      ]
    },
    {
      "cell_type": "code",
      "execution_count": null,
      "id": "1f13b143",
      "metadata": {
        "id": "1f13b143",
        "outputId": "d84cbefb-e35f-44c1-d940-8dcba5b672e0"
      },
      "outputs": [
        {
          "name": "stdout",
          "output_type": "stream",
          "text": [
            "Before college, the author worked on writing short stories and programming on an IBM 1401 using an early version of Fortran [1]. They later got a TRS-80 computer and wrote simple games, a program to predict rocket heights, and a word processor [2].\n"
          ]
        }
      ],
      "source": [
        "print(response)"
      ]
    },
    {
      "cell_type": "code",
      "execution_count": null,
      "id": "c7064870",
      "metadata": {
        "id": "c7064870",
        "outputId": "1ca1023d-b71b-48be-813f-c4022750a35d"
      },
      "outputs": [
        {
          "name": "stdout",
          "output_type": "stream",
          "text": [
            "6\n"
          ]
        }
      ],
      "source": [
        "# source nodes are 6, because the original chunks of 1024-sized nodes were broken into more granular nodes\n",
        "print(len(response.source_nodes))"
      ]
    },
    {
      "cell_type": "markdown",
      "id": "f3e61c2c",
      "metadata": {
        "id": "f3e61c2c"
      },
      "source": [
        "### Inspecting the Actual Source\n",
        "Sources start counting at 1, but python arrays start counting at zero!\n",
        "\n",
        "Let's confirm the source makes sense."
      ]
    },
    {
      "cell_type": "code",
      "execution_count": null,
      "id": "e7397ccb",
      "metadata": {
        "id": "e7397ccb",
        "outputId": "4b50d737-1274-4433-d4a2-2e30f8575aed"
      },
      "outputs": [
        {
          "name": "stdout",
          "output_type": "stream",
          "text": [
            "Source 1:\n",
            "What I Worked On\n",
            "\n",
            "February 2021\n",
            "\n",
            "Before college the two main things I worked on, outside of school, were writing and programming. I didn't write essays. I wrote what beginning writers were supposed to write then, and probably still are: short stories. My stories were awful. They had hardly any plot, just characters with strong feelings, which I imagined made them deep.\n",
            "\n",
            "The first programs I tried writing were on the IBM 1401 that our school district used for what was then called \"data processing.\" This was in 9th grade, so I was 13 or 14. The school district's 1401 happened to be in the basement of our junior high school, and my friend Rich Draves and I got permission to use it. It was like a mini Bond villain's lair down there, with all these alien-looking machines — CPU, disk drives, printer, card reader — sitting up on a raised floor under bright fluorescent lights.\n",
            "\n",
            "The language we used was an early version of Fortran. You had to type programs on punch cards, then stack them in the card reader and press a button to load the program into memory and run it. The result would ordinarily be to print something on the spectacularly loud printer.\n",
            "\n",
            "I was puzzled by the 1401. I couldn't figure out what to do with it. And in retrospect there's not much I could have done with it. The only form of input to programs was data stored on punched cards, and I didn't have any data stored on punched cards. The only other option was to do things that didn't rely on any input, like calculate approximations of pi, but I didn't know enough math to do anything interesting of that type. So I'm not surprised I can't remember any programs I wrote, because they can't have done much. My clearest memory is of the moment I learned it was possible for programs not to terminate, when one of mine didn't. On a machine without time-sharing, this was a social as well as a technical error, as the data center manager's expression made clear.\n",
            "\n",
            "With microcomputers, everything changed. Now you could have a computer sitting right in front of you, on a desk, that could respond to your keystrokes as it was running instead of just churning through a stack of punch cards and then stopping.\n"
          ]
        }
      ],
      "source": [
        "print(response.source_nodes[0].node.get_text())"
      ]
    },
    {
      "cell_type": "code",
      "execution_count": null,
      "id": "911db74a",
      "metadata": {
        "id": "911db74a",
        "outputId": "808ca241-f2b4-481f-c067-8248793d3aae"
      },
      "outputs": [
        {
          "name": "stdout",
          "output_type": "stream",
          "text": [
            "Source 2:\n",
            "[1]\n",
            "\n",
            "The first of my friends to get a microcomputer built it himself. It was sold as a kit by Heathkit. I remember vividly how impressed and envious I felt watching him sitting in front of it, typing programs right into the computer.\n",
            "\n",
            "Computers were expensive in those days and it took me years of nagging before I convinced my father to buy one, a TRS-80, in about 1980. The gold standard then was the Apple II, but a TRS-80 was good enough. This was when I really started programming. I wrote simple games, a program to predict how high my model rockets would fly, and a word processor that my father used to write at least one book. There was only room in memory for about 2 pages of text, so he'd write 2 pages at a time and then print them out, but it was a lot better than a typewriter.\n",
            "\n",
            "Though I liked programming, I didn't plan to study it in college. In college I was going to study philosophy, which sounded much more powerful. It seemed, to my naive high school self, to be the study of the ultimate truths, compared to which the things studied in other fields would be mere domain knowledge. What I discovered when I got to college was that the other fields took up so much of the space of ideas that there wasn't much left for these supposed ultimate truths. All that seemed left for philosophy were edge cases that people in other fields felt could safely be ignored.\n",
            "\n",
            "I couldn't have put this into words when I was 18. All I knew at the time was that I kept taking philosophy courses and they kept being boring. So I decided to switch to AI.\n",
            "\n",
            "AI was in the air in the mid 1980s, but there were two things especially that made me want to work on it: a novel by Heinlein called The Moon is a Harsh Mistress, which featured an intelligent computer called Mike, and a PBS documentary that showed Terry Winograd using SHRDLU. I haven't tried rereading The\n"
          ]
        }
      ],
      "source": [
        "print(response.source_nodes[1].node.get_text())"
      ]
    },
    {
      "cell_type": "markdown",
      "id": "4ba9767b",
      "metadata": {
        "id": "4ba9767b"
      },
      "source": [
        "## Adjusting Settings\n",
        "\n",
        "Note that setting the chunk size larger than the original chunk size of the nodes will have no effect.\n",
        "\n",
        "The default node chunk size is 1024, so here, we are not making our citation nodes any more granular."
      ]
    },
    {
      "cell_type": "code",
      "execution_count": null,
      "id": "ca0b4dc3",
      "metadata": {
        "id": "ca0b4dc3"
      },
      "outputs": [],
      "source": [
        "query_engine = CitationQueryEngine.from_args(\n",
        "    index,\n",
        "    # increase the citation chunk size!\n",
        "    citation_chunk_size=1024,\n",
        "    similarity_top_k=3,\n",
        ")"
      ]
    },
    {
      "cell_type": "code",
      "execution_count": null,
      "id": "ce1649ba",
      "metadata": {
        "id": "ce1649ba"
      },
      "outputs": [],
      "source": [
        "response = query_engine.query(\"What did the author do growing up?\")"
      ]
    },
    {
      "cell_type": "code",
      "execution_count": null,
      "id": "3ca375ad",
      "metadata": {
        "id": "3ca375ad",
        "outputId": "7db4d0f3-9fcb-46bc-db46-58d8bd12b67d"
      },
      "outputs": [
        {
          "name": "stdout",
          "output_type": "stream",
          "text": [
            "Before college, the author worked on writing short stories and programming on an IBM 1401 using an early version of Fortran [1].\n"
          ]
        }
      ],
      "source": [
        "print(response)"
      ]
    },
    {
      "cell_type": "code",
      "execution_count": null,
      "id": "0278ecb2",
      "metadata": {
        "id": "0278ecb2",
        "outputId": "b90e5f4a-2038-4613-a77d-e204a2419249"
      },
      "outputs": [
        {
          "name": "stdout",
          "output_type": "stream",
          "text": [
            "3\n"
          ]
        }
      ],
      "source": [
        "# should be less source nodes now!\n",
        "print(len(response.source_nodes))"
      ]
    },
    {
      "cell_type": "markdown",
      "id": "e776d819",
      "metadata": {
        "id": "e776d819"
      },
      "source": [
        "### Inspecting the Actual Source\n",
        "Sources start counting at 1, but python arrays start counting at zero!\n",
        "\n",
        "Let's confirm the source makes sense."
      ]
    },
    {
      "cell_type": "code",
      "execution_count": null,
      "id": "7af6ec68",
      "metadata": {
        "id": "7af6ec68",
        "outputId": "eb470071-4e0a-4d4c-f30e-570f57edfbd8"
      },
      "outputs": [
        {
          "name": "stdout",
          "output_type": "stream",
          "text": [
            "Source 1:\n",
            "What I Worked On\n",
            "\n",
            "February 2021\n",
            "\n",
            "Before college the two main things I worked on, outside of school, were writing and programming. I didn't write essays. I wrote what beginning writers were supposed to write then, and probably still are: short stories. My stories were awful. They had hardly any plot, just characters with strong feelings, which I imagined made them deep.\n",
            "\n",
            "The first programs I tried writing were on the IBM 1401 that our school district used for what was then called \"data processing.\" This was in 9th grade, so I was 13 or 14. The school district's 1401 happened to be in the basement of our junior high school, and my friend Rich Draves and I got permission to use it. It was like a mini Bond villain's lair down there, with all these alien-looking machines — CPU, disk drives, printer, card reader — sitting up on a raised floor under bright fluorescent lights.\n",
            "\n",
            "The language we used was an early version of Fortran. You had to type programs on punch cards, then stack them in the card reader and press a button to load the program into memory and run it. The result would ordinarily be to print something on the spectacularly loud printer.\n",
            "\n",
            "I was puzzled by the 1401. I couldn't figure out what to do with it. And in retrospect there's not much I could have done with it. The only form of input to programs was data stored on punched cards, and I didn't have any data stored on punched cards. The only other option was to do things that didn't rely on any input, like calculate approximations of pi, but I didn't know enough math to do anything interesting of that type. So I'm not surprised I can't remember any programs I wrote, because they can't have done much. My clearest memory is of the moment I learned it was possible for programs not to terminate, when one of mine didn't. On a machine without time-sharing, this was a social as well as a technical error, as the data center manager's expression made clear.\n",
            "\n",
            "With microcomputers, everything changed. Now you could have a computer sitting right in front of you, on a desk, that could respond to your keystrokes as it was running instead of just churning through a stack of punch cards and then stopping. [1]\n",
            "\n",
            "The first of my friends to get a microcomputer built it himself. It was sold as a kit by Heathkit. I remember vividly how impressed and envious I felt watching him sitting in front of it, typing programs right into the computer.\n",
            "\n",
            "Computers were expensive in those days and it took me years of nagging before I convinced my father to buy one, a TRS-80, in about 1980. The gold standard then was the Apple II, but a TRS-80 was good enough. This was when I really started programming. I wrote simple games, a program to predict how high my model rockets would fly, and a word processor that my father used to write at least one book. There was only room in memory for about 2 pages of text, so he'd write 2 pages at a time and then print them out, but it was a lot better than a typewriter.\n",
            "\n",
            "Though I liked programming, I didn't plan to study it in college. In college I was going to study philosophy, which sounded much more powerful. It seemed, to my naive high school self, to be the study of the ultimate truths, compared to which the things studied in other fields would be mere domain knowledge. What I discovered when I got to college was that the other fields took up so much of the space of ideas that there wasn't much left for these supposed ultimate truths. All that seemed left for philosophy were edge cases that people in other fields felt could safely be ignored.\n",
            "\n",
            "I couldn't have put this into words when I was 18. All I knew at the time was that I kept taking philosophy courses and they kept being boring. So I decided to switch to AI.\n",
            "\n",
            "AI was in the air in the mid 1980s, but there were two things especially that made me want to work on it: a novel by Heinlein called The Moon is a Harsh Mistress, which featured an intelligent computer called Mike, and a PBS documentary that showed Terry Winograd using SHRDLU. I haven't tried rereading The\n"
          ]
        }
      ],
      "source": [
        "print(response.source_nodes[0].node.get_text())"
      ]
    }
  ],
  "metadata": {
    "kernelspec": {
      "display_name": "llama-index",
      "language": "python",
      "name": "llama-index"
    },
    "language_info": {
      "codemirror_mode": {
        "name": "ipython",
        "version": 3
      },
      "file_extension": ".py",
      "mimetype": "text/x-python",
      "name": "python",
      "nbconvert_exporter": "python",
      "pygments_lexer": "ipython3"
    },
    "colab": {
      "provenance": []
    }
  },
  "nbformat": 4,
  "nbformat_minor": 5
}