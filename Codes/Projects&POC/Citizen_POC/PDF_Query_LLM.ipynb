{
 "cells": [
  {
   "cell_type": "code",
   "execution_count": 1,
   "metadata": {
    "colab": {
     "base_uri": "https://localhost:8080/"
    },
    "id": "xlorSbccWEDa",
    "outputId": "6c2fc9ae-96aa-4f37-a519-b41c4d4cb7be"
   },
   "outputs": [
    {
     "name": "stdout",
     "output_type": "stream",
     "text": [
      "Defaulting to user installation because normal site-packages is not writeable\n",
      "Requirement already satisfied: langchain in c:\\users\\janu\\appdata\\roaming\\python\\python311\\site-packages (0.1.16)\n",
      "Requirement already satisfied: PyYAML>=5.3 in c:\\programdata\\anaconda3\\lib\\site-packages (from langchain) (6.0.1)\n",
      "Requirement already satisfied: SQLAlchemy<3,>=1.4 in c:\\programdata\\anaconda3\\lib\\site-packages (from langchain) (2.0.25)\n",
      "Requirement already satisfied: aiohttp<4.0.0,>=3.8.3 in c:\\programdata\\anaconda3\\lib\\site-packages (from langchain) (3.9.3)\n",
      "Requirement already satisfied: dataclasses-json<0.7,>=0.5.7 in c:\\users\\janu\\appdata\\roaming\\python\\python311\\site-packages (from langchain) (0.6.4)\n",
      "Requirement already satisfied: jsonpatch<2.0,>=1.33 in c:\\users\\janu\\appdata\\roaming\\python\\python311\\site-packages (from langchain) (1.33)\n",
      "Requirement already satisfied: langchain-community<0.1,>=0.0.32 in c:\\users\\janu\\appdata\\roaming\\python\\python311\\site-packages (from langchain) (0.0.34)\n",
      "Requirement already satisfied: langchain-core<0.2.0,>=0.1.42 in c:\\users\\janu\\appdata\\roaming\\python\\python311\\site-packages (from langchain) (0.1.45)\n",
      "Requirement already satisfied: langchain-text-splitters<0.1,>=0.0.1 in c:\\users\\janu\\appdata\\roaming\\python\\python311\\site-packages (from langchain) (0.0.1)\n",
      "Requirement already satisfied: langsmith<0.2.0,>=0.1.17 in c:\\users\\janu\\appdata\\roaming\\python\\python311\\site-packages (from langchain) (0.1.43)\n",
      "Requirement already satisfied: numpy<2,>=1 in c:\\programdata\\anaconda3\\lib\\site-packages (from langchain) (1.26.4)\n",
      "Requirement already satisfied: pydantic<3,>=1 in c:\\programdata\\anaconda3\\lib\\site-packages (from langchain) (1.10.12)\n",
      "Requirement already satisfied: requests<3,>=2 in c:\\programdata\\anaconda3\\lib\\site-packages (from langchain) (2.31.0)\n",
      "Requirement already satisfied: tenacity<9.0.0,>=8.1.0 in c:\\programdata\\anaconda3\\lib\\site-packages (from langchain) (8.2.2)\n",
      "Requirement already satisfied: aiosignal>=1.1.2 in c:\\programdata\\anaconda3\\lib\\site-packages (from aiohttp<4.0.0,>=3.8.3->langchain) (1.2.0)\n",
      "Requirement already satisfied: attrs>=17.3.0 in c:\\programdata\\anaconda3\\lib\\site-packages (from aiohttp<4.0.0,>=3.8.3->langchain) (23.1.0)\n",
      "Requirement already satisfied: frozenlist>=1.1.1 in c:\\programdata\\anaconda3\\lib\\site-packages (from aiohttp<4.0.0,>=3.8.3->langchain) (1.4.0)\n",
      "Requirement already satisfied: multidict<7.0,>=4.5 in c:\\programdata\\anaconda3\\lib\\site-packages (from aiohttp<4.0.0,>=3.8.3->langchain) (6.0.4)\n",
      "Requirement already satisfied: yarl<2.0,>=1.0 in c:\\programdata\\anaconda3\\lib\\site-packages (from aiohttp<4.0.0,>=3.8.3->langchain) (1.9.3)\n",
      "Requirement already satisfied: marshmallow<4.0.0,>=3.18.0 in c:\\users\\janu\\appdata\\roaming\\python\\python311\\site-packages (from dataclasses-json<0.7,>=0.5.7->langchain) (3.21.1)\n",
      "Requirement already satisfied: typing-inspect<1,>=0.4.0 in c:\\users\\janu\\appdata\\roaming\\python\\python311\\site-packages (from dataclasses-json<0.7,>=0.5.7->langchain) (0.9.0)\n",
      "Requirement already satisfied: jsonpointer>=1.9 in c:\\programdata\\anaconda3\\lib\\site-packages (from jsonpatch<2.0,>=1.33->langchain) (2.1)\n",
      "Requirement already satisfied: packaging<24.0,>=23.2 in c:\\users\\janu\\appdata\\roaming\\python\\python311\\site-packages (from langchain-core<0.2.0,>=0.1.42->langchain) (23.2)\n",
      "Requirement already satisfied: orjson<4.0.0,>=3.9.14 in c:\\users\\janu\\appdata\\roaming\\python\\python311\\site-packages (from langsmith<0.2.0,>=0.1.17->langchain) (3.10.0)\n",
      "Requirement already satisfied: typing-extensions>=4.2.0 in c:\\programdata\\anaconda3\\lib\\site-packages (from pydantic<3,>=1->langchain) (4.9.0)\n",
      "Requirement already satisfied: charset-normalizer<4,>=2 in c:\\programdata\\anaconda3\\lib\\site-packages (from requests<3,>=2->langchain) (2.0.4)\n",
      "Requirement already satisfied: idna<4,>=2.5 in c:\\programdata\\anaconda3\\lib\\site-packages (from requests<3,>=2->langchain) (3.4)\n",
      "Requirement already satisfied: urllib3<3,>=1.21.1 in c:\\programdata\\anaconda3\\lib\\site-packages (from requests<3,>=2->langchain) (2.0.7)\n",
      "Requirement already satisfied: certifi>=2017.4.17 in c:\\programdata\\anaconda3\\lib\\site-packages (from requests<3,>=2->langchain) (2024.2.2)\n",
      "Requirement already satisfied: greenlet!=0.4.17 in c:\\programdata\\anaconda3\\lib\\site-packages (from SQLAlchemy<3,>=1.4->langchain) (3.0.1)\n",
      "Requirement already satisfied: mypy-extensions>=0.3.0 in c:\\programdata\\anaconda3\\lib\\site-packages (from typing-inspect<1,>=0.4.0->dataclasses-json<0.7,>=0.5.7->langchain) (1.0.0)\n",
      "Defaulting to user installation because normal site-packages is not writeable\n",
      "Requirement already satisfied: openai in c:\\users\\janu\\appdata\\roaming\\python\\python311\\site-packages (1.20.0)\n",
      "Requirement already satisfied: anyio<5,>=3.5.0 in c:\\programdata\\anaconda3\\lib\\site-packages (from openai) (4.2.0)\n",
      "Requirement already satisfied: distro<2,>=1.7.0 in c:\\programdata\\anaconda3\\lib\\site-packages (from openai) (1.8.0)\n",
      "Requirement already satisfied: httpx<1,>=0.23.0 in c:\\users\\janu\\appdata\\roaming\\python\\python311\\site-packages (from openai) (0.27.0)\n",
      "Requirement already satisfied: pydantic<3,>=1.9.0 in c:\\programdata\\anaconda3\\lib\\site-packages (from openai) (1.10.12)\n",
      "Requirement already satisfied: sniffio in c:\\programdata\\anaconda3\\lib\\site-packages (from openai) (1.3.0)\n",
      "Requirement already satisfied: tqdm>4 in c:\\users\\janu\\appdata\\roaming\\python\\python311\\site-packages (from openai) (4.66.2)\n",
      "Requirement already satisfied: typing-extensions<5,>=4.7 in c:\\programdata\\anaconda3\\lib\\site-packages (from openai) (4.9.0)\n",
      "Requirement already satisfied: idna>=2.8 in c:\\programdata\\anaconda3\\lib\\site-packages (from anyio<5,>=3.5.0->openai) (3.4)\n",
      "Requirement already satisfied: certifi in c:\\programdata\\anaconda3\\lib\\site-packages (from httpx<1,>=0.23.0->openai) (2024.2.2)\n",
      "Requirement already satisfied: httpcore==1.* in c:\\users\\janu\\appdata\\roaming\\python\\python311\\site-packages (from httpx<1,>=0.23.0->openai) (1.0.5)\n",
      "Requirement already satisfied: h11<0.15,>=0.13 in c:\\users\\janu\\appdata\\roaming\\python\\python311\\site-packages (from httpcore==1.*->httpx<1,>=0.23.0->openai) (0.14.0)\n",
      "Requirement already satisfied: colorama in c:\\programdata\\anaconda3\\lib\\site-packages (from tqdm>4->openai) (0.4.6)\n",
      "Defaulting to user installation because normal site-packages is not writeable\n",
      "Requirement already satisfied: PyPDF2 in c:\\users\\janu\\appdata\\roaming\\python\\python311\\site-packages (3.0.1)\n",
      "Defaulting to user installation because normal site-packages is not writeable\n",
      "Requirement already satisfied: faiss-cpu in c:\\users\\janu\\appdata\\roaming\\python\\python311\\site-packages (1.8.0)\n",
      "Requirement already satisfied: numpy in c:\\programdata\\anaconda3\\lib\\site-packages (from faiss-cpu) (1.26.4)\n",
      "Defaulting to user installation because normal site-packages is not writeable\n",
      "Requirement already satisfied: tiktoken in c:\\users\\janu\\appdata\\roaming\\python\\python311\\site-packages (0.5.2)\n",
      "Requirement already satisfied: regex>=2022.1.18 in c:\\programdata\\anaconda3\\lib\\site-packages (from tiktoken) (2023.10.3)\n",
      "Requirement already satisfied: requests>=2.26.0 in c:\\programdata\\anaconda3\\lib\\site-packages (from tiktoken) (2.31.0)\n",
      "Requirement already satisfied: charset-normalizer<4,>=2 in c:\\programdata\\anaconda3\\lib\\site-packages (from requests>=2.26.0->tiktoken) (2.0.4)\n",
      "Requirement already satisfied: idna<4,>=2.5 in c:\\programdata\\anaconda3\\lib\\site-packages (from requests>=2.26.0->tiktoken) (3.4)\n",
      "Requirement already satisfied: urllib3<3,>=1.21.1 in c:\\programdata\\anaconda3\\lib\\site-packages (from requests>=2.26.0->tiktoken) (2.0.7)\n",
      "Requirement already satisfied: certifi>=2017.4.17 in c:\\programdata\\anaconda3\\lib\\site-packages (from requests>=2.26.0->tiktoken) (2024.2.2)\n"
     ]
    }
   ],
   "source": [
    "!pip install langchain\n",
    "!pip install openai\n",
    "!pip install PyPDF2\n",
    "!pip install faiss-cpu\n",
    "!pip install tiktoken"
   ]
  },
  {
   "cell_type": "code",
   "execution_count": 6,
   "metadata": {
    "id": "nq0vKGFeW1KD"
   },
   "outputs": [],
   "source": [
    "from PyPDF2 import PdfReader\n",
    "from langchain.embeddings.openai import OpenAIEmbeddings\n",
    "from langchain.text_splitter import CharacterTextSplitter\n",
    "from langchain.vectorstores import ElasticVectorSearch, Pinecone, Weaviate, FAISS\n",
    "\n",
    "from langchain_openai import AzureChatOpenAI\n",
    "from langchain_openai import AzureOpenAIEmbeddings"
   ]
  },
  {
   "cell_type": "code",
   "execution_count": null,
   "metadata": {
    "id": "yKaKB_GjWKjL"
   },
   "outputs": [],
   "source": [
    "# Get your API keys from openai, you will need to create an account.\n",
    "# Here is the link to get the keys: https://platform.openai.com/account/billing/overview\n",
    "import os\n",
    "os.environ[\"OPENAI_API_KEY\"] = \"YOUR-OPENAI-API-KEY\""
   ]
  },
  {
   "cell_type": "code",
   "execution_count": 7,
   "metadata": {},
   "outputs": [],
   "source": [
    "import os\n",
    "\n",
    "#Setting Environment variable\n",
    "os.environ[\"AZURE_OPENAI_API_VERSION\"] = \"2023-07-01-preview\"\n",
    "os.environ[\"AZURE_OPENAI_ENDPOINT\"] = 'https://dskumar.openai.azure.com/'\n",
    "os.environ[\"AZURE_OPENAI_API_KEY\"] =\"62855d6dd08945819bf83aee0c104127\"\n",
    "os.environ[\"AZURE_OPENAI_CHAT_DEPLOYMENT_NAME\"] =\"DskumarDeployment\"\n",
    "os.environ['OPENAI_TYPE']=\"Azure\"\n",
    "os.environ[\"LLM_MODEL\"] = \"gpt-35-turbo-16k\"\n",
    "os.environ[\"LLM_EMBEDDING_MODEL\"] = \"dskumar-text-embedding-ada-002\""
   ]
  },
  {
   "cell_type": "code",
   "execution_count": 8,
   "metadata": {},
   "outputs": [],
   "source": [
    "from langchain_core.messages import AIMessage,SystemMessage,HumanMessage\n",
    "from langchain_openai import AzureChatOpenAI\n",
    "\n",
    "model = AzureChatOpenAI(\n",
    "    openai_api_version=os.environ[\"AZURE_OPENAI_API_VERSION\"],\n",
    "    azure_deployment=os.environ[\"AZURE_OPENAI_CHAT_DEPLOYMENT_NAME\"],\n",
    ")"
   ]
  },
  {
   "cell_type": "code",
   "execution_count": 9,
   "metadata": {
    "id": "NalD3XkQWrJR"
   },
   "outputs": [],
   "source": [
    "# location of the pdf file/files.\n",
    "reader = PdfReader(r'C:\\Users\\JANU\\OneDrive\\Documents\\GitHub\\ML-AI\\Codes\\Projects&POC\\Citizen_POC\\Citizens bank-2023.pdf')"
   ]
  },
  {
   "cell_type": "code",
   "execution_count": 6,
   "metadata": {
    "colab": {
     "base_uri": "https://localhost:8080/"
    },
    "id": "SwbEBhd0ZUfX",
    "outputId": "03542b02-bbc2-4c2a-def0-cae133e0b9f9"
   },
   "outputs": [
    {
     "data": {
      "text/plain": [
       "<PyPDF2._reader.PdfReader at 0x1c8cc3ee7d0>"
      ]
     },
     "execution_count": 6,
     "metadata": {},
     "output_type": "execute_result"
    }
   ],
   "source": [
    "reader"
   ]
  },
  {
   "cell_type": "code",
   "execution_count": 10,
   "metadata": {
    "id": "2VXlucKiW7bX"
   },
   "outputs": [],
   "source": [
    "# read data from the file and put them into a variable called raw_text\n",
    "raw_text = ''\n",
    "for i, page in enumerate(reader.pages):\n",
    "    text = page.extract_text()\n",
    "    if text:\n",
    "        raw_text += text"
   ]
  },
  {
   "cell_type": "code",
   "execution_count": null,
   "metadata": {
    "id": "Gy3UwHGAZa0M"
   },
   "outputs": [],
   "source": [
    "# raw_text"
   ]
  },
  {
   "cell_type": "code",
   "execution_count": 11,
   "metadata": {
    "colab": {
     "base_uri": "https://localhost:8080/",
     "height": 36
    },
    "id": "CQkqUBlzW-Xv",
    "outputId": "d49d70f1-e076-48f2-dbce-f14d6ff0e279"
   },
   "outputs": [
    {
     "data": {
      "text/plain": [
       "'UNITED STATES\\nSECURITIES AND EXCHANGE COMMISSION\\nWashington, D.C. 20549\\nFORM 10-K\\n☒ ANNUAL REPORT P'"
      ]
     },
     "execution_count": 11,
     "metadata": {},
     "output_type": "execute_result"
    }
   ],
   "source": [
    "raw_text[:99]"
   ]
  },
  {
   "cell_type": "code",
   "execution_count": 12,
   "metadata": {
    "id": "VdXzkpf9XAfP"
   },
   "outputs": [],
   "source": [
    "# We need to split the text that we read into smaller chunks so that during information retreival we don't hit the token size limits.\n",
    "\n",
    "text_splitter = CharacterTextSplitter(\n",
    "    separator = \"\\n\",\n",
    "    chunk_size = 1000,\n",
    "    chunk_overlap  = 200,\n",
    "    length_function = len,\n",
    ")\n",
    "texts = text_splitter.split_text(raw_text)"
   ]
  },
  {
   "cell_type": "code",
   "execution_count": 10,
   "metadata": {
    "colab": {
     "base_uri": "https://localhost:8080/"
    },
    "id": "ozkNTiNuZ0TX",
    "outputId": "dd800c23-e6fb-401a-ba22-1bb4a6b7d854"
   },
   "outputs": [
    {
     "data": {
      "text/plain": [
       "933"
      ]
     },
     "execution_count": 10,
     "metadata": {},
     "output_type": "execute_result"
    }
   ],
   "source": [
    "len(texts)"
   ]
  },
  {
   "cell_type": "code",
   "execution_count": 11,
   "metadata": {
    "colab": {
     "base_uri": "https://localhost:8080/",
     "height": 157
    },
    "id": "1SqdR3wFZ3Ih",
    "outputId": "8351feea-aa9a-4092-edfa-9f7a52e231ff"
   },
   "outputs": [
    {
     "data": {
      "text/plain": [
       "'UNITED STATES\\nSECURITIES AND EXCHANGE COMMISSION\\nWashington, D.C. 20549\\nFORM 10-K\\n☒ ANNUAL REPORT PURSUANT TO SECTION 13 OR 15(d)\\nOF THE SECURITIES EXCHANGE ACT OF 1934\\nFor the Fiscal Year Ended\\nDecember 31, 2023\\n☐ TRANSITION REPORT PURSUANT TO SECTION 13 OR 15(d)\\nOF THE SECURITIES EXCHANGE ACT OF 1934\\nFor the T ransition Period From\\n(Not Applicable)\\nCommission File Number 001-36636\\n(Exact name of the registrant as specified in its charter)\\nDelaware 05-0412693\\n(State or Other Jurisdiction of\\nIncorporation or Organization)(I.R.S. Employer\\nIdentification Number)\\nOne Citizens Plaza, Providence, RI 02903\\n(Address of principal executive offices, including zip code)\\n(203) 900-6715\\n(Registrant’s telephone number, including area code)\\nSecurities registered pursuant to Section 12(b) of the Act:\\nTitle of each class Trading symbol(s) Name of each exchange on which registered\\nCommon stock, $0.01 par value per share CFG New York Stock Exchange'"
      ]
     },
     "execution_count": 11,
     "metadata": {},
     "output_type": "execute_result"
    }
   ],
   "source": [
    "texts[0]"
   ]
  },
  {
   "cell_type": "code",
   "execution_count": 12,
   "metadata": {
    "colab": {
     "base_uri": "https://localhost:8080/",
     "height": 157
    },
    "id": "059PoKYUZ6dJ",
    "outputId": "acad05e9-e687-4123-8460-72d426c8b3ad"
   },
   "outputs": [
    {
     "data": {
      "text/plain": [
       "'Indicate by check mark if the registrant is not required to file reports pursuant to Section 13 or Section 15(d) of the Act. ☐ Yes ☑ No\\nIndicate by check mark whether the Registrant (1) has filed all reports required to be filed by Section 13 or 15(d) of the Securities Exchange Act of 1934 during the preceding 12 months (or for such\\nshorter period that the registrant was required to file such reports) and (2) has been subject to such filing requirements for the past 90 days. ☑ Yes ☐ No\\nIndicate by check mark whether the registrant has submitted electronically every Interactive Data File required to be submitted pursuant to Rule 405 of Regulation S-T (§232.405 of this chapter) during\\nthe preceding 12 months (or for such shorter period that the registrant was required to submit such files). ☑ Yes ☐ No'"
      ]
     },
     "execution_count": 12,
     "metadata": {},
     "output_type": "execute_result"
    }
   ],
   "source": [
    "texts[2]"
   ]
  },
  {
   "cell_type": "code",
   "execution_count": 13,
   "metadata": {
    "id": "TcZUsQVyXBPX"
   },
   "outputs": [],
   "source": [
    "# Download embeddings from OpenAI\n",
    "#embeddings = OpenAIEmbeddings()\n",
    "\n",
    "\n",
    "from langchain_openai import AzureChatOpenAI\n",
    "from langchain_openai import AzureOpenAIEmbeddings\n",
    "\n",
    "#embeddings\n",
    "embeddings = AzureOpenAIEmbeddings(model = os.environ[\"LLM_EMBEDDING_MODEL\"],)\n"
   ]
  },
  {
   "cell_type": "code",
   "execution_count": 14,
   "metadata": {
    "id": "9C8py6wQXE5_"
   },
   "outputs": [],
   "source": [
    "#vectorstore\n",
    "vectorstore = FAISS.from_texts(texts, embeddings)"
   ]
  },
  {
   "cell_type": "code",
   "execution_count": 17,
   "metadata": {
    "colab": {
     "base_uri": "https://localhost:8080/"
    },
    "id": "E_t_EpZ_XGz2",
    "outputId": "1461a4ea-0e32-40f0-dd05-a04e3c6fa243"
   },
   "outputs": [
    {
     "data": {
      "text/plain": [
       "<langchain_community.vectorstores.faiss.FAISS at 0x1c8ccb7e190>"
      ]
     },
     "execution_count": 17,
     "metadata": {},
     "output_type": "execute_result"
    }
   ],
   "source": [
    "vectorstore"
   ]
  },
  {
   "cell_type": "code",
   "execution_count": 15,
   "metadata": {},
   "outputs": [],
   "source": [
    "#retriver\n",
    "retriever = vectorstore.as_retriever()"
   ]
  },
  {
   "cell_type": "code",
   "execution_count": 19,
   "metadata": {
    "id": "wpQ2VnBvXI2f"
   },
   "outputs": [],
   "source": [
    "from langchain.chains.question_answering import load_qa_chain\n",
    "from langchain.llms import AzureOpenAI"
   ]
  },
  {
   "cell_type": "code",
   "execution_count": 20,
   "metadata": {
    "id": "_L_Ywm-iXLhm"
   },
   "outputs": [],
   "source": [
    "chain = load_qa_chain(model, chain_type=\"stuff\")"
   ]
  },
  {
   "cell_type": "code",
   "execution_count": 21,
   "metadata": {
    "colab": {
     "base_uri": "https://localhost:8080/",
     "height": 36
    },
    "id": "3mtAth2jXNKO",
    "outputId": "4150fc7a-7705-41ec-a562-ac86e0cfb4f3"
   },
   "outputs": [
    {
     "name": "stderr",
     "output_type": "stream",
     "text": [
      "C:\\Users\\JANU\\AppData\\Roaming\\Python\\Python311\\site-packages\\langchain_core\\_api\\deprecation.py:119: LangChainDeprecationWarning: The method `Chain.run` was deprecated in langchain 0.1.0 and will be removed in 0.2.0. Use invoke instead.\n",
      "  warn_deprecated(\n"
     ]
    },
    {
     "data": {
      "text/plain": [
       "\"The bank's core products and services include:\\n\\n1. Consumer Banking: This segment serves consumer customers and small businesses with a range of products and services such as deposits, mortgage and home equity lending, credit cards, small business loans, wealth management, and investment services. They also offer education and point-of-sale finance loans. Additionally, they have a multi-channel distribution network with branches, ATMs, and online/mobile platforms.\\n\\n2. Commercial Banking: This segment primarily serves companies and institutions with annual revenues ranging from $25 million to over $3.0 billion. They offer a broad range of financial products and solutions, including lending and leasing, deposit and treasury management services, foreign exchange, interest rate and commodity risk management solutions, loan syndication, corporate finance, merger and acquisition services, and debt and equity capital markets capabilities.\\n\\nIt's important to note that specific details about the bank's products and services may vary and more information can be found on their website.\""
      ]
     },
     "execution_count": 21,
     "metadata": {},
     "output_type": "execute_result"
    }
   ],
   "source": [
    "query = \"What are the bank’s core products and services?\"\n",
    "docs = vectorstore.similarity_search(query)\n",
    "chain.run(input_documents=docs, question=query)"
   ]
  },
  {
   "cell_type": "code",
   "execution_count": 22,
   "metadata": {
    "id": "qLynnMo0cj8m"
   },
   "outputs": [
    {
     "data": {
      "text/plain": [
       "\"The company's return on equity (ROE) is not explicitly stated in the provided context.\""
      ]
     },
     "execution_count": 22,
     "metadata": {},
     "output_type": "execute_result"
    }
   ],
   "source": [
    "query = \"What is the company's return on equity (ROE)?\"\n",
    "docs = vectorstore.similarity_search(query)\n",
    "chain.run(input_documents=docs, question=query)"
   ]
  },
  {
   "cell_type": "code",
   "execution_count": 23,
   "metadata": {},
   "outputs": [
    {
     "data": {
      "text/plain": [
       "'The net income of the company for 2023 is $1,608 million.'"
      ]
     },
     "execution_count": 23,
     "metadata": {},
     "output_type": "execute_result"
    }
   ],
   "source": [
    "query = \"what is the net income of the company for 2023?\"\n",
    "docs = vectorstore.similarity_search(query)\n",
    "chain.run(input_documents=docs, question=query)"
   ]
  },
  {
   "cell_type": "code",
   "execution_count": 24,
   "metadata": {},
   "outputs": [
    {
     "data": {
      "text/plain": [
       "\"The shareholder's equity of the company for 2023 is $24,342.\""
      ]
     },
     "execution_count": 24,
     "metadata": {},
     "output_type": "execute_result"
    }
   ],
   "source": [
    "query = \"what is the shareholder’s equity of the company for 2023?\"\n",
    "docs = vectorstore.similarity_search(query)\n",
    "chain.run(input_documents=docs, question=query)"
   ]
  },
  {
   "cell_type": "code",
   "execution_count": 25,
   "metadata": {},
   "outputs": [
    {
     "data": {
      "text/plain": [
       "'The stock symbol name of the company is CFG, and it is listed on the New York Stock Exchange.'"
      ]
     },
     "execution_count": 25,
     "metadata": {},
     "output_type": "execute_result"
    }
   ],
   "source": [
    "query = \"what is the stock symbol name of the company?\"\n",
    "docs = vectorstore.similarity_search(query)\n",
    "chain.run(input_documents=docs, question=query)"
   ]
  },
  {
   "cell_type": "code",
   "execution_count": 26,
   "metadata": {},
   "outputs": [
    {
     "data": {
      "text/plain": [
       "'The ROE (Return on Equity) for the year 2023 is not explicitly stated in the provided information.'"
      ]
     },
     "execution_count": 26,
     "metadata": {},
     "output_type": "execute_result"
    }
   ],
   "source": [
    "query = \"ROE will be calculated based on net income of the company/shareholder’s equity of the company. What is the ROE of the company for the year 2023? \"\n",
    "docs = vectorstore.similarity_search(query)\n",
    "chain.run(input_documents=docs, question=query)"
   ]
  },
  {
   "cell_type": "code",
   "execution_count": 27,
   "metadata": {},
   "outputs": [
    {
     "ename": "NameError",
     "evalue": "name 'chat_history' is not defined",
     "output_type": "error",
     "traceback": [
      "\u001b[1;31m---------------------------------------------------------------------------\u001b[0m",
      "\u001b[1;31mNameError\u001b[0m                                 Traceback (most recent call last)",
      "Cell \u001b[1;32mIn[27], line 5\u001b[0m\n\u001b[0;32m      1\u001b[0m \u001b[38;5;28;01mfrom\u001b[39;00m \u001b[38;5;21;01mlangchain\u001b[39;00m\u001b[38;5;21;01m.\u001b[39;00m\u001b[38;5;21;01mmemory\u001b[39;00m \u001b[38;5;28;01mimport\u001b[39;00m ConversationBufferMemory\n\u001b[0;32m      3\u001b[0m memory \u001b[38;5;241m=\u001b[39m ConversationBufferMemory(\n\u001b[0;32m      4\u001b[0m     memory_key\u001b[38;5;241m=\u001b[39m\u001b[38;5;124m\"\u001b[39m\u001b[38;5;124mchat_history\u001b[39m\u001b[38;5;124m\"\u001b[39m,\n\u001b[1;32m----> 5\u001b[0m     chat_memory\u001b[38;5;241m=\u001b[39mchat_history,  \u001b[38;5;66;03m# this is your persistence strategy subclass of `BaseChatMessageHistory`\u001b[39;00m\n\u001b[0;32m      6\u001b[0m     output_key\u001b[38;5;241m=\u001b[39m\u001b[38;5;124m\"\u001b[39m\u001b[38;5;124manswer\u001b[39m\u001b[38;5;124m\"\u001b[39m,\n\u001b[0;32m      7\u001b[0m     return_messages\u001b[38;5;241m=\u001b[39m\u001b[38;5;28;01mTrue\u001b[39;00m\n\u001b[0;32m      8\u001b[0m )\n\u001b[0;32m     10\u001b[0m qa \u001b[38;5;241m=\u001b[39m ConversationalRetrievalChain\u001b[38;5;241m.\u001b[39mfrom_llm(\n\u001b[0;32m     11\u001b[0m     llm\u001b[38;5;241m=\u001b[39mmodel,\n\u001b[0;32m     12\u001b[0m     memory\u001b[38;5;241m=\u001b[39mmemory,\n\u001b[1;32m   (...)\u001b[0m\n\u001b[0;32m     16\u001b[0m     verbose\u001b[38;5;241m=\u001b[39m\u001b[38;5;28;01mTrue\u001b[39;00m\n\u001b[0;32m     17\u001b[0m )\n",
      "\u001b[1;31mNameError\u001b[0m: name 'chat_history' is not defined"
     ]
    }
   ],
   "source": [
    "from langchain.memory import ConversationBufferMemory\n",
    "\n",
    "memory = ConversationBufferMemory(\n",
    "    memory_key=\"chat_history\",\n",
    "    chat_memory=chat_history,  # this is your persistence strategy subclass of `BaseChatMessageHistory`\n",
    "    output_key=\"answer\",\n",
    "    return_messages=True\n",
    ")\n",
    "\n",
    "qa = ConversationalRetrievalChain.from_llm(\n",
    "    llm=model,\n",
    "    memory=memory,\n",
    "    retriever=retriever, \n",
    "    return_source_documents=True,\n",
    "    return_generated_question=True,\n",
    "    verbose=True\n",
    ")"
   ]
  },
  {
   "cell_type": "code",
   "execution_count": 30,
   "metadata": {},
   "outputs": [],
   "source": [
    "from langchain.tools.retriever import create_retriever_tool"
   ]
  },
  {
   "cell_type": "code",
   "execution_count": 31,
   "metadata": {},
   "outputs": [],
   "source": [
    "retriever_tool = create_retriever_tool(\n",
    "    retriever,\n",
    "    \"input\",\n",
    "    \"use this document for all the question and answers\",\n",
    ")"
   ]
  },
  {
   "cell_type": "code",
   "execution_count": 32,
   "metadata": {},
   "outputs": [],
   "source": [
    "tools = [retriever_tool]"
   ]
  },
  {
   "cell_type": "code",
   "execution_count": 33,
   "metadata": {},
   "outputs": [],
   "source": [
    "from langchain_openai import AzureChatOpenAI\n",
    "\n",
    "chat_model = AzureChatOpenAI(\n",
    "    openai_api_version=os.environ[\"AZURE_OPENAI_API_VERSION\"],\n",
    "    azure_deployment=os.environ[\"AZURE_OPENAI_CHAT_DEPLOYMENT_NAME\"],\n",
    ")\n"
   ]
  },
  {
   "cell_type": "code",
   "execution_count": 74,
   "metadata": {},
   "outputs": [
    {
     "name": "stdout",
     "output_type": "stream",
     "text": [
      "Defaulting to user installation because normal site-packages is not writeable\n",
      "Requirement already satisfied: langchainhub in c:\\users\\janu\\appdata\\roaming\\python\\python311\\site-packages (0.1.15)\n",
      "Requirement already satisfied: requests<3,>=2 in c:\\programdata\\anaconda3\\lib\\site-packages (from langchainhub) (2.31.0)\n",
      "Requirement already satisfied: types-requests<3.0.0.0,>=2.31.0.2 in c:\\users\\janu\\appdata\\roaming\\python\\python311\\site-packages (from langchainhub) (2.31.0.20240406)\n",
      "Requirement already satisfied: charset-normalizer<4,>=2 in c:\\programdata\\anaconda3\\lib\\site-packages (from requests<3,>=2->langchainhub) (2.0.4)\n",
      "Requirement already satisfied: idna<4,>=2.5 in c:\\programdata\\anaconda3\\lib\\site-packages (from requests<3,>=2->langchainhub) (3.4)\n",
      "Requirement already satisfied: urllib3<3,>=1.21.1 in c:\\programdata\\anaconda3\\lib\\site-packages (from requests<3,>=2->langchainhub) (2.0.7)\n",
      "Requirement already satisfied: certifi>=2017.4.17 in c:\\programdata\\anaconda3\\lib\\site-packages (from requests<3,>=2->langchainhub) (2024.2.2)\n"
     ]
    }
   ],
   "source": [
    "!pip install langchainhub"
   ]
  },
  {
   "cell_type": "code",
   "execution_count": 16,
   "metadata": {},
   "outputs": [
    {
     "data": {
      "text/plain": [
       "[HumanMessagePromptTemplate(prompt=PromptTemplate(input_variables=['context', 'question'], template=\"You are an assistant for question-answering tasks. Use the following pieces of retrieved context to answer the question. If you don't know the answer, just say that you don't know. Use three sentences maximum and keep the answer concise.\\nQuestion: {question} \\nContext: {context} \\nAnswer:\"))]"
      ]
     },
     "execution_count": 16,
     "metadata": {},
     "output_type": "execute_result"
    }
   ],
   "source": [
    "from langchain import hub\n",
    "\n",
    "# Get the prompt to use - you can modify this! - https://smith.langchain.com/hub/hwchase17/openai-functions-agent\n",
    "prompt = hub.pull(\"rlm/rag-prompt\")\n",
    "#hub.pull(\"hwchase17/openai-functions-agent\")\n",
    "prompt.messages"
   ]
  },
  {
   "cell_type": "code",
   "execution_count": 35,
   "metadata": {},
   "outputs": [],
   "source": [
    "from langchain.agents import create_tool_calling_agent\n",
    "\n",
    "agent = create_tool_calling_agent(chat_model, tools, prompt)"
   ]
  },
  {
   "cell_type": "code",
   "execution_count": 36,
   "metadata": {},
   "outputs": [],
   "source": [
    "from langchain.agents import AgentExecutor\n",
    "\n",
    "agent_executor = AgentExecutor(agent=agent, tools=tools, verbose=True)"
   ]
  },
  {
   "cell_type": "code",
   "execution_count": 37,
   "metadata": {},
   "outputs": [
    {
     "name": "stdout",
     "output_type": "stream",
     "text": [
      "\n",
      "\n",
      "\u001b[1m> Entering new AgentExecutor chain...\u001b[0m\n",
      "\u001b[32;1m\u001b[1;3mHello! How can I assist you today?\u001b[0m\n",
      "\n",
      "\u001b[1m> Finished chain.\u001b[0m\n"
     ]
    },
    {
     "data": {
      "text/plain": [
       "{'input': 'hi!', 'output': 'Hello! How can I assist you today?'}"
      ]
     },
     "execution_count": 37,
     "metadata": {},
     "output_type": "execute_result"
    }
   ],
   "source": [
    "agent_executor.invoke({\"input\": \"hi!\"})"
   ]
  },
  {
   "cell_type": "code",
   "execution_count": 38,
   "metadata": {},
   "outputs": [
    {
     "name": "stdout",
     "output_type": "stream",
     "text": [
      "\n",
      "\n",
      "\u001b[1m> Entering new AgentExecutor chain...\u001b[0m\n",
      "\u001b[32;1m\u001b[1;3m\n",
      "Invoking: `input` with `{'query': 'bank core products and services'}`\n",
      "\n",
      "\n",
      "\u001b[0m\u001b[36;1m\u001b[1;3mWe are a BHC incorporated under Delaware state law in 1984 and our primary federal regulator is the FRB. CBNA is our banking\n",
      "subsidiary, whose primary federal regulator is the OCC.\n",
      "Business Segments\n",
      "We manage our business through two primary business segments: Consumer Banking and Commercial Banking. Our activities outside\n",
      "these segments are classified as Non-Core or Other. Non-Core includes our indirect auto and certain purchased consumer loan portfolios that\n",
      "we discontinued the origination of as part of our recently announced balance sheet optimization strategy. Other includes treasury activities,\n",
      "wholesale funding, the securities portfolio, community development assets, and other unallocated assets, liabilities, capital, revenues, provision\n",
      "(benefit) for credit losses and expenses, including income tax expense. For additional information regarding our business segments see the\n",
      "“Business Operating Segments” section of Item 7 and Note 26 in Item 8.\n",
      "Consumer Banking Segment\n",
      "\n",
      "listening to them and by understanding their needs in order to offer tailored advice, ideas and solutions. In Consumer Banking, we provide an\n",
      "integrated experience that includes mobile and online banking, a full-service customer contact center and the convenience of approximately\n",
      "3,200 ATMs and more than 1,100 branches in 14 states and the District of Columbia. Consumer Banking products and services include a full\n",
      "range of banking, lending, savings, wealth management and small business offerings. In Commercial Banking, we offer a broad complement of\n",
      "financial products and solutions, including lending and leasing, deposit and treasury management services, foreign exchange, interest rate and\n",
      "commodity risk management solutions, as well as loan syndication, corporate finance, merger and acquisition, and debt and equity capital\n",
      "markets capabilities. More information is available at www.citizensbank.com.\n",
      "\n",
      "product expertise in Aerospace, Defense and Government Services, Communications, Transportation and Logistics, Food and Restaurants,\n",
      "Human Capital Management, and Gaming. While the segment’s business development efforts are predominantly focused in the Company’s\n",
      "footprint, some of its specialized industry businesses also operate on a national basis. A key component of Commercial Banking’s growth\n",
      "strategy is to present clients with ideas that help their businesses thrive and, in doing so, expand the breadth and depth of our banking\n",
      "relationship with them.\n",
      "Non-Core\n",
      "The Non-Core segment includes the Company’s indirect auto and certain purchased consumer loan portfolios that were transferred from\n",
      "the Consumer Banking segment into this newly created segment during 2023. This new segment reflects the manner in which management is\n",
      "currently assessing performance and allocating resources and aligns with the Company’s recently announced balance sheet optimization\n",
      "\n",
      "approximately 1,100 branches, including 187 in-store locations, and approximately 3,200 ATMs. Our network includes approximately 1,100\n",
      "specialists covering lending, savings and investment needs as well as a broad range of small business products and services. We serve\n",
      "customers on a national basis through telephone service centers as well as through our online and mobile platforms where we offer customers\n",
      "the convenience of depositing funds, paying bills and transferring money between accounts and from person to person, as well as a host of other\n",
      "everyday transactions.\n",
      "Commercial Banking Segment\n",
      "Commercial Banking primarily serves companies and institutions with annual revenues of $25 million to more than $3.0 billion and\n",
      "strives to be a trusted advisor to our clients and preferred provider for their banking needs. We offer a broad complement of financial products\u001b[0m\u001b[32;1m\u001b[1;3mThe bank's core products and services are:\n",
      "\n",
      "1. Consumer Banking: This includes a full range of banking, lending, savings, wealth management, and small business offerings. It provides an integrated experience that includes mobile and online banking, a customer contact center, ATMs, and branches.\n",
      "\n",
      "2. Commercial Banking: This segment offers lending and leasing, deposit and treasury management services, foreign exchange, risk management solutions, loan syndication, corporate finance, merger and acquisition, and debt and equity capital markets capabilities. It primarily serves companies and institutions with annual revenues of $25 million to more than $3.0 billion.\n",
      "\n",
      "Please note that this information is based on the general understanding and may vary depending on the specific bank.\u001b[0m\n",
      "\n",
      "\u001b[1m> Finished chain.\u001b[0m\n"
     ]
    },
    {
     "data": {
      "text/plain": [
       "{'input': 'What are the bank’s core products and services?',\n",
       " 'output': \"The bank's core products and services are:\\n\\n1. Consumer Banking: This includes a full range of banking, lending, savings, wealth management, and small business offerings. It provides an integrated experience that includes mobile and online banking, a customer contact center, ATMs, and branches.\\n\\n2. Commercial Banking: This segment offers lending and leasing, deposit and treasury management services, foreign exchange, risk management solutions, loan syndication, corporate finance, merger and acquisition, and debt and equity capital markets capabilities. It primarily serves companies and institutions with annual revenues of $25 million to more than $3.0 billion.\\n\\nPlease note that this information is based on the general understanding and may vary depending on the specific bank.\"}"
      ]
     },
     "execution_count": 38,
     "metadata": {},
     "output_type": "execute_result"
    }
   ],
   "source": [
    "agent_executor.invoke({\"input\": \"What are the bank’s core products and services?\"})"
   ]
  },
  {
   "cell_type": "code",
   "execution_count": 39,
   "metadata": {},
   "outputs": [
    {
     "name": "stdout",
     "output_type": "stream",
     "text": [
      "\n",
      "\n",
      "\u001b[1m> Entering new AgentExecutor chain...\u001b[0m\n",
      "\u001b[32;1m\u001b[1;3m\n",
      "Invoking: `input` with `{'query': 'net income 2023'}`\n",
      "\n",
      "\n",
      "\u001b[0m\u001b[36;1m\u001b[1;3mYear Ended December 31, 2023\n",
      "(dollars in millions)Consumer\n",
      "BankingCommercial\n",
      "Banking Non-Core Other Consolidated\n",
      "Net interest income $4,187 $2,292 ($129) ($109) $6,241 \n",
      "Noninterest income 1,067 784 — 132 1,983 \n",
      "Total revenue 5,254 3,076 (129) 23 8,224 \n",
      "Noninterest expense 3,542 1,295 123 547 5,507 \n",
      "Profit (loss) before provision (benefit) for credit losses 1,712 1,781 (252) (524) 2,717 \n",
      "Provision (benefit) for credit losses 280 250 78 79 687 \n",
      "Income (loss) before income tax expense (benefit) 1,432 1,531 (330) (603) 2,030 \n",
      "Income tax expense (benefit) 373 378 (86) (243) 422 \n",
      "Net income (loss) $1,059 $1,153 ($244) ($360) $1,608 \n",
      "Total average assets $72,693 $76,028 $13,745 $59,755 $222,221 \n",
      "Year Ended December 31, 2022\n",
      "(dollars in millions)Consumer\n",
      "BankingCommercial\n",
      "Banking Non-Core Other Consolidated\n",
      "Net interest income $3,649 $2,103 $378 ($118) $6,012 \n",
      "Noninterest income 1,063 845 — 101 2,009 \n",
      "Total revenue 4,712 2,948 378 (17) 8,021 \n",
      "Noninterest expense 3,255 1,223 136 278 4,892\n",
      "\n",
      "•Total revenue increased $203 million to $8.2 billion compared to 2022, driven by an increase of 4% in net interest income, including the\n",
      "impacts of the HSBC transaction and Investors acquisition.\n",
      "•The efficiency ratio of 67.0% compared to 61.0% in 2022.\n",
      "◦On an Underlying basis, the efficiency ratio of 60.8% compared to 57.5% in 2022.\n",
      "•ROTCE of 10.9% compared to 13.9% in 2022.\n",
      "◦On an Underlying basis, ROTCE of 13.5% compared to 16.4%.\n",
      "•Tangible book value per common share of $30.91 increased 11% from 2022.\n",
      "For additional information regarding our financial performance, see “Results of Operations — 2023 compared with 2022” included in this\n",
      "report.(1) (2) (3)\n",
      "(1) (2) (4)\n",
      "(1)\n",
      "(2) \n",
      "(3) \n",
      "(4)\n",
      "Citizens Financial Group, Inc. | 39RESULTS OF OPERATIONS — 2023 compared with 2022\n",
      "Net Interest Income\n",
      "Net interest income is our largest source of revenue and is the difference between the interest earned on interest-earning assets\n",
      "\n",
      "(dollars in millions) 2023 2022 2021\n",
      "OPERATING ACTIVITIES\n",
      "Net income $1,608 $2,073 $2,319 \n",
      "Adjustments to reconcile net income to net change in cash due to operating activities:\n",
      "Provision (benefit) for credit losses 687 474 (411)\n",
      "Net change in loans held for sale, at fair value 98 1,733 1,085 \n",
      "Depreciation, amortization and accretion 478 565 625 \n",
      "Deferred income tax expense (benefit) (242) 57 (429)\n",
      "Share-based compensation 87 84 59 \n",
      "Net gain on sale of assets (28) (9) (11)\n",
      "Net (increase) decrease in other assets 612 (1,894) (1,719)\n",
      "Net increase (decrease) in other liabilities (339) 1,036 757 \n",
      "Net change due to operating activities 2,961 4,119 2,275 \n",
      "INVESTING ACTIVITIES\n",
      "Investment securities:\n",
      "Purchases of debt securities available for sale (10,087) (10,776) (12,406)\n",
      "Proceeds from maturities and paydowns of debt securities available for sale 2,001 3,422 7,810 \n",
      "Proceeds from sales of debt securities available for sale 2,941 1,178 790\n",
      "\n",
      "interest-earning assets, including the impacts of the HSBC transaction and Investors acquisition.\n",
      "Net interest margin on a FTE basis was neutral compared to 2022, reflecting higher interest-earning asset growth and associated yields,\n",
      "offset by increased funding costs.\n",
      "Average interest-earning assets increased $7.6 billion, or 4%, compared to 2022, primarily attributable to growth in loans and leases\n",
      "reflecting the impacts of the HSBC transaction and Investors acquisition, and growth in investments.\n",
      "Average deposits increased $3.2 billion, or 2%, compared to 2022, primarily attributable to the impacts of the HSBC transaction and\n",
      "Investors acquisition.\n",
      "Average total borrowed funds increased $2.9 billion compared to 2022, driven by an increase in FHLB advances and secured\n",
      "borrowings collateralized by auto loans.\n",
      "Table 3: Changes in Net Interest Income Due to Average Volume and Average Rate\n",
      "Year Ended December 31,\n",
      " 2023 Versus 2022\u001b[0m\u001b[32;1m\u001b[1;3mThe net income of the company for 2023 is $1,608 million.\u001b[0m\n",
      "\n",
      "\u001b[1m> Finished chain.\u001b[0m\n"
     ]
    },
    {
     "data": {
      "text/plain": [
       "{'input': 'what is the net income of the company for 2023?',\n",
       " 'chat_history': [],\n",
       " 'output': 'The net income of the company for 2023 is $1,608 million.'}"
      ]
     },
     "execution_count": 39,
     "metadata": {},
     "output_type": "execute_result"
    }
   ],
   "source": [
    "agent_executor.invoke({\"input\": \"what is the net income of the company for 2023?\", \"chat_history\": []})"
   ]
  },
  {
   "cell_type": "code",
   "execution_count": 102,
   "metadata": {},
   "outputs": [
    {
     "name": "stdout",
     "output_type": "stream",
     "text": [
      "\n",
      "\n",
      "\u001b[1m> Entering new AgentExecutor chain...\u001b[0m\n",
      "\u001b[32;1m\u001b[1;3m\n",
      "Invoking: `ROE` with `{'query': 'shareholder’s equity of the company for 2023'}`\n",
      "\n",
      "\n",
      "\u001b[0m\u001b[36;1m\u001b[1;3mDerivative liabilities 1,562 1,909 \n",
      "Long-term borrowed funds 13,467 15,887 \n",
      "Other liabilities 4,746 4,520 \n",
      "TOTAL LIABILITIES 197,622 203,043 \n",
      "Commitments and Contingencies (refer to Note 19)\n",
      "STOCKHOLDERS’ EQUITY:\n",
      "Preferred Stock:\n",
      "$25.00 par value,100,000,000 shares authorized; 2,050,000 shares issued and outstanding at December 31, 2023 and\n",
      "2022 2,014 2,014 \n",
      "Common stock:\n",
      "$0.01 par value, 1,000,000,000 shares authorized; 647,829,720 shares issued and 466,418,055 shares outstanding at\n",
      "December 31, 2023 and 645,220,018 shares issued and 492,282,158 shares outstanding at December 31, 2022 6 6 \n",
      "Additional paid-in capital 22,250 22,142 \n",
      "Retained earnings 9,816 9,159 \n",
      "Treasury stock, at cost, 181,411,665 and 152,937,860 shares at December 31, 2023 and 2022, respectively (5,986) (5,071)\n",
      "Accumulated other comprehensive income (loss) (3,758) (4,560)\n",
      "TOTAL STOCKHOLDERS’ EQUITY 24,342 23,690 \n",
      "TOTAL LIABILITIES AND STOCKHOLDERS’ EQUITY $221,964 $226,733\n",
      "\n",
      "12/31/2023 12/31/2022 12/31/2021 12/31/2020 12/31/2019 12/31/2018\n",
      "CFG $140 $157 $181 $132 $142 $100 \n",
      "S&P 500 Index 207 164 200 156 131 100 \n",
      "KBW BKX Index 132 133 169 122 136 100 \n",
      "Peer Regional Bank Average 133 134 162 120 134 100 ®\n",
      "Citizens Financial Group, Inc. | 35Issuer Purchase of Equity Securities\n",
      "Details of the repurchases of the Company’s common stock during the three months ended December 31, 2023 are included below:\n",
      "PeriodTotal Number of\n",
      "Shares RepurchasedAverage Price\n",
      "Paid Per ShareTotal Number of Shares\n",
      "Purchased as Part of\n",
      "Publicly Announced Plans or\n",
      "ProgramsMaximum Dollar Amount of Shares That\n",
      "May Yet Be Purchased as Part of\n",
      "Publicly Announced Plans or\n",
      "Programs\n",
      "October 1, 2023 - October 31, 2023 329 $16.82 — $1,094,000,058\n",
      "November 1, 2023 - November 30, 2023 335 $23.43 — $1,094,000,058\n",
      "December 1, 2023 - December 31, 2023 691 $12.41 — $1,094,000,058\n",
      "\n",
      "outstanding subordinated debt.\n",
      "Capital Transactions\n",
      "We completed the following capital transactions during 2023:\n",
      "•Repurchased $906 million of our outstanding common stock;\n",
      "•Declared quarterly common stock dividends of $0.42 per share, aggregating to $808 million; and\n",
      "•Declared preferred stock dividends aggregating to $117 million.\n",
      "For additional detail regarding our common and preferred stock dividends see Note 17.\n",
      "In February 2023, our Board of Directors increased our common share repurchase authorization to $2.0 billion, which was an increase of\n",
      "$1.15 billion above the $850 million of capacity remaining as of December 31, 2022 under the prior June 2022 authorization. See “Issuer\n",
      "Purchase of Equity Securities” in Item 5 above for information regarding our available capacity to repurchase shares at December 31, 2023. All\n",
      "future capital distributions are subject to consideration and approval by our Board of Directors prior to execution. The timing and amount of future\n",
      "\n",
      "(dollars in millions) 2023 2022 2021\n",
      "Supplemental disclosures:\n",
      "Interest paid $3,640 $989 $347 \n",
      "Income taxes paid 375 183 1,247 \n",
      "Non-cash items:\n",
      "Transfer of loans from portfolio to LHFS $2,617 $— $— \n",
      "Transfer of securities from AFS to HTM — 8,563 — \n",
      "Loans securitized and transferred to securities AFS 103 143 260 \n",
      "Investors Acquisition:\n",
      "Fair value of assets acquired, excluding cash and cash equivalents — 27,113 — \n",
      "Goodwill and other intangible assets — 992 — \n",
      "Fair value of liabilities assumed — 24,982 — \n",
      "Common stock issued — 3,036 — \n",
      "Replacement equity awards — 19 — \n",
      " Primarily includes cash paid of $355 million to acquire Investors less $287 million in cash acquired, and $143 million and $23 million of cash paid for the HSBC transaction and acquisition of DH Capital,\n",
      "LLC, respectively, for the year ended December 31, 2022.\n",
      " Cash and cash equivalents include cash and due from banks and interest-bearing cash and due from banks as reflected on the Consolidated Balance Sheets.\u001b[0m\u001b[32;1m\u001b[1;3mThe shareholder's equity of the company for 2023 is $24,342 million.\u001b[0m\n",
      "\n",
      "\u001b[1m> Finished chain.\u001b[0m\n"
     ]
    },
    {
     "data": {
      "text/plain": [
       "{'input': 'what is the shareholder’s equity of the company for 2023?',\n",
       " 'chat_history': [],\n",
       " 'output': \"The shareholder's equity of the company for 2023 is $24,342 million.\"}"
      ]
     },
     "execution_count": 102,
     "metadata": {},
     "output_type": "execute_result"
    }
   ],
   "source": [
    "agent_executor.invoke({\"input\": \"what is the shareholder’s equity of the company for 2023?\", \"chat_history\": []})"
   ]
  },
  {
   "cell_type": "code",
   "execution_count": 40,
   "metadata": {},
   "outputs": [
    {
     "name": "stdout",
     "output_type": "stream",
     "text": [
      "\n",
      "\n",
      "\u001b[1m> Entering new AgentExecutor chain...\u001b[0m\n",
      "\u001b[32;1m\u001b[1;3mTo provide you with the stock symbol name of a company, I need the name of the company you are referring to. Can you please provide me with the name of the company?\u001b[0m\n",
      "\n",
      "\u001b[1m> Finished chain.\u001b[0m\n"
     ]
    },
    {
     "data": {
      "text/plain": [
       "{'input': 'what is the stock symbol name of the company',\n",
       " 'chat_history': [],\n",
       " 'output': 'To provide you with the stock symbol name of a company, I need the name of the company you are referring to. Can you please provide me with the name of the company?'}"
      ]
     },
     "execution_count": 40,
     "metadata": {},
     "output_type": "execute_result"
    }
   ],
   "source": [
    "agent_executor.invoke({\"input\": \"what is the stock symbol name of the company\",\"chat_history\": []})"
   ]
  },
  {
   "cell_type": "code",
   "execution_count": 41,
   "metadata": {},
   "outputs": [
    {
     "name": "stdout",
     "output_type": "stream",
     "text": [
      "\n",
      "\n",
      "\u001b[1m> Entering new AgentExecutor chain...\u001b[0m\n",
      "\u001b[32;1m\u001b[1;3m\n",
      "Invoking: `input` with `{'query': 'ROE for 2023'}`\n",
      "\n",
      "\n",
      "\u001b[0m\u001b[36;1m\u001b[1;3m•Total revenue increased $203 million to $8.2 billion compared to 2022, driven by an increase of 4% in net interest income, including the\n",
      "impacts of the HSBC transaction and Investors acquisition.\n",
      "•The efficiency ratio of 67.0% compared to 61.0% in 2022.\n",
      "◦On an Underlying basis, the efficiency ratio of 60.8% compared to 57.5% in 2022.\n",
      "•ROTCE of 10.9% compared to 13.9% in 2022.\n",
      "◦On an Underlying basis, ROTCE of 13.5% compared to 16.4%.\n",
      "•Tangible book value per common share of $30.91 increased 11% from 2022.\n",
      "For additional information regarding our financial performance, see “Results of Operations — 2023 compared with 2022” included in this\n",
      "report.(1) (2) (3)\n",
      "(1) (2) (4)\n",
      "(1)\n",
      "(2) \n",
      "(3) \n",
      "(4)\n",
      "Citizens Financial Group, Inc. | 39RESULTS OF OPERATIONS — 2023 compared with 2022\n",
      "Net Interest Income\n",
      "Net interest income is our largest source of revenue and is the difference between the interest earned on interest-earning assets\n",
      "\n",
      "includes the provision for loan and lease losses and the provision for unfunded commitments. Refer to “Analysis of Financial Condition — Credit\n",
      "Quality” for more information.\n",
      "Provision expense of $687 million for 2023 compares to $474 million for 2022. The provision expense for 2023 reflects higher reserves\n",
      "against the Commercial Real Estate Office portfolio primarily driven by rising interest rates and return to office dynamics.\n",
      "Income Tax Expense\n",
      "Income tax expense of $422 million decreased $160 million and our effective income tax rate of 20.8% decreased from 21.9% compared\n",
      "to 2022. These decreases were driven by lower pre-tax income, the favorable impact of certain tax matters and additional benefits from tax-\n",
      "advantaged investments, partially offset by the adoption of the proportional amortization method for qualified investments in tax credit structures\n",
      "in 2023 and increased non-deductible FDIC premium expense.\n",
      "Business Operating Segments\n",
      "\n",
      "Commercial real estate 161 29,206 0.56 1 24,746 — \n",
      "Leases (4) 1,305 (0.29) — 1,521 (0.03)\n",
      "Total commercial 267 79,204 0.34 52 76,269 0.07 \n",
      "Residential mortgages 2 30,660 — (1) 27,759 — \n",
      "Home equity (10) 14,475 (0.07) (28) 13,057 (0.22)\n",
      "Automobile 55 10,374 0.53 36 13,729 0.26 \n",
      "Education 92 12,333 0.74 59 13,047 0.45 \n",
      "Other retail 203 5,171 3.93 152 5,483 2.77 \n",
      "Total retail 342 73,013 0.47 218 73,075 0.30 \n",
      "Total loans and leases $609 $152,217 0.40 % $270 $149,344 0.18 %\n",
      "For the year ended December 31, 2023, net charge-offs increased $339 million and the net charge-off ratio increased 22 basis points\n",
      "compared to 2022.\n",
      "For the year ended December 31, 2023, the increase in net charge-offs reflects a $124 million increase in retail, primarily other retail and\n",
      "education, and a $215 million increase in commercial, with increases in commercial real estate and commercial and industrial. The increase in\n",
      "\n",
      "interest-earning assets, including the impacts of the HSBC transaction and Investors acquisition.\n",
      "Net interest margin on a FTE basis was neutral compared to 2022, reflecting higher interest-earning asset growth and associated yields,\n",
      "offset by increased funding costs.\n",
      "Average interest-earning assets increased $7.6 billion, or 4%, compared to 2022, primarily attributable to growth in loans and leases\n",
      "reflecting the impacts of the HSBC transaction and Investors acquisition, and growth in investments.\n",
      "Average deposits increased $3.2 billion, or 2%, compared to 2022, primarily attributable to the impacts of the HSBC transaction and\n",
      "Investors acquisition.\n",
      "Average total borrowed funds increased $2.9 billion compared to 2022, driven by an increase in FHLB advances and secured\n",
      "borrowings collateralized by auto loans.\n",
      "Table 3: Changes in Net Interest Income Due to Average Volume and Average Rate\n",
      "Year Ended December 31,\n",
      " 2023 Versus 2022\u001b[0m\u001b[32;1m\u001b[1;3mI apologize, but I couldn't find the specific information about the ROE for 2023. The provided information mainly focuses on net interest income, efficiency ratio, ROTCE (Return on Tangible Common Equity), and tangible book value per common share. If you have any other financial data or specific information, I would be happy to assist you further in calculating the ROE for 2023.\u001b[0m\n",
      "\n",
      "\u001b[1m> Finished chain.\u001b[0m\n"
     ]
    },
    {
     "data": {
      "text/plain": [
       "{'input': 'what is the ROE for 2023?',\n",
       " 'chat_history': [HumanMessage(content=\"ROE can be calculated using the formula net income divided by shareholder's equity\"),\n",
       "  AIMessage(content=\"Sure, I'll calculate ROE using this formula, ROE = net income of the company/shareholder's equity of the company\")],\n",
       " 'output': \"I apologize, but I couldn't find the specific information about the ROE for 2023. The provided information mainly focuses on net interest income, efficiency ratio, ROTCE (Return on Tangible Common Equity), and tangible book value per common share. If you have any other financial data or specific information, I would be happy to assist you further in calculating the ROE for 2023.\"}"
      ]
     },
     "execution_count": 41,
     "metadata": {},
     "output_type": "execute_result"
    }
   ],
   "source": [
    "agent_executor.invoke({\"input\": \"what is the ROE for 2023?\",\n",
    "                       \"chat_history\":[HumanMessage(content=\"ROE can be calculated using the formula net income divided by shareholder's equity\"),\n",
    "            AIMessage(content=\"Sure, I'll calculate ROE using this formula, ROE = net income of the company/shareholder's equity of the company\"),\n",
    "                                      ]\n",
    "                      }\n",
    "                     )"
   ]
  },
  {
   "cell_type": "code",
   "execution_count": null,
   "metadata": {},
   "outputs": [],
   "source": []
  },
  {
   "cell_type": "code",
   "execution_count": null,
   "metadata": {},
   "outputs": [],
   "source": []
  },
  {
   "cell_type": "code",
   "execution_count": 46,
   "metadata": {},
   "outputs": [],
   "source": [
    "from langchain_core.prompts import ChatPromptTemplate\n",
    "\n",
    "chat_template = ChatPromptTemplate.from_messages(\n",
    "    [\n",
    "        (\"system\", \"These are some of the formulas for calcualting companies financial statement. ROE = Net income/Shareholder's equity. ROE ratio = (Net income/shareholder's equity)*100\"),\n",
    "        (\"human\", \"Hello, how are you doing?\"),\n",
    "        (\"ai\", \"I'm doing well, thanks!\"),\n",
    "        (\"human\", \"{user_input}\"),\n",
    "    ]\n",
    ")\n",
    "\n",
    "messages = chat_template.format_messages(user_input=\"How to calcualte ROE?\")"
   ]
  },
  {
   "cell_type": "code",
   "execution_count": 83,
   "metadata": {},
   "outputs": [
    {
     "data": {
      "text/plain": [
       "[SystemMessage(content=\"These are some of the formulas for calcualting companies financial statement. ROE = Net income/Shareholder's equity. ROE ratio = (Net income/shareholder's equity)*100\"),\n",
       " HumanMessage(content='Hello, how are you doing?'),\n",
       " AIMessage(content=\"I'm doing well, thanks!\"),\n",
       " HumanMessage(content='How to calcualte ROE?')]"
      ]
     },
     "execution_count": 83,
     "metadata": {},
     "output_type": "execute_result"
    }
   ],
   "source": [
    "messages"
   ]
  },
  {
   "cell_type": "code",
   "execution_count": 92,
   "metadata": {},
   "outputs": [
    {
     "ename": "AttributeError",
     "evalue": "'list' object has no attribute 'input_variables'",
     "output_type": "error",
     "traceback": [
      "\u001b[1;31m---------------------------------------------------------------------------\u001b[0m",
      "\u001b[1;31mAttributeError\u001b[0m                            Traceback (most recent call last)",
      "Cell \u001b[1;32mIn[92], line 3\u001b[0m\n\u001b[0;32m      1\u001b[0m \u001b[38;5;28;01mfrom\u001b[39;00m \u001b[38;5;21;01mlangchain\u001b[39;00m\u001b[38;5;21;01m.\u001b[39;00m\u001b[38;5;21;01magents\u001b[39;00m \u001b[38;5;28;01mimport\u001b[39;00m create_tool_calling_agent\n\u001b[1;32m----> 3\u001b[0m agent \u001b[38;5;241m=\u001b[39m create_tool_calling_agent(chat_model, tools, messages\n\u001b[0;32m      4\u001b[0m                                 )\n",
      "File \u001b[1;32m~\\AppData\\Roaming\\Python\\Python311\\site-packages\\langchain\\agents\\tool_calling_agent\\base.py:79\u001b[0m, in \u001b[0;36mcreate_tool_calling_agent\u001b[1;34m(llm, tools, prompt)\u001b[0m\n\u001b[0;32m     14\u001b[0m \u001b[38;5;28;01mdef\u001b[39;00m \u001b[38;5;21mcreate_tool_calling_agent\u001b[39m(\n\u001b[0;32m     15\u001b[0m     llm: BaseLanguageModel, tools: Sequence[BaseTool], prompt: ChatPromptTemplate\n\u001b[0;32m     16\u001b[0m ) \u001b[38;5;241m-\u001b[39m\u001b[38;5;241m>\u001b[39m Runnable:\n\u001b[0;32m     17\u001b[0m \u001b[38;5;250m    \u001b[39m\u001b[38;5;124;03m\"\"\"Create an agent that uses tools.\u001b[39;00m\n\u001b[0;32m     18\u001b[0m \n\u001b[0;32m     19\u001b[0m \u001b[38;5;124;03m    Args:\u001b[39;00m\n\u001b[1;32m   (...)\u001b[0m\n\u001b[0;32m     76\u001b[0m \u001b[38;5;124;03m            messages will be passed in here.\u001b[39;00m\n\u001b[0;32m     77\u001b[0m \u001b[38;5;124;03m    \"\"\"\u001b[39;00m\n\u001b[0;32m     78\u001b[0m     missing_vars \u001b[38;5;241m=\u001b[39m {\u001b[38;5;124m\"\u001b[39m\u001b[38;5;124magent_scratchpad\u001b[39m\u001b[38;5;124m\"\u001b[39m}\u001b[38;5;241m.\u001b[39mdifference(\n\u001b[1;32m---> 79\u001b[0m         prompt\u001b[38;5;241m.\u001b[39minput_variables \u001b[38;5;241m+\u001b[39m \u001b[38;5;28mlist\u001b[39m(prompt\u001b[38;5;241m.\u001b[39mpartial_variables)\n\u001b[0;32m     80\u001b[0m     )\n\u001b[0;32m     81\u001b[0m     \u001b[38;5;28;01mif\u001b[39;00m missing_vars:\n\u001b[0;32m     82\u001b[0m         \u001b[38;5;28;01mraise\u001b[39;00m \u001b[38;5;167;01mValueError\u001b[39;00m(\u001b[38;5;124mf\u001b[39m\u001b[38;5;124m\"\u001b[39m\u001b[38;5;124mPrompt missing required variables: \u001b[39m\u001b[38;5;132;01m{\u001b[39;00mmissing_vars\u001b[38;5;132;01m}\u001b[39;00m\u001b[38;5;124m\"\u001b[39m)\n",
      "\u001b[1;31mAttributeError\u001b[0m: 'list' object has no attribute 'input_variables'"
     ]
    }
   ],
   "source": [
    "from langchain.agents import create_tool_calling_agent\n",
    "\n",
    "agent = create_tool_calling_agent(chat_model, tools, messages\n",
    "                                )"
   ]
  },
  {
   "cell_type": "code",
   "execution_count": 45,
   "metadata": {},
   "outputs": [
    {
     "ename": "NameError",
     "evalue": "name 'ChatPromptTemplate' is not defined",
     "output_type": "error",
     "traceback": [
      "\u001b[1;31m---------------------------------------------------------------------------\u001b[0m",
      "\u001b[1;31mNameError\u001b[0m                                 Traceback (most recent call last)",
      "Cell \u001b[1;32mIn[45], line 4\u001b[0m\n\u001b[0;32m      1\u001b[0m \u001b[38;5;28;01mfrom\u001b[39;00m \u001b[38;5;21;01mlangchain_core\u001b[39;00m\u001b[38;5;21;01m.\u001b[39;00m\u001b[38;5;21;01mmessages\u001b[39;00m \u001b[38;5;28;01mimport\u001b[39;00m SystemMessage\n\u001b[0;32m      2\u001b[0m \u001b[38;5;28;01mfrom\u001b[39;00m \u001b[38;5;21;01mlangchain_core\u001b[39;00m\u001b[38;5;21;01m.\u001b[39;00m\u001b[38;5;21;01mprompts\u001b[39;00m \u001b[38;5;28;01mimport\u001b[39;00m HumanMessagePromptTemplate\n\u001b[1;32m----> 4\u001b[0m chat_template \u001b[38;5;241m=\u001b[39m ChatPromptTemplate\u001b[38;5;241m.\u001b[39mfrom_messages(\n\u001b[0;32m      5\u001b[0m     [\n\u001b[0;32m      6\u001b[0m         SystemMessage(\n\u001b[0;32m      7\u001b[0m             content\u001b[38;5;241m=\u001b[39m(\n\u001b[0;32m      8\u001b[0m                 \u001b[38;5;124m\"\u001b[39m\u001b[38;5;124mYou are a helpful assistant and use the following formulas to calcualte financial terms. \u001b[39m\u001b[38;5;124m\"\u001b[39m\n\u001b[0;32m      9\u001b[0m                 \u001b[38;5;124m\"\u001b[39m\u001b[38;5;124mROE = Net income/Shareholder\u001b[39m\u001b[38;5;124m'\u001b[39m\u001b[38;5;124ms equity.\u001b[39m\u001b[38;5;124m\"\u001b[39m\n\u001b[0;32m     10\u001b[0m                 \u001b[38;5;124m\"\u001b[39m\u001b[38;5;124mROE ratio = (Net income/shareholder\u001b[39m\u001b[38;5;124m'\u001b[39m\u001b[38;5;124ms equity)*100\u001b[39m\u001b[38;5;124m\"\u001b[39m\n\u001b[0;32m     11\u001b[0m             )\n\u001b[0;32m     12\u001b[0m         ),\n\u001b[0;32m     13\u001b[0m         HumanMessagePromptTemplate\u001b[38;5;241m.\u001b[39mfrom_template(\u001b[38;5;124m\"\u001b[39m\u001b[38;5;132;01m{text}\u001b[39;00m\u001b[38;5;124m\"\u001b[39m),\n\u001b[0;32m     14\u001b[0m     ]\n\u001b[0;32m     15\u001b[0m )\n\u001b[0;32m     16\u001b[0m messages \u001b[38;5;241m=\u001b[39m chat_template\u001b[38;5;241m.\u001b[39mformat_messages(text\u001b[38;5;241m=\u001b[39m\u001b[38;5;124m\"\u001b[39m\u001b[38;5;124mwhat is the formula for calculating ROE?\u001b[39m\u001b[38;5;124m\"\u001b[39m)\n\u001b[0;32m     17\u001b[0m \u001b[38;5;28mprint\u001b[39m(messages)\n",
      "\u001b[1;31mNameError\u001b[0m: name 'ChatPromptTemplate' is not defined"
     ]
    }
   ],
   "source": [
    "from langchain_core.messages import SystemMessage\n",
    "from langchain_core.prompts import HumanMessagePromptTemplate\n",
    "\n",
    "chat_template = ChatPromptTemplate.from_messages(\n",
    "    [\n",
    "        SystemMessage(\n",
    "            content=(\n",
    "                \"You are a helpful assistant and use the following formulas to calcualte financial terms. \"\n",
    "                \"ROE = Net income/Shareholder's equity.\"\n",
    "                \"ROE ratio = (Net income/shareholder's equity)*100\"\n",
    "            )\n",
    "        ),\n",
    "        HumanMessagePromptTemplate.from_template(\"{text}\"),\n",
    "    ]\n",
    ")\n",
    "messages = chat_template.format_messages(text=\"what is the formula for calculating ROE?\")\n",
    "print(messages)"
   ]
  },
  {
   "cell_type": "code",
   "execution_count": null,
   "metadata": {},
   "outputs": [],
   "source": []
  },
  {
   "cell_type": "code",
   "execution_count": 42,
   "metadata": {},
   "outputs": [],
   "source": [
    "from langchain.chains import create_citation_fuzzy_match_chain"
   ]
  },
  {
   "cell_type": "code",
   "execution_count": 43,
   "metadata": {},
   "outputs": [],
   "source": [
    "chain = create_citation_fuzzy_match_chain(chat_model)"
   ]
  },
  {
   "cell_type": "code",
   "execution_count": 47,
   "metadata": {},
   "outputs": [],
   "source": [
    "result = chain.run(question=messages, context=docs)"
   ]
  },
  {
   "cell_type": "code",
   "execution_count": 49,
   "metadata": {},
   "outputs": [
    {
     "name": "stdout",
     "output_type": "stream",
     "text": [
      "question='How to calculate ROE?' answer=[FactWithEvidence(fact=\"ROE = Net income/Shareholder's equity\", substring_quote=[\"ROE = Net income/Shareholder's equity.\"]), FactWithEvidence(fact=\"ROE ratio = (Net income/shareholder's equity)*100\", substring_quote=[\"ROE ratio = (Net income/shareholder's equity)*100\"])]\n"
     ]
    }
   ],
   "source": [
    "print(result)"
   ]
  },
  {
   "cell_type": "code",
   "execution_count": null,
   "metadata": {},
   "outputs": [],
   "source": [
    "[SystemMessagePromptTemplate(prompt=PromptTemplate(input_variables=[], template='You are a helpful assistant')),\n",
    " MessagesPlaceholder(variable_name='chat_history', optional=True),\n",
    " HumanMessagePromptTemplate(prompt=PromptTemplate(input_variables=['input'], template='{input}')),\n",
    " MessagesPlaceholder(variable_name='agent_scratchpad')]"
   ]
  },
  {
   "cell_type": "code",
   "execution_count": null,
   "metadata": {},
   "outputs": [],
   "source": []
  },
  {
   "cell_type": "code",
   "execution_count": null,
   "metadata": {},
   "outputs": [],
   "source": []
  },
  {
   "cell_type": "code",
   "execution_count": 50,
   "metadata": {},
   "outputs": [
    {
     "name": "stdout",
     "output_type": "stream",
     "text": [
      "Defaulting to user installation because normal site-packages is not writeable\n",
      "Requirement already satisfied: llama-index-embeddings-openai in c:\\users\\janu\\appdata\\roaming\\python\\python311\\site-packages (0.1.7)\n",
      "Requirement already satisfied: llama-index-core<0.11.0,>=0.10.1 in c:\\users\\janu\\appdata\\roaming\\python\\python311\\site-packages (from llama-index-embeddings-openai) (0.10.28)\n",
      "Requirement already satisfied: PyYAML>=6.0.1 in c:\\programdata\\anaconda3\\lib\\site-packages (from llama-index-core<0.11.0,>=0.10.1->llama-index-embeddings-openai) (6.0.1)\n",
      "Requirement already satisfied: SQLAlchemy>=1.4.49 in c:\\programdata\\anaconda3\\lib\\site-packages (from SQLAlchemy[asyncio]>=1.4.49->llama-index-core<0.11.0,>=0.10.1->llama-index-embeddings-openai) (2.0.25)\n",
      "Requirement already satisfied: aiohttp<4.0.0,>=3.8.6 in c:\\programdata\\anaconda3\\lib\\site-packages (from llama-index-core<0.11.0,>=0.10.1->llama-index-embeddings-openai) (3.9.3)\n",
      "Requirement already satisfied: dataclasses-json in c:\\users\\janu\\appdata\\roaming\\python\\python311\\site-packages (from llama-index-core<0.11.0,>=0.10.1->llama-index-embeddings-openai) (0.6.4)\n",
      "Requirement already satisfied: deprecated>=1.2.9.3 in c:\\users\\janu\\appdata\\roaming\\python\\python311\\site-packages (from llama-index-core<0.11.0,>=0.10.1->llama-index-embeddings-openai) (1.2.14)\n",
      "Requirement already satisfied: dirtyjson<2.0.0,>=1.0.8 in c:\\users\\janu\\appdata\\roaming\\python\\python311\\site-packages (from llama-index-core<0.11.0,>=0.10.1->llama-index-embeddings-openai) (1.0.8)\n",
      "Requirement already satisfied: fsspec>=2023.5.0 in c:\\programdata\\anaconda3\\lib\\site-packages (from llama-index-core<0.11.0,>=0.10.1->llama-index-embeddings-openai) (2023.10.0)\n",
      "Requirement already satisfied: httpx in c:\\users\\janu\\appdata\\roaming\\python\\python311\\site-packages (from llama-index-core<0.11.0,>=0.10.1->llama-index-embeddings-openai) (0.27.0)\n",
      "Requirement already satisfied: llamaindex-py-client<0.2.0,>=0.1.16 in c:\\users\\janu\\appdata\\roaming\\python\\python311\\site-packages (from llama-index-core<0.11.0,>=0.10.1->llama-index-embeddings-openai) (0.1.16)\n",
      "Requirement already satisfied: nest-asyncio<2.0.0,>=1.5.8 in c:\\programdata\\anaconda3\\lib\\site-packages (from llama-index-core<0.11.0,>=0.10.1->llama-index-embeddings-openai) (1.6.0)\n",
      "Requirement already satisfied: networkx>=3.0 in c:\\programdata\\anaconda3\\lib\\site-packages (from llama-index-core<0.11.0,>=0.10.1->llama-index-embeddings-openai) (3.1)\n",
      "Requirement already satisfied: nltk<4.0.0,>=3.8.1 in c:\\programdata\\anaconda3\\lib\\site-packages (from llama-index-core<0.11.0,>=0.10.1->llama-index-embeddings-openai) (3.8.1)\n",
      "Requirement already satisfied: numpy in c:\\programdata\\anaconda3\\lib\\site-packages (from llama-index-core<0.11.0,>=0.10.1->llama-index-embeddings-openai) (1.26.4)\n",
      "Requirement already satisfied: openai>=1.1.0 in c:\\users\\janu\\appdata\\roaming\\python\\python311\\site-packages (from llama-index-core<0.11.0,>=0.10.1->llama-index-embeddings-openai) (1.20.0)\n",
      "Requirement already satisfied: pandas in c:\\programdata\\anaconda3\\lib\\site-packages (from llama-index-core<0.11.0,>=0.10.1->llama-index-embeddings-openai) (2.1.4)\n",
      "Requirement already satisfied: pillow>=9.0.0 in c:\\programdata\\anaconda3\\lib\\site-packages (from llama-index-core<0.11.0,>=0.10.1->llama-index-embeddings-openai) (10.2.0)\n",
      "Requirement already satisfied: requests>=2.31.0 in c:\\programdata\\anaconda3\\lib\\site-packages (from llama-index-core<0.11.0,>=0.10.1->llama-index-embeddings-openai) (2.31.0)\n",
      "Requirement already satisfied: tenacity<9.0.0,>=8.2.0 in c:\\programdata\\anaconda3\\lib\\site-packages (from llama-index-core<0.11.0,>=0.10.1->llama-index-embeddings-openai) (8.2.2)\n",
      "Requirement already satisfied: tiktoken>=0.3.3 in c:\\users\\janu\\appdata\\roaming\\python\\python311\\site-packages (from llama-index-core<0.11.0,>=0.10.1->llama-index-embeddings-openai) (0.5.2)\n",
      "Requirement already satisfied: tqdm<5.0.0,>=4.66.1 in c:\\users\\janu\\appdata\\roaming\\python\\python311\\site-packages (from llama-index-core<0.11.0,>=0.10.1->llama-index-embeddings-openai) (4.66.2)\n",
      "Requirement already satisfied: typing-extensions>=4.5.0 in c:\\programdata\\anaconda3\\lib\\site-packages (from llama-index-core<0.11.0,>=0.10.1->llama-index-embeddings-openai) (4.9.0)\n",
      "Requirement already satisfied: typing-inspect>=0.8.0 in c:\\users\\janu\\appdata\\roaming\\python\\python311\\site-packages (from llama-index-core<0.11.0,>=0.10.1->llama-index-embeddings-openai) (0.9.0)\n",
      "Requirement already satisfied: wrapt in c:\\programdata\\anaconda3\\lib\\site-packages (from llama-index-core<0.11.0,>=0.10.1->llama-index-embeddings-openai) (1.14.1)\n",
      "Requirement already satisfied: aiosignal>=1.1.2 in c:\\programdata\\anaconda3\\lib\\site-packages (from aiohttp<4.0.0,>=3.8.6->llama-index-core<0.11.0,>=0.10.1->llama-index-embeddings-openai) (1.2.0)\n",
      "Requirement already satisfied: attrs>=17.3.0 in c:\\programdata\\anaconda3\\lib\\site-packages (from aiohttp<4.0.0,>=3.8.6->llama-index-core<0.11.0,>=0.10.1->llama-index-embeddings-openai) (23.1.0)\n",
      "Requirement already satisfied: frozenlist>=1.1.1 in c:\\programdata\\anaconda3\\lib\\site-packages (from aiohttp<4.0.0,>=3.8.6->llama-index-core<0.11.0,>=0.10.1->llama-index-embeddings-openai) (1.4.0)\n",
      "Requirement already satisfied: multidict<7.0,>=4.5 in c:\\programdata\\anaconda3\\lib\\site-packages (from aiohttp<4.0.0,>=3.8.6->llama-index-core<0.11.0,>=0.10.1->llama-index-embeddings-openai) (6.0.4)\n",
      "Requirement already satisfied: yarl<2.0,>=1.0 in c:\\programdata\\anaconda3\\lib\\site-packages (from aiohttp<4.0.0,>=3.8.6->llama-index-core<0.11.0,>=0.10.1->llama-index-embeddings-openai) (1.9.3)\n",
      "Requirement already satisfied: pydantic>=1.10 in c:\\programdata\\anaconda3\\lib\\site-packages (from llamaindex-py-client<0.2.0,>=0.1.16->llama-index-core<0.11.0,>=0.10.1->llama-index-embeddings-openai) (1.10.12)\n",
      "Requirement already satisfied: anyio in c:\\programdata\\anaconda3\\lib\\site-packages (from httpx->llama-index-core<0.11.0,>=0.10.1->llama-index-embeddings-openai) (4.2.0)\n",
      "Requirement already satisfied: certifi in c:\\programdata\\anaconda3\\lib\\site-packages (from httpx->llama-index-core<0.11.0,>=0.10.1->llama-index-embeddings-openai) (2024.2.2)\n",
      "Requirement already satisfied: httpcore==1.* in c:\\users\\janu\\appdata\\roaming\\python\\python311\\site-packages (from httpx->llama-index-core<0.11.0,>=0.10.1->llama-index-embeddings-openai) (1.0.5)\n",
      "Requirement already satisfied: idna in c:\\programdata\\anaconda3\\lib\\site-packages (from httpx->llama-index-core<0.11.0,>=0.10.1->llama-index-embeddings-openai) (3.4)\n",
      "Requirement already satisfied: sniffio in c:\\programdata\\anaconda3\\lib\\site-packages (from httpx->llama-index-core<0.11.0,>=0.10.1->llama-index-embeddings-openai) (1.3.0)\n",
      "Requirement already satisfied: h11<0.15,>=0.13 in c:\\users\\janu\\appdata\\roaming\\python\\python311\\site-packages (from httpcore==1.*->httpx->llama-index-core<0.11.0,>=0.10.1->llama-index-embeddings-openai) (0.14.0)\n",
      "Requirement already satisfied: click in c:\\programdata\\anaconda3\\lib\\site-packages (from nltk<4.0.0,>=3.8.1->llama-index-core<0.11.0,>=0.10.1->llama-index-embeddings-openai) (8.1.7)\n",
      "Requirement already satisfied: joblib in c:\\programdata\\anaconda3\\lib\\site-packages (from nltk<4.0.0,>=3.8.1->llama-index-core<0.11.0,>=0.10.1->llama-index-embeddings-openai) (1.2.0)\n",
      "Requirement already satisfied: regex>=2021.8.3 in c:\\programdata\\anaconda3\\lib\\site-packages (from nltk<4.0.0,>=3.8.1->llama-index-core<0.11.0,>=0.10.1->llama-index-embeddings-openai) (2023.10.3)\n",
      "Requirement already satisfied: distro<2,>=1.7.0 in c:\\programdata\\anaconda3\\lib\\site-packages (from openai>=1.1.0->llama-index-core<0.11.0,>=0.10.1->llama-index-embeddings-openai) (1.8.0)\n",
      "Requirement already satisfied: charset-normalizer<4,>=2 in c:\\programdata\\anaconda3\\lib\\site-packages (from requests>=2.31.0->llama-index-core<0.11.0,>=0.10.1->llama-index-embeddings-openai) (2.0.4)\n",
      "Requirement already satisfied: urllib3<3,>=1.21.1 in c:\\programdata\\anaconda3\\lib\\site-packages (from requests>=2.31.0->llama-index-core<0.11.0,>=0.10.1->llama-index-embeddings-openai) (2.0.7)\n",
      "Requirement already satisfied: greenlet!=0.4.17 in c:\\programdata\\anaconda3\\lib\\site-packages (from SQLAlchemy>=1.4.49->SQLAlchemy[asyncio]>=1.4.49->llama-index-core<0.11.0,>=0.10.1->llama-index-embeddings-openai) (3.0.1)\n",
      "Requirement already satisfied: colorama in c:\\programdata\\anaconda3\\lib\\site-packages (from tqdm<5.0.0,>=4.66.1->llama-index-core<0.11.0,>=0.10.1->llama-index-embeddings-openai) (0.4.6)\n",
      "Requirement already satisfied: mypy-extensions>=0.3.0 in c:\\programdata\\anaconda3\\lib\\site-packages (from typing-inspect>=0.8.0->llama-index-core<0.11.0,>=0.10.1->llama-index-embeddings-openai) (1.0.0)\n",
      "Requirement already satisfied: marshmallow<4.0.0,>=3.18.0 in c:\\users\\janu\\appdata\\roaming\\python\\python311\\site-packages (from dataclasses-json->llama-index-core<0.11.0,>=0.10.1->llama-index-embeddings-openai) (3.21.1)\n",
      "Requirement already satisfied: python-dateutil>=2.8.2 in c:\\programdata\\anaconda3\\lib\\site-packages (from pandas->llama-index-core<0.11.0,>=0.10.1->llama-index-embeddings-openai) (2.8.2)\n",
      "Requirement already satisfied: pytz>=2020.1 in c:\\programdata\\anaconda3\\lib\\site-packages (from pandas->llama-index-core<0.11.0,>=0.10.1->llama-index-embeddings-openai) (2023.3.post1)\n",
      "Requirement already satisfied: tzdata>=2022.1 in c:\\programdata\\anaconda3\\lib\\site-packages (from pandas->llama-index-core<0.11.0,>=0.10.1->llama-index-embeddings-openai) (2023.3)\n",
      "Requirement already satisfied: packaging>=17.0 in c:\\users\\janu\\appdata\\roaming\\python\\python311\\site-packages (from marshmallow<4.0.0,>=3.18.0->dataclasses-json->llama-index-core<0.11.0,>=0.10.1->llama-index-embeddings-openai) (23.2)\n",
      "Requirement already satisfied: six>=1.5 in c:\\programdata\\anaconda3\\lib\\site-packages (from python-dateutil>=2.8.2->pandas->llama-index-core<0.11.0,>=0.10.1->llama-index-embeddings-openai) (1.16.0)\n",
      "Note: you may need to restart the kernel to use updated packages.\n",
      "Defaulting to user installation because normal site-packages is not writeable\n",
      "Requirement already satisfied: llama-index-llms-openai in c:\\users\\janu\\appdata\\roaming\\python\\python311\\site-packages (0.1.15)\n",
      "Requirement already satisfied: llama-index-core<0.11.0,>=0.10.24 in c:\\users\\janu\\appdata\\roaming\\python\\python311\\site-packages (from llama-index-llms-openai) (0.10.28)\n",
      "Requirement already satisfied: PyYAML>=6.0.1 in c:\\programdata\\anaconda3\\lib\\site-packages (from llama-index-core<0.11.0,>=0.10.24->llama-index-llms-openai) (6.0.1)\n",
      "Requirement already satisfied: SQLAlchemy>=1.4.49 in c:\\programdata\\anaconda3\\lib\\site-packages (from SQLAlchemy[asyncio]>=1.4.49->llama-index-core<0.11.0,>=0.10.24->llama-index-llms-openai) (2.0.25)\n",
      "Requirement already satisfied: aiohttp<4.0.0,>=3.8.6 in c:\\programdata\\anaconda3\\lib\\site-packages (from llama-index-core<0.11.0,>=0.10.24->llama-index-llms-openai) (3.9.3)\n",
      "Requirement already satisfied: dataclasses-json in c:\\users\\janu\\appdata\\roaming\\python\\python311\\site-packages (from llama-index-core<0.11.0,>=0.10.24->llama-index-llms-openai) (0.6.4)\n",
      "Requirement already satisfied: deprecated>=1.2.9.3 in c:\\users\\janu\\appdata\\roaming\\python\\python311\\site-packages (from llama-index-core<0.11.0,>=0.10.24->llama-index-llms-openai) (1.2.14)\n",
      "Requirement already satisfied: dirtyjson<2.0.0,>=1.0.8 in c:\\users\\janu\\appdata\\roaming\\python\\python311\\site-packages (from llama-index-core<0.11.0,>=0.10.24->llama-index-llms-openai) (1.0.8)\n",
      "Requirement already satisfied: fsspec>=2023.5.0 in c:\\programdata\\anaconda3\\lib\\site-packages (from llama-index-core<0.11.0,>=0.10.24->llama-index-llms-openai) (2023.10.0)\n",
      "Requirement already satisfied: httpx in c:\\users\\janu\\appdata\\roaming\\python\\python311\\site-packages (from llama-index-core<0.11.0,>=0.10.24->llama-index-llms-openai) (0.27.0)\n",
      "Requirement already satisfied: llamaindex-py-client<0.2.0,>=0.1.16 in c:\\users\\janu\\appdata\\roaming\\python\\python311\\site-packages (from llama-index-core<0.11.0,>=0.10.24->llama-index-llms-openai) (0.1.16)\n",
      "Requirement already satisfied: nest-asyncio<2.0.0,>=1.5.8 in c:\\programdata\\anaconda3\\lib\\site-packages (from llama-index-core<0.11.0,>=0.10.24->llama-index-llms-openai) (1.6.0)\n",
      "Requirement already satisfied: networkx>=3.0 in c:\\programdata\\anaconda3\\lib\\site-packages (from llama-index-core<0.11.0,>=0.10.24->llama-index-llms-openai) (3.1)\n",
      "Requirement already satisfied: nltk<4.0.0,>=3.8.1 in c:\\programdata\\anaconda3\\lib\\site-packages (from llama-index-core<0.11.0,>=0.10.24->llama-index-llms-openai) (3.8.1)\n",
      "Requirement already satisfied: numpy in c:\\programdata\\anaconda3\\lib\\site-packages (from llama-index-core<0.11.0,>=0.10.24->llama-index-llms-openai) (1.26.4)\n",
      "Requirement already satisfied: openai>=1.1.0 in c:\\users\\janu\\appdata\\roaming\\python\\python311\\site-packages (from llama-index-core<0.11.0,>=0.10.24->llama-index-llms-openai) (1.20.0)\n",
      "Requirement already satisfied: pandas in c:\\programdata\\anaconda3\\lib\\site-packages (from llama-index-core<0.11.0,>=0.10.24->llama-index-llms-openai) (2.1.4)\n",
      "Requirement already satisfied: pillow>=9.0.0 in c:\\programdata\\anaconda3\\lib\\site-packages (from llama-index-core<0.11.0,>=0.10.24->llama-index-llms-openai) (10.2.0)\n",
      "Requirement already satisfied: requests>=2.31.0 in c:\\programdata\\anaconda3\\lib\\site-packages (from llama-index-core<0.11.0,>=0.10.24->llama-index-llms-openai) (2.31.0)\n",
      "Requirement already satisfied: tenacity<9.0.0,>=8.2.0 in c:\\programdata\\anaconda3\\lib\\site-packages (from llama-index-core<0.11.0,>=0.10.24->llama-index-llms-openai) (8.2.2)\n",
      "Requirement already satisfied: tiktoken>=0.3.3 in c:\\users\\janu\\appdata\\roaming\\python\\python311\\site-packages (from llama-index-core<0.11.0,>=0.10.24->llama-index-llms-openai) (0.5.2)\n",
      "Requirement already satisfied: tqdm<5.0.0,>=4.66.1 in c:\\users\\janu\\appdata\\roaming\\python\\python311\\site-packages (from llama-index-core<0.11.0,>=0.10.24->llama-index-llms-openai) (4.66.2)\n",
      "Requirement already satisfied: typing-extensions>=4.5.0 in c:\\programdata\\anaconda3\\lib\\site-packages (from llama-index-core<0.11.0,>=0.10.24->llama-index-llms-openai) (4.9.0)\n",
      "Requirement already satisfied: typing-inspect>=0.8.0 in c:\\users\\janu\\appdata\\roaming\\python\\python311\\site-packages (from llama-index-core<0.11.0,>=0.10.24->llama-index-llms-openai) (0.9.0)\n",
      "Requirement already satisfied: wrapt in c:\\programdata\\anaconda3\\lib\\site-packages (from llama-index-core<0.11.0,>=0.10.24->llama-index-llms-openai) (1.14.1)\n",
      "Requirement already satisfied: aiosignal>=1.1.2 in c:\\programdata\\anaconda3\\lib\\site-packages (from aiohttp<4.0.0,>=3.8.6->llama-index-core<0.11.0,>=0.10.24->llama-index-llms-openai) (1.2.0)\n",
      "Requirement already satisfied: attrs>=17.3.0 in c:\\programdata\\anaconda3\\lib\\site-packages (from aiohttp<4.0.0,>=3.8.6->llama-index-core<0.11.0,>=0.10.24->llama-index-llms-openai) (23.1.0)\n",
      "Requirement already satisfied: frozenlist>=1.1.1 in c:\\programdata\\anaconda3\\lib\\site-packages (from aiohttp<4.0.0,>=3.8.6->llama-index-core<0.11.0,>=0.10.24->llama-index-llms-openai) (1.4.0)\n",
      "Requirement already satisfied: multidict<7.0,>=4.5 in c:\\programdata\\anaconda3\\lib\\site-packages (from aiohttp<4.0.0,>=3.8.6->llama-index-core<0.11.0,>=0.10.24->llama-index-llms-openai) (6.0.4)\n",
      "Requirement already satisfied: yarl<2.0,>=1.0 in c:\\programdata\\anaconda3\\lib\\site-packages (from aiohttp<4.0.0,>=3.8.6->llama-index-core<0.11.0,>=0.10.24->llama-index-llms-openai) (1.9.3)\n",
      "Requirement already satisfied: pydantic>=1.10 in c:\\programdata\\anaconda3\\lib\\site-packages (from llamaindex-py-client<0.2.0,>=0.1.16->llama-index-core<0.11.0,>=0.10.24->llama-index-llms-openai) (1.10.12)\n",
      "Requirement already satisfied: anyio in c:\\programdata\\anaconda3\\lib\\site-packages (from httpx->llama-index-core<0.11.0,>=0.10.24->llama-index-llms-openai) (4.2.0)\n",
      "Requirement already satisfied: certifi in c:\\programdata\\anaconda3\\lib\\site-packages (from httpx->llama-index-core<0.11.0,>=0.10.24->llama-index-llms-openai) (2024.2.2)\n",
      "Requirement already satisfied: httpcore==1.* in c:\\users\\janu\\appdata\\roaming\\python\\python311\\site-packages (from httpx->llama-index-core<0.11.0,>=0.10.24->llama-index-llms-openai) (1.0.5)\n",
      "Requirement already satisfied: idna in c:\\programdata\\anaconda3\\lib\\site-packages (from httpx->llama-index-core<0.11.0,>=0.10.24->llama-index-llms-openai) (3.4)\n",
      "Requirement already satisfied: sniffio in c:\\programdata\\anaconda3\\lib\\site-packages (from httpx->llama-index-core<0.11.0,>=0.10.24->llama-index-llms-openai) (1.3.0)\n",
      "Requirement already satisfied: h11<0.15,>=0.13 in c:\\users\\janu\\appdata\\roaming\\python\\python311\\site-packages (from httpcore==1.*->httpx->llama-index-core<0.11.0,>=0.10.24->llama-index-llms-openai) (0.14.0)\n",
      "Requirement already satisfied: click in c:\\programdata\\anaconda3\\lib\\site-packages (from nltk<4.0.0,>=3.8.1->llama-index-core<0.11.0,>=0.10.24->llama-index-llms-openai) (8.1.7)\n",
      "Requirement already satisfied: joblib in c:\\programdata\\anaconda3\\lib\\site-packages (from nltk<4.0.0,>=3.8.1->llama-index-core<0.11.0,>=0.10.24->llama-index-llms-openai) (1.2.0)\n",
      "Requirement already satisfied: regex>=2021.8.3 in c:\\programdata\\anaconda3\\lib\\site-packages (from nltk<4.0.0,>=3.8.1->llama-index-core<0.11.0,>=0.10.24->llama-index-llms-openai) (2023.10.3)\n",
      "Requirement already satisfied: distro<2,>=1.7.0 in c:\\programdata\\anaconda3\\lib\\site-packages (from openai>=1.1.0->llama-index-core<0.11.0,>=0.10.24->llama-index-llms-openai) (1.8.0)\n",
      "Requirement already satisfied: charset-normalizer<4,>=2 in c:\\programdata\\anaconda3\\lib\\site-packages (from requests>=2.31.0->llama-index-core<0.11.0,>=0.10.24->llama-index-llms-openai) (2.0.4)\n",
      "Requirement already satisfied: urllib3<3,>=1.21.1 in c:\\programdata\\anaconda3\\lib\\site-packages (from requests>=2.31.0->llama-index-core<0.11.0,>=0.10.24->llama-index-llms-openai) (2.0.7)\n",
      "Requirement already satisfied: greenlet!=0.4.17 in c:\\programdata\\anaconda3\\lib\\site-packages (from SQLAlchemy>=1.4.49->SQLAlchemy[asyncio]>=1.4.49->llama-index-core<0.11.0,>=0.10.24->llama-index-llms-openai) (3.0.1)\n",
      "Requirement already satisfied: colorama in c:\\programdata\\anaconda3\\lib\\site-packages (from tqdm<5.0.0,>=4.66.1->llama-index-core<0.11.0,>=0.10.24->llama-index-llms-openai) (0.4.6)\n",
      "Requirement already satisfied: mypy-extensions>=0.3.0 in c:\\programdata\\anaconda3\\lib\\site-packages (from typing-inspect>=0.8.0->llama-index-core<0.11.0,>=0.10.24->llama-index-llms-openai) (1.0.0)\n",
      "Requirement already satisfied: marshmallow<4.0.0,>=3.18.0 in c:\\users\\janu\\appdata\\roaming\\python\\python311\\site-packages (from dataclasses-json->llama-index-core<0.11.0,>=0.10.24->llama-index-llms-openai) (3.21.1)\n",
      "Requirement already satisfied: python-dateutil>=2.8.2 in c:\\programdata\\anaconda3\\lib\\site-packages (from pandas->llama-index-core<0.11.0,>=0.10.24->llama-index-llms-openai) (2.8.2)\n",
      "Requirement already satisfied: pytz>=2020.1 in c:\\programdata\\anaconda3\\lib\\site-packages (from pandas->llama-index-core<0.11.0,>=0.10.24->llama-index-llms-openai) (2023.3.post1)\n",
      "Requirement already satisfied: tzdata>=2022.1 in c:\\programdata\\anaconda3\\lib\\site-packages (from pandas->llama-index-core<0.11.0,>=0.10.24->llama-index-llms-openai) (2023.3)\n",
      "Requirement already satisfied: packaging>=17.0 in c:\\users\\janu\\appdata\\roaming\\python\\python311\\site-packages (from marshmallow<4.0.0,>=3.18.0->dataclasses-json->llama-index-core<0.11.0,>=0.10.24->llama-index-llms-openai) (23.2)\n",
      "Requirement already satisfied: six>=1.5 in c:\\programdata\\anaconda3\\lib\\site-packages (from python-dateutil>=2.8.2->pandas->llama-index-core<0.11.0,>=0.10.24->llama-index-llms-openai) (1.16.0)\n",
      "Note: you may need to restart the kernel to use updated packages.\n"
     ]
    }
   ],
   "source": [
    "%pip install llama-index-embeddings-openai\n",
    "%pip install llama-index-llms-openai"
   ]
  },
  {
   "cell_type": "code",
   "execution_count": 1,
   "metadata": {},
   "outputs": [
    {
     "name": "stdout",
     "output_type": "stream",
     "text": [
      "Defaulting to user installation because normal site-packages is not writeable\n",
      "Requirement already satisfied: llama-index in c:\\users\\janu\\appdata\\roaming\\python\\python311\\site-packages (0.10.28)\n",
      "Requirement already satisfied: llama-index-agent-openai<0.3.0,>=0.1.4 in c:\\users\\janu\\appdata\\roaming\\python\\python311\\site-packages (from llama-index) (0.2.2)\n",
      "Requirement already satisfied: llama-index-cli<0.2.0,>=0.1.2 in c:\\users\\janu\\appdata\\roaming\\python\\python311\\site-packages (from llama-index) (0.1.11)\n",
      "Requirement already satisfied: llama-index-core<0.11.0,>=0.10.28 in c:\\users\\janu\\appdata\\roaming\\python\\python311\\site-packages (from llama-index) (0.10.28)\n",
      "Requirement already satisfied: llama-index-embeddings-openai<0.2.0,>=0.1.5 in c:\\users\\janu\\appdata\\roaming\\python\\python311\\site-packages (from llama-index) (0.1.7)\n",
      "Requirement already satisfied: llama-index-indices-managed-llama-cloud<0.2.0,>=0.1.2 in c:\\users\\janu\\appdata\\roaming\\python\\python311\\site-packages (from llama-index) (0.1.5)\n",
      "Requirement already satisfied: llama-index-legacy<0.10.0,>=0.9.48 in c:\\users\\janu\\appdata\\roaming\\python\\python311\\site-packages (from llama-index) (0.9.48)\n",
      "Requirement already satisfied: llama-index-llms-openai<0.2.0,>=0.1.13 in c:\\users\\janu\\appdata\\roaming\\python\\python311\\site-packages (from llama-index) (0.1.15)\n",
      "Requirement already satisfied: llama-index-multi-modal-llms-openai<0.2.0,>=0.1.3 in c:\\users\\janu\\appdata\\roaming\\python\\python311\\site-packages (from llama-index) (0.1.5)\n",
      "Requirement already satisfied: llama-index-program-openai<0.2.0,>=0.1.3 in c:\\users\\janu\\appdata\\roaming\\python\\python311\\site-packages (from llama-index) (0.1.5)\n",
      "Requirement already satisfied: llama-index-question-gen-openai<0.2.0,>=0.1.2 in c:\\users\\janu\\appdata\\roaming\\python\\python311\\site-packages (from llama-index) (0.1.3)\n",
      "Requirement already satisfied: llama-index-readers-file<0.2.0,>=0.1.4 in c:\\users\\janu\\appdata\\roaming\\python\\python311\\site-packages (from llama-index) (0.1.16)\n",
      "Requirement already satisfied: llama-index-readers-llama-parse<0.2.0,>=0.1.2 in c:\\users\\janu\\appdata\\roaming\\python\\python311\\site-packages (from llama-index) (0.1.4)\n",
      "Requirement already satisfied: openai>=1.14.0 in c:\\users\\janu\\appdata\\roaming\\python\\python311\\site-packages (from llama-index-agent-openai<0.3.0,>=0.1.4->llama-index) (1.20.0)\n",
      "Requirement already satisfied: PyYAML>=6.0.1 in c:\\programdata\\anaconda3\\lib\\site-packages (from llama-index-core<0.11.0,>=0.10.28->llama-index) (6.0.1)\n",
      "Requirement already satisfied: SQLAlchemy>=1.4.49 in c:\\programdata\\anaconda3\\lib\\site-packages (from SQLAlchemy[asyncio]>=1.4.49->llama-index-core<0.11.0,>=0.10.28->llama-index) (2.0.25)\n",
      "Requirement already satisfied: aiohttp<4.0.0,>=3.8.6 in c:\\programdata\\anaconda3\\lib\\site-packages (from llama-index-core<0.11.0,>=0.10.28->llama-index) (3.9.3)\n",
      "Requirement already satisfied: dataclasses-json in c:\\users\\janu\\appdata\\roaming\\python\\python311\\site-packages (from llama-index-core<0.11.0,>=0.10.28->llama-index) (0.6.4)\n",
      "Requirement already satisfied: deprecated>=1.2.9.3 in c:\\users\\janu\\appdata\\roaming\\python\\python311\\site-packages (from llama-index-core<0.11.0,>=0.10.28->llama-index) (1.2.14)\n",
      "Requirement already satisfied: dirtyjson<2.0.0,>=1.0.8 in c:\\users\\janu\\appdata\\roaming\\python\\python311\\site-packages (from llama-index-core<0.11.0,>=0.10.28->llama-index) (1.0.8)\n",
      "Requirement already satisfied: fsspec>=2023.5.0 in c:\\programdata\\anaconda3\\lib\\site-packages (from llama-index-core<0.11.0,>=0.10.28->llama-index) (2023.10.0)\n",
      "Requirement already satisfied: httpx in c:\\users\\janu\\appdata\\roaming\\python\\python311\\site-packages (from llama-index-core<0.11.0,>=0.10.28->llama-index) (0.27.0)\n",
      "Requirement already satisfied: llamaindex-py-client<0.2.0,>=0.1.16 in c:\\users\\janu\\appdata\\roaming\\python\\python311\\site-packages (from llama-index-core<0.11.0,>=0.10.28->llama-index) (0.1.16)\n",
      "Requirement already satisfied: nest-asyncio<2.0.0,>=1.5.8 in c:\\programdata\\anaconda3\\lib\\site-packages (from llama-index-core<0.11.0,>=0.10.28->llama-index) (1.6.0)\n",
      "Requirement already satisfied: networkx>=3.0 in c:\\programdata\\anaconda3\\lib\\site-packages (from llama-index-core<0.11.0,>=0.10.28->llama-index) (3.1)\n",
      "Requirement already satisfied: nltk<4.0.0,>=3.8.1 in c:\\programdata\\anaconda3\\lib\\site-packages (from llama-index-core<0.11.0,>=0.10.28->llama-index) (3.8.1)\n",
      "Requirement already satisfied: numpy in c:\\programdata\\anaconda3\\lib\\site-packages (from llama-index-core<0.11.0,>=0.10.28->llama-index) (1.26.4)\n",
      "Requirement already satisfied: pandas in c:\\programdata\\anaconda3\\lib\\site-packages (from llama-index-core<0.11.0,>=0.10.28->llama-index) (2.1.4)\n",
      "Requirement already satisfied: pillow>=9.0.0 in c:\\programdata\\anaconda3\\lib\\site-packages (from llama-index-core<0.11.0,>=0.10.28->llama-index) (10.2.0)\n",
      "Requirement already satisfied: requests>=2.31.0 in c:\\programdata\\anaconda3\\lib\\site-packages (from llama-index-core<0.11.0,>=0.10.28->llama-index) (2.31.0)\n",
      "Requirement already satisfied: tenacity<9.0.0,>=8.2.0 in c:\\programdata\\anaconda3\\lib\\site-packages (from llama-index-core<0.11.0,>=0.10.28->llama-index) (8.2.2)\n",
      "Requirement already satisfied: tiktoken>=0.3.3 in c:\\users\\janu\\appdata\\roaming\\python\\python311\\site-packages (from llama-index-core<0.11.0,>=0.10.28->llama-index) (0.5.2)\n",
      "Requirement already satisfied: tqdm<5.0.0,>=4.66.1 in c:\\users\\janu\\appdata\\roaming\\python\\python311\\site-packages (from llama-index-core<0.11.0,>=0.10.28->llama-index) (4.66.2)\n",
      "Requirement already satisfied: typing-extensions>=4.5.0 in c:\\programdata\\anaconda3\\lib\\site-packages (from llama-index-core<0.11.0,>=0.10.28->llama-index) (4.9.0)\n",
      "Requirement already satisfied: typing-inspect>=0.8.0 in c:\\users\\janu\\appdata\\roaming\\python\\python311\\site-packages (from llama-index-core<0.11.0,>=0.10.28->llama-index) (0.9.0)\n",
      "Requirement already satisfied: wrapt in c:\\programdata\\anaconda3\\lib\\site-packages (from llama-index-core<0.11.0,>=0.10.28->llama-index) (1.14.1)\n",
      "Requirement already satisfied: beautifulsoup4<5.0.0,>=4.12.3 in c:\\users\\janu\\appdata\\roaming\\python\\python311\\site-packages (from llama-index-readers-file<0.2.0,>=0.1.4->llama-index) (4.12.3)\n",
      "Requirement already satisfied: pymupdf<2.0.0,>=1.23.21 in c:\\users\\janu\\appdata\\roaming\\python\\python311\\site-packages (from llama-index-readers-file<0.2.0,>=0.1.4->llama-index) (1.24.1)\n",
      "Requirement already satisfied: pypdf<5.0.0,>=4.0.1 in c:\\users\\janu\\appdata\\roaming\\python\\python311\\site-packages (from llama-index-readers-file<0.2.0,>=0.1.4->llama-index) (4.2.0)\n",
      "Requirement already satisfied: striprtf<0.0.27,>=0.0.26 in c:\\users\\janu\\appdata\\roaming\\python\\python311\\site-packages (from llama-index-readers-file<0.2.0,>=0.1.4->llama-index) (0.0.26)\n",
      "Requirement already satisfied: llama-parse<0.5.0,>=0.4.0 in c:\\users\\janu\\appdata\\roaming\\python\\python311\\site-packages (from llama-index-readers-llama-parse<0.2.0,>=0.1.2->llama-index) (0.4.0)\n",
      "Requirement already satisfied: aiosignal>=1.1.2 in c:\\programdata\\anaconda3\\lib\\site-packages (from aiohttp<4.0.0,>=3.8.6->llama-index-core<0.11.0,>=0.10.28->llama-index) (1.2.0)\n",
      "Requirement already satisfied: attrs>=17.3.0 in c:\\programdata\\anaconda3\\lib\\site-packages (from aiohttp<4.0.0,>=3.8.6->llama-index-core<0.11.0,>=0.10.28->llama-index) (23.1.0)\n",
      "Requirement already satisfied: frozenlist>=1.1.1 in c:\\programdata\\anaconda3\\lib\\site-packages (from aiohttp<4.0.0,>=3.8.6->llama-index-core<0.11.0,>=0.10.28->llama-index) (1.4.0)\n",
      "Requirement already satisfied: multidict<7.0,>=4.5 in c:\\programdata\\anaconda3\\lib\\site-packages (from aiohttp<4.0.0,>=3.8.6->llama-index-core<0.11.0,>=0.10.28->llama-index) (6.0.4)\n",
      "Requirement already satisfied: yarl<2.0,>=1.0 in c:\\programdata\\anaconda3\\lib\\site-packages (from aiohttp<4.0.0,>=3.8.6->llama-index-core<0.11.0,>=0.10.28->llama-index) (1.9.3)\n",
      "Requirement already satisfied: soupsieve>1.2 in c:\\programdata\\anaconda3\\lib\\site-packages (from beautifulsoup4<5.0.0,>=4.12.3->llama-index-readers-file<0.2.0,>=0.1.4->llama-index) (2.5)\n",
      "Requirement already satisfied: pydantic>=1.10 in c:\\programdata\\anaconda3\\lib\\site-packages (from llamaindex-py-client<0.2.0,>=0.1.16->llama-index-core<0.11.0,>=0.10.28->llama-index) (1.10.12)\n",
      "Requirement already satisfied: anyio in c:\\programdata\\anaconda3\\lib\\site-packages (from httpx->llama-index-core<0.11.0,>=0.10.28->llama-index) (4.2.0)\n",
      "Requirement already satisfied: certifi in c:\\programdata\\anaconda3\\lib\\site-packages (from httpx->llama-index-core<0.11.0,>=0.10.28->llama-index) (2024.2.2)\n",
      "Requirement already satisfied: httpcore==1.* in c:\\users\\janu\\appdata\\roaming\\python\\python311\\site-packages (from httpx->llama-index-core<0.11.0,>=0.10.28->llama-index) (1.0.5)\n",
      "Requirement already satisfied: idna in c:\\programdata\\anaconda3\\lib\\site-packages (from httpx->llama-index-core<0.11.0,>=0.10.28->llama-index) (3.4)\n",
      "Requirement already satisfied: sniffio in c:\\programdata\\anaconda3\\lib\\site-packages (from httpx->llama-index-core<0.11.0,>=0.10.28->llama-index) (1.3.0)\n",
      "Requirement already satisfied: h11<0.15,>=0.13 in c:\\users\\janu\\appdata\\roaming\\python\\python311\\site-packages (from httpcore==1.*->httpx->llama-index-core<0.11.0,>=0.10.28->llama-index) (0.14.0)\n",
      "Requirement already satisfied: click in c:\\programdata\\anaconda3\\lib\\site-packages (from nltk<4.0.0,>=3.8.1->llama-index-core<0.11.0,>=0.10.28->llama-index) (8.1.7)\n",
      "Requirement already satisfied: joblib in c:\\programdata\\anaconda3\\lib\\site-packages (from nltk<4.0.0,>=3.8.1->llama-index-core<0.11.0,>=0.10.28->llama-index) (1.2.0)\n",
      "Requirement already satisfied: regex>=2021.8.3 in c:\\programdata\\anaconda3\\lib\\site-packages (from nltk<4.0.0,>=3.8.1->llama-index-core<0.11.0,>=0.10.28->llama-index) (2023.10.3)\n",
      "Requirement already satisfied: distro<2,>=1.7.0 in c:\\programdata\\anaconda3\\lib\\site-packages (from openai>=1.14.0->llama-index-agent-openai<0.3.0,>=0.1.4->llama-index) (1.8.0)\n",
      "Requirement already satisfied: PyMuPDFb==1.24.1 in c:\\users\\janu\\appdata\\roaming\\python\\python311\\site-packages (from pymupdf<2.0.0,>=1.23.21->llama-index-readers-file<0.2.0,>=0.1.4->llama-index) (1.24.1)\n",
      "Requirement already satisfied: charset-normalizer<4,>=2 in c:\\programdata\\anaconda3\\lib\\site-packages (from requests>=2.31.0->llama-index-core<0.11.0,>=0.10.28->llama-index) (2.0.4)\n",
      "Requirement already satisfied: urllib3<3,>=1.21.1 in c:\\programdata\\anaconda3\\lib\\site-packages (from requests>=2.31.0->llama-index-core<0.11.0,>=0.10.28->llama-index) (2.0.7)\n",
      "Requirement already satisfied: greenlet!=0.4.17 in c:\\programdata\\anaconda3\\lib\\site-packages (from SQLAlchemy>=1.4.49->SQLAlchemy[asyncio]>=1.4.49->llama-index-core<0.11.0,>=0.10.28->llama-index) (3.0.1)\n",
      "Requirement already satisfied: colorama in c:\\programdata\\anaconda3\\lib\\site-packages (from tqdm<5.0.0,>=4.66.1->llama-index-core<0.11.0,>=0.10.28->llama-index) (0.4.6)\n",
      "Requirement already satisfied: mypy-extensions>=0.3.0 in c:\\programdata\\anaconda3\\lib\\site-packages (from typing-inspect>=0.8.0->llama-index-core<0.11.0,>=0.10.28->llama-index) (1.0.0)\n",
      "Requirement already satisfied: marshmallow<4.0.0,>=3.18.0 in c:\\users\\janu\\appdata\\roaming\\python\\python311\\site-packages (from dataclasses-json->llama-index-core<0.11.0,>=0.10.28->llama-index) (3.21.1)\n",
      "Requirement already satisfied: python-dateutil>=2.8.2 in c:\\programdata\\anaconda3\\lib\\site-packages (from pandas->llama-index-core<0.11.0,>=0.10.28->llama-index) (2.8.2)\n",
      "Requirement already satisfied: pytz>=2020.1 in c:\\programdata\\anaconda3\\lib\\site-packages (from pandas->llama-index-core<0.11.0,>=0.10.28->llama-index) (2023.3.post1)\n",
      "Requirement already satisfied: tzdata>=2022.1 in c:\\programdata\\anaconda3\\lib\\site-packages (from pandas->llama-index-core<0.11.0,>=0.10.28->llama-index) (2023.3)\n",
      "Requirement already satisfied: packaging>=17.0 in c:\\users\\janu\\appdata\\roaming\\python\\python311\\site-packages (from marshmallow<4.0.0,>=3.18.0->dataclasses-json->llama-index-core<0.11.0,>=0.10.28->llama-index) (23.2)\n",
      "Requirement already satisfied: six>=1.5 in c:\\programdata\\anaconda3\\lib\\site-packages (from python-dateutil>=2.8.2->pandas->llama-index-core<0.11.0,>=0.10.28->llama-index) (1.16.0)\n"
     ]
    }
   ],
   "source": [
    "!pip install llama-index"
   ]
  },
  {
   "cell_type": "code",
   "execution_count": 2,
   "metadata": {},
   "outputs": [],
   "source": [
    "import os\n",
    "from llama_index.llms.openai import OpenAI\n",
    "from llama_index.core.query_engine import CitationQueryEngine\n",
    "from llama_index.core.retrievers import VectorIndexRetriever\n",
    "from llama_index.core import (\n",
    "    VectorStoreIndex,\n",
    "    SimpleDirectoryReader,\n",
    "    StorageContext,\n",
    "    load_index_from_storage,\n",
    ")"
   ]
  },
  {
   "cell_type": "code",
   "execution_count": null,
   "metadata": {},
   "outputs": [],
   "source": [
    "from llama_index.embeddings.openai import OpenAIEmbedding\n",
    "from llama_index.llms.openai import OpenAI\n",
    "from llama_index.core import Settings\n",
    "\n",
    "Settings.llm = OpenAI(model=\"gpt-3.5-turbo\")\n",
    "Settings.embed_model = OpenAIEmbedding(model=\"text-embedding-3-small\")"
   ]
  },
  {
   "cell_type": "code",
   "execution_count": null,
   "metadata": {},
   "outputs": [],
   "source": []
  },
  {
   "cell_type": "code",
   "execution_count": null,
   "metadata": {},
   "outputs": [],
   "source": [
    "# retriever\n",
    "# model"
   ]
  },
  {
   "cell_type": "code",
   "execution_count": 19,
   "metadata": {},
   "outputs": [],
   "source": [
    "from langchain_core.runnables import RunnableParallel\n",
    "from langchain_core.output_parsers import StrOutputParser\n",
    "from langchain_core.runnables import RunnablePassthrough"
   ]
  },
  {
   "cell_type": "code",
   "execution_count": 23,
   "metadata": {},
   "outputs": [],
   "source": [
    "def format_docs(docs):\n",
    "    return \"\\n\\n\".join(doc.page_content for doc in docs)"
   ]
  },
  {
   "cell_type": "code",
   "execution_count": null,
   "metadata": {},
   "outputs": [],
   "source": []
  },
  {
   "cell_type": "code",
   "execution_count": 20,
   "metadata": {},
   "outputs": [],
   "source": [
    "rag_chain_from_docs = (\n",
    "    RunnablePassthrough.assign(context=(lambda x: format_docs(x[\"context\"])))\n",
    "    | prompt\n",
    "    | model\n",
    "    | StrOutputParser()\n",
    ")"
   ]
  },
  {
   "cell_type": "code",
   "execution_count": 21,
   "metadata": {},
   "outputs": [],
   "source": [
    "rag_chain_with_source = RunnableParallel(\n",
    "    {\"context\": retriever, \"question\": RunnablePassthrough()}\n",
    ").assign(answer=rag_chain_from_docs)"
   ]
  },
  {
   "cell_type": "code",
   "execution_count": 25,
   "metadata": {},
   "outputs": [],
   "source": [
    "response = rag_chain_with_source.invoke(\"what is the net income of the company for 2023?\")"
   ]
  },
  {
   "cell_type": "code",
   "execution_count": 35,
   "metadata": {},
   "outputs": [
    {
     "name": "stdout",
     "output_type": "stream",
     "text": [
      "{'context': [Document(page_content='Year Ended December 31, 2023\\n(dollars in millions)Consumer\\nBankingCommercial\\nBanking Non-Core Other Consolidated\\nNet interest income $4,187 $2,292 ($129) ($109) $6,241 \\nNoninterest income 1,067 784 — 132 1,983 \\nTotal revenue 5,254 3,076 (129) 23 8,224 \\nNoninterest expense 3,542 1,295 123 547 5,507 \\nProfit (loss) before provision (benefit) for credit losses 1,712 1,781 (252) (524) 2,717 \\nProvision (benefit) for credit losses 280 250 78 79 687 \\nIncome (loss) before income tax expense (benefit) 1,432 1,531 (330) (603) 2,030 \\nIncome tax expense (benefit) 373 378 (86) (243) 422 \\nNet income (loss) $1,059 $1,153 ($244) ($360) $1,608 \\nTotal average assets $72,693 $76,028 $13,745 $59,755 $222,221 \\nYear Ended December 31, 2022\\n(dollars in millions)Consumer\\nBankingCommercial\\nBanking Non-Core Other Consolidated\\nNet interest income $3,649 $2,103 $378 ($118) $6,012 \\nNoninterest income 1,063 845 — 101 2,009 \\nTotal revenue 4,712 2,948 378 (17) 8,021 \\nNoninterest expense 3,255 1,223 136 278 4,892'), Document(page_content='•Total revenue increased $203 million to $8.2 billion compared to 2022, driven by an increase of 4% in net interest income, including the\\nimpacts of the HSBC transaction and Investors acquisition.\\n•The efficiency ratio of 67.0% compared to 61.0% in 2022.\\n◦On an Underlying basis, the efficiency ratio of 60.8% compared to 57.5% in 2022.\\n•ROTCE of 10.9% compared to 13.9% in 2022.\\n◦On an Underlying basis, ROTCE of 13.5% compared to 16.4%.\\n•Tangible book value per common share of $30.91 increased 11% from 2022.\\nFor additional information regarding our financial performance, see “Results of Operations — 2023 compared with 2022” included in this\\nreport.(1) (2) (3)\\n(1) (2) (4)\\n(1)\\n(2) \\n(3) \\n(4)\\nCitizens Financial Group, Inc. | 39RESULTS OF OPERATIONS — 2023 compared with 2022\\nNet Interest Income\\nNet interest income is our largest source of revenue and is the difference between the interest earned on interest-earning assets'), Document(page_content='(dollars in millions) 2023 2022 2021\\nOPERATING ACTIVITIES\\nNet income $1,608 $2,073 $2,319 \\nAdjustments to reconcile net income to net change in cash due to operating activities:\\nProvision (benefit) for credit losses 687 474 (411)\\nNet change in loans held for sale, at fair value 98 1,733 1,085 \\nDepreciation, amortization and accretion 478 565 625 \\nDeferred income tax expense (benefit) (242) 57 (429)\\nShare-based compensation 87 84 59 \\nNet gain on sale of assets (28) (9) (11)\\nNet (increase) decrease in other assets 612 (1,894) (1,719)\\nNet increase (decrease) in other liabilities (339) 1,036 757 \\nNet change due to operating activities 2,961 4,119 2,275 \\nINVESTING ACTIVITIES\\nInvestment securities:\\nPurchases of debt securities available for sale (10,087) (10,776) (12,406)\\nProceeds from maturities and paydowns of debt securities available for sale 2,001 3,422 7,810 \\nProceeds from sales of debt securities available for sale 2,941 1,178 790'), Document(page_content='investment, equipment and software driven by software maintenance and amortization costs, and other operating expense associated with\\nadvertising and fraud losses.\\nNet charge-offs increased $106 million compared to 2022, driven by other retail and education as credit losses continue to gradually\\nnormalize from pandemic-era lows.\\nCommercial Banking\\nNet interest income increased $189 million compared to 2022, driven by higher net interest margin reflecting higher interest-earning\\nasset yields given higher market interest rates and growth in average interest-earning assets, including the impact of the Investors acquisition.\\nThis increase was partially offset by higher funding costs.\\nNoninterest income decreased $61 million compared to 2022, driven by capital markets fees reflecting lower loan syndication,\\nunderwriting and M&A advisory fees, and foreign exchange and derivative products revenue reflecting lower client hedging activity. This decline')], 'question': 'what is the net income of the company for 2023?', 'answer': 'The net income of the company for 2023 is $1,608 million.'}\n"
     ]
    }
   ],
   "source": [
    "print(response)"
   ]
  },
  {
   "cell_type": "code",
   "execution_count": null,
   "metadata": {},
   "outputs": [],
   "source": []
  }
 ],
 "metadata": {
  "colab": {
   "provenance": []
  },
  "gpuClass": "standard",
  "kernelspec": {
   "display_name": "Python 3 (ipykernel)",
   "language": "python",
   "name": "python3"
  },
  "language_info": {
   "codemirror_mode": {
    "name": "ipython",
    "version": 3
   },
   "file_extension": ".py",
   "mimetype": "text/x-python",
   "name": "python",
   "nbconvert_exporter": "python",
   "pygments_lexer": "ipython3",
   "version": "3.11.7"
  }
 },
 "nbformat": 4,
 "nbformat_minor": 4
}
