{
 "cells": [
  {
   "cell_type": "code",
   "execution_count": null,
   "id": "f4a242c1-788d-461f-8471-2615a3b2835f",
   "metadata": {},
   "outputs": [],
   "source": [
    "!pip install pymongo"
   ]
  },
  {
   "cell_type": "code",
   "execution_count": 1,
   "id": "7639b793",
   "metadata": {},
   "outputs": [],
   "source": [
    "import pymongo\n",
    "\n",
    "from pymongo import MongoClient"
   ]
  },
  {
   "cell_type": "code",
   "execution_count": 2,
   "id": "6650ad08",
   "metadata": {},
   "outputs": [],
   "source": [
    "client = MongoClient(\"localhost\", 27017)"
   ]
  },
  {
   "cell_type": "code",
   "execution_count": 3,
   "id": "c75ecf09",
   "metadata": {},
   "outputs": [
    {
     "data": {
      "text/plain": [
       "Database(MongoClient(host=['localhost:27017'], document_class=dict, tz_aware=False, connect=True), 'test')"
      ]
     },
     "execution_count": 3,
     "metadata": {},
     "output_type": "execute_result"
    }
   ],
   "source": [
    "db = client['test']\n",
    "\n",
    "db"
   ]
  },
  {
   "cell_type": "code",
   "execution_count": null,
   "id": "163f3a36",
   "metadata": {},
   "outputs": [],
   "source": [
    "db.noresponse.insert_many([\n",
    "    {\"_id\": 1, \"response\": \"I’m sorry, but that’s like asking a toaster to make a salad. Let’s try something else!\"},\n",
    "    {\"_id\": 2, \"response\": \"Oops! That question flew over my circuits. Can we try a ground ball instead?\"},\n",
    "    {\"_id\": 3, \"response\": \"Hmm, that’s like asking a fish to juggle. Can we try another question?\"},\n",
    "    {\"_id\": 4, \"response\": \"That’s a great question, but it’s like asking a cactus to sing. Can we try something else?\"},\n",
    "    {\"_id\": 5, \"response\": \"I’m afraid that’s like asking a penguin to sunbathe. Can we navigate back to cooler waters?\"},\n",
    "    {\"_id\": 6, \"response\": \"That’s outside my knowledge base. It’s like asking a snail to run a marathon!\"},\n",
    "    {\"_id\": 7, \"response\": \"I’m sorry, but that’s like asking a robot to do a cartwheel. Can we try another question?\"},\n",
    "    {\"_id\": 8, \"response\": \"That’s a bit like asking a cat to moo. They’re great at meowing, but mooing isn’t their thing. Can we try another question?\"},\n",
    "    {\"_id\": 9, \"response\": \"Hmm, that’s like asking a squirrel to do your taxes. Can we explore another topic?\"},\n",
    "    {\"_id\": 10, \"response\": \"I’m afraid that’s like asking a potato to dance. Can we try another question?\"},\n",
    "    {\"_id\": 11, \"response\": \"That’s like asking a robot to cry at a sad movie. Can we try another question?\"},\n",
    "    {\"_id\": 12, \"response\": \"Hmm, that’s like asking a turtle to do a backflip. Can we explore another topic?\"},\n",
    "    {\"_id\": 13, \"response\": \"I’m sorry, but that’s like asking a chicken to bark. Let’s try something else!\"},\n",
    "    {\"_id\": 14, \"response\": \"Oops! That question is like asking a tree to walk. Can we try a different one?\"},\n",
    "    {\"_id\": 15, \"response\": \"That’s a great question, but it’s like asking a cloud to dance. Can we try something else?\"},\n",
    "    {\"_id\": 16, \"response\": \"I’m afraid that’s like asking a rock to swim. Can we navigate back to solid ground?\"},\n",
    "    {\"_id\": 17, \"response\": \"That’s a bit like asking a dog to meow. They’re great at barking, but meowing isn’t their thing. Can we try another question?\"},\n",
    "    {\"_id\": 18, \"response\": \"Hmm, that’s like asking a rabbit to roar. Can we explore another topic?\"},\n",
    "    {\"_id\": 19, \"response\": \"I’m sorry, but that’s like asking a robot to fall in love. Can we try another question?\"},\n",
    "    {\"_id\": 20, \"response\": \"That’s a bit like asking a mouse to roar like a lion. Can we try another question?\"}\n",
    "])\n"
   ]
  },
  {
   "cell_type": "code",
   "execution_count": 4,
   "id": "5984fd68",
   "metadata": {},
   "outputs": [],
   "source": [
    "#response_from_llm = \"The retrieved documents do not contain information about the process for SVP report. Therefore, I'm unable to provide an answer based on the retrieved documents.\"\n",
    "response_from_llm = False"
   ]
  },
  {
   "cell_type": "code",
   "execution_count": 5,
   "id": "487ce1e6",
   "metadata": {},
   "outputs": [],
   "source": [
    "import random\n",
    "\n",
    "def get_random_response(db):\n",
    "    # Check if the response from the language model is empty\n",
    "    if response_from_llm == False:\n",
    "        # Fetch all responses from MongoDB\n",
    "        responses = list(db.noresponse.find({}, {'_id': 0, 'response': 1}))\n",
    "        \n",
    "        # Select a random response\n",
    "        random_response = random.choice(responses)\n",
    "        \n",
    "        return random_response['response']\n",
    "    else:\n",
    "        return response_from_llm  # If response from LLM is not empty, return it\n"
   ]
  },
  {
   "cell_type": "code",
   "execution_count": 6,
   "id": "4c484f8b",
   "metadata": {},
   "outputs": [
    {
     "data": {
      "text/plain": [
       "'That’s outside my knowledge base. It’s like asking a snail to run a marathon!'"
      ]
     },
     "execution_count": 6,
     "metadata": {},
     "output_type": "execute_result"
    }
   ],
   "source": [
    "get_random_response(db)"
   ]
  },
  {
   "cell_type": "code",
   "execution_count": 10,
   "id": "ac4669bd",
   "metadata": {},
   "outputs": [],
   "source": [
    "#json_response = {\"id\": \"819871ff-2ddb-4b23-adad-fea481dd1ee5\", \"model\": \"gpt-35-turbo\", \"created\": 1715776170, \"object\": \"extensions.chat.completion\", \"choices\": [{\"messages\": [{\"role\": \"tool\", \"content\": \"{\\\"citations\\\": []}\", \"SPPath\": \"https://cognizantonline-my.sharepoint.com/:f:/r/personal/497299_cognizant_com/Documents/Desktop/WIP/T%26E%20-%20PD\"}, {\"role\": \"assistant\", \"content\": \"The requested information is not found in the retrieved data. Please try another query or topic.\"}]}], \"history_metadata\": {}}\n",
    "json_response = {\"id\": \"ffcb835d-7fe4-47db-848f-96781264f94b\", \"model\": \"gpt-35-turbo\", \"created\": 1715773860, \"object\": \"extensions.chat.completion\", \"choices\": [{\"messages\": [{\"role\": \"tool\", \"content\": \"{\\\"citations\\\": [{\\\"content\\\": \\\"o Baggage wrapping charges. \\\\no Additional travel insurance not covered by the Corporate Card \\\\no Airline hospitality clubs v. Global Entry or TSA Pre-Check \\\\no In-flight headsets, entertainment, or travel kits \\\\no Any costs relating to usage of personal aircraft including, but not limited to fuel, insurance, payments \\\\n\\\\nto pilots. Usage of personal aircraft for business travel is explicitly prohibited. \\\\n\\\\n \\\\nBaggage \\\\n\\\\n \\\\nCognizant will cover a maximum of 4 bags / 100kg including any airline baggage allowance for the entire party \\\\ntraveling with the employee. The employee\\\\u2019s dependents are entitled to one bag (25kg) including any airline \\\\nbaggage allowance when they travel separately at a different time than the employee. \\\\n\\\\n \\\\nFor example, you are allowed to expense 4 pieces of baggage with a maximum combined weight of 100kg. If the \\\\nairline offers 1 free checked bag, employee can check 3 additional bags and expense for 3 pieces. If you are \\\\nchecking in a fifth bag, it is not reimbursable. If your bags are over the weight and/or size allowed by the airline, \\\\n\\\\n4 \\\\n\\\\nCognizant Confidential and/or Trade Secret \\\\nInternal Use Only \\\\n\\\\nDomestic Relocation Policy \\\\n\\\\n \\\\n\\\\n \\\\n\\\\n \\\\n \\\\n \\\\n\\\\n \\\\nany additional fees incurred are not reimbursable. \\\\n\\\\n \\\\n\\\\nAny additional excess baggage fee is at the employee\\\\u2019s own cost. Employees must weigh this cost against the \\\\npotential cost of shipping goods and choose the most cost-effective method. \\\\n\\\\nLease Breakage Policy \\\\n\\\\nPlease view the policy here. \\\\n\\\\nException Approval \\\\n\\\\nIn situations where an employee would like to reimburse additional reasonable relocation costs (shipping, flight, \\\\nor baggage), an exceptional approval will be required from the Account Lead/Client Partner and HR Lead in \\\\nAustralia. \\\\n\\\\n \\\\n \\\\n\\\\nQuestions \\\\n \\\\n\\\\nPlease reach out to Booking Travel (sharepoint.com) for further queries on Domestic Relocation. \\\\n\\\\nhttps://cognizantonline.sharepoint.com/sites/GlobalMobility/SitePages/International-Relocation.aspx#lease-breakage\\\\nhttps://cognizantonline.sharepoint.com/sites/CorporateFunctions/SitePages/n.aspx\\\\n\\\\n5 \\\\n\\\\nCognizant Confidential and/or Trade Secret \\\\nInternal Use Only \\\\n\\\\nDomestic Relocation Policy \\\\n\\\\n \\\\n\\\\n \\\\n\\\\n \\\\n \\\\n \\\\n \\\\n\\\\n2.0 India \\\\n \\\\n\\\\n2.1 Domestic Relocation \\\\n\\\\nIntroduction \\\\n\\\\nTo provide guidelines around the eligibility, terms, and conditions towards relocation of candidates and \\\\ntransfer of Cognizant associates. The policy is effective from 01 Sep 2019. \\\\n\\\\n \\\\nScope \\\\n\\\\n \\\\nThe policy covers: \\\\n\\\\n\\\\u2022 All India based associates transferred on permanent basis across Cognizant Technology \\\\nSolutions India Pvt. Ltd. and its Indian affiliate\\\\u2019s locations. \\\\n\\\\n\\\\u2022 Candidates joining Cognizant and are relocating from one location to another in India. \\\\n \\\\n\\\\nDefinitions \\\\n \\\\n\\\\nTAG: Talent Acquisition Group \\\\n \\\\n\\\\nDependent: Spouse or domestic partner co-habiting and minor children of Associate or spouse/partner \\\\nrelocating with the Associate \\\\n\\\\n \\\\nEntitlement Period: Period of 14 calendar days from the date of reaching the destination \\\\n\\\\nTransfer/relocation: Permanent relocation from one location to another Cognizant location within India \\\\n\\\\nTransfer/relocation: Permanent relocation from one location to another Cognizant location within India \\\\n\\\\nHRBP: Human Resources Business Partner \\\\n\\\\n \\\\nEligibility \\\\n\\\\n \\\\n\\\\u2022 All India based associates transferred on permanent basis across Cognizant-India locations. \\\\n\\\\u2022 Candidates joining Cognizant and are relocating from one location to another in India. \\\\n\\\\n \\\\nThe following table describes the entitlements under this policy: \\\\n\\\\n \\\\n \\\\n \\\\n\\\\nCategory Entitlement \\\\n\\\\n6 \\\\n\\\\nCognizant Confidential and/or Trade Secret \\\\nInternal Use Only \\\\n\\\\nDomestic Relocation Policy \\\\n\\\\n \\\\n\\\\n \\\\n\\\\n \\\\n \\\\n \\\\n\\\\n \\\\nTravel &amp; Accommodation Associate and three dependents will be entitled for \\\\n\\\\ntravel and stay as per Global Travel Policy. For details, \\\\nplease refer Navigation path\\\\nCognizant Confidential and/or Trade Secret\\\", \\\"id\\\": null, \\\"title\\\": \\\"Cognizant Confidential and/or Trade Secret\\\", \\\"filepath\\\": \\\"02_Domestic Relocation Policy.pdf\\\", \\\"url\\\": \\\"https://travelexpensedocspoc.blob.core.windows.net/fileupload-policyindex/02_Domestic%20Relocation%20Policy.pdf\\\", \\\"metadata\\\": null, \\\"chunk_id\\\": \\\"0\\\"}]}\", \"SPPath\": \"https://cognizantonline-my.sharepoint.com/:f:/r/personal/497299_cognizant_com/Documents/Desktop/WIP/T%26E%20-%20PD\"}, {\"role\": \"assistant\", \"content\": \"Based on the Domestic Relocation Policy of Cognizant, associates and candidates joining Cognizant and relocating are entitled to the reimbursement of expenses incurred towards transferring their personal effects and insurance costs, subject to specified limits. The reimbursement limits vary based on the level, with the highest level being eligible for INR 1,00,000 [doc1]. However, it is important to note that all expense claims, including movement of personal effects, should be submitted with relevant invoices, bills, and bank transaction proof [doc1]. Additionally, claims towards moving personal goods need to be raised within 60 days from the date of relocation [doc1].\\n\\nIf you have further questions about the Domestic Relocation Policy, it is recommended to reach out to the appropriate channels within Cognizant for further queries [doc1].\\n\\nPlease refer to the official policy documents for comprehensive information on the eligibility and process for goods transfer during relocation.\"}]}], \"history_metadata\": {}}"
   ]
  },
  {
   "cell_type": "code",
   "execution_count": 13,
   "id": "35f74978",
   "metadata": {},
   "outputs": [
    {
     "name": "stdout",
     "output_type": "stream",
     "text": [
      "{'id': 'ffcb835d-7fe4-47db-848f-96781264f94b', 'model': 'gpt-35-turbo', 'created': 1715773860, 'object': 'extensions.chat.completion', 'choices': [{'messages': [{'role': 'tool', 'content': '{\"citations\": [{\"content\": \"o Baggage wrapping charges. \\\\no Additional travel insurance not covered by the Corporate Card \\\\no Airline hospitality clubs v. Global Entry or TSA Pre-Check \\\\no In-flight headsets, entertainment, or travel kits \\\\no Any costs relating to usage of personal aircraft including, but not limited to fuel, insurance, payments \\\\n\\\\nto pilots. Usage of personal aircraft for business travel is explicitly prohibited. \\\\n\\\\n \\\\nBaggage \\\\n\\\\n \\\\nCognizant will cover a maximum of 4 bags / 100kg including any airline baggage allowance for the entire party \\\\ntraveling with the employee. The employee\\\\u2019s dependents are entitled to one bag (25kg) including any airline \\\\nbaggage allowance when they travel separately at a different time than the employee. \\\\n\\\\n \\\\nFor example, you are allowed to expense 4 pieces of baggage with a maximum combined weight of 100kg. If the \\\\nairline offers 1 free checked bag, employee can check 3 additional bags and expense for 3 pieces. If you are \\\\nchecking in a fifth bag, it is not reimbursable. If your bags are over the weight and/or size allowed by the airline, \\\\n\\\\n4 \\\\n\\\\nCognizant Confidential and/or Trade Secret \\\\nInternal Use Only \\\\n\\\\nDomestic Relocation Policy \\\\n\\\\n \\\\n\\\\n \\\\n\\\\n \\\\n \\\\n \\\\n\\\\n \\\\nany additional fees incurred are not reimbursable. \\\\n\\\\n \\\\n\\\\nAny additional excess baggage fee is at the employee\\\\u2019s own cost. Employees must weigh this cost against the \\\\npotential cost of shipping goods and choose the most cost-effective method. \\\\n\\\\nLease Breakage Policy \\\\n\\\\nPlease view the policy here. \\\\n\\\\nException Approval \\\\n\\\\nIn situations where an employee would like to reimburse additional reasonable relocation costs (shipping, flight, \\\\nor baggage), an exceptional approval will be required from the Account Lead/Client Partner and HR Lead in \\\\nAustralia. \\\\n\\\\n \\\\n \\\\n\\\\nQuestions \\\\n \\\\n\\\\nPlease reach out to Booking Travel (sharepoint.com) for further queries on Domestic Relocation. \\\\n\\\\nhttps://cognizantonline.sharepoint.com/sites/GlobalMobility/SitePages/International-Relocation.aspx#lease-breakage\\\\nhttps://cognizantonline.sharepoint.com/sites/CorporateFunctions/SitePages/n.aspx\\\\n\\\\n5 \\\\n\\\\nCognizant Confidential and/or Trade Secret \\\\nInternal Use Only \\\\n\\\\nDomestic Relocation Policy \\\\n\\\\n \\\\n\\\\n \\\\n\\\\n \\\\n \\\\n \\\\n \\\\n\\\\n2.0 India \\\\n \\\\n\\\\n2.1 Domestic Relocation \\\\n\\\\nIntroduction \\\\n\\\\nTo provide guidelines around the eligibility, terms, and conditions towards relocation of candidates and \\\\ntransfer of Cognizant associates. The policy is effective from 01 Sep 2019. \\\\n\\\\n \\\\nScope \\\\n\\\\n \\\\nThe policy covers: \\\\n\\\\n\\\\u2022 All India based associates transferred on permanent basis across Cognizant Technology \\\\nSolutions India Pvt. Ltd. and its Indian affiliate\\\\u2019s locations. \\\\n\\\\n\\\\u2022 Candidates joining Cognizant and are relocating from one location to another in India. \\\\n \\\\n\\\\nDefinitions \\\\n \\\\n\\\\nTAG: Talent Acquisition Group \\\\n \\\\n\\\\nDependent: Spouse or domestic partner co-habiting and minor children of Associate or spouse/partner \\\\nrelocating with the Associate \\\\n\\\\n \\\\nEntitlement Period: Period of 14 calendar days from the date of reaching the destination \\\\n\\\\nTransfer/relocation: Permanent relocation from one location to another Cognizant location within India \\\\n\\\\nTransfer/relocation: Permanent relocation from one location to another Cognizant location within India \\\\n\\\\nHRBP: Human Resources Business Partner \\\\n\\\\n \\\\nEligibility \\\\n\\\\n \\\\n\\\\u2022 All India based associates transferred on permanent basis across Cognizant-India locations. \\\\n\\\\u2022 Candidates joining Cognizant and are relocating from one location to another in India. \\\\n\\\\n \\\\nThe following table describes the entitlements under this policy: \\\\n\\\\n \\\\n \\\\n \\\\n\\\\nCategory Entitlement \\\\n\\\\n6 \\\\n\\\\nCognizant Confidential and/or Trade Secret \\\\nInternal Use Only \\\\n\\\\nDomestic Relocation Policy \\\\n\\\\n \\\\n\\\\n \\\\n\\\\n \\\\n \\\\n \\\\n\\\\n \\\\nTravel &amp; Accommodation Associate and three dependents will be entitled for \\\\n\\\\ntravel and stay as per Global Travel Policy. For details, \\\\nplease refer Navigation path\\\\nCognizant Confidential and/or Trade Secret\", \"id\": null, \"title\": \"Cognizant Confidential and/or Trade Secret\", \"filepath\": \"02_Domestic Relocation Policy.pdf\", \"url\": \"https://travelexpensedocspoc.blob.core.windows.net/fileupload-policyindex/02_Domestic%20Relocation%20Policy.pdf\", \"metadata\": null, \"chunk_id\": \"0\"}]}', 'SPPath': 'https://cognizantonline-my.sharepoint.com/:f:/r/personal/497299_cognizant_com/Documents/Desktop/WIP/T%26E%20-%20PD'}, {'role': 'assistant', 'content': 'Based on the Domestic Relocation Policy of Cognizant, associates and candidates joining Cognizant and relocating are entitled to the reimbursement of expenses incurred towards transferring their personal effects and insurance costs, subject to specified limits. The reimbursement limits vary based on the level, with the highest level being eligible for INR 1,00,000 [doc1]. However, it is important to note that all expense claims, including movement of personal effects, should be submitted with relevant invoices, bills, and bank transaction proof [doc1]. Additionally, claims towards moving personal goods need to be raised within 60 days from the date of relocation [doc1].\\n\\nIf you have further questions about the Domestic Relocation Policy, it is recommended to reach out to the appropriate channels within Cognizant for further queries [doc1].\\n\\nPlease refer to the official policy documents for comprehensive information on the eligibility and process for goods transfer during relocation.'}]}], 'history_metadata': {}}\n"
     ]
    }
   ],
   "source": [
    "#import json\n",
    "#json_response = (json.dumps(json_response))\n",
    "print(json_response)"
   ]
  },
  {
   "cell_type": "code",
   "execution_count": 11,
   "id": "6df48412",
   "metadata": {},
   "outputs": [],
   "source": [
    "# Function to extract content where role is assistant\n",
    "def extract_assistant_content(json_response):\n",
    "    messages = json_response.get(\"choices\", [])[0].get(\"messages\", [])\n",
    "    assistant_contents = [message[\"content\"] for message in messages if message[\"role\"] == \"assistant\"]\n",
    "    return assistant_contents\n",
    "\n",
    "#compare the content with the keyword matching\n",
    "\n",
    "#compare the content with the ML model\n",
    "\n",
    "#check if citation is available in the response or not\n",
    "\n",
    "#create a function to check these three parameters and respond it."
   ]
  },
  {
   "cell_type": "code",
   "execution_count": 14,
   "id": "61b54899",
   "metadata": {},
   "outputs": [
    {
     "name": "stdout",
     "output_type": "stream",
     "text": [
      "Content from JSON Response:\n",
      "['Based on the Domestic Relocation Policy of Cognizant, associates and candidates joining Cognizant and relocating are entitled to the reimbursement of expenses incurred towards transferring their personal effects and insurance costs, subject to specified limits. The reimbursement limits vary based on the level, with the highest level being eligible for INR 1,00,000 [doc1]. However, it is important to note that all expense claims, including movement of personal effects, should be submitted with relevant invoices, bills, and bank transaction proof [doc1]. Additionally, claims towards moving personal goods need to be raised within 60 days from the date of relocation [doc1].\\n\\nIf you have further questions about the Domestic Relocation Policy, it is recommended to reach out to the appropriate channels within Cognizant for further queries [doc1].\\n\\nPlease refer to the official policy documents for comprehensive information on the eligibility and process for goods transfer during relocation.']\n"
     ]
    }
   ],
   "source": [
    "\n",
    "# Extract content for both JSON responses\n",
    "content = extract_assistant_content(json_response)\n",
    "\n",
    "# Print the extracted content\n",
    "print(\"Content from JSON Response:\")\n",
    "print(content)\n"
   ]
  },
  {
   "cell_type": "markdown",
   "id": "3bcd17af",
   "metadata": {},
   "source": [
    "### Keyword Matching"
   ]
  },
  {
   "cell_type": "code",
   "execution_count": 16,
   "id": "7eccbf5c",
   "metadata": {},
   "outputs": [],
   "source": [
    "# Predefined \"no data\" keywords\n",
    "no_data_keywords = [\n",
    "    \"not found\",\n",
    "    \"no results\",\n",
    "    \"empty\",\n",
    "    \"no matches\",\n",
    "    \"couldn't find any relevant data\",\n",
    "    \"0\",\n",
    "    \"This question is out of domain.\",\n",
    "    \"This question is out of the scope of the retrieved documents.\",\n",
    "    \"Based on the information provided, the eligibility for goods transfer during relocation is not explicitly mentioned in the retrieved documents. Therefore, I cannot provide a specific answer regarding the eligibility for goods transfer during relocation based on the retrieved documents. If you have specific questions about the relocation policy, it would be best to refer to the official policy documents or reach out to the relevant department for clarification.\",\n",
    "    \"Based on the information provided, you can claim the expenses incurred during your business trip of 14 days, which exceeded 2 days for business requirement, under the 'Repatriation Claims - Process (Global)' policy. This policy covers expenses related to repatriation, including baggage, hotel, COVID-19 medical tests, ground transportation, individual meals, and other related expenses. It provides detailed guidelines and supporting documents required for claiming various types of expenses during such trips.\",\n",
    "    \"The requested information is not found in the retrieved data. Please try another query or topic.\",\n",
    "    \"The retrieved documents do not contain specific information on how to change the policy in Concur. Therefore, I am unable to provide a direct answer based on the retrieved documents.\",\n",
    "    \"Error Message\",\n",
    "    \"The requested information is not found in the retrieved data. Please try another query or topic.-No guidelines for Depedents relocation Airfare expenses found\",\n",
    "    \"The SOX documentation to be followed is not specified in the retrieved documents. Therefore, the specific SOX documentation to be followed is not available in the provided documents.\",\n",
    "    \"Based on the retrieved documents, there is no specific mention of the frequency with which reports should be run to ascertain the amount outstanding with Amex. Therefore, the exact number of times in a week to run the reports for this purpose is not provided in the documents.\",\n",
    "    \"This is out of Domain.\"\n",
    "]"
   ]
  },
  {
   "cell_type": "code",
   "execution_count": 20,
   "id": "21402189",
   "metadata": {},
   "outputs": [],
   "source": [
    "import re\n",
    "\n",
    "class NoDataFoundDetector:\n",
    "    def __init__(self, keywords):\n",
    "        self.keywords = keywords\n",
    "        self.keyword_patterns = [re.compile(r'\\b{}\\b'.format(keyword), re.IGNORECASE) for keyword in keywords]\n",
    "    \n",
    "    def detect(self, response):\n",
    "        for pattern in self.keyword_patterns:\n",
    "            if pattern.search(response):\n",
    "                return True\n",
    "        return False"
   ]
  },
  {
   "cell_type": "code",
   "execution_count": 25,
   "id": "f05e54f4",
   "metadata": {},
   "outputs": [],
   "source": [
    "\n",
    "# Initialize the detector\n",
    "detector = NoDataFoundDetector(no_data_keywords)\n",
    "\n",
    "# Detect if each response indicates no data found\n",
    "def check_responses(responses):\n",
    "    for response in responses:\n",
    "        if detector.detect(response):\n",
    "            return False  # No data found\n",
    "        else:\n",
    "            return True  # Data found"
   ]
  },
  {
   "cell_type": "code",
   "execution_count": 27,
   "id": "dcdf7f69",
   "metadata": {},
   "outputs": [],
   "source": [
    "response_received = check_responses(content)"
   ]
  },
  {
   "cell_type": "code",
   "execution_count": 28,
   "id": "4dda0e46",
   "metadata": {},
   "outputs": [
    {
     "data": {
      "text/plain": [
       "True"
      ]
     },
     "execution_count": 28,
     "metadata": {},
     "output_type": "execute_result"
    }
   ],
   "source": [
    "response_received"
   ]
  },
  {
   "cell_type": "code",
   "execution_count": 29,
   "id": "c142f584",
   "metadata": {},
   "outputs": [],
   "source": [
    "from sentence_transformers import SentenceTransformer, util\n",
    "import numpy as np"
   ]
  },
  {
   "cell_type": "code",
   "execution_count": 30,
   "id": "3f59bf6e",
   "metadata": {},
   "outputs": [],
   "source": [
    "# Initialize the model\n",
    "model = SentenceTransformer('all-MiniLM-L6-v2')\n",
    "\n",
    "# Encode the predefined keywords\n",
    "keyword_embeddings = model.encode(no_data_keywords)\n",
    "\n",
    "def is_no_data_response(response, threshold=0.75):\n",
    "    # Encode the response\n",
    "    response_embedding = model.encode(response)\n",
    "    \n",
    "    # Compute cosine similarities\n",
    "    cosine_scores = util.cos_sim(response_embedding, keyword_embeddings)[0]\n",
    "    \n",
    "    # Check if any similarity score is above the threshold\n",
    "    return any(score > threshold for score in cosine_scores)"
   ]
  },
  {
   "cell_type": "code",
   "execution_count": 31,
   "id": "f6b29b20",
   "metadata": {},
   "outputs": [],
   "source": [
    "# Example usage\n",
    "result = is_no_data_response(content)"
   ]
  },
  {
   "cell_type": "code",
   "execution_count": 33,
   "id": "6fde14d1",
   "metadata": {},
   "outputs": [
    {
     "data": {
      "text/plain": [
       "False"
      ]
     },
     "execution_count": 33,
     "metadata": {},
     "output_type": "execute_result"
    }
   ],
   "source": [
    "result"
   ]
  },
  {
   "cell_type": "code",
   "execution_count": 38,
   "id": "2e2ef5c4",
   "metadata": {},
   "outputs": [],
   "source": [
    "import json\n",
    "\n",
    "def is_citation_empty(data):\n",
    "    \n",
    "    # Extract the content of the \"tool\" message\n",
    "    tool_message_content = None\n",
    "    for choice in data.get(\"choices\", []):\n",
    "        for message in choice.get(\"messages\", []):\n",
    "            if message.get(\"role\") == \"tool\":\n",
    "                tool_message_content = message.get(\"content\")\n",
    "                break\n",
    "    \n",
    "    # If the tool message content is found, parse it\n",
    "    if tool_message_content:\n",
    "        tool_content_data = json.loads(tool_message_content)\n",
    "        # Check if the citations list is empty\n",
    "        return len(tool_content_data.get(\"citations\", [])) == 0\n",
    "    \n",
    "    # Return False if the citations field is not found\n",
    "    return False"
   ]
  },
  {
   "cell_type": "code",
   "execution_count": 39,
   "id": "c0be948b",
   "metadata": {},
   "outputs": [
    {
     "name": "stdout",
     "output_type": "stream",
     "text": [
      "False\n"
     ]
    }
   ],
   "source": [
    "# Call the function and print the result\n",
    "result = is_citation_empty(json_response)\n",
    "print(result)  # Output: True"
   ]
  },
  {
   "cell_type": "code",
   "execution_count": null,
   "id": "c16e8b9a",
   "metadata": {},
   "outputs": [],
   "source": []
  }
 ],
 "metadata": {
  "kernelspec": {
   "display_name": "Python 3 (ipykernel)",
   "language": "python",
   "name": "python3"
  },
  "language_info": {
   "codemirror_mode": {
    "name": "ipython",
    "version": 3
   },
   "file_extension": ".py",
   "mimetype": "text/x-python",
   "name": "python",
   "nbconvert_exporter": "python",
   "pygments_lexer": "ipython3",
   "version": "3.11.9"
  }
 },
 "nbformat": 4,
 "nbformat_minor": 5
}
