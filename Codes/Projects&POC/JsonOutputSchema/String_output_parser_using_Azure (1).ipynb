{
 "cells": [
  {
   "cell_type": "code",
   "execution_count": null,
   "id": "6ivR9_v7XKcx",
   "metadata": {
    "colab": {
     "base_uri": "https://localhost:8080/"
    },
    "id": "6ivR9_v7XKcx",
    "outputId": "aabcf833-7302-44d6-c2b4-a1ff9602403f"
   },
   "outputs": [
    {
     "name": "stdout",
     "output_type": "stream",
     "text": [
      "Requirement already satisfied: langchain_openai in /usr/local/lib/python3.10/dist-packages (0.1.3)\n",
      "Requirement already satisfied: langchain-core<0.2.0,>=0.1.42 in /usr/local/lib/python3.10/dist-packages (from langchain_openai) (0.1.45)\n",
      "Requirement already satisfied: openai<2.0.0,>=1.10.0 in /usr/local/lib/python3.10/dist-packages (from langchain_openai) (1.23.6)\n",
      "Requirement already satisfied: tiktoken<1,>=0.5.2 in /usr/local/lib/python3.10/dist-packages (from langchain_openai) (0.6.0)\n",
      "Requirement already satisfied: PyYAML>=5.3 in /usr/local/lib/python3.10/dist-packages (from langchain-core<0.2.0,>=0.1.42->langchain_openai) (6.0.1)\n",
      "Requirement already satisfied: jsonpatch<2.0,>=1.33 in /usr/local/lib/python3.10/dist-packages (from langchain-core<0.2.0,>=0.1.42->langchain_openai) (1.33)\n",
      "Requirement already satisfied: langsmith<0.2.0,>=0.1.0 in /usr/local/lib/python3.10/dist-packages (from langchain-core<0.2.0,>=0.1.42->langchain_openai) (0.1.50)\n",
      "Requirement already satisfied: packaging<24.0,>=23.2 in /usr/local/lib/python3.10/dist-packages (from langchain-core<0.2.0,>=0.1.42->langchain_openai) (23.2)\n",
      "Requirement already satisfied: pydantic<3,>=1 in /usr/local/lib/python3.10/dist-packages (from langchain-core<0.2.0,>=0.1.42->langchain_openai) (2.7.0)\n",
      "Requirement already satisfied: tenacity<9.0.0,>=8.1.0 in /usr/local/lib/python3.10/dist-packages (from langchain-core<0.2.0,>=0.1.42->langchain_openai) (8.2.3)\n",
      "Requirement already satisfied: anyio<5,>=3.5.0 in /usr/local/lib/python3.10/dist-packages (from openai<2.0.0,>=1.10.0->langchain_openai) (3.7.1)\n",
      "Requirement already satisfied: distro<2,>=1.7.0 in /usr/lib/python3/dist-packages (from openai<2.0.0,>=1.10.0->langchain_openai) (1.7.0)\n",
      "Requirement already satisfied: httpx<1,>=0.23.0 in /usr/local/lib/python3.10/dist-packages (from openai<2.0.0,>=1.10.0->langchain_openai) (0.27.0)\n",
      "Requirement already satisfied: sniffio in /usr/local/lib/python3.10/dist-packages (from openai<2.0.0,>=1.10.0->langchain_openai) (1.3.1)\n",
      "Requirement already satisfied: tqdm>4 in /usr/local/lib/python3.10/dist-packages (from openai<2.0.0,>=1.10.0->langchain_openai) (4.66.2)\n",
      "Requirement already satisfied: typing-extensions<5,>=4.7 in /usr/local/lib/python3.10/dist-packages (from openai<2.0.0,>=1.10.0->langchain_openai) (4.11.0)\n",
      "Requirement already satisfied: regex>=2022.1.18 in /usr/local/lib/python3.10/dist-packages (from tiktoken<1,>=0.5.2->langchain_openai) (2023.12.25)\n",
      "Requirement already satisfied: requests>=2.26.0 in /usr/local/lib/python3.10/dist-packages (from tiktoken<1,>=0.5.2->langchain_openai) (2.31.0)\n",
      "Requirement already satisfied: idna>=2.8 in /usr/local/lib/python3.10/dist-packages (from anyio<5,>=3.5.0->openai<2.0.0,>=1.10.0->langchain_openai) (3.7)\n",
      "Requirement already satisfied: exceptiongroup in /usr/local/lib/python3.10/dist-packages (from anyio<5,>=3.5.0->openai<2.0.0,>=1.10.0->langchain_openai) (1.2.1)\n",
      "Requirement already satisfied: certifi in /usr/local/lib/python3.10/dist-packages (from httpx<1,>=0.23.0->openai<2.0.0,>=1.10.0->langchain_openai) (2024.2.2)\n",
      "Requirement already satisfied: httpcore==1.* in /usr/local/lib/python3.10/dist-packages (from httpx<1,>=0.23.0->openai<2.0.0,>=1.10.0->langchain_openai) (1.0.5)\n",
      "Requirement already satisfied: h11<0.15,>=0.13 in /usr/local/lib/python3.10/dist-packages (from httpcore==1.*->httpx<1,>=0.23.0->openai<2.0.0,>=1.10.0->langchain_openai) (0.14.0)\n",
      "Requirement already satisfied: jsonpointer>=1.9 in /usr/local/lib/python3.10/dist-packages (from jsonpatch<2.0,>=1.33->langchain-core<0.2.0,>=0.1.42->langchain_openai) (2.4)\n",
      "Requirement already satisfied: orjson<4.0.0,>=3.9.14 in /usr/local/lib/python3.10/dist-packages (from langsmith<0.2.0,>=0.1.0->langchain-core<0.2.0,>=0.1.42->langchain_openai) (3.10.1)\n",
      "Requirement already satisfied: annotated-types>=0.4.0 in /usr/local/lib/python3.10/dist-packages (from pydantic<3,>=1->langchain-core<0.2.0,>=0.1.42->langchain_openai) (0.6.0)\n",
      "Requirement already satisfied: pydantic-core==2.18.1 in /usr/local/lib/python3.10/dist-packages (from pydantic<3,>=1->langchain-core<0.2.0,>=0.1.42->langchain_openai) (2.18.1)\n",
      "Requirement already satisfied: charset-normalizer<4,>=2 in /usr/local/lib/python3.10/dist-packages (from requests>=2.26.0->tiktoken<1,>=0.5.2->langchain_openai) (3.3.2)\n",
      "Requirement already satisfied: urllib3<3,>=1.21.1 in /usr/local/lib/python3.10/dist-packages (from requests>=2.26.0->tiktoken<1,>=0.5.2->langchain_openai) (2.0.7)\n"
     ]
    }
   ],
   "source": [
    "# !pip install openai langchain\n",
    "!pip install langchain_openai"
   ]
  },
  {
   "cell_type": "code",
   "execution_count": 1,
   "id": "16fd9195-d4ca-44a2-881d-26e7b4f9987f",
   "metadata": {
    "id": "16fd9195-d4ca-44a2-881d-26e7b4f9987f"
   },
   "outputs": [],
   "source": [
    "import os\n",
    "\n",
    "#Setting Environment variable\n",
    "os.environ[\"AZURE_OPENAI_API_VERSION\"] = \"2023-07-01-preview\"\n",
    "os.environ[\"AZURE_OPENAI_ENDPOINT\"] = 'https://dskumar.openai.azure.com/'\n",
    "os.environ[\"AZURE_OPENAI_API_KEY\"] =\"62855d6dd08945819bf83aee0c104127\"\n",
    "os.environ[\"AZURE_OPENAI_CHAT_DEPLOYMENT_NAME\"] =\"DskumarDeployment\"\n",
    "os.environ['OPENAI_TYPE']=\"Azure\"\n",
    "os.environ[\"LLM_MODEL\"] = \"gpt-35-turbo-16k\"\n",
    "os.environ[\"LLM_EMBEDDING_MODEL\"] = \"dskumar-text-embedding-ada-002\"\n",
    "\n",
    "from langchain_core.messages import AIMessage,SystemMessage,HumanMessage\n",
    "from langchain_openai import AzureChatOpenAI\n",
    "\n",
    "azurechatmodel = AzureChatOpenAI(\n",
    "    openai_api_version=os.environ[\"AZURE_OPENAI_API_VERSION\"],\n",
    "    azure_deployment=os.environ[\"AZURE_OPENAI_CHAT_DEPLOYMENT_NAME\"],\n",
    ")"
   ]
  },
  {
   "cell_type": "markdown",
   "id": "c96892c9-b66d-4766-a8ee-1db675084ca5",
   "metadata": {
    "id": "c96892c9-b66d-4766-a8ee-1db675084ca5"
   },
   "source": [
    "**JSON parser**\n",
    "\n",
    "This output parser allows users to specify an arbitrary JSON schema and query LLMs for outputs that conform to that schema.\n",
    "\n",
    "Keep in mind that large language models are leaky abstractions! You’ll have to use an LLM with sufficient capacity to generate well-formed JSON. In the OpenAI family, DaVinci can do reliably but Curie’s ability already drops off dramatically.\n",
    "\n",
    "You can optionally use Pydantic to declare your data model."
   ]
  },
  {
   "cell_type": "code",
   "execution_count": 2,
   "id": "0b6f1262-7d85-4072-a032-74055495e27d",
   "metadata": {
    "id": "0b6f1262-7d85-4072-a032-74055495e27d"
   },
   "outputs": [],
   "source": [
    "from typing import List\n",
    "\n",
    "from langchain.prompts import PromptTemplate\n",
    "from langchain_core.output_parsers import JsonOutputParser\n",
    "from langchain_core.pydantic_v1 import BaseModel, Field"
   ]
  },
  {
   "cell_type": "code",
   "execution_count": 3,
   "id": "25d79cf7-ca68-4d04-a426-ef6aaaf65a75",
   "metadata": {
    "id": "25d79cf7-ca68-4d04-a426-ef6aaaf65a75"
   },
   "outputs": [],
   "source": [
    "# Define your desired data structure.\n",
    "\n",
    "class Ouptut(BaseModel):\n",
    "    excd: str = Field(description=\"excd\")\n",
    "    claimNotes: str = Field(description=\"claim Notes\")\n",
    "\n",
    "class Claim(BaseModel):\n",
    "    claimId: str = Field(description=\"claimId\")\n",
    "    # excd: str = Field(description=\"excd\")\n",
    "    billType : int = Field (description=\"billType\")\n",
    "    reimbursementMethod : int = Field (description=\"reimbursement Method\")\n",
    "    duplicate :bool = Field(description=\"duplicate\")\n",
    "    denyReason : str = Field (description=\"Deny reason\")\n",
    "    reimbursementMethod : str = Field (description=\"Reimbursment method\")\n",
    "    hasAdditionalRevCodes : bool = Field (description=\"has  Additional Rev Codes \")\n",
    "    pending :bool = Field(description=\"pending\")\n",
    "\n",
    "    # excd : str = Field(description= \"output or expected excd\")\n",
    "    # claimNotes: str  = Field(description=\"claim Notes\")\n",
    "\n",
    "\n",
    "# Define your desired data structure.\n",
    "class Claims(BaseModel):\n",
    "    currentClaim : Claim = Field(description=\" current claim\")\n",
    "    previousClaim : Claim = Field(description=\"previous Claim  \")\n",
    "    output_current : Ouptut = Field(description=\"Ouptut for current claim\")\n",
    "    # output_previous : Ouptut = Field(description=\"Ouptut for previous claim\")\n",
    "\n",
    "class ClaimsArr(BaseModel):\n",
    "    claimsarr : list[Claims]"
   ]
  },
  {
   "cell_type": "code",
   "execution_count": null,
   "id": "5dhUYpZhXmNF",
   "metadata": {
    "id": "5dhUYpZhXmNF"
   },
   "outputs": [],
   "source": [
    "# class Claim(BaseModel):\n",
    "#     currentClaim:  object = Field(description=\"question to set up a joke\")\n",
    "\n",
    "#     punchline: str = Field(description=\"answer to resolve the joke\")"
   ]
  },
  {
   "cell_type": "code",
   "execution_count": 4,
   "id": "1121a2fb-2462-4e85-a07a-1ae812761c88",
   "metadata": {
    "id": "1121a2fb-2462-4e85-a07a-1ae812761c88"
   },
   "outputs": [],
   "source": [
    "# And a query intented to prompt a language model to populate the data structure.\n",
    "joke_query = \"\"\"\n",
    "You are a QA analyst, your job is to generate test data for testing Drools rules.  Please use \"Drool File\" to arrive at the test data.  Test data should test all possible flows in \"Drool File\".\n",
    "Generate testdata as JSON as mentioned in the \"output\" only and follow the \"Instructions\" to generate test cases.\n",
    "\n",
    "\n",
    "Instructions :\n",
    "\n",
    "test data should cover positive flows , negative flows and edge cases as well.\n",
    "Give the output only in the \"output format\".\n",
    "Give the output as one single json\n",
    "generate 10 testcase data\n",
    "\n",
    "Drool File:\n",
    "package com.edw.queries;\n",
    "\n",
    "unit ClaimUnitData;\n",
    "\n",
    "import com.edw.model.Claim;\n",
    "import com.edw.model.Detail;\n",
    "\n",
    "rule NonPaymentZeroPay when\n",
    "$D: /details[currentClaim.billType == 0]\n",
    "then\n",
    "modify($D.currentClaim) {\n",
    "    setExcd(\"5JU\"),\n",
    "    setClaimNotes(\"Claim submitted with bill type 0 provider does not expect payment.\")\n",
    "};\n",
    "System.out.println(\"NonPaymentZeroPay \"+$D);\n",
    "end\n",
    "\"\"\"\n",
    "\n",
    "\n",
    "# Set up a parser + inject instructions into the prompt template.\n",
    "parser = JsonOutputParser(pydantic_object=ClaimsArr)\n",
    "\n",
    "prompt = PromptTemplate(\n",
    "    template=\"Answer the user query.\\n{format_instructions}\\n{query}\\n\",\n",
    "    input_variables=[\"query\"],\n",
    "    partial_variables={\"format_instructions\": parser.get_format_instructions()},\n",
    ")\n",
    "\n",
    "chain = prompt | azurechatmodel | parser\n",
    "\n",
    "outpt = chain.invoke({\"query\": joke_query})\n",
    "\n"
   ]
  },
  {
   "cell_type": "code",
   "execution_count": 6,
   "id": "d2ccf237-3a99-4e05-b6c4-73743751089d",
   "metadata": {},
   "outputs": [],
   "source": [
    "import json"
   ]
  },
  {
   "cell_type": "code",
   "execution_count": 7,
   "id": "pQcqKBvbheE7",
   "metadata": {
    "colab": {
     "base_uri": "https://localhost:8080/"
    },
    "id": "pQcqKBvbheE7",
    "outputId": "badcf934-1fdb-44d0-90a1-62922ee32bf8",
    "scrolled": true
   },
   "outputs": [
    {
     "name": "stdout",
     "output_type": "stream",
     "text": [
      "<class 'dict'>\n",
      "{\"claimsarr\": [{\"currentClaim\": {\"claimId\": \"claim1\", \"billType\": 0, \"reimbursementMethod\": \"method1\", \"duplicate\": false, \"denyReason\": \"reason1\", \"hasAdditionalRevCodes\": true, \"pending\": true}, \"previousClaim\": {\"claimId\": \"claim2\", \"billType\": 1, \"reimbursementMethod\": \"method2\", \"duplicate\": true, \"denyReason\": \"reason2\", \"hasAdditionalRevCodes\": false, \"pending\": false}, \"output_current\": {\"excd\": \"5JU\", \"claimNotes\": \"Claim submitted with bill type 0 provider does not expect payment.\"}}, {\"currentClaim\": {\"claimId\": \"claim3\", \"billType\": 1, \"reimbursementMethod\": \"method3\", \"duplicate\": false, \"denyReason\": \"reason3\", \"hasAdditionalRevCodes\": true, \"pending\": true}, \"previousClaim\": {\"claimId\": \"claim4\", \"billType\": 2, \"reimbursementMethod\": \"method4\", \"duplicate\": true, \"denyReason\": \"reason4\", \"hasAdditionalRevCodes\": false, \"pending\": false}, \"output_current\": {\"excd\": \"\", \"claimNotes\": \"\"}}, {\"currentClaim\": {\"claimId\": \"claim5\", \"billType\": 2, \"reimbursementMethod\": \"method5\", \"duplicate\": false, \"denyReason\": \"reason5\", \"hasAdditionalRevCodes\": true, \"pending\": true}, \"previousClaim\": {\"claimId\": \"claim6\", \"billType\": 3, \"reimbursementMethod\": \"method6\", \"duplicate\": true, \"denyReason\": \"reason6\", \"hasAdditionalRevCodes\": false, \"pending\": false}, \"output_current\": {\"excd\": \"\", \"claimNotes\": \"\"}}, {\"currentClaim\": {\"claimId\": \"claim7\", \"billType\": 3, \"reimbursementMethod\": \"method7\", \"duplicate\": false, \"denyReason\": \"reason7\", \"hasAdditionalRevCodes\": true, \"pending\": true}, \"previousClaim\": {\"claimId\": \"claim8\", \"billType\": 4, \"reimbursementMethod\": \"method8\", \"duplicate\": true, \"denyReason\": \"reason8\", \"hasAdditionalRevCodes\": false, \"pending\": false}, \"output_current\": {\"excd\": \"\", \"claimNotes\": \"\"}}, {\"currentClaim\": {\"claimId\": \"claim9\", \"billType\": 4, \"reimbursementMethod\": \"method9\", \"duplicate\": false, \"denyReason\": \"reason9\", \"hasAdditionalRevCodes\": true, \"pending\": true}, \"previousClaim\": {\"claimId\": \"claim10\", \"billType\": 5, \"reimbursementMethod\": \"method10\", \"duplicate\": true, \"denyReason\": \"reason10\", \"hasAdditionalRevCodes\": false, \"pending\": false}, \"output_current\": {\"excd\": \"\", \"claimNotes\": \"\"}}, {\"currentClaim\": {\"claimId\": \"claim11\", \"billType\": 5, \"reimbursementMethod\": \"method11\", \"duplicate\": false, \"denyReason\": \"reason11\", \"hasAdditionalRevCodes\": true, \"pending\": true}, \"previousClaim\": {\"claimId\": \"claim12\", \"billType\": 6, \"reimbursementMethod\": \"method12\", \"duplicate\": true, \"denyReason\": \"reason12\", \"hasAdditionalRevCodes\": false, \"pending\": false}, \"output_current\": {\"excd\": \"\", \"claimNotes\": \"\"}}, {\"currentClaim\": {\"claimId\": \"claim13\", \"billType\": 6, \"reimbursementMethod\": \"method13\", \"duplicate\": false, \"denyReason\": \"reason13\", \"hasAdditionalRevCodes\": true, \"pending\": true}, \"previousClaim\": {\"claimId\": \"claim14\", \"billType\": 7, \"reimbursementMethod\": \"method14\", \"duplicate\": true, \"denyReason\": \"reason14\", \"hasAdditionalRevCodes\": false, \"pending\": false}, \"output_current\": {\"excd\": \"\", \"claimNotes\": \"\"}}, {\"currentClaim\": {\"claimId\": \"claim15\", \"billType\": 7, \"reimbursementMethod\": \"method15\", \"duplicate\": false, \"denyReason\": \"reason15\", \"hasAdditionalRevCodes\": true, \"pending\": true}, \"previousClaim\": {\"claimId\": \"claim16\", \"billType\": 8, \"reimbursementMethod\": \"method16\", \"duplicate\": true, \"denyReason\": \"reason16\", \"hasAdditionalRevCodes\": false, \"pending\": false}, \"output_current\": {\"excd\": \"\", \"claimNotes\": \"\"}}, {\"currentClaim\": {\"claimId\": \"claim17\", \"billType\": 8, \"reimbursementMethod\": \"method17\", \"duplicate\": false, \"denyReason\": \"reason17\", \"hasAdditionalRevCodes\": true, \"pending\": true}, \"previousClaim\": {\"claimId\": \"claim18\", \"billType\": 9, \"reimbursementMethod\": \"method18\", \"duplicate\": true, \"denyReason\": \"reason18\", \"hasAdditionalRevCodes\": false, \"pending\": false}, \"output_current\": {\"excd\": \"\", \"claimNotes\": \"\"}}, {\"currentClaim\": {\"claimId\": \"claim19\", \"billType\": 9, \"reimbursementMethod\": \"method19\", \"duplicate\": false, \"denyReason\": \"reason19\", \"hasAdditionalRevCodes\": true, \"pending\": true}, \"previousClaim\": {\"claimId\": \"claim20\", \"billType\": 10, \"reimbursementMethod\": \"method20\", \"duplicate\": true, \"denyReason\": \"reason20\", \"hasAdditionalRevCodes\": false, \"pending\": false}, \"output_current\": {\"excd\": \"\", \"claimNotes\": \"\"}}]}\n"
     ]
    }
   ],
   "source": [
    "print(type(outpt))\n",
    "\n",
    "print(json.dumps(outpt))"
   ]
  },
  {
   "cell_type": "code",
   "execution_count": null,
   "id": "c254d667-34f6-43e1-ace5-7cbab992091f",
   "metadata": {},
   "outputs": [],
   "source": []
  }
 ],
 "metadata": {
  "colab": {
   "provenance": []
  },
  "kernelspec": {
   "display_name": "Python 3 (ipykernel)",
   "language": "python",
   "name": "python3"
  },
  "language_info": {
   "codemirror_mode": {
    "name": "ipython",
    "version": 3
   },
   "file_extension": ".py",
   "mimetype": "text/x-python",
   "name": "python",
   "nbconvert_exporter": "python",
   "pygments_lexer": "ipython3",
   "version": "3.11.7"
  }
 },
 "nbformat": 4,
 "nbformat_minor": 5
}
