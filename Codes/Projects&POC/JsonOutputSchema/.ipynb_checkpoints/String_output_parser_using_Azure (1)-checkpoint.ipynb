{
  "cells": [
    {
      "cell_type": "code",
      "source": [
        "# !pip install openai langchain\n",
        "!pip install langchain_openai"
      ],
      "metadata": {
        "colab": {
          "base_uri": "https://localhost:8080/"
        },
        "id": "6ivR9_v7XKcx",
        "outputId": "aabcf833-7302-44d6-c2b4-a1ff9602403f"
      },
      "id": "6ivR9_v7XKcx",
      "execution_count": null,
      "outputs": [
        {
          "output_type": "stream",
          "name": "stdout",
          "text": [
            "Requirement already satisfied: langchain_openai in /usr/local/lib/python3.10/dist-packages (0.1.3)\n",
            "Requirement already satisfied: langchain-core<0.2.0,>=0.1.42 in /usr/local/lib/python3.10/dist-packages (from langchain_openai) (0.1.45)\n",
            "Requirement already satisfied: openai<2.0.0,>=1.10.0 in /usr/local/lib/python3.10/dist-packages (from langchain_openai) (1.23.6)\n",
            "Requirement already satisfied: tiktoken<1,>=0.5.2 in /usr/local/lib/python3.10/dist-packages (from langchain_openai) (0.6.0)\n",
            "Requirement already satisfied: PyYAML>=5.3 in /usr/local/lib/python3.10/dist-packages (from langchain-core<0.2.0,>=0.1.42->langchain_openai) (6.0.1)\n",
            "Requirement already satisfied: jsonpatch<2.0,>=1.33 in /usr/local/lib/python3.10/dist-packages (from langchain-core<0.2.0,>=0.1.42->langchain_openai) (1.33)\n",
            "Requirement already satisfied: langsmith<0.2.0,>=0.1.0 in /usr/local/lib/python3.10/dist-packages (from langchain-core<0.2.0,>=0.1.42->langchain_openai) (0.1.50)\n",
            "Requirement already satisfied: packaging<24.0,>=23.2 in /usr/local/lib/python3.10/dist-packages (from langchain-core<0.2.0,>=0.1.42->langchain_openai) (23.2)\n",
            "Requirement already satisfied: pydantic<3,>=1 in /usr/local/lib/python3.10/dist-packages (from langchain-core<0.2.0,>=0.1.42->langchain_openai) (2.7.0)\n",
            "Requirement already satisfied: tenacity<9.0.0,>=8.1.0 in /usr/local/lib/python3.10/dist-packages (from langchain-core<0.2.0,>=0.1.42->langchain_openai) (8.2.3)\n",
            "Requirement already satisfied: anyio<5,>=3.5.0 in /usr/local/lib/python3.10/dist-packages (from openai<2.0.0,>=1.10.0->langchain_openai) (3.7.1)\n",
            "Requirement already satisfied: distro<2,>=1.7.0 in /usr/lib/python3/dist-packages (from openai<2.0.0,>=1.10.0->langchain_openai) (1.7.0)\n",
            "Requirement already satisfied: httpx<1,>=0.23.0 in /usr/local/lib/python3.10/dist-packages (from openai<2.0.0,>=1.10.0->langchain_openai) (0.27.0)\n",
            "Requirement already satisfied: sniffio in /usr/local/lib/python3.10/dist-packages (from openai<2.0.0,>=1.10.0->langchain_openai) (1.3.1)\n",
            "Requirement already satisfied: tqdm>4 in /usr/local/lib/python3.10/dist-packages (from openai<2.0.0,>=1.10.0->langchain_openai) (4.66.2)\n",
            "Requirement already satisfied: typing-extensions<5,>=4.7 in /usr/local/lib/python3.10/dist-packages (from openai<2.0.0,>=1.10.0->langchain_openai) (4.11.0)\n",
            "Requirement already satisfied: regex>=2022.1.18 in /usr/local/lib/python3.10/dist-packages (from tiktoken<1,>=0.5.2->langchain_openai) (2023.12.25)\n",
            "Requirement already satisfied: requests>=2.26.0 in /usr/local/lib/python3.10/dist-packages (from tiktoken<1,>=0.5.2->langchain_openai) (2.31.0)\n",
            "Requirement already satisfied: idna>=2.8 in /usr/local/lib/python3.10/dist-packages (from anyio<5,>=3.5.0->openai<2.0.0,>=1.10.0->langchain_openai) (3.7)\n",
            "Requirement already satisfied: exceptiongroup in /usr/local/lib/python3.10/dist-packages (from anyio<5,>=3.5.0->openai<2.0.0,>=1.10.0->langchain_openai) (1.2.1)\n",
            "Requirement already satisfied: certifi in /usr/local/lib/python3.10/dist-packages (from httpx<1,>=0.23.0->openai<2.0.0,>=1.10.0->langchain_openai) (2024.2.2)\n",
            "Requirement already satisfied: httpcore==1.* in /usr/local/lib/python3.10/dist-packages (from httpx<1,>=0.23.0->openai<2.0.0,>=1.10.0->langchain_openai) (1.0.5)\n",
            "Requirement already satisfied: h11<0.15,>=0.13 in /usr/local/lib/python3.10/dist-packages (from httpcore==1.*->httpx<1,>=0.23.0->openai<2.0.0,>=1.10.0->langchain_openai) (0.14.0)\n",
            "Requirement already satisfied: jsonpointer>=1.9 in /usr/local/lib/python3.10/dist-packages (from jsonpatch<2.0,>=1.33->langchain-core<0.2.0,>=0.1.42->langchain_openai) (2.4)\n",
            "Requirement already satisfied: orjson<4.0.0,>=3.9.14 in /usr/local/lib/python3.10/dist-packages (from langsmith<0.2.0,>=0.1.0->langchain-core<0.2.0,>=0.1.42->langchain_openai) (3.10.1)\n",
            "Requirement already satisfied: annotated-types>=0.4.0 in /usr/local/lib/python3.10/dist-packages (from pydantic<3,>=1->langchain-core<0.2.0,>=0.1.42->langchain_openai) (0.6.0)\n",
            "Requirement already satisfied: pydantic-core==2.18.1 in /usr/local/lib/python3.10/dist-packages (from pydantic<3,>=1->langchain-core<0.2.0,>=0.1.42->langchain_openai) (2.18.1)\n",
            "Requirement already satisfied: charset-normalizer<4,>=2 in /usr/local/lib/python3.10/dist-packages (from requests>=2.26.0->tiktoken<1,>=0.5.2->langchain_openai) (3.3.2)\n",
            "Requirement already satisfied: urllib3<3,>=1.21.1 in /usr/local/lib/python3.10/dist-packages (from requests>=2.26.0->tiktoken<1,>=0.5.2->langchain_openai) (2.0.7)\n"
          ]
        }
      ]
    },
    {
      "cell_type": "code",
      "execution_count": null,
      "id": "16fd9195-d4ca-44a2-881d-26e7b4f9987f",
      "metadata": {
        "id": "16fd9195-d4ca-44a2-881d-26e7b4f9987f"
      },
      "outputs": [],
      "source": [
        "import os\n",
        "\n",
        "#Setting Environment variable\n",
        "os.environ[\"AZURE_OPENAI_API_VERSION\"] = \"2023-07-01-preview\"\n",
        "os.environ[\"AZURE_OPENAI_ENDPOINT\"] = 'https://dskumar.openai.azure.com/'\n",
        "os.environ[\"AZURE_OPENAI_API_KEY\"] =\"62855d6dd08945819bf83aee0c104127\"\n",
        "os.environ[\"AZURE_OPENAI_CHAT_DEPLOYMENT_NAME\"] =\"DskumarDeployment\"\n",
        "os.environ['OPENAI_TYPE']=\"Azure\"\n",
        "os.environ[\"LLM_MODEL\"] = \"gpt-35-turbo-16k\"\n",
        "os.environ[\"LLM_EMBEDDING_MODEL\"] = \"dskumar-text-embedding-ada-002\"\n",
        "\n",
        "from langchain_core.messages import AIMessage,SystemMessage,HumanMessage\n",
        "from langchain_openai import AzureChatOpenAI\n",
        "\n",
        "azurechatmodel = AzureChatOpenAI(\n",
        "    openai_api_version=os.environ[\"AZURE_OPENAI_API_VERSION\"],\n",
        "    azure_deployment=os.environ[\"AZURE_OPENAI_CHAT_DEPLOYMENT_NAME\"],\n",
        ")"
      ]
    },
    {
      "cell_type": "markdown",
      "id": "c96892c9-b66d-4766-a8ee-1db675084ca5",
      "metadata": {
        "id": "c96892c9-b66d-4766-a8ee-1db675084ca5"
      },
      "source": [
        "**JSON parser**\n",
        "\n",
        "This output parser allows users to specify an arbitrary JSON schema and query LLMs for outputs that conform to that schema.\n",
        "\n",
        "Keep in mind that large language models are leaky abstractions! You’ll have to use an LLM with sufficient capacity to generate well-formed JSON. In the OpenAI family, DaVinci can do reliably but Curie’s ability already drops off dramatically.\n",
        "\n",
        "You can optionally use Pydantic to declare your data model."
      ]
    },
    {
      "cell_type": "code",
      "execution_count": null,
      "id": "0b6f1262-7d85-4072-a032-74055495e27d",
      "metadata": {
        "id": "0b6f1262-7d85-4072-a032-74055495e27d"
      },
      "outputs": [],
      "source": [
        "from typing import List\n",
        "\n",
        "from langchain.prompts import PromptTemplate\n",
        "from langchain_core.output_parsers import JsonOutputParser\n",
        "from langchain_core.pydantic_v1 import BaseModel, Field"
      ]
    },
    {
      "cell_type": "code",
      "execution_count": null,
      "id": "25d79cf7-ca68-4d04-a426-ef6aaaf65a75",
      "metadata": {
        "id": "25d79cf7-ca68-4d04-a426-ef6aaaf65a75"
      },
      "outputs": [],
      "source": [
        "# Define your desired data structure.\n",
        "\n",
        "class Ouptut(BaseModel):\n",
        "    excd: str = Field(description=\"excd\")\n",
        "    claimNotes: str = Field(description=\"claim Notes\")\n",
        "\n",
        "class Claim(BaseModel):\n",
        "    claimId: str = Field(description=\"claimId\")\n",
        "    # excd: str = Field(description=\"excd\")\n",
        "    billType : int = Field (description=\"billType\")\n",
        "    reimbursementMethod : int = Field (description=\"reimbursement Method\")\n",
        "    duplicate :bool = Field(description=\"duplicate\")\n",
        "    denyReason : str = Field (description=\"Deny reason\")\n",
        "    reimbursementMethod : str = Field (description=\"Reimbursment method\")\n",
        "    hasAdditionalRevCodes : bool = Field (description=\"has  Additional Rev Codes \")\n",
        "    pending :bool = Field(description=\"pending\")\n",
        "\n",
        "    # excd : str = Field(description= \"output or expected excd\")\n",
        "    # claimNotes: str  = Field(description=\"claim Notes\")\n",
        "\n",
        "\n",
        "# Define your desired data structure.\n",
        "class Claims(BaseModel):\n",
        "    currentClaim : Claim = Field(description=\" current claim\")\n",
        "    previousClaim : Claim = Field(description=\"previous Claim  \")\n",
        "    output_current : Ouptut = Field(description=\"Ouptut for current claim\")\n",
        "    # output_previous : Ouptut = Field(description=\"Ouptut for previous claim\")\n",
        "\n",
        "class ClaimsArr(BaseModel):\n",
        "    claimsarr : list[Claims]"
      ]
    },
    {
      "cell_type": "code",
      "source": [
        "# class Claim(BaseModel):\n",
        "#     currentClaim:  object = Field(description=\"question to set up a joke\")\n",
        "\n",
        "#     punchline: str = Field(description=\"answer to resolve the joke\")"
      ],
      "metadata": {
        "id": "5dhUYpZhXmNF"
      },
      "id": "5dhUYpZhXmNF",
      "execution_count": null,
      "outputs": []
    },
    {
      "cell_type": "code",
      "execution_count": null,
      "id": "1121a2fb-2462-4e85-a07a-1ae812761c88",
      "metadata": {
        "id": "1121a2fb-2462-4e85-a07a-1ae812761c88"
      },
      "outputs": [],
      "source": [
        "# And a query intented to prompt a language model to populate the data structure.\n",
        "joke_query = \"\"\"\n",
        "You are a QA analyst, your job is to generate test data for testing Drools rules.   Please use \"Drool File\" to arrive at the test data.  Test data should test all possible flows in \"Drool File\".\n",
        "Generate testdata as JSON as mentioned in the \"output\" only and follow the \"Instructions\" to generate test cases.\n",
        "\n",
        "\n",
        "Instructions :\n",
        "\n",
        "test data should cover positive flows , negative flows and edge cases as well.\n",
        "Give the output only in the \"output format\".\n",
        "Give the output as one single json\n",
        "generate 10 testcase data\n",
        "Drool File:\n",
        "package com.edw.queries;\n",
        "\n",
        "unit ClaimUnitData;\n",
        "\n",
        "import com.edw.model.Claim;\n",
        "import com.edw.model.Detail;\n",
        "\n",
        "rule NonPaymentZeroPay when\n",
        "$D: /details[currentClaim.billType == 0]\n",
        "then\n",
        "modify($D.currentClaim) {\n",
        "    setExcd(\"5JU\"),\n",
        "    setClaimNotes(\"Claim submitted with bill type 0 provider does not expect payment.\")\n",
        "};\n",
        "System.out.println(\"NonPaymentZeroPay \"+$D);\n",
        "end\n",
        "\"\"\"\n",
        "\n",
        "\n",
        "# Set up a parser + inject instructions into the prompt template.\n",
        "parser = JsonOutputParser(pydantic_object=ClaimsArr)\n",
        "\n",
        "prompt = PromptTemplate(\n",
        "    template=\"Answer the user query.\\n{format_instructions}\\n{query}\\n\",\n",
        "    input_variables=[\"query\"],\n",
        "    partial_variables={\"format_instructions\": parser.get_format_instructions()},\n",
        ")\n",
        "\n",
        "chain = prompt | azurechatmodel | parser\n",
        "\n",
        "outpt = chain.invoke({\"query\": joke_query})\n",
        "\n"
      ]
    },
    {
      "cell_type": "code",
      "source": [
        "print(type(outpt))\n",
        "\n",
        "print(json.dumps(outpt))"
      ],
      "metadata": {
        "colab": {
          "base_uri": "https://localhost:8080/"
        },
        "id": "pQcqKBvbheE7",
        "outputId": "badcf934-1fdb-44d0-90a1-62922ee32bf8"
      },
      "id": "pQcqKBvbheE7",
      "execution_count": null,
      "outputs": [
        {
          "output_type": "stream",
          "name": "stdout",
          "text": [
            "<class 'dict'>\n",
            "{\"claimsarr\": [{\"currentClaim\": {\"claimId\": \"1\", \"billType\": 0, \"reimbursementMethod\": \"method1\", \"duplicate\": false, \"denyReason\": \"\", \"hasAdditionalRevCodes\": false, \"pending\": false}, \"previousClaim\": {}, \"output_current\": {\"excd\": \"5JU\", \"claimNotes\": \"Claim submitted with bill type 0 provider does not expect payment.\"}}, {\"currentClaim\": {\"claimId\": \"2\", \"billType\": 1, \"reimbursementMethod\": \"method2\", \"duplicate\": false, \"denyReason\": \"\", \"hasAdditionalRevCodes\": false, \"pending\": false}, \"previousClaim\": {}, \"output_current\": {\"excd\": \"null\", \"claimNotes\": \"null\"}}, {\"currentClaim\": {\"claimId\": \"3\", \"billType\": 2, \"reimbursementMethod\": \"method3\", \"duplicate\": false, \"denyReason\": \"\", \"hasAdditionalRevCodes\": false, \"pending\": false}, \"previousClaim\": {}, \"output_current\": {\"excd\": \"null\", \"claimNotes\": \"null\"}}, {\"currentClaim\": {\"claimId\": \"4\", \"billType\": 3, \"reimbursementMethod\": \"method4\", \"duplicate\": false, \"denyReason\": \"\", \"hasAdditionalRevCodes\": false, \"pending\": false}, \"previousClaim\": {}, \"output_current\": {\"excd\": \"null\", \"claimNotes\": \"null\"}}, {\"currentClaim\": {\"claimId\": \"5\", \"billType\": 4, \"reimbursementMethod\": \"method5\", \"duplicate\": false, \"denyReason\": \"\", \"hasAdditionalRevCodes\": false, \"pending\": false}, \"previousClaim\": {}, \"output_current\": {\"excd\": \"null\", \"claimNotes\": \"null\"}}, {\"currentClaim\": {\"claimId\": \"6\", \"billType\": 5, \"reimbursementMethod\": \"method6\", \"duplicate\": false, \"denyReason\": \"\", \"hasAdditionalRevCodes\": false, \"pending\": false}, \"previousClaim\": {}, \"output_current\": {\"excd\": \"null\", \"claimNotes\": \"null\"}}, {\"currentClaim\": {\"claimId\": \"7\", \"billType\": 6, \"reimbursementMethod\": \"method7\", \"duplicate\": false, \"denyReason\": \"\", \"hasAdditionalRevCodes\": false, \"pending\": false}, \"previousClaim\": {}, \"output_current\": {\"excd\": \"null\", \"claimNotes\": \"null\"}}, {\"currentClaim\": {\"claimId\": \"8\", \"billType\": 7, \"reimbursementMethod\": \"method8\", \"duplicate\": false, \"denyReason\": \"\", \"hasAdditionalRevCodes\": false, \"pending\": false}, \"previousClaim\": {}, \"output_current\": {\"excd\": \"null\", \"claimNotes\": \"null\"}}, {\"currentClaim\": {\"claimId\": \"9\", \"billType\": 8, \"reimbursementMethod\": \"method9\", \"duplicate\": false, \"denyReason\": \"\", \"hasAdditionalRevCodes\": false, \"pending\": false}, \"previousClaim\": {}, \"output_current\": {\"excd\": \"null\", \"claimNotes\": \"null\"}}, {\"currentClaim\": {\"claimId\": \"10\", \"billType\": 9, \"reimbursementMethod\": \"method10\", \"duplicate\": false, \"denyReason\": \"\", \"hasAdditionalRevCodes\": false, \"pending\": false}, \"previousClaim\": {}, \"output_current\": {\"excd\": \"null\", \"claimNotes\": \"null\"}}]}\n"
          ]
        }
      ]
    }
  ],
  "metadata": {
    "kernelspec": {
      "display_name": "Python 3 (ipykernel)",
      "language": "python",
      "name": "python3"
    },
    "language_info": {
      "codemirror_mode": {
        "name": "ipython",
        "version": 3
      },
      "file_extension": ".py",
      "mimetype": "text/x-python",
      "name": "python",
      "nbconvert_exporter": "python",
      "pygments_lexer": "ipython3",
      "version": "3.11.7"
    },
    "colab": {
      "provenance": []
    }
  },
  "nbformat": 4,
  "nbformat_minor": 5
}