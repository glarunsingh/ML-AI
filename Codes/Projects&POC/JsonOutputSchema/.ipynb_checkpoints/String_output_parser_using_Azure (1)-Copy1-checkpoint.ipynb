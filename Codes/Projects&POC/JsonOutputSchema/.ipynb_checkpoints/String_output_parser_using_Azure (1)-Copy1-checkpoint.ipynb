{
 "cells": [
  {
   "cell_type": "code",
   "execution_count": 1,
   "id": "6ivR9_v7XKcx",
   "metadata": {
    "colab": {
     "base_uri": "https://localhost:8080/"
    },
    "id": "6ivR9_v7XKcx",
    "outputId": "aabcf833-7302-44d6-c2b4-a1ff9602403f"
   },
   "outputs": [
    {
     "name": "stdout",
     "output_type": "stream",
     "text": [
      "Defaulting to user installation because normal site-packages is not writeable\n",
      "Requirement already satisfied: pydantic in c:\\programdata\\anaconda3\\lib\\site-packages (1.10.12)\n",
      "Requirement already satisfied: typing-extensions>=4.2.0 in c:\\programdata\\anaconda3\\lib\\site-packages (from pydantic) (4.9.0)\n"
     ]
    }
   ],
   "source": [
    "# !pip install openai langchain\n",
    "# !pip install langchain_openai\n",
    "\n",
    "!pip install pydantic"
   ]
  },
  {
   "cell_type": "code",
   "execution_count": 1,
   "id": "16fd9195-d4ca-44a2-881d-26e7b4f9987f",
   "metadata": {
    "id": "16fd9195-d4ca-44a2-881d-26e7b4f9987f"
   },
   "outputs": [],
   "source": [
    "import os\n",
    "\n",
    "#Setting Environment variable\n",
    "os.environ[\"AZURE_OPENAI_API_VERSION\"] = \"2023-07-01-preview\"\n",
    "os.environ[\"AZURE_OPENAI_ENDPOINT\"] = 'https://dskumar.openai.azure.com/'\n",
    "os.environ[\"AZURE_OPENAI_API_KEY\"] =\"62855d6dd08945819bf83aee0c104127\"\n",
    "os.environ[\"AZURE_OPENAI_CHAT_DEPLOYMENT_NAME\"] =\"DskumarDeployment\"\n",
    "os.environ['OPENAI_TYPE']=\"Azure\"\n",
    "os.environ[\"LLM_MODEL\"] = \"gpt-35-turbo-16k\"\n",
    "os.environ[\"LLM_EMBEDDING_MODEL\"] = \"dskumar-text-embedding-ada-002\"\n",
    "\n",
    "from langchain_core.messages import AIMessage,SystemMessage,HumanMessage\n",
    "from langchain_openai import AzureChatOpenAI\n",
    "\n",
    "azurechatmodel = AzureChatOpenAI(\n",
    "    openai_api_version=os.environ[\"AZURE_OPENAI_API_VERSION\"],\n",
    "    azure_deployment=os.environ[\"AZURE_OPENAI_CHAT_DEPLOYMENT_NAME\"],\n",
    ")"
   ]
  },
  {
   "cell_type": "code",
   "execution_count": 2,
   "id": "0b6f1262-7d85-4072-a032-74055495e27d",
   "metadata": {
    "id": "0b6f1262-7d85-4072-a032-74055495e27d"
   },
   "outputs": [],
   "source": [
    "from langchain.prompts import PromptTemplate\n",
    "from langchain_core.output_parsers import JsonOutputParser\n",
    "from langchain_core.pydantic_v1 import BaseModel, Field\n",
    "from typing import List, Dict\n",
    "import json\n",
    "#from pydantic import BaseModel, Field\n",
    "#from typing import List\n"
   ]
  },
  {
   "cell_type": "code",
   "execution_count": 3,
   "id": "9d6e1621-2dec-458c-867b-6e0fa9eae4d3",
   "metadata": {},
   "outputs": [],
   "source": [
    "class Ouptut(BaseModel):\n",
    "    excd: str = Field(description=\"excd\")\n",
    "    claimNotes: str = Field(description=\"claim Notes\")\n",
    "\n",
    "class Claim(BaseModel):\n",
    "    claimId: str = Field(description=\"claimId\")\n",
    "    # excd: str = Field(description=\"excd\")\n",
    "    billType : int = Field (description=\"billType\")\n",
    "    reimbursementMethod : int = Field (description=\"reimbursement Method\")\n",
    "    duplicate :bool = Field(description=\"duplicate\")\n",
    "    denyReason : str = Field (description=\"Deny reason\")\n",
    "    reimbursementMethod : str = Field (description=\"Reimbursment method\")\n",
    "    hasAdditionalRevCodes : bool = Field (description=\"has  Additional Rev Codes \")\n",
    "    pending :bool = Field(description=\"pending\")\n",
    "\n",
    "    # excd : str = Field(description= \"output or expected excd\")\n",
    "    # claimNotes: str  = Field(description=\"claim Notes\")\n",
    "\n",
    "\n",
    "# Define your desired data structure.\n",
    "class Claims(BaseModel):\n",
    "    currentClaim : Claim = Field(description=\" current claim\")\n",
    "    previousClaim : Claim = Field(description=\"previous Claim  \")\n",
    "    output_current : Ouptut = Field(description=\"Ouptut for current claim\")\n",
    "    # output_previous : Ouptut = Field(description=\"Ouptut for previous claim\")\n",
    "\n",
    "class ClaimsArr(BaseModel):\n",
    "    details : list[Claims]"
   ]
  },
  {
   "cell_type": "code",
   "execution_count": 4,
   "id": "3da284db-5eb1-4631-80da-8ff26afc9629",
   "metadata": {},
   "outputs": [],
   "source": [
    "# And a query intented to prompt a language model to populate the data structure.\n",
    "joke_query = \"\"\"\n",
    "You are a QA analyst, your job is to generate test data for testing Drools rules.  Please use \"Drool File\" to arrive at the test data.  Test data should test all possible flows in \"Drool File\".\n",
    "Generate testdata as JSON as mentioned in the \"output\" only and follow the \"Instructions\" to generate test cases.\n",
    "\n",
    "\n",
    "Instructions :\n",
    "\n",
    "test data should cover positive flows , negative flows and edge cases as well.\n",
    "Give the output only in the \"output format\".\n",
    "Give the output as one single json.\n",
    "Give me 3 test cases. \n",
    "\n",
    "Drool File:\n",
    "package com.edw.queries;\n",
    "\n",
    "unit ClaimUnitData;\n",
    "\n",
    "import com.edw.model.Claim;\n",
    "import com.edw.model.Detail;\n",
    "\n",
    "rule NonPaymentZeroPay when\n",
    "$D: /details[currentClaim.billType == 0]\n",
    "then\n",
    "modify($D.currentClaim) {\n",
    "    setExcd(\"5JU\"),\n",
    "    setClaimNotes(\"Claim submitted with bill type 0 provider does not expect payment.\")\n",
    "};\n",
    "System.out.println(\"NonPaymentZeroPay \"+$D);\n",
    "end\n",
    "\"\"\"\n",
    "\n",
    "\n",
    "# Set up a parser + inject instructions into the prompt template.\n",
    "parser = JsonOutputParser(pydantic_object=ClaimsArr)\n",
    "\n",
    "prompt = PromptTemplate(\n",
    "    template=\"Answer the user query.\\n{format_instructions}\\n{query}\\n\",\n",
    "    input_variables=[\"query\"],\n",
    "    partial_variables={\"format_instructions\": parser.get_format_instructions()},\n",
    ")\n",
    "\n",
    "chain = prompt | azurechatmodel | parser\n",
    "\n",
    "claimstestcase = chain.invoke({\"query\": joke_query})"
   ]
  },
  {
   "cell_type": "code",
   "execution_count": 5,
   "id": "4738ffd9-13da-42d8-924d-67f8a7ae06d4",
   "metadata": {},
   "outputs": [
    {
     "name": "stdout",
     "output_type": "stream",
     "text": [
      "{'details': [{'currentClaim': {'claimId': '123', 'billType': 0, 'reimbursementMethod': 'Check', 'duplicate': False, 'denyReason': 'None', 'hasAdditionalRevCodes': True, 'pending': True}, 'previousClaim': {'claimId': '456', 'billType': 1, 'reimbursementMethod': 'Direct Deposit', 'duplicate': True, 'denyReason': 'Invalid claim', 'hasAdditionalRevCodes': False, 'pending': False}, 'output_current': {'excd': '5JU', 'claimNotes': 'Claim submitted with bill type 0 provider does not expect payment.'}}, {'currentClaim': {'claimId': '789', 'billType': 2, 'reimbursementMethod': 'Electronic Funds Transfer', 'duplicate': False, 'denyReason': 'None', 'hasAdditionalRevCodes': True, 'pending': False}, 'previousClaim': {'claimId': '101112', 'billType': 3, 'reimbursementMethod': 'Check', 'duplicate': False, 'denyReason': 'None', 'hasAdditionalRevCodes': True, 'pending': True}, 'output_current': {'excd': '', 'claimNotes': ''}}, {'currentClaim': {'claimId': '131415', 'billType': 4, 'reimbursementMethod': 'Direct Deposit', 'duplicate': True, 'denyReason': 'Invalid claim', 'hasAdditionalRevCodes': False, 'pending': True}, 'previousClaim': {'claimId': '161718', 'billType': 5, 'reimbursementMethod': 'Electronic Funds Transfer', 'duplicate': False, 'denyReason': 'None', 'hasAdditionalRevCodes': True, 'pending': False}, 'output_current': {'excd': '', 'claimNotes': ''}}]}\n"
     ]
    }
   ],
   "source": [
    "print(claimstestcase)"
   ]
  },
  {
   "cell_type": "code",
   "execution_count": 16,
   "id": "b8e59598-0b2d-4f9b-9fef-8129e98e31f3",
   "metadata": {},
   "outputs": [],
   "source": [
    "json_body = json.dumps(outpt)"
   ]
  },
  {
   "cell_type": "code",
   "execution_count": 17,
   "id": "52b2fd8a-c6d0-4945-abab-83340a41f26d",
   "metadata": {},
   "outputs": [
    {
     "data": {
      "text/plain": [
       "'{\"details\": [{\"currentClaim\": {\"claimId\": \"CLM001\", \"billType\": 0, \"reimbursementMethod\": \"Check\", \"duplicate\": false, \"denyReason\": \"\", \"hasAdditionalRevCodes\": false, \"pending\": false}, \"previousClaim\": {\"claimId\": \"CLM002\", \"billType\": 1, \"reimbursementMethod\": \"Direct Deposit\", \"duplicate\": false, \"denyReason\": \"\", \"hasAdditionalRevCodes\": false, \"pending\": false}, \"output_current\": {\"excd\": \"5JU\", \"claimNotes\": \"Claim submitted with bill type 0 provider does not expect payment.\"}}, {\"currentClaim\": {\"claimId\": \"CLM003\", \"billType\": 1, \"reimbursementMethod\": \"Check\", \"duplicate\": false, \"denyReason\": \"\", \"hasAdditionalRevCodes\": false, \"pending\": false}, \"previousClaim\": {\"claimId\": \"CLM004\", \"billType\": 2, \"reimbursementMethod\": \"Direct Deposit\", \"duplicate\": false, \"denyReason\": \"\", \"hasAdditionalRevCodes\": false, \"pending\": false}, \"output_current\": {\"excd\": \"\", \"claimNotes\": \"\"}}, {\"currentClaim\": {\"claimId\": \"CLM005\", \"billType\": 2, \"reimbursementMethod\": \"Check\", \"duplicate\": false, \"denyReason\": \"\", \"hasAdditionalRevCodes\": false, \"pending\": false}, \"previousClaim\": {\"claimId\": \"CLM006\", \"billType\": 3, \"reimbursementMethod\": \"Direct Deposit\", \"duplicate\": false, \"denyReason\": \"\", \"hasAdditionalRevCodes\": false, \"pending\": false}, \"output_current\": {\"excd\": \"\", \"claimNotes\": \"\"}}, {\"currentClaim\": {\"claimId\": \"CLM007\", \"billType\": 3, \"reimbursementMethod\": \"Check\", \"duplicate\": false, \"denyReason\": \"\", \"hasAdditionalRevCodes\": false, \"pending\": false}, \"previousClaim\": {\"claimId\": \"CLM008\", \"billType\": 4, \"reimbursementMethod\": \"Direct Deposit\", \"duplicate\": false, \"denyReason\": \"\", \"hasAdditionalRevCodes\": false, \"pending\": false}, \"output_current\": {\"excd\": \"\", \"claimNotes\": \"\"}}, {\"currentClaim\": {\"claimId\": \"CLM009\", \"billType\": 4, \"reimbursementMethod\": \"Check\", \"duplicate\": false, \"denyReason\": \"\", \"hasAdditionalRevCodes\": false, \"pending\": false}, \"previousClaim\": {\"claimId\": \"CLM010\", \"billType\": 5, \"reimbursementMethod\": \"Direct Deposit\", \"duplicate\": false, \"denyReason\": \"\", \"hasAdditionalRevCodes\": false, \"pending\": false}, \"output_current\": {\"excd\": \"\", \"claimNotes\": \"\"}}, {\"currentClaim\": {\"claimId\": \"CLM011\", \"billType\": 5, \"reimbursementMethod\": \"Check\", \"duplicate\": false, \"denyReason\": \"\", \"hasAdditionalRevCodes\": false, \"pending\": false}, \"previousClaim\": {\"claimId\": \"CLM012\", \"billType\": 6, \"reimbursementMethod\": \"Direct Deposit\", \"duplicate\": false, \"denyReason\": \"\", \"hasAdditionalRevCodes\": false, \"pending\": false}, \"output_current\": {\"excd\": \"\", \"claimNotes\": \"\"}}, {\"currentClaim\": {\"claimId\": \"CLM013\", \"billType\": 6, \"reimbursementMethod\": \"Check\", \"duplicate\": false, \"denyReason\": \"\", \"hasAdditionalRevCodes\": false, \"pending\": false}, \"previousClaim\": {\"claimId\": \"CLM014\", \"billType\": 7, \"reimbursementMethod\": \"Direct Deposit\", \"duplicate\": false, \"denyReason\": \"\", \"hasAdditionalRevCodes\": false, \"pending\": false}, \"output_current\": {\"excd\": \"\", \"claimNotes\": \"\"}}, {\"currentClaim\": {\"claimId\": \"CLM015\", \"billType\": 7, \"reimbursementMethod\": \"Check\", \"duplicate\": false, \"denyReason\": \"\", \"hasAdditionalRevCodes\": false, \"pending\": false}, \"previousClaim\": {\"claimId\": \"CLM016\", \"billType\": 8, \"reimbursementMethod\": \"Direct Deposit\", \"duplicate\": false, \"denyReason\": \"\", \"hasAdditionalRevCodes\": false, \"pending\": false}, \"output_current\": {\"excd\": \"\", \"claimNotes\": \"\"}}, {\"currentClaim\": {\"claimId\": \"CLM017\", \"billType\": 8, \"reimbursementMethod\": \"Check\", \"duplicate\": false, \"denyReason\": \"\", \"hasAdditionalRevCodes\": false, \"pending\": false}, \"previousClaim\": {\"claimId\": \"CLM018\", \"billType\": 9, \"reimbursementMethod\": \"Direct Deposit\", \"duplicate\": false, \"denyReason\": \"\", \"hasAdditionalRevCodes\": false, \"pending\": false}, \"output_current\": {\"excd\": \"\", \"claimNotes\": \"\"}}, {\"currentClaim\": {\"claimId\": \"CLM019\", \"billType\": 9, \"reimbursementMethod\": \"Check\", \"duplicate\": false, \"denyReason\": \"\", \"hasAdditionalRevCodes\": false, \"pending\": false}, \"previousClaim\": {\"claimId\": \"CLM020\", \"billType\": 10, \"reimbursementMethod\": \"Direct Deposit\", \"duplicate\": false, \"denyReason\": \"\", \"hasAdditionalRevCodes\": false, \"pending\": false}, \"output_current\": {\"excd\": \"\", \"claimNotes\": \"\"}}]}'"
      ]
     },
     "execution_count": 17,
     "metadata": {},
     "output_type": "execute_result"
    }
   ],
   "source": [
    "json_body"
   ]
  },
  {
   "cell_type": "code",
   "execution_count": null,
   "id": "8afb15a7-0ece-45b8-87e0-b922c9504af7",
   "metadata": {},
   "outputs": [],
   "source": []
  },
  {
   "cell_type": "code",
   "execution_count": 6,
   "id": "25d79cf7-ca68-4d04-a426-ef6aaaf65a75",
   "metadata": {
    "id": "25d79cf7-ca68-4d04-a426-ef6aaaf65a75"
   },
   "outputs": [],
   "source": [
    "# Define your desired data structure.\n",
    "\n",
    "\n",
    "class Url(BaseModel):\n",
    "    raw: str\n",
    "    protocol: str\n",
    "    host: List[str]\n",
    "    port: str\n",
    "    path: List[str]\n",
    "\n",
    "class Language(BaseModel):\n",
    "    language: str = Field(description=\"json\")    \n",
    "\n",
    "class Options(BaseModel):\n",
    "    raw: Language\n",
    "\n",
    "class Body(BaseModel):\n",
    "    mode: str = Field(description=\"raw\")\n",
    "    raw: str #string of class ClaimsArr + instructions --> body of the raw should be in string --> pass this in the prompt.\n",
    "    #raw: str = Field(description= json_body) \n",
    "    options: Options \n",
    "\n",
    "class Request(BaseModel):\n",
    "    method: str = Field(description=\"POST\")\n",
    "    header: List[str]\n",
    "    body: Body\n",
    "    url: Url\n",
    "\n",
    "list_exec = [\"pm.test(\\\"Status code is 200\\\", function () {\\r\",\"pm.response.to.have.status(200);\\r\",\"});\\r\",\"pm.test(\\\"excd\\\", function () {\\r\",\n",
    "              \"var jsonData = pm.response.json();\\r\",\n",
    "              \"pm.expect(jsonData[0].currentClaim.excd).eq(\\\"5JU\\\")\\r\",\n",
    "              \"});\"]\n",
    "\n",
    "class Script2(BaseModel):\n",
    "    exec: List[str] = Field(description=list_exec)\n",
    "    type: str = Field(description = \"text/javascript\")\n",
    "    packages: Dict\n",
    "\n",
    "class Script1(BaseModel):\n",
    "    exec: List[str] = Field(description=\"// pm.collectionVariables.set(\\\"c_billType\\\",data[\\\"currentClaim\\\"][\\\"billType\\\"]);\")\n",
    "    type: str = Field(description = \"text/javascript\")\n",
    "    packages: Dict\n",
    "\n",
    "class Event(BaseModel):\n",
    "    listen1: str = Field(description=\"prerequest\")\n",
    "    script1: Script1\n",
    "    listen2: str = Field(description=\"test\")\n",
    "    script2: Script2\n",
    "\n",
    "class Item(BaseModel):\n",
    "    name: str = Field(description=\"http://localhost:8080/get-claim\")\n",
    "    event: List[Event]\n",
    "    request: Request\n",
    "    response: List\n",
    "\n",
    "\n",
    "class Info(BaseModel):\n",
    "    #postman_id: str\n",
    "    #name: str\n",
    "    #schema_alias: str\n",
    "    #exporter_id: str\n",
    "    postman_id: str = Field(description=\"6259f6b2-9049-454c-95e4-b82805bfa3f8\")\n",
    "    name : str = Field (description=\"testcollection\")\n",
    "    schema1: str = Field (description=\"https://schema.getpostman.com/json/collection/v2.1.0/collection.json\")\n",
    "    exporter_id : int = Field(description = \"_exporter_id\") \n",
    "\n",
    "class TestCollection(BaseModel):\n",
    "    info: Info\n",
    "    item: List[Item]"
   ]
  },
  {
   "cell_type": "code",
   "execution_count": 7,
   "id": "5ac8b185-5af6-45a8-b471-353b238debab",
   "metadata": {},
   "outputs": [],
   "source": [
    "sampleinput = {\n",
    "\t\"info\": {\n",
    "\t\t\"_postman_id\": \"6259f6b2-9049-454c-95e4-b82805bfa3f8\",\n",
    "\t\t\"name\": \"testcollection\",\n",
    "\t\t\"schema\": \"https://schema.getpostman.com/json/collection/v2.1.0/collection.json\",\n",
    "\t\t\"_exporter_id\": \"98974\"\n",
    "\t},\n",
    "\t\"item\": [\n",
    "\t\t{\n",
    "\t\t\t\"name\": \"http://localhost:8080/get-claim\",\n",
    "\t\t\t\"event\": [\n",
    "\t\t\t\t{\n",
    "\t\t\t\t\t\"listen\": \"prerequest\",\n",
    "\t\t\t\t\t\"script\": {\n",
    "\t\t\t\t\t\t\"exec\": [\n",
    "\t\t\t\t\t\t\t\"// pm.collectionVariables.set(\\\"c_billType\\\",data[\\\"currentClaim\\\"][\\\"billType\\\"]);\"\n",
    "\t\t\t\t\t\t],\n",
    "\t\t\t\t\t\t\"type\": \"text/javascript\",\n",
    "\t\t\t\t\t\t\"packages\": {}\n",
    "\t\t\t\t\t}\n",
    "\t\t\t\t},\n",
    "\t\t\t\t{\n",
    "\t\t\t\t\t\"listen\": \"test\",\n",
    "\t\t\t\t\t\"script\": {\n",
    "\t\t\t\t\t\t\"exec\": [\n",
    "\t\t\t\t\t\t\t\"pm.test(\\\"Status code is 200\\\", function () {\\r\",\n",
    "\t\t\t\t\t\t\t\"    pm.response.to.have.status(200);\\r\",\n",
    "\t\t\t\t\t\t\t\"});\\r\",\n",
    "\t\t\t\t\t\t\t\"pm.test(\\\"excd\\\", function () {\\r\",\n",
    "\t\t\t\t\t\t\t\"    var jsonData = pm.response.json();\\r\",\n",
    "\t\t\t\t\t\t\t\"    pm.expect(jsonData[0].currentClaim.excd).eq(\\\"5JU\\\")\\r\",\n",
    "\t\t\t\t\t\t\t\"});\"\n",
    "\t\t\t\t\t\t],\n",
    "\t\t\t\t\t\t\"type\": \"text/javascript\",\n",
    "\t\t\t\t\t\t\"packages\": {}\n",
    "\t\t\t\t\t}\n",
    "\t\t\t\t}\n",
    "\t\t\t],\n",
    "\t\t\t\"request\": {\n",
    "\t\t\t\t\"method\": \"POST\",\n",
    "\t\t\t\t\"header\": [],\n",
    "\t\t\t\t\"body\": {\n",
    "\t\t\t\t\t\"mode\": \"raw\",\n",
    "\t\t\t\t\t\"raw\": \"{\\\"details\\\":[    {  \\r\\n        \\\"currentClaim\\\": {\\r\\n            \\\"claimId\\\": \\\"123\\\",\\r\\n            \\\"billType\\\": 0,\\r\\n            \\\"reimbursementMethod\\\": \\\"cash\\\",\\r\\n            \\\"duplicate\\\": false,\\r\\n            \\\"denyReason\\\": \\\"\\\",\\r\\n            \\\"hasAdditionalRevCodes\\\": false,\\r\\n            \\\"pending\\\": true\\r\\n        },\\r\\n        \\\"previousClaim\\\": {\\r\\n            \\\"claimId\\\": \\\"456\\\",\\r\\n            \\\"billType\\\": 2,\\r\\n            \\\"reimbursementMethod\\\": \\\"check\\\",\\r\\n            \\\"duplicate\\\": true,\\r\\n            \\\"denyReason\\\": \\\"Invalid claim\\\",\\r\\n            \\\"hasAdditionalRevCodes\\\": true,\\r\\n            \\\"pending\\\": false\\r\\n        } }  \\r\\n      ]}\",\n",
    "\t\t\t\t\t\"options\": {\n",
    "\t\t\t\t\t\t\"raw\": {\n",
    "\t\t\t\t\t\t\t\"language\": \"json\"\n",
    "\t\t\t\t\t\t}\n",
    "\t\t\t\t\t}\n",
    "\t\t\t\t},\n",
    "\t\t\t\t\"url\": {\n",
    "\t\t\t\t\t\"raw\": \"http://localhost:8080/get-claim\",\n",
    "\t\t\t\t\t\"protocol\": \"http\",\n",
    "\t\t\t\t\t\"host\": [\n",
    "\t\t\t\t\t\t\"localhost\"\n",
    "\t\t\t\t\t],\n",
    "\t\t\t\t\t\"port\": \"8080\",\n",
    "\t\t\t\t\t\"path\": [\n",
    "\t\t\t\t\t\t\"get-claim\"\n",
    "\t\t\t\t\t]\n",
    "\t\t\t\t}\n",
    "\t\t\t},\n",
    "\t\t\t\"response\": []\n",
    "\t\t},\n",
    "\t\t{\n",
    "\t\t\t\"name\": \"http://localhost:8080/get-claim\",\n",
    "\t\t\t\"event\": [\n",
    "\t\t\t\t{\n",
    "\t\t\t\t\t\"listen\": \"prerequest\",\n",
    "\t\t\t\t\t\"script\": {\n",
    "\t\t\t\t\t\t\"exec\": [\n",
    "\t\t\t\t\t\t\t\"// pm.collectionVariables.set(\\\"c_billType\\\",data[\\\"currentClaim\\\"][\\\"billType\\\"]);\"\n",
    "\t\t\t\t\t\t],\n",
    "\t\t\t\t\t\t\"type\": \"text/javascript\",\n",
    "\t\t\t\t\t\t\"packages\": {}\n",
    "\t\t\t\t\t}\n",
    "\t\t\t\t},\n",
    "\t\t\t\t{\n",
    "\t\t\t\t\t\"listen\": \"test\",\n",
    "\t\t\t\t\t\"script\": {\n",
    "\t\t\t\t\t\t\"exec\": [\n",
    "\t\t\t\t\t\t\t\"pm.test(\\\"Status code is 200\\\", function () {\\r\",\n",
    "\t\t\t\t\t\t\t\"    pm.response.to.have.status(200);\\r\",\n",
    "\t\t\t\t\t\t\t\"});\\r\",\n",
    "\t\t\t\t\t\t\t\"pm.test(\\\"excd\\\", function () {\\r\",\n",
    "\t\t\t\t\t\t\t\"    var jsonData = pm.response.json();\\r\",\n",
    "\t\t\t\t\t\t\t\"    pm.expect(jsonData[0].currentClaim.excd).eq(\\\"5JU\\\")\\r\",\n",
    "\t\t\t\t\t\t\t\"});\"\n",
    "\t\t\t\t\t\t],\n",
    "\t\t\t\t\t\t\"type\": \"text/javascript\",\n",
    "\t\t\t\t\t\t\"packages\": {}\n",
    "\t\t\t\t\t}\n",
    "\t\t\t\t}\n",
    "\t\t\t],\n",
    "\t\t\t\"request\": {\n",
    "\t\t\t\t\"method\": \"POST\",\n",
    "\t\t\t\t\"header\": [],\n",
    "\t\t\t\t\"body\": {\n",
    "\t\t\t\t\t\"mode\": \"raw\",\n",
    "\t\t\t\t\t\"raw\": \"{\\\"details\\\":[    {  \\r\\n        \\\"currentClaim\\\": {\\r\\n            \\\"claimId\\\": \\\"123\\\",\\r\\n            \\\"billType\\\": 5,\\r\\n            \\\"reimbursementMethod\\\": \\\"cash\\\",\\r\\n            \\\"duplicate\\\": false,\\r\\n            \\\"denyReason\\\": \\\"\\\",\\r\\n            \\\"hasAdditionalRevCodes\\\": false,\\r\\n            \\\"pending\\\": true\\r\\n        },\\r\\n        \\\"previousClaim\\\": {\\r\\n            \\\"claimId\\\": \\\"456\\\",\\r\\n            \\\"billType\\\": 2,\\r\\n            \\\"reimbursementMethod\\\": \\\"check\\\",\\r\\n            \\\"duplicate\\\": true,\\r\\n            \\\"denyReason\\\": \\\"Invalid claim\\\",\\r\\n            \\\"hasAdditionalRevCodes\\\": true,\\r\\n            \\\"pending\\\": false\\r\\n        } }  \\r\\n      ]}\",\n",
    "\t\t\t\t\t\"options\": {\n",
    "\t\t\t\t\t\t\"raw\": {\n",
    "\t\t\t\t\t\t\t\"language\": \"json\"\n",
    "\t\t\t\t\t\t}\n",
    "\t\t\t\t\t}\n",
    "\t\t\t\t},\n",
    "\t\t\t\t\"url\": {\n",
    "\t\t\t\t\t\"raw\": \"http://localhost:8080/get-claim\",\n",
    "\t\t\t\t\t\"protocol\": \"http\",\n",
    "\t\t\t\t\t\"host\": [\n",
    "\t\t\t\t\t\t\"localhost\"\n",
    "\t\t\t\t\t],\n",
    "\t\t\t\t\t\"port\": \"8080\",\n",
    "\t\t\t\t\t\"path\": [\n",
    "\t\t\t\t\t\t\"get-claim\"\n",
    "\t\t\t\t\t]\n",
    "\t\t\t\t}\n",
    "\t\t\t},\n",
    "\t\t\t\"response\": []\n",
    "\t\t}\n",
    "\t]\n",
    "}"
   ]
  },
  {
   "cell_type": "code",
   "execution_count": 8,
   "id": "f2eb493f-ce6c-4446-a3cd-3368ce8d8e15",
   "metadata": {},
   "outputs": [],
   "source": [
    "json_query = \"\"\"\n",
    "You are a postman api expect, your job is to convert test data given in the \"claimstestcase\" format to \"sampleinput\" \n",
    "\n",
    "Instructions :\n",
    "Give the output only in the \"sampleinput\".\n",
    "Give the output as one single json\n",
    "\n",
    "For each test case you want to create an individual test case following the pattern in \"sampleinput.item\". For each sampleinput.item.request.body.raw,\n",
    "use claimsarr from \"claimstestcase\" in string format. \n",
    "\n",
    "example: \"raw\": \"{\\\"details\\\":[    {  \\r\\n        \\\"currentClaim\\\": {\\r\\n            \\\"claimId\\\": \\\"123\\\",\\r\\n            \\\"billType\\\": 5,\\r\\n            \\\"reimbursementMethod\\\": \\\"cash\\\",\\r\\n            \\\"duplicate\\\": false,\\r\\n            \\\"denyReason\\\": \\\"\\\",\\r\\n            \\\"hasAdditionalRevCodes\\\": false,\\r\\n            \\\"pending\\\": true\\r\\n        },\\r\\n        \\\"previousClaim\\\": {\\r\\n            \\\"claimId\\\": \\\"456\\\",\\r\\n            \\\"billType\\\": 2,\\r\\n            \\\"reimbursementMethod\\\": \\\"check\\\",\\r\\n            \\\"duplicate\\\": true,\\r\\n            \\\"denyReason\\\": \\\"Invalid claim\\\",\\r\\n            \\\"hasAdditionalRevCodes\\\": true,\\r\\n            \\\"pending\\\": false\\r\\n        } }  \\r\\n      ]}\"\n",
    "\n",
    "Schema:\n",
    "get the schema of the json from this URL - https://schema.getpostman.com/json/collection/v2.1.0/collection.json\n",
    "\"\"\""
   ]
  },
  {
   "cell_type": "code",
   "execution_count": null,
   "id": "b7aca08c-1382-4bfb-bf2c-6b097ac81f9c",
   "metadata": {},
   "outputs": [],
   "source": [
    "json_query = \"\"\"\n"
   ]
  },
  {
   "cell_type": "code",
   "execution_count": 9,
   "id": "ff43af93-bbc0-4752-b576-269b429ecf8b",
   "metadata": {},
   "outputs": [
    {
     "ename": "OutputParserException",
     "evalue": "Invalid json output: {\n  \"info\": {\n    \"postman_id\": \"6259f6b2-9049-454c-95e4-b82805bfa3f8\",\n    \"name\": \"testcollection\",\n    \"schema1\": \"https://schema.getpostman.com/json/collection/v2.1.0/collection.json\",\n    \"exporter_id\": \"_exporter_id\"\n  },\n  \"item\": [\n    {\n      \"name\": \"http://localhost:8080/get-claim\",\n      \"event\": [\n        {\n          \"listen1\": \"prerequest\",\n          \"script1\": {\n            \"exec\": [\n              \"// pm.collectionVariables.set(\\\"c_billType\\\",data[\\\"currentClaim\\\"][\\\"billType\\\"]);\"\n            ],\n            \"type\": \"text/javascript\",\n            \"packages\": {}\n          },\n          \"listen2\": \"test\",\n          \"script2\": {\n            \"exec\": [\n              \"pm.test(\\\"Status code is 200\\\", function () {\",\n              \"pm.response.to.have.status(200);\",\n              \"});\",\n              \"pm.test(\\\"excd\\\", function () {\",\n              \"var jsonData = pm.response.json();\",\n              \"pm.expect(jsonData[0].currentClaim.excd).eq(\\\"5JU\\\")\",\n              \"});\"\n            ],\n            \"type\": \"text/javascript\",\n            \"packages\": {}\n          }\n        }\n      ],\n      \"request\": {\n        \"method\": \"POST\",\n        \"header\": [],\n        \"body\": {\n          \"mode\": \"raw\",\n          \"raw\": \"{\"details\":[    {  \n        \"currentClaim\": {\n            \"claimId\": \"123\",\n            \"billType\": 5,\n            \"reimbursementMethod\": \"cash\",\n            \"duplicate\": false,\n            \"denyReason\": \"\",\n            \"hasAdditionalRevCodes\": false,\n            \"pending\": true\n        },\n        \"previousClaim\": {\n            \"claimId\": \"456\",\n            \"billType\": 2,\n            \"reimbursementMethod\": \"check\",\n            \"duplicate\": true,\n            \"denyReason\": \"Invalid claim\",\n            \"hasAdditionalRevCodes\": true,\n            \"pending\": false\n        } }  \n      ]}\",\n          \"options\": {\n            \"raw\": {\n              \"language\": \"json\"\n            }\n          }\n        },\n        \"url\": {\n          \"raw\": \"http://localhost:8080/get-claim\",\n          \"protocol\": \"http\",\n          \"host\": [\n            \"localhost\"\n          ],\n          \"port\": \"8080\",\n          \"path\": [\n            \"get-claim\"\n          ]\n        }\n      },\n      \"response\": []\n    }\n  ]\n}",
     "output_type": "error",
     "traceback": [
      "\u001b[1;31m---------------------------------------------------------------------------\u001b[0m",
      "\u001b[1;31mJSONDecodeError\u001b[0m                           Traceback (most recent call last)",
      "File \u001b[1;32m~\\AppData\\Roaming\\Python\\Python311\\site-packages\\langchain_core\\output_parsers\\json.py:66\u001b[0m, in \u001b[0;36mJsonOutputParser.parse_result\u001b[1;34m(self, result, partial)\u001b[0m\n\u001b[0;32m     65\u001b[0m \u001b[38;5;28;01mtry\u001b[39;00m:\n\u001b[1;32m---> 66\u001b[0m     \u001b[38;5;28;01mreturn\u001b[39;00m parse_json_markdown(text)\n\u001b[0;32m     67\u001b[0m \u001b[38;5;28;01mexcept\u001b[39;00m JSONDecodeError \u001b[38;5;28;01mas\u001b[39;00m e:\n",
      "File \u001b[1;32m~\\AppData\\Roaming\\Python\\Python311\\site-packages\\langchain_core\\utils\\json.py:147\u001b[0m, in \u001b[0;36mparse_json_markdown\u001b[1;34m(json_string, parser)\u001b[0m\n\u001b[0;32m    146\u001b[0m         json_str \u001b[38;5;241m=\u001b[39m match\u001b[38;5;241m.\u001b[39mgroup(\u001b[38;5;241m2\u001b[39m)\n\u001b[1;32m--> 147\u001b[0m \u001b[38;5;28;01mreturn\u001b[39;00m _parse_json(json_str, parser\u001b[38;5;241m=\u001b[39mparser)\n",
      "File \u001b[1;32m~\\AppData\\Roaming\\Python\\Python311\\site-packages\\langchain_core\\utils\\json.py:160\u001b[0m, in \u001b[0;36m_parse_json\u001b[1;34m(json_str, parser)\u001b[0m\n\u001b[0;32m    159\u001b[0m \u001b[38;5;66;03m# Parse the JSON string into a Python dictionary\u001b[39;00m\n\u001b[1;32m--> 160\u001b[0m \u001b[38;5;28;01mreturn\u001b[39;00m parser(json_str)\n",
      "File \u001b[1;32m~\\AppData\\Roaming\\Python\\Python311\\site-packages\\langchain_core\\utils\\json.py:120\u001b[0m, in \u001b[0;36mparse_partial_json\u001b[1;34m(s, strict)\u001b[0m\n\u001b[0;32m    117\u001b[0m \u001b[38;5;66;03m# If we got here, we ran out of characters to remove\u001b[39;00m\n\u001b[0;32m    118\u001b[0m \u001b[38;5;66;03m# and still couldn't parse the string as JSON, so return the parse error\u001b[39;00m\n\u001b[0;32m    119\u001b[0m \u001b[38;5;66;03m# for the original string.\u001b[39;00m\n\u001b[1;32m--> 120\u001b[0m \u001b[38;5;28;01mreturn\u001b[39;00m json\u001b[38;5;241m.\u001b[39mloads(s, strict\u001b[38;5;241m=\u001b[39mstrict)\n",
      "File \u001b[1;32mC:\\ProgramData\\anaconda3\\Lib\\json\\__init__.py:359\u001b[0m, in \u001b[0;36mloads\u001b[1;34m(s, cls, object_hook, parse_float, parse_int, parse_constant, object_pairs_hook, **kw)\u001b[0m\n\u001b[0;32m    358\u001b[0m     kw[\u001b[38;5;124m'\u001b[39m\u001b[38;5;124mparse_constant\u001b[39m\u001b[38;5;124m'\u001b[39m] \u001b[38;5;241m=\u001b[39m parse_constant\n\u001b[1;32m--> 359\u001b[0m \u001b[38;5;28;01mreturn\u001b[39;00m \u001b[38;5;28mcls\u001b[39m(\u001b[38;5;241m*\u001b[39m\u001b[38;5;241m*\u001b[39mkw)\u001b[38;5;241m.\u001b[39mdecode(s)\n",
      "File \u001b[1;32mC:\\ProgramData\\anaconda3\\Lib\\json\\decoder.py:337\u001b[0m, in \u001b[0;36mJSONDecoder.decode\u001b[1;34m(self, s, _w)\u001b[0m\n\u001b[0;32m    333\u001b[0m \u001b[38;5;250m\u001b[39m\u001b[38;5;124;03m\"\"\"Return the Python representation of ``s`` (a ``str`` instance\u001b[39;00m\n\u001b[0;32m    334\u001b[0m \u001b[38;5;124;03mcontaining a JSON document).\u001b[39;00m\n\u001b[0;32m    335\u001b[0m \n\u001b[0;32m    336\u001b[0m \u001b[38;5;124;03m\"\"\"\u001b[39;00m\n\u001b[1;32m--> 337\u001b[0m obj, end \u001b[38;5;241m=\u001b[39m \u001b[38;5;28mself\u001b[39m\u001b[38;5;241m.\u001b[39mraw_decode(s, idx\u001b[38;5;241m=\u001b[39m_w(s, \u001b[38;5;241m0\u001b[39m)\u001b[38;5;241m.\u001b[39mend())\n\u001b[0;32m    338\u001b[0m end \u001b[38;5;241m=\u001b[39m _w(s, end)\u001b[38;5;241m.\u001b[39mend()\n",
      "File \u001b[1;32mC:\\ProgramData\\anaconda3\\Lib\\json\\decoder.py:353\u001b[0m, in \u001b[0;36mJSONDecoder.raw_decode\u001b[1;34m(self, s, idx)\u001b[0m\n\u001b[0;32m    352\u001b[0m \u001b[38;5;28;01mtry\u001b[39;00m:\n\u001b[1;32m--> 353\u001b[0m     obj, end \u001b[38;5;241m=\u001b[39m \u001b[38;5;28mself\u001b[39m\u001b[38;5;241m.\u001b[39mscan_once(s, idx)\n\u001b[0;32m    354\u001b[0m \u001b[38;5;28;01mexcept\u001b[39;00m \u001b[38;5;167;01mStopIteration\u001b[39;00m \u001b[38;5;28;01mas\u001b[39;00m err:\n",
      "\u001b[1;31mJSONDecodeError\u001b[0m: Expecting ',' delimiter: line 42 column 21 (char 1237)",
      "\nThe above exception was the direct cause of the following exception:\n",
      "\u001b[1;31mOutputParserException\u001b[0m                     Traceback (most recent call last)",
      "Cell \u001b[1;32mIn[9], line 12\u001b[0m\n\u001b[0;32m      4\u001b[0m prompt \u001b[38;5;241m=\u001b[39m PromptTemplate(\n\u001b[0;32m      5\u001b[0m     template\u001b[38;5;241m=\u001b[39m\u001b[38;5;124m\"\u001b[39m\u001b[38;5;124mAnswer the user query.\u001b[39m\u001b[38;5;130;01m\\n\u001b[39;00m\u001b[38;5;132;01m{format_instructions}\u001b[39;00m\u001b[38;5;130;01m\\n\u001b[39;00m\u001b[38;5;132;01m{query}\u001b[39;00m\u001b[38;5;130;01m\\n\u001b[39;00m\u001b[38;5;124m in the input sample given\u001b[39m\u001b[38;5;124m\"\u001b[39m,\n\u001b[0;32m      6\u001b[0m     input_variables\u001b[38;5;241m=\u001b[39m[\u001b[38;5;124m\"\u001b[39m\u001b[38;5;124mquery\u001b[39m\u001b[38;5;124m\"\u001b[39m, \u001b[38;5;124m\"\u001b[39m\u001b[38;5;124msampleinput\u001b[39m\u001b[38;5;124m\"\u001b[39m, \u001b[38;5;124m\"\u001b[39m\u001b[38;5;124mclaimstestcase\u001b[39m\u001b[38;5;124m\"\u001b[39m],\n\u001b[0;32m      7\u001b[0m     partial_variables\u001b[38;5;241m=\u001b[39m{\u001b[38;5;124m\"\u001b[39m\u001b[38;5;124mformat_instructions\u001b[39m\u001b[38;5;124m\"\u001b[39m: parser\u001b[38;5;241m.\u001b[39mget_format_instructions()},\n\u001b[0;32m      8\u001b[0m )\n\u001b[0;32m     10\u001b[0m chain \u001b[38;5;241m=\u001b[39m prompt \u001b[38;5;241m|\u001b[39m azurechatmodel \u001b[38;5;241m|\u001b[39m parser\n\u001b[1;32m---> 12\u001b[0m outpt \u001b[38;5;241m=\u001b[39m chain\u001b[38;5;241m.\u001b[39minvoke({\u001b[38;5;124m\"\u001b[39m\u001b[38;5;124mquery\u001b[39m\u001b[38;5;124m\"\u001b[39m: json_query, \u001b[38;5;124m\"\u001b[39m\u001b[38;5;124msampleinput\u001b[39m\u001b[38;5;124m\"\u001b[39m: sampleinput, \u001b[38;5;124m\"\u001b[39m\u001b[38;5;124mclaimstestcase\u001b[39m\u001b[38;5;124m\"\u001b[39m: claimstestcase})\n",
      "File \u001b[1;32m~\\AppData\\Roaming\\Python\\Python311\\site-packages\\langchain_core\\runnables\\base.py:2499\u001b[0m, in \u001b[0;36mRunnableSequence.invoke\u001b[1;34m(self, input, config)\u001b[0m\n\u001b[0;32m   2497\u001b[0m \u001b[38;5;28;01mtry\u001b[39;00m:\n\u001b[0;32m   2498\u001b[0m     \u001b[38;5;28;01mfor\u001b[39;00m i, step \u001b[38;5;129;01min\u001b[39;00m \u001b[38;5;28menumerate\u001b[39m(\u001b[38;5;28mself\u001b[39m\u001b[38;5;241m.\u001b[39msteps):\n\u001b[1;32m-> 2499\u001b[0m         \u001b[38;5;28minput\u001b[39m \u001b[38;5;241m=\u001b[39m step\u001b[38;5;241m.\u001b[39minvoke(\n\u001b[0;32m   2500\u001b[0m             \u001b[38;5;28minput\u001b[39m,\n\u001b[0;32m   2501\u001b[0m             \u001b[38;5;66;03m# mark each step as a child run\u001b[39;00m\n\u001b[0;32m   2502\u001b[0m             patch_config(\n\u001b[0;32m   2503\u001b[0m                 config, callbacks\u001b[38;5;241m=\u001b[39mrun_manager\u001b[38;5;241m.\u001b[39mget_child(\u001b[38;5;124mf\u001b[39m\u001b[38;5;124m\"\u001b[39m\u001b[38;5;124mseq:step:\u001b[39m\u001b[38;5;132;01m{\u001b[39;00mi\u001b[38;5;241m+\u001b[39m\u001b[38;5;241m1\u001b[39m\u001b[38;5;132;01m}\u001b[39;00m\u001b[38;5;124m\"\u001b[39m)\n\u001b[0;32m   2504\u001b[0m             ),\n\u001b[0;32m   2505\u001b[0m         )\n\u001b[0;32m   2506\u001b[0m \u001b[38;5;66;03m# finish the root run\u001b[39;00m\n\u001b[0;32m   2507\u001b[0m \u001b[38;5;28;01mexcept\u001b[39;00m \u001b[38;5;167;01mBaseException\u001b[39;00m \u001b[38;5;28;01mas\u001b[39;00m e:\n",
      "File \u001b[1;32m~\\AppData\\Roaming\\Python\\Python311\\site-packages\\langchain_core\\output_parsers\\base.py:169\u001b[0m, in \u001b[0;36mBaseOutputParser.invoke\u001b[1;34m(self, input, config)\u001b[0m\n\u001b[0;32m    165\u001b[0m \u001b[38;5;28;01mdef\u001b[39;00m \u001b[38;5;21minvoke\u001b[39m(\n\u001b[0;32m    166\u001b[0m     \u001b[38;5;28mself\u001b[39m, \u001b[38;5;28minput\u001b[39m: Union[\u001b[38;5;28mstr\u001b[39m, BaseMessage], config: Optional[RunnableConfig] \u001b[38;5;241m=\u001b[39m \u001b[38;5;28;01mNone\u001b[39;00m\n\u001b[0;32m    167\u001b[0m ) \u001b[38;5;241m-\u001b[39m\u001b[38;5;241m>\u001b[39m T:\n\u001b[0;32m    168\u001b[0m     \u001b[38;5;28;01mif\u001b[39;00m \u001b[38;5;28misinstance\u001b[39m(\u001b[38;5;28minput\u001b[39m, BaseMessage):\n\u001b[1;32m--> 169\u001b[0m         \u001b[38;5;28;01mreturn\u001b[39;00m \u001b[38;5;28mself\u001b[39m\u001b[38;5;241m.\u001b[39m_call_with_config(\n\u001b[0;32m    170\u001b[0m             \u001b[38;5;28;01mlambda\u001b[39;00m inner_input: \u001b[38;5;28mself\u001b[39m\u001b[38;5;241m.\u001b[39mparse_result(\n\u001b[0;32m    171\u001b[0m                 [ChatGeneration(message\u001b[38;5;241m=\u001b[39minner_input)]\n\u001b[0;32m    172\u001b[0m             ),\n\u001b[0;32m    173\u001b[0m             \u001b[38;5;28minput\u001b[39m,\n\u001b[0;32m    174\u001b[0m             config,\n\u001b[0;32m    175\u001b[0m             run_type\u001b[38;5;241m=\u001b[39m\u001b[38;5;124m\"\u001b[39m\u001b[38;5;124mparser\u001b[39m\u001b[38;5;124m\"\u001b[39m,\n\u001b[0;32m    176\u001b[0m         )\n\u001b[0;32m    177\u001b[0m     \u001b[38;5;28;01melse\u001b[39;00m:\n\u001b[0;32m    178\u001b[0m         \u001b[38;5;28;01mreturn\u001b[39;00m \u001b[38;5;28mself\u001b[39m\u001b[38;5;241m.\u001b[39m_call_with_config(\n\u001b[0;32m    179\u001b[0m             \u001b[38;5;28;01mlambda\u001b[39;00m inner_input: \u001b[38;5;28mself\u001b[39m\u001b[38;5;241m.\u001b[39mparse_result([Generation(text\u001b[38;5;241m=\u001b[39minner_input)]),\n\u001b[0;32m    180\u001b[0m             \u001b[38;5;28minput\u001b[39m,\n\u001b[0;32m    181\u001b[0m             config,\n\u001b[0;32m    182\u001b[0m             run_type\u001b[38;5;241m=\u001b[39m\u001b[38;5;124m\"\u001b[39m\u001b[38;5;124mparser\u001b[39m\u001b[38;5;124m\"\u001b[39m,\n\u001b[0;32m    183\u001b[0m         )\n",
      "File \u001b[1;32m~\\AppData\\Roaming\\Python\\Python311\\site-packages\\langchain_core\\runnables\\base.py:1625\u001b[0m, in \u001b[0;36mRunnable._call_with_config\u001b[1;34m(self, func, input, config, run_type, **kwargs)\u001b[0m\n\u001b[0;32m   1621\u001b[0m     context \u001b[38;5;241m=\u001b[39m copy_context()\n\u001b[0;32m   1622\u001b[0m     context\u001b[38;5;241m.\u001b[39mrun(var_child_runnable_config\u001b[38;5;241m.\u001b[39mset, child_config)\n\u001b[0;32m   1623\u001b[0m     output \u001b[38;5;241m=\u001b[39m cast(\n\u001b[0;32m   1624\u001b[0m         Output,\n\u001b[1;32m-> 1625\u001b[0m         context\u001b[38;5;241m.\u001b[39mrun(\n\u001b[0;32m   1626\u001b[0m             call_func_with_variable_args,  \u001b[38;5;66;03m# type: ignore[arg-type]\u001b[39;00m\n\u001b[0;32m   1627\u001b[0m             func,  \u001b[38;5;66;03m# type: ignore[arg-type]\u001b[39;00m\n\u001b[0;32m   1628\u001b[0m             \u001b[38;5;28minput\u001b[39m,  \u001b[38;5;66;03m# type: ignore[arg-type]\u001b[39;00m\n\u001b[0;32m   1629\u001b[0m             config,\n\u001b[0;32m   1630\u001b[0m             run_manager,\n\u001b[0;32m   1631\u001b[0m             \u001b[38;5;241m*\u001b[39m\u001b[38;5;241m*\u001b[39mkwargs,\n\u001b[0;32m   1632\u001b[0m         ),\n\u001b[0;32m   1633\u001b[0m     )\n\u001b[0;32m   1634\u001b[0m \u001b[38;5;28;01mexcept\u001b[39;00m \u001b[38;5;167;01mBaseException\u001b[39;00m \u001b[38;5;28;01mas\u001b[39;00m e:\n\u001b[0;32m   1635\u001b[0m     run_manager\u001b[38;5;241m.\u001b[39mon_chain_error(e)\n",
      "File \u001b[1;32m~\\AppData\\Roaming\\Python\\Python311\\site-packages\\langchain_core\\runnables\\config.py:347\u001b[0m, in \u001b[0;36mcall_func_with_variable_args\u001b[1;34m(func, input, config, run_manager, **kwargs)\u001b[0m\n\u001b[0;32m    345\u001b[0m \u001b[38;5;28;01mif\u001b[39;00m run_manager \u001b[38;5;129;01mis\u001b[39;00m \u001b[38;5;129;01mnot\u001b[39;00m \u001b[38;5;28;01mNone\u001b[39;00m \u001b[38;5;129;01mand\u001b[39;00m accepts_run_manager(func):\n\u001b[0;32m    346\u001b[0m     kwargs[\u001b[38;5;124m\"\u001b[39m\u001b[38;5;124mrun_manager\u001b[39m\u001b[38;5;124m\"\u001b[39m] \u001b[38;5;241m=\u001b[39m run_manager\n\u001b[1;32m--> 347\u001b[0m \u001b[38;5;28;01mreturn\u001b[39;00m func(\u001b[38;5;28minput\u001b[39m, \u001b[38;5;241m*\u001b[39m\u001b[38;5;241m*\u001b[39mkwargs)\n",
      "File \u001b[1;32m~\\AppData\\Roaming\\Python\\Python311\\site-packages\\langchain_core\\output_parsers\\base.py:170\u001b[0m, in \u001b[0;36mBaseOutputParser.invoke.<locals>.<lambda>\u001b[1;34m(inner_input)\u001b[0m\n\u001b[0;32m    165\u001b[0m \u001b[38;5;28;01mdef\u001b[39;00m \u001b[38;5;21minvoke\u001b[39m(\n\u001b[0;32m    166\u001b[0m     \u001b[38;5;28mself\u001b[39m, \u001b[38;5;28minput\u001b[39m: Union[\u001b[38;5;28mstr\u001b[39m, BaseMessage], config: Optional[RunnableConfig] \u001b[38;5;241m=\u001b[39m \u001b[38;5;28;01mNone\u001b[39;00m\n\u001b[0;32m    167\u001b[0m ) \u001b[38;5;241m-\u001b[39m\u001b[38;5;241m>\u001b[39m T:\n\u001b[0;32m    168\u001b[0m     \u001b[38;5;28;01mif\u001b[39;00m \u001b[38;5;28misinstance\u001b[39m(\u001b[38;5;28minput\u001b[39m, BaseMessage):\n\u001b[0;32m    169\u001b[0m         \u001b[38;5;28;01mreturn\u001b[39;00m \u001b[38;5;28mself\u001b[39m\u001b[38;5;241m.\u001b[39m_call_with_config(\n\u001b[1;32m--> 170\u001b[0m             \u001b[38;5;28;01mlambda\u001b[39;00m inner_input: \u001b[38;5;28mself\u001b[39m\u001b[38;5;241m.\u001b[39mparse_result(\n\u001b[0;32m    171\u001b[0m                 [ChatGeneration(message\u001b[38;5;241m=\u001b[39minner_input)]\n\u001b[0;32m    172\u001b[0m             ),\n\u001b[0;32m    173\u001b[0m             \u001b[38;5;28minput\u001b[39m,\n\u001b[0;32m    174\u001b[0m             config,\n\u001b[0;32m    175\u001b[0m             run_type\u001b[38;5;241m=\u001b[39m\u001b[38;5;124m\"\u001b[39m\u001b[38;5;124mparser\u001b[39m\u001b[38;5;124m\"\u001b[39m,\n\u001b[0;32m    176\u001b[0m         )\n\u001b[0;32m    177\u001b[0m     \u001b[38;5;28;01melse\u001b[39;00m:\n\u001b[0;32m    178\u001b[0m         \u001b[38;5;28;01mreturn\u001b[39;00m \u001b[38;5;28mself\u001b[39m\u001b[38;5;241m.\u001b[39m_call_with_config(\n\u001b[0;32m    179\u001b[0m             \u001b[38;5;28;01mlambda\u001b[39;00m inner_input: \u001b[38;5;28mself\u001b[39m\u001b[38;5;241m.\u001b[39mparse_result([Generation(text\u001b[38;5;241m=\u001b[39minner_input)]),\n\u001b[0;32m    180\u001b[0m             \u001b[38;5;28minput\u001b[39m,\n\u001b[0;32m    181\u001b[0m             config,\n\u001b[0;32m    182\u001b[0m             run_type\u001b[38;5;241m=\u001b[39m\u001b[38;5;124m\"\u001b[39m\u001b[38;5;124mparser\u001b[39m\u001b[38;5;124m\"\u001b[39m,\n\u001b[0;32m    183\u001b[0m         )\n",
      "File \u001b[1;32m~\\AppData\\Roaming\\Python\\Python311\\site-packages\\langchain_core\\output_parsers\\json.py:69\u001b[0m, in \u001b[0;36mJsonOutputParser.parse_result\u001b[1;34m(self, result, partial)\u001b[0m\n\u001b[0;32m     67\u001b[0m \u001b[38;5;28;01mexcept\u001b[39;00m JSONDecodeError \u001b[38;5;28;01mas\u001b[39;00m e:\n\u001b[0;32m     68\u001b[0m     msg \u001b[38;5;241m=\u001b[39m \u001b[38;5;124mf\u001b[39m\u001b[38;5;124m\"\u001b[39m\u001b[38;5;124mInvalid json output: \u001b[39m\u001b[38;5;132;01m{\u001b[39;00mtext\u001b[38;5;132;01m}\u001b[39;00m\u001b[38;5;124m\"\u001b[39m\n\u001b[1;32m---> 69\u001b[0m     \u001b[38;5;28;01mraise\u001b[39;00m OutputParserException(msg, llm_output\u001b[38;5;241m=\u001b[39mtext) \u001b[38;5;28;01mfrom\u001b[39;00m \u001b[38;5;21;01me\u001b[39;00m\n",
      "\u001b[1;31mOutputParserException\u001b[0m: Invalid json output: {\n  \"info\": {\n    \"postman_id\": \"6259f6b2-9049-454c-95e4-b82805bfa3f8\",\n    \"name\": \"testcollection\",\n    \"schema1\": \"https://schema.getpostman.com/json/collection/v2.1.0/collection.json\",\n    \"exporter_id\": \"_exporter_id\"\n  },\n  \"item\": [\n    {\n      \"name\": \"http://localhost:8080/get-claim\",\n      \"event\": [\n        {\n          \"listen1\": \"prerequest\",\n          \"script1\": {\n            \"exec\": [\n              \"// pm.collectionVariables.set(\\\"c_billType\\\",data[\\\"currentClaim\\\"][\\\"billType\\\"]);\"\n            ],\n            \"type\": \"text/javascript\",\n            \"packages\": {}\n          },\n          \"listen2\": \"test\",\n          \"script2\": {\n            \"exec\": [\n              \"pm.test(\\\"Status code is 200\\\", function () {\",\n              \"pm.response.to.have.status(200);\",\n              \"});\",\n              \"pm.test(\\\"excd\\\", function () {\",\n              \"var jsonData = pm.response.json();\",\n              \"pm.expect(jsonData[0].currentClaim.excd).eq(\\\"5JU\\\")\",\n              \"});\"\n            ],\n            \"type\": \"text/javascript\",\n            \"packages\": {}\n          }\n        }\n      ],\n      \"request\": {\n        \"method\": \"POST\",\n        \"header\": [],\n        \"body\": {\n          \"mode\": \"raw\",\n          \"raw\": \"{\"details\":[    {  \n        \"currentClaim\": {\n            \"claimId\": \"123\",\n            \"billType\": 5,\n            \"reimbursementMethod\": \"cash\",\n            \"duplicate\": false,\n            \"denyReason\": \"\",\n            \"hasAdditionalRevCodes\": false,\n            \"pending\": true\n        },\n        \"previousClaim\": {\n            \"claimId\": \"456\",\n            \"billType\": 2,\n            \"reimbursementMethod\": \"check\",\n            \"duplicate\": true,\n            \"denyReason\": \"Invalid claim\",\n            \"hasAdditionalRevCodes\": true,\n            \"pending\": false\n        } }  \n      ]}\",\n          \"options\": {\n            \"raw\": {\n              \"language\": \"json\"\n            }\n          }\n        },\n        \"url\": {\n          \"raw\": \"http://localhost:8080/get-claim\",\n          \"protocol\": \"http\",\n          \"host\": [\n            \"localhost\"\n          ],\n          \"port\": \"8080\",\n          \"path\": [\n            \"get-claim\"\n          ]\n        }\n      },\n      \"response\": []\n    }\n  ]\n}"
     ]
    }
   ],
   "source": [
    "# Set up a parser + inject instructions into the prompt template.\n",
    "parser = JsonOutputParser(pydantic_object=TestCollection)\n",
    "\n",
    "prompt = PromptTemplate(\n",
    "    template=\"Answer the user query.\\n{format_instructions}\\n{query}\\n in the input sample given\",\n",
    "    input_variables=[\"query\", \"sampleinput\", \"claimstestcase\"],\n",
    "    partial_variables={\"format_instructions\": parser.get_format_instructions()},\n",
    ")\n",
    "\n",
    "chain = prompt | azurechatmodel | parser\n",
    "\n",
    "outpt = chain.invoke({\"query\": json_query, \"sampleinput\": sampleinput, \"claimstestcase\": claimstestcase})"
   ]
  },
  {
   "cell_type": "code",
   "execution_count": 25,
   "id": "0bbb0cd9-e895-44d8-b101-3bb1ef59127d",
   "metadata": {},
   "outputs": [
    {
     "data": {
      "text/plain": [
       "{'item': [{'name': 'Test Case 1',\n",
       "   'event': [],\n",
       "   'request': {'method': 'POST',\n",
       "    'header': [],\n",
       "    'body': {'mode': 'raw',\n",
       "     'raw': '{\"details\":[{\"currentClaim\":{\"claimId\":\"123\",\"billType\":5,\"reimbursementMethod\":\"cash\",\"duplicate\":false,\"denyReason\":\"\",\"hasAdditionalRevCodes\":false,\"pending\":true},\"previousClaim\":{\"claimId\":\"456\",\"billType\":2,\"reimbursementMethod\":\"check\",\"duplicate\":true,\"denyReason\":\"Invalid claim\",\"hasAdditionalRevCodes\":true,\"pending\":false}}]}'},\n",
       "    'url': {'raw': 'http://localhost:8080/get-claim',\n",
       "     'protocol': 'http',\n",
       "     'host': ['localhost'],\n",
       "     'port': '8080',\n",
       "     'path': ['get-claim']}},\n",
       "   'response': []}],\n",
       " 'info': {'postman_id': '6259f6b2-9049-454c-95e4-b82805bfa3f8',\n",
       "  'name': 'testcollection',\n",
       "  'schema1': 'https://schema.getpostman.com/json/collection/v2.1.0/collection.json',\n",
       "  'exporter_id': '_exporter_id'}}"
      ]
     },
     "execution_count": 25,
     "metadata": {},
     "output_type": "execute_result"
    }
   ],
   "source": [
    "outpt"
   ]
  },
  {
   "cell_type": "code",
   "execution_count": 18,
   "id": "8000b446-cda1-46e7-86fb-4a46f738a0fd",
   "metadata": {},
   "outputs": [
    {
     "name": "stdout",
     "output_type": "stream",
     "text": [
      "{\"info\": {\"postman_id\": \"6259f6b2-9049-454c-95e4-b82805bfa3f8\", \"name\": \"testcollection\", \"schema1\": \"https://schema.getpostman.com/json/collection/v2.1.0/collection.json\", \"exporter_id\": \"_exporter_id\"}, \"item\": [{\"name\": \"http://localhost:8080/get-claim\", \"event\": [{\"listen1\": \"prerequest\", \"script1\": {\"exec\": [\"// pm.collectionVariables.set(\\\"c_billType\\\",data[\\\"currentClaim\\\"][\\\"billType\\\"]);\\r\"], \"type\": \"text/javascript\", \"packages\": {}}, \"listen2\": \"test\", \"script2\": {\"exec\": [\"pm.test(\\\"Status code is 200\\\", function () {\\r\", \"pm.response.to.have.status(200);\\r\", \"});\\r\", \"pm.test(\\\"excd\\\", function () {\\r\", \"var jsonData = pm.response.json();\\r\", \"pm.expect(jsonData[0].currentClaim.excd).eq(\\\"5JU\\\")\\r\", \"});\"], \"type\": \"text/javascript\", \"packages\": {}}}], \"request\": {\"method\": \"POST\", \"header\": [], \"body\": {\"mode\": \"raw\", \"raw\": \"claimsarr\", \"options\": {\"raw\": {\"language\": \"json\"}}}, \"url\": {\"raw\": \"http://localhost:8080/get-claim\", \"protocol\": \"http\", \"host\": [\"localhost\"], \"port\": \"8080\", \"path\": [\"get-claim\"]}}, \"response\": []}]}\n"
     ]
    }
   ],
   "source": [
    "print(json.dumps(outpt))"
   ]
  },
  {
   "cell_type": "code",
   "execution_count": null,
   "id": "a94f078e-9c98-47c0-9573-b957b6eda9da",
   "metadata": {},
   "outputs": [],
   "source": []
  }
 ],
 "metadata": {
  "colab": {
   "provenance": []
  },
  "kernelspec": {
   "display_name": "Python 3 (ipykernel)",
   "language": "python",
   "name": "python3"
  },
  "language_info": {
   "codemirror_mode": {
    "name": "ipython",
    "version": 3
   },
   "file_extension": ".py",
   "mimetype": "text/x-python",
   "name": "python",
   "nbconvert_exporter": "python",
   "pygments_lexer": "ipython3",
   "version": "3.11.7"
  }
 },
 "nbformat": 4,
 "nbformat_minor": 5
}
