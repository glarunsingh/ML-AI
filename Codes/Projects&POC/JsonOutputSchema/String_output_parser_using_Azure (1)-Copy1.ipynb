{
 "cells": [
  {
   "cell_type": "code",
   "execution_count": 1,
   "id": "6ivR9_v7XKcx",
   "metadata": {
    "colab": {
     "base_uri": "https://localhost:8080/"
    },
    "id": "6ivR9_v7XKcx",
    "outputId": "aabcf833-7302-44d6-c2b4-a1ff9602403f"
   },
   "outputs": [],
   "source": [
    "# !pip install openai langchain\n",
    "# !pip install langchain_openai"
   ]
  },
  {
   "cell_type": "code",
   "execution_count": 2,
   "id": "16fd9195-d4ca-44a2-881d-26e7b4f9987f",
   "metadata": {
    "id": "16fd9195-d4ca-44a2-881d-26e7b4f9987f"
   },
   "outputs": [],
   "source": [
    "import os\n",
    "\n",
    "#Setting Environment variable\n",
    "os.environ[\"AZURE_OPENAI_API_VERSION\"] = \"2023-07-01-preview\"\n",
    "os.environ[\"AZURE_OPENAI_ENDPOINT\"] = 'https://dskumar.openai.azure.com/'\n",
    "os.environ[\"AZURE_OPENAI_API_KEY\"] =\"62855d6dd08945819bf83aee0c104127\"\n",
    "os.environ[\"AZURE_OPENAI_CHAT_DEPLOYMENT_NAME\"] =\"DskumarDeployment\"\n",
    "os.environ['OPENAI_TYPE']=\"Azure\"\n",
    "os.environ[\"LLM_MODEL\"] = \"gpt-35-turbo-16k\"\n",
    "os.environ[\"LLM_EMBEDDING_MODEL\"] = \"dskumar-text-embedding-ada-002\"\n",
    "\n",
    "from langchain_core.messages import AIMessage,SystemMessage,HumanMessage\n",
    "from langchain_openai import AzureChatOpenAI\n",
    "\n",
    "azurechatmodel = AzureChatOpenAI(\n",
    "    openai_api_version=os.environ[\"AZURE_OPENAI_API_VERSION\"],\n",
    "    azure_deployment=os.environ[\"AZURE_OPENAI_CHAT_DEPLOYMENT_NAME\"],\n",
    ")"
   ]
  },
  {
   "cell_type": "markdown",
   "id": "c96892c9-b66d-4766-a8ee-1db675084ca5",
   "metadata": {
    "id": "c96892c9-b66d-4766-a8ee-1db675084ca5"
   },
   "source": [
    "**JSON parser**\n",
    "\n",
    "This output parser allows users to specify an arbitrary JSON schema and query LLMs for outputs that conform to that schema.\n",
    "\n",
    "Keep in mind that large language models are leaky abstractions! You’ll have to use an LLM with sufficient capacity to generate well-formed JSON. In the OpenAI family, DaVinci can do reliably but Curie’s ability already drops off dramatically.\n",
    "\n",
    "You can optionally use Pydantic to declare your data model."
   ]
  },
  {
   "cell_type": "code",
   "execution_count": 3,
   "id": "0b6f1262-7d85-4072-a032-74055495e27d",
   "metadata": {
    "id": "0b6f1262-7d85-4072-a032-74055495e27d"
   },
   "outputs": [],
   "source": [
    "from typing import List\n",
    "\n",
    "from langchain.prompts import PromptTemplate\n",
    "from langchain_core.output_parsers import JsonOutputParser\n",
    "from langchain_core.pydantic_v1 import BaseModel, Field"
   ]
  },
  {
   "cell_type": "code",
   "execution_count": 4,
   "id": "25d79cf7-ca68-4d04-a426-ef6aaaf65a75",
   "metadata": {
    "id": "25d79cf7-ca68-4d04-a426-ef6aaaf65a75"
   },
   "outputs": [],
   "source": [
    "# Define your desired data structure.\n",
    "\n",
    "class Ouptut(BaseModel):\n",
    "    excd: str = Field(description=\"excd\")\n",
    "    claimNotes: str = Field(description=\"claim Notes\")\n",
    "\n",
    "class Claim(BaseModel):\n",
    "    claimId: str = Field(description=\"claimId\")\n",
    "    # excd: str = Field(description=\"excd\")\n",
    "    billType : int = Field (description=\"billType\")\n",
    "    reimbursementMethod : int = Field (description=\"reimbursement Method\")\n",
    "    duplicate :bool = Field(description=\"duplicate\")\n",
    "    denyReason : str = Field (description=\"Deny reason\")\n",
    "    reimbursementMethod : str = Field (description=\"Reimbursment method\")\n",
    "    hasAdditionalRevCodes : bool = Field (description=\"has  Additional Rev Codes \")\n",
    "    pending :bool = Field(description=\"pending\")\n",
    "\n",
    "    # excd : str = Field(description= \"output or expected excd\")\n",
    "    # claimNotes: str  = Field(description=\"claim Notes\")\n",
    "\n",
    "\n",
    "# Define your desired data structure.\n",
    "class Claims(BaseModel):\n",
    "    currentClaim : Claim = Field(description=\" current claim\")\n",
    "    previousClaim : Claim = Field(description=\"previous Claim  \")\n",
    "    output_current : Ouptut = Field(description=\"Ouptut for current claim\")\n",
    "    # output_previous : Ouptut = Field(description=\"Ouptut for previous claim\")\n",
    "\n",
    "class ClaimsArr(BaseModel):\n",
    "    claimsarr : list[Claims]"
   ]
  },
  {
   "cell_type": "code",
   "execution_count": null,
   "id": "5dhUYpZhXmNF",
   "metadata": {
    "id": "5dhUYpZhXmNF"
   },
   "outputs": [],
   "source": [
    "# class Claim(BaseModel):\n",
    "#     currentClaim:  object = Field(description=\"question to set up a joke\")\n",
    "\n",
    "#     punchline: str = Field(description=\"answer to resolve the joke\")"
   ]
  },
  {
   "cell_type": "code",
   "execution_count": 5,
   "id": "1121a2fb-2462-4e85-a07a-1ae812761c88",
   "metadata": {
    "id": "1121a2fb-2462-4e85-a07a-1ae812761c88"
   },
   "outputs": [],
   "source": [
    "# And a query intented to prompt a language model to populate the data structure.\n",
    "joke_query = \"\"\"\n",
    "You are a QA analyst, your job is to generate test data for testing Drools rules.  Please use \"Drool File\" to arrive at the test data.  Test data should test all possible flows in \"Drool File\".\n",
    "Generate testdata as JSON as mentioned in the \"output\" only and follow the \"Instructions\" to generate test cases.\n",
    "\n",
    "\n",
    "Instructions :\n",
    "\n",
    "test data should cover positive flows , negative flows and edge cases as well.\n",
    "Give the output only in the \"output format\".\n",
    "Give the output as one single json\n",
    "generate 10 testcase data\n",
    "\n",
    "Drool File:\n",
    "package com.edw.queries;\n",
    "\n",
    "unit ClaimUnitData;\n",
    "\n",
    "import com.edw.model.Claim;\n",
    "import com.edw.model.Detail;\n",
    "\n",
    "rule NonPaymentZeroPay when\n",
    "$D: /details[currentClaim.billType == 0]\n",
    "then\n",
    "modify($D.currentClaim) {\n",
    "    setExcd(\"5JU\"),\n",
    "    setClaimNotes(\"Claim submitted with bill type 0 provider does not expect payment.\")\n",
    "};\n",
    "System.out.println(\"NonPaymentZeroPay \"+$D);\n",
    "end\n",
    "\"\"\"\n",
    "\n",
    "\n",
    "# Set up a parser + inject instructions into the prompt template.\n",
    "parser = JsonOutputParser(pydantic_object=ClaimsArr)\n",
    "\n",
    "prompt = PromptTemplate(\n",
    "    template=\"Answer the user query.\\n{format_instructions}\\n{query}\\n\",\n",
    "    input_variables=[\"query\"],\n",
    "    partial_variables={\"format_instructions\": parser.get_format_instructions()},\n",
    ")\n",
    "\n",
    "chain = prompt | azurechatmodel | parser\n",
    "\n",
    "outpt = chain.invoke({\"query\": joke_query})\n",
    "\n"
   ]
  },
  {
   "cell_type": "code",
   "execution_count": 6,
   "id": "d2ccf237-3a99-4e05-b6c4-73743751089d",
   "metadata": {},
   "outputs": [],
   "source": [
    "import json"
   ]
  },
  {
   "cell_type": "code",
   "execution_count": 7,
   "id": "pQcqKBvbheE7",
   "metadata": {
    "colab": {
     "base_uri": "https://localhost:8080/"
    },
    "id": "pQcqKBvbheE7",
    "outputId": "badcf934-1fdb-44d0-90a1-62922ee32bf8"
   },
   "outputs": [
    {
     "name": "stdout",
     "output_type": "stream",
     "text": [
      "<class 'dict'>\n",
      "{\"claimsarr\": [{\"currentClaim\": {\"claimId\": \"1\", \"billType\": 0, \"reimbursementMethod\": \"method1\", \"duplicate\": true, \"denyReason\": \"reason1\", \"hasAdditionalRevCodes\": false, \"pending\": false}, \"previousClaim\": {\"claimId\": \"2\", \"billType\": 1, \"reimbursementMethod\": \"method2\", \"duplicate\": false, \"denyReason\": \"reason2\", \"hasAdditionalRevCodes\": true, \"pending\": true}, \"output_current\": {\"excd\": \"5JU\", \"claimNotes\": \"Claim submitted with bill type 0 provider does not expect payment.\"}}, {\"currentClaim\": {\"claimId\": \"3\", \"billType\": 1, \"reimbursementMethod\": \"method3\", \"duplicate\": true, \"denyReason\": \"reason3\", \"hasAdditionalRevCodes\": false, \"pending\": true}, \"previousClaim\": {\"claimId\": \"4\", \"billType\": 2, \"reimbursementMethod\": \"method4\", \"duplicate\": false, \"denyReason\": \"reason4\", \"hasAdditionalRevCodes\": true, \"pending\": false}, \"output_current\": {\"excd\": \"\", \"claimNotes\": \"\"}}, {\"currentClaim\": {\"claimId\": \"5\", \"billType\": 2, \"reimbursementMethod\": \"method5\", \"duplicate\": false, \"denyReason\": \"reason5\", \"hasAdditionalRevCodes\": true, \"pending\": false}, \"previousClaim\": {\"claimId\": \"6\", \"billType\": 3, \"reimbursementMethod\": \"method6\", \"duplicate\": true, \"denyReason\": \"reason6\", \"hasAdditionalRevCodes\": false, \"pending\": true}, \"output_current\": {\"excd\": \"\", \"claimNotes\": \"\"}}, {\"currentClaim\": {\"claimId\": \"7\", \"billType\": 3, \"reimbursementMethod\": \"method7\", \"duplicate\": false, \"denyReason\": \"reason7\", \"hasAdditionalRevCodes\": false, \"pending\": true}, \"previousClaim\": {\"claimId\": \"8\", \"billType\": 4, \"reimbursementMethod\": \"method8\", \"duplicate\": true, \"denyReason\": \"reason8\", \"hasAdditionalRevCodes\": true, \"pending\": false}, \"output_current\": {\"excd\": \"\", \"claimNotes\": \"\"}}, {\"currentClaim\": {\"claimId\": \"9\", \"billType\": 4, \"reimbursementMethod\": \"method9\", \"duplicate\": true, \"denyReason\": \"reason9\", \"hasAdditionalRevCodes\": true, \"pending\": true}, \"previousClaim\": {\"claimId\": \"10\", \"billType\": 5, \"reimbursementMethod\": \"method10\", \"duplicate\": false, \"denyReason\": \"reason10\", \"hasAdditionalRevCodes\": false, \"pending\": false}, \"output_current\": {\"excd\": \"\", \"claimNotes\": \"\"}}, {\"currentClaim\": {\"claimId\": \"11\", \"billType\": 5, \"reimbursementMethod\": \"method11\", \"duplicate\": false, \"denyReason\": \"reason11\", \"hasAdditionalRevCodes\": false, \"pending\": false}, \"previousClaim\": {\"claimId\": \"12\", \"billType\": 6, \"reimbursementMethod\": \"method12\", \"duplicate\": true, \"denyReason\": \"reason12\", \"hasAdditionalRevCodes\": true, \"pending\": true}, \"output_current\": {\"excd\": \"\", \"claimNotes\": \"\"}}, {\"currentClaim\": {\"claimId\": \"13\", \"billType\": 6, \"reimbursementMethod\": \"method13\", \"duplicate\": true, \"denyReason\": \"reason13\", \"hasAdditionalRevCodes\": true, \"pending\": false}, \"previousClaim\": {\"claimId\": \"14\", \"billType\": 7, \"reimbursementMethod\": \"method14\", \"duplicate\": false, \"denyReason\": \"reason14\", \"hasAdditionalRevCodes\": false, \"pending\": true}, \"output_current\": {\"excd\": \"\", \"claimNotes\": \"\"}}, {\"currentClaim\": {\"claimId\": \"15\", \"billType\": 7, \"reimbursementMethod\": \"method15\", \"duplicate\": false, \"denyReason\": \"reason15\", \"hasAdditionalRevCodes\": true, \"pending\": true}, \"previousClaim\": {\"claimId\": \"16\", \"billType\": 8, \"reimbursementMethod\": \"method16\", \"duplicate\": true, \"denyReason\": \"reason16\", \"hasAdditionalRevCodes\": false, \"pending\": false}, \"output_current\": {\"excd\": \"\", \"claimNotes\": \"\"}}, {\"currentClaim\": {\"claimId\": \"17\", \"billType\": 8, \"reimbursementMethod\": \"method17\", \"duplicate\": true, \"denyReason\": \"reason17\", \"hasAdditionalRevCodes\": false, \"pending\": false}, \"previousClaim\": {\"claimId\": \"18\", \"billType\": 9, \"reimbursementMethod\": \"method18\", \"duplicate\": false, \"denyReason\": \"reason18\", \"hasAdditionalRevCodes\": true, \"pending\": true}, \"output_current\": {\"excd\": \"\", \"claimNotes\": \"\"}}, {\"currentClaim\": {\"claimId\": \"19\", \"billType\": 9, \"reimbursementMethod\": \"method19\", \"duplicate\": false, \"denyReason\": \"reason19\", \"hasAdditionalRevCodes\": true, \"pending\": true}, \"previousClaim\": {\"claimId\": \"20\", \"billType\": 10, \"reimbursementMethod\": \"method20\", \"duplicate\": true, \"denyReason\": \"reason20\", \"hasAdditionalRevCodes\": false, \"pending\": false}, \"output_current\": {\"excd\": \"\", \"claimNotes\": \"\"}}]}\n"
     ]
    }
   ],
   "source": [
    "print(type(outpt))\n",
    "\n",
    "print(json.dumps(outpt))"
   ]
  },
  {
   "cell_type": "code",
   "execution_count": 7,
   "id": "c254d667-34f6-43e1-ace5-7cbab992091f",
   "metadata": {},
   "outputs": [],
   "source": [
    "class info(BaseModel):\n",
    "    postman_id: str = Field(description=\"_postman_id\")\n",
    "    name : str = Field (description=\"name\")\n",
    "    _schema: str = Field (description=\"schema\")\n",
    "    exporter_id : int = Field(description = \"_exporter_id\")    "
   ]
  },
  {
   "cell_type": "code",
   "execution_count": 9,
   "id": "ff6cb9c3-2126-4a8c-8083-2565bbd489df",
   "metadata": {},
   "outputs": [],
   "source": [
    "class script(BaseModel):\n",
    "    exec : list = Field(description=\"exec\")\n",
    "    type : str = Field(description=\"type\")\n",
    "    packages : str = Field(description=\"packages\")"
   ]
  },
  {
   "cell_type": "code",
   "execution_count": 11,
   "id": "76c15ae2-e364-4e5f-bcb4-506467a85015",
   "metadata": {},
   "outputs": [],
   "source": [
    "class event(BaseModel):\n",
    "    listen: str = Field(description=\"listen\")\n",
    "    script = script"
   ]
  },
  {
   "cell_type": "code",
   "execution_count": 17,
   "id": "95c7c69d-642c-4107-99ed-d695df070a06",
   "metadata": {},
   "outputs": [],
   "source": [
    "class raw(BaseModel):\n",
    "    language : str = Field(description=\"language\")"
   ]
  },
  {
   "cell_type": "code",
   "execution_count": 18,
   "id": "1221f80d-4216-4d48-8051-778ad1e5ce5f",
   "metadata": {},
   "outputs": [],
   "source": [
    "class options(BaseModel):\n",
    "    raw = raw"
   ]
  },
  {
   "cell_type": "code",
   "execution_count": 19,
   "id": "d65f2b84-0101-44b7-86b3-127057aebdb0",
   "metadata": {},
   "outputs": [],
   "source": [
    "class body(BaseModel):\n",
    "    mode : str = Field(description=\"mode\")\n",
    "    raw : str = Field(description=\"raw\")\n",
    "    options = options        "
   ]
  },
  {
   "cell_type": "code",
   "execution_count": 20,
   "id": "c710f53d-7a61-4280-8857-a50d9bddb025",
   "metadata": {},
   "outputs": [],
   "source": [
    "class url(BaseModel):\n",
    "    raw : str = Field(description=\"raw\")\n",
    "    protocol : str = Field(description=\"protocol\")\n",
    "    host : list = Field(description=\"host\")\n",
    "    port : str = Field(description=\"port\")\n",
    "    path : list = Field(description=\"path\")"
   ]
  },
  {
   "cell_type": "code",
   "execution_count": 22,
   "id": "518781a0-03fc-48f0-8931-d8f5bb5b78ca",
   "metadata": {},
   "outputs": [],
   "source": [
    "class request(BaseModel):\n",
    "    method : str = Field(description=\"method\")\n",
    "    header : str = Field(description=\"header\")\n",
    "    body = body\n",
    "    url = url\n",
    "    response : list = Field(description=\"response\")"
   ]
  },
  {
   "cell_type": "code",
   "execution_count": 24,
   "id": "1e5a613b-eb75-452d-bda8-07537611ec1e",
   "metadata": {},
   "outputs": [
    {
     "ename": "TypeError",
     "evalue": "issubclass() arg 1 must be a class",
     "output_type": "error",
     "traceback": [
      "\u001b[1;31m---------------------------------------------------------------------------\u001b[0m",
      "\u001b[1;31mTypeError\u001b[0m                                 Traceback (most recent call last)",
      "Cell \u001b[1;32mIn[24], line 1\u001b[0m\n\u001b[1;32m----> 1\u001b[0m \u001b[38;5;28;01mclass\u001b[39;00m \u001b[38;5;21;01mitem\u001b[39;00m(BaseModel):\n\u001b[0;32m      2\u001b[0m     name : \u001b[38;5;28mstr\u001b[39m \u001b[38;5;241m=\u001b[39m Field(description \u001b[38;5;241m=\u001b[39m \u001b[38;5;124m\"\u001b[39m\u001b[38;5;124mname\u001b[39m\u001b[38;5;124m\"\u001b[39m)\n\u001b[0;32m      3\u001b[0m     event \u001b[38;5;241m=\u001b[39m \u001b[38;5;28mlist\u001b[39m[event]\n",
      "File \u001b[1;32mC:\\ProgramData\\anaconda3\\Lib\\site-packages\\pydantic\\main.py:221\u001b[0m, in \u001b[0;36mpydantic.main.ModelMetaclass.__new__\u001b[1;34m()\u001b[0m\n",
      "File \u001b[1;32mC:\\ProgramData\\anaconda3\\Lib\\site-packages\\pydantic\\fields.py:506\u001b[0m, in \u001b[0;36mpydantic.fields.ModelField.infer\u001b[1;34m()\u001b[0m\n",
      "File \u001b[1;32mC:\\ProgramData\\anaconda3\\Lib\\site-packages\\pydantic\\fields.py:436\u001b[0m, in \u001b[0;36mpydantic.fields.ModelField.__init__\u001b[1;34m()\u001b[0m\n",
      "File \u001b[1;32mC:\\ProgramData\\anaconda3\\Lib\\site-packages\\pydantic\\fields.py:552\u001b[0m, in \u001b[0;36mpydantic.fields.ModelField.prepare\u001b[1;34m()\u001b[0m\n",
      "File \u001b[1;32mC:\\ProgramData\\anaconda3\\Lib\\site-packages\\pydantic\\fields.py:668\u001b[0m, in \u001b[0;36mpydantic.fields.ModelField._type_analysis\u001b[1;34m()\u001b[0m\n",
      "File \u001b[1;32mC:\\ProgramData\\anaconda3\\Lib\\typing.py:1590\u001b[0m, in \u001b[0;36m_SpecialGenericAlias.__subclasscheck__\u001b[1;34m(self, cls)\u001b[0m\n\u001b[0;32m   1588\u001b[0m     \u001b[38;5;28;01mreturn\u001b[39;00m \u001b[38;5;28missubclass\u001b[39m(\u001b[38;5;28mcls\u001b[39m\u001b[38;5;241m.\u001b[39m__origin__, \u001b[38;5;28mself\u001b[39m\u001b[38;5;241m.\u001b[39m__origin__)\n\u001b[0;32m   1589\u001b[0m \u001b[38;5;28;01mif\u001b[39;00m \u001b[38;5;129;01mnot\u001b[39;00m \u001b[38;5;28misinstance\u001b[39m(\u001b[38;5;28mcls\u001b[39m, _GenericAlias):\n\u001b[1;32m-> 1590\u001b[0m     \u001b[38;5;28;01mreturn\u001b[39;00m \u001b[38;5;28missubclass\u001b[39m(\u001b[38;5;28mcls\u001b[39m, \u001b[38;5;28mself\u001b[39m\u001b[38;5;241m.\u001b[39m__origin__)\n\u001b[0;32m   1591\u001b[0m \u001b[38;5;28;01mreturn\u001b[39;00m \u001b[38;5;28msuper\u001b[39m()\u001b[38;5;241m.\u001b[39m\u001b[38;5;21m__subclasscheck__\u001b[39m(\u001b[38;5;28mcls\u001b[39m)\n",
      "\u001b[1;31mTypeError\u001b[0m: issubclass() arg 1 must be a class"
     ]
    }
   ],
   "source": [
    "class item(BaseModel):\n",
    "    name : str = Field(description = \"name\")\n",
    "    event = list[event]\n",
    "    request = request\n",
    "    response : str = Field(description = \"response\")  "
   ]
  },
  {
   "cell_type": "code",
   "execution_count": 15,
   "id": "32b48446-92ec-46de-9880-f89fd5c8ee15",
   "metadata": {},
   "outputs": [
    {
     "ename": "NameError",
     "evalue": "name 'item' is not defined",
     "output_type": "error",
     "traceback": [
      "\u001b[1;31m---------------------------------------------------------------------------\u001b[0m",
      "\u001b[1;31mNameError\u001b[0m                                 Traceback (most recent call last)",
      "Cell \u001b[1;32mIn[15], line 1\u001b[0m\n\u001b[1;32m----> 1\u001b[0m \u001b[38;5;28;01mclass\u001b[39;00m \u001b[38;5;21;01mitems\u001b[39;00m(BaseModel):\n\u001b[0;32m      2\u001b[0m     item : \u001b[38;5;28mlist\u001b[39m[item]\n",
      "Cell \u001b[1;32mIn[15], line 2\u001b[0m, in \u001b[0;36mitems\u001b[1;34m()\u001b[0m\n\u001b[0;32m      1\u001b[0m \u001b[38;5;28;01mclass\u001b[39;00m \u001b[38;5;21;01mitems\u001b[39;00m(BaseModel):\n\u001b[1;32m----> 2\u001b[0m     item : \u001b[38;5;28mlist\u001b[39m[item]\n",
      "\u001b[1;31mNameError\u001b[0m: name 'item' is not defined"
     ]
    }
   ],
   "source": [
    "class items(BaseModel):\n",
    "    item : list[item]"
   ]
  },
  {
   "cell_type": "code",
   "execution_count": null,
   "id": "de4e0153-7ad5-4a77-be6c-2e4964a35851",
   "metadata": {},
   "outputs": [],
   "source": []
  }
 ],
 "metadata": {
  "colab": {
   "provenance": []
  },
  "kernelspec": {
   "display_name": "Python 3 (ipykernel)",
   "language": "python",
   "name": "python3"
  },
  "language_info": {
   "codemirror_mode": {
    "name": "ipython",
    "version": 3
   },
   "file_extension": ".py",
   "mimetype": "text/x-python",
   "name": "python",
   "nbconvert_exporter": "python",
   "pygments_lexer": "ipython3",
   "version": "3.11.7"
  }
 },
 "nbformat": 4,
 "nbformat_minor": 5
}
