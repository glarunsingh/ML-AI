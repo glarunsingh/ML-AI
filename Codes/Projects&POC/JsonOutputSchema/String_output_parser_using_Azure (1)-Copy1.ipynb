{
 "cells": [
  {
   "cell_type": "code",
   "execution_count": 1,
   "id": "6ivR9_v7XKcx",
   "metadata": {
    "colab": {
     "base_uri": "https://localhost:8080/"
    },
    "id": "6ivR9_v7XKcx",
    "outputId": "aabcf833-7302-44d6-c2b4-a1ff9602403f"
   },
   "outputs": [
    {
     "name": "stdout",
     "output_type": "stream",
     "text": [
      "Defaulting to user installation because normal site-packages is not writeable\n",
      "Requirement already satisfied: pydantic in c:\\programdata\\anaconda3\\lib\\site-packages (1.10.12)\n",
      "Requirement already satisfied: typing-extensions>=4.2.0 in c:\\programdata\\anaconda3\\lib\\site-packages (from pydantic) (4.9.0)\n"
     ]
    }
   ],
   "source": [
    "# !pip install openai langchain\n",
    "# !pip install langchain_openai\n",
    "\n",
    "!pip install pydantic"
   ]
  },
  {
   "cell_type": "code",
   "execution_count": 1,
   "id": "16fd9195-d4ca-44a2-881d-26e7b4f9987f",
   "metadata": {
    "id": "16fd9195-d4ca-44a2-881d-26e7b4f9987f"
   },
   "outputs": [],
   "source": [
    "import os\n",
    "\n",
    "#Setting Environment variable\n",
    "os.environ[\"AZURE_OPENAI_API_VERSION\"] = \"2023-07-01-preview\"\n",
    "os.environ[\"AZURE_OPENAI_ENDPOINT\"] = 'https://dskumar.openai.azure.com/'\n",
    "os.environ[\"AZURE_OPENAI_API_KEY\"] =\"62855d6dd08945819bf83aee0c104127\"\n",
    "os.environ[\"AZURE_OPENAI_CHAT_DEPLOYMENT_NAME\"] =\"DskumarDeployment\"\n",
    "os.environ['OPENAI_TYPE']=\"Azure\"\n",
    "os.environ[\"LLM_MODEL\"] = \"gpt-35-turbo-16k\"\n",
    "os.environ[\"LLM_EMBEDDING_MODEL\"] = \"dskumar-text-embedding-ada-002\"\n",
    "\n",
    "from langchain_core.messages import AIMessage,SystemMessage,HumanMessage\n",
    "from langchain_openai import AzureChatOpenAI\n",
    "\n",
    "azurechatmodel = AzureChatOpenAI(\n",
    "    openai_api_version=os.environ[\"AZURE_OPENAI_API_VERSION\"],\n",
    "    azure_deployment=os.environ[\"AZURE_OPENAI_CHAT_DEPLOYMENT_NAME\"],\n",
    ")"
   ]
  },
  {
   "cell_type": "code",
   "execution_count": 2,
   "id": "0b6f1262-7d85-4072-a032-74055495e27d",
   "metadata": {
    "id": "0b6f1262-7d85-4072-a032-74055495e27d"
   },
   "outputs": [],
   "source": [
    "from langchain.prompts import PromptTemplate\n",
    "from langchain_core.output_parsers import JsonOutputParser\n",
    "from langchain_core.pydantic_v1 import BaseModel, Field\n",
    "from typing import List, Dict\n",
    "import json\n",
    "#from pydantic import BaseModel, Field\n",
    "#from typing import List\n"
   ]
  },
  {
   "cell_type": "code",
   "execution_count": 3,
   "id": "9d6e1621-2dec-458c-867b-6e0fa9eae4d3",
   "metadata": {},
   "outputs": [],
   "source": [
    "class Ouptut(BaseModel):\n",
    "    excd: str = Field(description=\"excd\")\n",
    "    claimNotes: str = Field(description=\"claim Notes\")\n",
    "\n",
    "class Claim(BaseModel):\n",
    "    claimId: str = Field(description=\"claimId\")\n",
    "    # excd: str = Field(description=\"excd\")\n",
    "    billType : int = Field (description=\"billType\")\n",
    "    reimbursementMethod : int = Field (description=\"reimbursement Method\")\n",
    "    duplicate :bool = Field(description=\"duplicate\")\n",
    "    denyReason : str = Field (description=\"Deny reason\")\n",
    "    reimbursementMethod : str = Field (description=\"Reimbursment method\")\n",
    "    hasAdditionalRevCodes : bool = Field (description=\"has  Additional Rev Codes \")\n",
    "    pending :bool = Field(description=\"pending\")\n",
    "\n",
    "    # excd : str = Field(description= \"output or expected excd\")\n",
    "    # claimNotes: str  = Field(description=\"claim Notes\")\n",
    "\n",
    "\n",
    "# Define your desired data structure.\n",
    "class Claims(BaseModel):\n",
    "    currentClaim : Claim = Field(description=\" current claim\")\n",
    "    previousClaim : Claim = Field(description=\"previous Claim  \")\n",
    "    output_current : Ouptut = Field(description=\"Ouptut for current claim\")\n",
    "    # output_previous : Ouptut = Field(description=\"Ouptut for previous claim\")\n",
    "\n",
    "class ClaimsArr(BaseModel):\n",
    "    details : list[Claims]"
   ]
  },
  {
   "cell_type": "code",
   "execution_count": 4,
   "id": "3da284db-5eb1-4631-80da-8ff26afc9629",
   "metadata": {},
   "outputs": [],
   "source": [
    "# And a query intented to prompt a language model to populate the data structure.\n",
    "joke_query = \"\"\"\n",
    "You are a QA analyst, your job is to generate test data for testing Drools rules.  Please use \"Drool File\" to arrive at the test data.  Test data should test all possible flows in \"Drool File\".\n",
    "Generate testdata as JSON as mentioned in the \"output\" only and follow the \"Instructions\" to generate test cases.\n",
    "\n",
    "\n",
    "Instructions :\n",
    "\n",
    "test data should cover positive flows , negative flows and edge cases as well.\n",
    "Give the output only in the \"output format\".\n",
    "Give the output as one single json.\n",
    "Give me 3 test cases. \n",
    "\n",
    "Drool File:\n",
    "package com.edw.queries;\n",
    "\n",
    "unit ClaimUnitData;\n",
    "\n",
    "import com.edw.model.Claim;\n",
    "import com.edw.model.Detail;\n",
    "\n",
    "rule NonPaymentZeroPay when\n",
    "$D: /details[currentClaim.billType == 0]\n",
    "then\n",
    "modify($D.currentClaim) {\n",
    "    setExcd(\"5JU\"),\n",
    "    setClaimNotes(\"Claim submitted with bill type 0 provider does not expect payment.\")\n",
    "};\n",
    "System.out.println(\"NonPaymentZeroPay \"+$D);\n",
    "end\n",
    "\"\"\"\n",
    "\n",
    "\n",
    "# Set up a parser + inject instructions into the prompt template.\n",
    "parser = JsonOutputParser(pydantic_object=ClaimsArr)\n",
    "\n",
    "prompt = PromptTemplate(\n",
    "    template=\"Answer the user query.\\n{format_instructions}\\n{query}\\n\",\n",
    "    input_variables=[\"query\"],\n",
    "    partial_variables={\"format_instructions\": parser.get_format_instructions()},\n",
    ")\n",
    "\n",
    "chain = prompt | azurechatmodel | parser\n",
    "\n",
    "claimstestcase = chain.invoke({\"query\": joke_query})"
   ]
  },
  {
   "cell_type": "code",
   "execution_count": 5,
   "id": "4738ffd9-13da-42d8-924d-67f8a7ae06d4",
   "metadata": {},
   "outputs": [
    {
     "name": "stdout",
     "output_type": "stream",
     "text": [
      "{'details': [{'currentClaim': {'claimId': '123', 'billType': 0, 'reimbursementMethod': 'Check', 'duplicate': False, 'denyReason': 'None', 'hasAdditionalRevCodes': True, 'pending': True}, 'previousClaim': {'claimId': '456', 'billType': 1, 'reimbursementMethod': 'Direct Deposit', 'duplicate': True, 'denyReason': 'Invalid claim', 'hasAdditionalRevCodes': False, 'pending': False}, 'output_current': {'excd': '5JU', 'claimNotes': 'Claim submitted with bill type 0 provider does not expect payment.'}}, {'currentClaim': {'claimId': '789', 'billType': 2, 'reimbursementMethod': 'Electronic Funds Transfer', 'duplicate': False, 'denyReason': 'None', 'hasAdditionalRevCodes': True, 'pending': False}, 'previousClaim': {'claimId': '101112', 'billType': 3, 'reimbursementMethod': 'Check', 'duplicate': False, 'denyReason': 'None', 'hasAdditionalRevCodes': True, 'pending': True}, 'output_current': {'excd': '', 'claimNotes': ''}}, {'currentClaim': {'claimId': '131415', 'billType': 4, 'reimbursementMethod': 'Direct Deposit', 'duplicate': True, 'denyReason': 'Invalid claim', 'hasAdditionalRevCodes': False, 'pending': True}, 'previousClaim': {'claimId': '161718', 'billType': 5, 'reimbursementMethod': 'Electronic Funds Transfer', 'duplicate': False, 'denyReason': 'None', 'hasAdditionalRevCodes': True, 'pending': False}, 'output_current': {'excd': '', 'claimNotes': ''}}]}\n"
     ]
    }
   ],
   "source": [
    "print(claimstestcase)"
   ]
  },
  {
   "cell_type": "code",
   "execution_count": 16,
   "id": "b8e59598-0b2d-4f9b-9fef-8129e98e31f3",
   "metadata": {},
   "outputs": [],
   "source": [
    "json_body = json.dumps(outpt)"
   ]
  },
  {
   "cell_type": "code",
   "execution_count": 17,
   "id": "52b2fd8a-c6d0-4945-abab-83340a41f26d",
   "metadata": {},
   "outputs": [
    {
     "data": {
      "text/plain": [
       "'{\"details\": [{\"currentClaim\": {\"claimId\": \"CLM001\", \"billType\": 0, \"reimbursementMethod\": \"Check\", \"duplicate\": false, \"denyReason\": \"\", \"hasAdditionalRevCodes\": false, \"pending\": false}, \"previousClaim\": {\"claimId\": \"CLM002\", \"billType\": 1, \"reimbursementMethod\": \"Direct Deposit\", \"duplicate\": false, \"denyReason\": \"\", \"hasAdditionalRevCodes\": false, \"pending\": false}, \"output_current\": {\"excd\": \"5JU\", \"claimNotes\": \"Claim submitted with bill type 0 provider does not expect payment.\"}}, {\"currentClaim\": {\"claimId\": \"CLM003\", \"billType\": 1, \"reimbursementMethod\": \"Check\", \"duplicate\": false, \"denyReason\": \"\", \"hasAdditionalRevCodes\": false, \"pending\": false}, \"previousClaim\": {\"claimId\": \"CLM004\", \"billType\": 2, \"reimbursementMethod\": \"Direct Deposit\", \"duplicate\": false, \"denyReason\": \"\", \"hasAdditionalRevCodes\": false, \"pending\": false}, \"output_current\": {\"excd\": \"\", \"claimNotes\": \"\"}}, {\"currentClaim\": {\"claimId\": \"CLM005\", \"billType\": 2, \"reimbursementMethod\": \"Check\", \"duplicate\": false, \"denyReason\": \"\", \"hasAdditionalRevCodes\": false, \"pending\": false}, \"previousClaim\": {\"claimId\": \"CLM006\", \"billType\": 3, \"reimbursementMethod\": \"Direct Deposit\", \"duplicate\": false, \"denyReason\": \"\", \"hasAdditionalRevCodes\": false, \"pending\": false}, \"output_current\": {\"excd\": \"\", \"claimNotes\": \"\"}}, {\"currentClaim\": {\"claimId\": \"CLM007\", \"billType\": 3, \"reimbursementMethod\": \"Check\", \"duplicate\": false, \"denyReason\": \"\", \"hasAdditionalRevCodes\": false, \"pending\": false}, \"previousClaim\": {\"claimId\": \"CLM008\", \"billType\": 4, \"reimbursementMethod\": \"Direct Deposit\", \"duplicate\": false, \"denyReason\": \"\", \"hasAdditionalRevCodes\": false, \"pending\": false}, \"output_current\": {\"excd\": \"\", \"claimNotes\": \"\"}}, {\"currentClaim\": {\"claimId\": \"CLM009\", \"billType\": 4, \"reimbursementMethod\": \"Check\", \"duplicate\": false, \"denyReason\": \"\", \"hasAdditionalRevCodes\": false, \"pending\": false}, \"previousClaim\": {\"claimId\": \"CLM010\", \"billType\": 5, \"reimbursementMethod\": \"Direct Deposit\", \"duplicate\": false, \"denyReason\": \"\", \"hasAdditionalRevCodes\": false, \"pending\": false}, \"output_current\": {\"excd\": \"\", \"claimNotes\": \"\"}}, {\"currentClaim\": {\"claimId\": \"CLM011\", \"billType\": 5, \"reimbursementMethod\": \"Check\", \"duplicate\": false, \"denyReason\": \"\", \"hasAdditionalRevCodes\": false, \"pending\": false}, \"previousClaim\": {\"claimId\": \"CLM012\", \"billType\": 6, \"reimbursementMethod\": \"Direct Deposit\", \"duplicate\": false, \"denyReason\": \"\", \"hasAdditionalRevCodes\": false, \"pending\": false}, \"output_current\": {\"excd\": \"\", \"claimNotes\": \"\"}}, {\"currentClaim\": {\"claimId\": \"CLM013\", \"billType\": 6, \"reimbursementMethod\": \"Check\", \"duplicate\": false, \"denyReason\": \"\", \"hasAdditionalRevCodes\": false, \"pending\": false}, \"previousClaim\": {\"claimId\": \"CLM014\", \"billType\": 7, \"reimbursementMethod\": \"Direct Deposit\", \"duplicate\": false, \"denyReason\": \"\", \"hasAdditionalRevCodes\": false, \"pending\": false}, \"output_current\": {\"excd\": \"\", \"claimNotes\": \"\"}}, {\"currentClaim\": {\"claimId\": \"CLM015\", \"billType\": 7, \"reimbursementMethod\": \"Check\", \"duplicate\": false, \"denyReason\": \"\", \"hasAdditionalRevCodes\": false, \"pending\": false}, \"previousClaim\": {\"claimId\": \"CLM016\", \"billType\": 8, \"reimbursementMethod\": \"Direct Deposit\", \"duplicate\": false, \"denyReason\": \"\", \"hasAdditionalRevCodes\": false, \"pending\": false}, \"output_current\": {\"excd\": \"\", \"claimNotes\": \"\"}}, {\"currentClaim\": {\"claimId\": \"CLM017\", \"billType\": 8, \"reimbursementMethod\": \"Check\", \"duplicate\": false, \"denyReason\": \"\", \"hasAdditionalRevCodes\": false, \"pending\": false}, \"previousClaim\": {\"claimId\": \"CLM018\", \"billType\": 9, \"reimbursementMethod\": \"Direct Deposit\", \"duplicate\": false, \"denyReason\": \"\", \"hasAdditionalRevCodes\": false, \"pending\": false}, \"output_current\": {\"excd\": \"\", \"claimNotes\": \"\"}}, {\"currentClaim\": {\"claimId\": \"CLM019\", \"billType\": 9, \"reimbursementMethod\": \"Check\", \"duplicate\": false, \"denyReason\": \"\", \"hasAdditionalRevCodes\": false, \"pending\": false}, \"previousClaim\": {\"claimId\": \"CLM020\", \"billType\": 10, \"reimbursementMethod\": \"Direct Deposit\", \"duplicate\": false, \"denyReason\": \"\", \"hasAdditionalRevCodes\": false, \"pending\": false}, \"output_current\": {\"excd\": \"\", \"claimNotes\": \"\"}}]}'"
      ]
     },
     "execution_count": 17,
     "metadata": {},
     "output_type": "execute_result"
    }
   ],
   "source": [
    "json_body"
   ]
  },
  {
   "cell_type": "code",
   "execution_count": null,
   "id": "8afb15a7-0ece-45b8-87e0-b922c9504af7",
   "metadata": {},
   "outputs": [],
   "source": []
  },
  {
   "cell_type": "code",
   "execution_count": 6,
   "id": "25d79cf7-ca68-4d04-a426-ef6aaaf65a75",
   "metadata": {
    "id": "25d79cf7-ca68-4d04-a426-ef6aaaf65a75"
   },
   "outputs": [],
   "source": [
    "# Define your desired data structure.\n",
    "\n",
    "\n",
    "class Url(BaseModel):\n",
    "    raw: str\n",
    "    protocol: str\n",
    "    host: List[str]\n",
    "    port: str\n",
    "    path: List[str]\n",
    "\n",
    "class Language(BaseModel):\n",
    "    language: str = Field(description=\"json\")    \n",
    "\n",
    "class Options(BaseModel):\n",
    "    raw: Language\n",
    "\n",
    "class Body(BaseModel):\n",
    "    mode: str = Field(description=\"raw\")\n",
    "    raw: str #string of class ClaimsArr + instructions --> body of the raw should be in string --> pass this in the prompt.\n",
    "    #raw: str = Field(description= json_body) \n",
    "    options: Options \n",
    "\n",
    "class Request(BaseModel):\n",
    "    method: str = Field(description=\"POST\")\n",
    "    header: List[str]\n",
    "    body: Body\n",
    "    url: Url\n",
    "\n",
    "list_exec = [\"pm.test(\\\"Status code is 200\\\", function () {\\r\",\"pm.response.to.have.status(200);\\r\",\"});\\r\",\"pm.test(\\\"excd\\\", function () {\\r\",\n",
    "              \"var jsonData = pm.response.json();\\r\",\n",
    "              \"pm.expect(jsonData[0].currentClaim.excd).eq(\\\"5JU\\\")\\r\",\n",
    "              \"});\"]\n",
    "\n",
    "class Script2(BaseModel):\n",
    "    exec: List[str] = Field(description=list_exec)\n",
    "    type: str = Field(description = \"text/javascript\")\n",
    "    packages: Dict\n",
    "\n",
    "class Script1(BaseModel):\n",
    "    exec: List[str] = Field(description=\"// pm.collectionVariables.set(\\\"c_billType\\\",data[\\\"currentClaim\\\"][\\\"billType\\\"]);\")\n",
    "    type: str = Field(description = \"text/javascript\")\n",
    "    packages: Dict\n",
    "\n",
    "class Event(BaseModel):\n",
    "    listen1: str = Field(description=\"prerequest\")\n",
    "    script1: Script1\n",
    "    listen2: str = Field(description=\"test\")\n",
    "    script2: Script2\n",
    "\n",
    "class Item(BaseModel):\n",
    "    name: str = Field(description=\"http://localhost:8080/get-claim\")\n",
    "    event: List[Event]\n",
    "    request: Request\n",
    "    response: List\n",
    "\n",
    "\n",
    "class Info(BaseModel):\n",
    "    #postman_id: str\n",
    "    #name: str\n",
    "    #schema_alias: str\n",
    "    #exporter_id: str\n",
    "    postman_id: str = Field(description=\"6259f6b2-9049-454c-95e4-b82805bfa3f8\")\n",
    "    name : str = Field (description=\"testcollection\")\n",
    "    schema1: str = Field (description=\"https://schema.getpostman.com/json/collection/v2.1.0/collection.json\")\n",
    "    exporter_id : int = Field(description = \"_exporter_id\") \n",
    "\n",
    "class TestCollection(BaseModel):\n",
    "    info: Info\n",
    "    item: List[Item]"
   ]
  },
  {
   "cell_type": "code",
   "execution_count": 7,
   "id": "5ac8b185-5af6-45a8-b471-353b238debab",
   "metadata": {},
   "outputs": [],
   "source": [
    "sampleinput = {\n",
    "\t\"info\": {\n",
    "\t\t\"_postman_id\": \"6259f6b2-9049-454c-95e4-b82805bfa3f8\",\n",
    "\t\t\"name\": \"testcollection\",\n",
    "\t\t\"schema\": \"https://schema.getpostman.com/json/collection/v2.1.0/collection.json\",\n",
    "\t\t\"_exporter_id\": \"98974\"\n",
    "\t},\n",
    "\t\"item\": [\n",
    "\t\t{\n",
    "\t\t\t\"name\": \"http://localhost:8080/get-claim\",\n",
    "\t\t\t\"event\": [\n",
    "\t\t\t\t{\n",
    "\t\t\t\t\t\"listen\": \"prerequest\",\n",
    "\t\t\t\t\t\"script\": {\n",
    "\t\t\t\t\t\t\"exec\": [\n",
    "\t\t\t\t\t\t\t\"// pm.collectionVariables.set(\\\"c_billType\\\",data[\\\"currentClaim\\\"][\\\"billType\\\"]);\"\n",
    "\t\t\t\t\t\t],\n",
    "\t\t\t\t\t\t\"type\": \"text/javascript\",\n",
    "\t\t\t\t\t\t\"packages\": {}\n",
    "\t\t\t\t\t}\n",
    "\t\t\t\t},\n",
    "\t\t\t\t{\n",
    "\t\t\t\t\t\"listen\": \"test\",\n",
    "\t\t\t\t\t\"script\": {\n",
    "\t\t\t\t\t\t\"exec\": [\n",
    "\t\t\t\t\t\t\t\"pm.test(\\\"Status code is 200\\\", function () {\\r\",\n",
    "\t\t\t\t\t\t\t\"    pm.response.to.have.status(200);\\r\",\n",
    "\t\t\t\t\t\t\t\"});\\r\",\n",
    "\t\t\t\t\t\t\t\"pm.test(\\\"excd\\\", function () {\\r\",\n",
    "\t\t\t\t\t\t\t\"    var jsonData = pm.response.json();\\r\",\n",
    "\t\t\t\t\t\t\t\"    pm.expect(jsonData[0].currentClaim.excd).eq(\\\"5JU\\\")\\r\",\n",
    "\t\t\t\t\t\t\t\"});\"\n",
    "\t\t\t\t\t\t],\n",
    "\t\t\t\t\t\t\"type\": \"text/javascript\",\n",
    "\t\t\t\t\t\t\"packages\": {}\n",
    "\t\t\t\t\t}\n",
    "\t\t\t\t}\n",
    "\t\t\t],\n",
    "\t\t\t\"request\": {\n",
    "\t\t\t\t\"method\": \"POST\",\n",
    "\t\t\t\t\"header\": [],\n",
    "\t\t\t\t\"body\": {\n",
    "\t\t\t\t\t\"mode\": \"raw\",\n",
    "\t\t\t\t\t\"raw\": \"{\\\"details\\\":[    {  \\r\\n        \\\"currentClaim\\\": {\\r\\n            \\\"claimId\\\": \\\"123\\\",\\r\\n            \\\"billType\\\": 0,\\r\\n            \\\"reimbursementMethod\\\": \\\"cash\\\",\\r\\n            \\\"duplicate\\\": false,\\r\\n            \\\"denyReason\\\": \\\"\\\",\\r\\n            \\\"hasAdditionalRevCodes\\\": false,\\r\\n            \\\"pending\\\": true\\r\\n        },\\r\\n        \\\"previousClaim\\\": {\\r\\n            \\\"claimId\\\": \\\"456\\\",\\r\\n            \\\"billType\\\": 2,\\r\\n            \\\"reimbursementMethod\\\": \\\"check\\\",\\r\\n            \\\"duplicate\\\": true,\\r\\n            \\\"denyReason\\\": \\\"Invalid claim\\\",\\r\\n            \\\"hasAdditionalRevCodes\\\": true,\\r\\n            \\\"pending\\\": false\\r\\n        } }  \\r\\n      ]}\",\n",
    "\t\t\t\t\t\"options\": {\n",
    "\t\t\t\t\t\t\"raw\": {\n",
    "\t\t\t\t\t\t\t\"language\": \"json\"\n",
    "\t\t\t\t\t\t}\n",
    "\t\t\t\t\t}\n",
    "\t\t\t\t},\n",
    "\t\t\t\t\"url\": {\n",
    "\t\t\t\t\t\"raw\": \"http://localhost:8080/get-claim\",\n",
    "\t\t\t\t\t\"protocol\": \"http\",\n",
    "\t\t\t\t\t\"host\": [\n",
    "\t\t\t\t\t\t\"localhost\"\n",
    "\t\t\t\t\t],\n",
    "\t\t\t\t\t\"port\": \"8080\",\n",
    "\t\t\t\t\t\"path\": [\n",
    "\t\t\t\t\t\t\"get-claim\"\n",
    "\t\t\t\t\t]\n",
    "\t\t\t\t}\n",
    "\t\t\t},\n",
    "\t\t\t\"response\": []\n",
    "\t\t},\n",
    "\t\t{\n",
    "\t\t\t\"name\": \"http://localhost:8080/get-claim\",\n",
    "\t\t\t\"event\": [\n",
    "\t\t\t\t{\n",
    "\t\t\t\t\t\"listen\": \"prerequest\",\n",
    "\t\t\t\t\t\"script\": {\n",
    "\t\t\t\t\t\t\"exec\": [\n",
    "\t\t\t\t\t\t\t\"// pm.collectionVariables.set(\\\"c_billType\\\",data[\\\"currentClaim\\\"][\\\"billType\\\"]);\"\n",
    "\t\t\t\t\t\t],\n",
    "\t\t\t\t\t\t\"type\": \"text/javascript\",\n",
    "\t\t\t\t\t\t\"packages\": {}\n",
    "\t\t\t\t\t}\n",
    "\t\t\t\t},\n",
    "\t\t\t\t{\n",
    "\t\t\t\t\t\"listen\": \"test\",\n",
    "\t\t\t\t\t\"script\": {\n",
    "\t\t\t\t\t\t\"exec\": [\n",
    "\t\t\t\t\t\t\t\"pm.test(\\\"Status code is 200\\\", function () {\\r\",\n",
    "\t\t\t\t\t\t\t\"    pm.response.to.have.status(200);\\r\",\n",
    "\t\t\t\t\t\t\t\"});\\r\",\n",
    "\t\t\t\t\t\t\t\"pm.test(\\\"excd\\\", function () {\\r\",\n",
    "\t\t\t\t\t\t\t\"    var jsonData = pm.response.json();\\r\",\n",
    "\t\t\t\t\t\t\t\"    pm.expect(jsonData[0].currentClaim.excd).eq(\\\"5JU\\\")\\r\",\n",
    "\t\t\t\t\t\t\t\"});\"\n",
    "\t\t\t\t\t\t],\n",
    "\t\t\t\t\t\t\"type\": \"text/javascript\",\n",
    "\t\t\t\t\t\t\"packages\": {}\n",
    "\t\t\t\t\t}\n",
    "\t\t\t\t}\n",
    "\t\t\t],\n",
    "\t\t\t\"request\": {\n",
    "\t\t\t\t\"method\": \"POST\",\n",
    "\t\t\t\t\"header\": [],\n",
    "\t\t\t\t\"body\": {\n",
    "\t\t\t\t\t\"mode\": \"raw\",\n",
    "\t\t\t\t\t\"raw\": \"{\\\"details\\\":[    {  \\r\\n        \\\"currentClaim\\\": {\\r\\n            \\\"claimId\\\": \\\"123\\\",\\r\\n            \\\"billType\\\": 5,\\r\\n            \\\"reimbursementMethod\\\": \\\"cash\\\",\\r\\n            \\\"duplicate\\\": false,\\r\\n            \\\"denyReason\\\": \\\"\\\",\\r\\n            \\\"hasAdditionalRevCodes\\\": false,\\r\\n            \\\"pending\\\": true\\r\\n        },\\r\\n        \\\"previousClaim\\\": {\\r\\n            \\\"claimId\\\": \\\"456\\\",\\r\\n            \\\"billType\\\": 2,\\r\\n            \\\"reimbursementMethod\\\": \\\"check\\\",\\r\\n            \\\"duplicate\\\": true,\\r\\n            \\\"denyReason\\\": \\\"Invalid claim\\\",\\r\\n            \\\"hasAdditionalRevCodes\\\": true,\\r\\n            \\\"pending\\\": false\\r\\n        } }  \\r\\n      ]}\",\n",
    "\t\t\t\t\t\"options\": {\n",
    "\t\t\t\t\t\t\"raw\": {\n",
    "\t\t\t\t\t\t\t\"language\": \"json\"\n",
    "\t\t\t\t\t\t}\n",
    "\t\t\t\t\t}\n",
    "\t\t\t\t},\n",
    "\t\t\t\t\"url\": {\n",
    "\t\t\t\t\t\"raw\": \"http://localhost:8080/get-claim\",\n",
    "\t\t\t\t\t\"protocol\": \"http\",\n",
    "\t\t\t\t\t\"host\": [\n",
    "\t\t\t\t\t\t\"localhost\"\n",
    "\t\t\t\t\t],\n",
    "\t\t\t\t\t\"port\": \"8080\",\n",
    "\t\t\t\t\t\"path\": [\n",
    "\t\t\t\t\t\t\"get-claim\"\n",
    "\t\t\t\t\t]\n",
    "\t\t\t\t}\n",
    "\t\t\t},\n",
    "\t\t\t\"response\": []\n",
    "\t\t}\n",
    "\t]\n",
    "}"
   ]
  },
  {
   "cell_type": "code",
   "execution_count": 10,
   "id": "f2eb493f-ce6c-4446-a3cd-3368ce8d8e15",
   "metadata": {},
   "outputs": [],
   "source": [
    "json_query = \"\"\"\n",
    "You are a postman api expect, your job is to convert test data given in the \"claimstestcase\" format to \"sampleinput\" \n",
    "\n",
    "Instructions :\n",
    "Give the output only in the \"sampleinput\".\n",
    "Give the output as one single json\n",
    "\n",
    "For each test case you want to create an individual test case following the pattern in \"sampleinput.item\". For each sampleinput.item.request.body.raw,\n",
    "use claimsarr from \"claimstestcase\" in string format. \n",
    "\n",
    "Convert the claimsarr to string format using json.dumps\n",
    "\n",
    "example: \"raw\": \"{\\\"details\\\":[    {  \\r\\n        \\\"currentClaim\\\": {\\r\\n            \\\"claimId\\\": \\\"123\\\",\\r\\n            \\\"billType\\\": 5,\\r\\n            \\\"reimbursementMethod\\\": \\\"cash\\\",\\r\\n            \\\"duplicate\\\": false,\\r\\n            \\\"denyReason\\\": \\\"\\\",\\r\\n            \\\"hasAdditionalRevCodes\\\": false,\\r\\n            \\\"pending\\\": true\\r\\n        },\\r\\n        \\\"previousClaim\\\": {\\r\\n            \\\"claimId\\\": \\\"456\\\",\\r\\n            \\\"billType\\\": 2,\\r\\n            \\\"reimbursementMethod\\\": \\\"check\\\",\\r\\n            \\\"duplicate\\\": true,\\r\\n            \\\"denyReason\\\": \\\"Invalid claim\\\",\\r\\n            \\\"hasAdditionalRevCodes\\\": true,\\r\\n            \\\"pending\\\": false\\r\\n        } }  \\r\\n      ]}\"\n",
    "\n",
    "Schema:\n",
    "get the schema of the json from this URL - https://schema.getpostman.com/json/collection/v2.1.0/collection.json\n",
    "\"\"\""
   ]
  },
  {
   "cell_type": "code",
   "execution_count": null,
   "id": "b7aca08c-1382-4bfb-bf2c-6b097ac81f9c",
   "metadata": {},
   "outputs": [],
   "source": [
    "json_query = \"\"\"\n"
   ]
  },
  {
   "cell_type": "code",
   "execution_count": 11,
   "id": "ff43af93-bbc0-4752-b576-269b429ecf8b",
   "metadata": {},
   "outputs": [],
   "source": [
    "# Set up a parser + inject instructions into the prompt template.\n",
    "parser = JsonOutputParser(pydantic_object=TestCollection)\n",
    "\n",
    "prompt = PromptTemplate(\n",
    "    template=\"Answer the user query.\\n{format_instructions}\\n{query}\\n in the input sample given\",\n",
    "    input_variables=[\"query\", \"sampleinput\", \"claimstestcase\"],\n",
    "    partial_variables={\"format_instructions\": parser.get_format_instructions()},\n",
    ")\n",
    "\n",
    "chain = prompt | azurechatmodel | parser\n",
    "\n",
    "outpt = chain.invoke({\"query\": json_query, \"sampleinput\": sampleinput, \"claimstestcase\": claimstestcase})"
   ]
  },
  {
   "cell_type": "code",
   "execution_count": 12,
   "id": "0bbb0cd9-e895-44d8-b101-3bb1ef59127d",
   "metadata": {},
   "outputs": [
    {
     "data": {
      "text/plain": [
       "{'item': [{'name': 'Test Case 1',\n",
       "   'event': [{'listen1': 'prerequest',\n",
       "     'script1': {'exec': ['pm.collectionVariables.set(\"c_billType\",data[\"currentClaim\"][\"billType\"]);'],\n",
       "      'type': 'text/javascript',\n",
       "      'packages': {}},\n",
       "     'listen2': 'test',\n",
       "     'script2': {'exec': ['pm.test(\"Status code is 200\", function () {',\n",
       "       'pm.response.to.have.status(200);',\n",
       "       '});',\n",
       "       'pm.test(\"excd\", function () {',\n",
       "       'var jsonData = pm.response.json();',\n",
       "       'pm.expect(jsonData[0].currentClaim.excd).eq(\"5JU\")',\n",
       "       '});'],\n",
       "      'type': 'text/javascript',\n",
       "      'packages': {}}}],\n",
       "   'request': {'method': 'POST',\n",
       "    'header': [],\n",
       "    'body': {'mode': 'raw',\n",
       "     'raw': '{\"details\":[    {  \\n        \"currentClaim\": {\\n            \"claimId\": \"123\",\\n            \"billType\": 5,\\n            \"reimbursementMethod\": \"cash\",\\n            \"duplicate\": false,\\n            \"denyReason\": \"\",\\n            \"hasAdditionalRevCodes\": false,\\n            \"pending\": true\\n        },\\n        \"previousClaim\": {\\n            \"claimId\": \"456\",\\n            \"billType\": 2,\\n            \"reimbursementMethod\": \"check\",\\n            \"duplicate\": true,\\n            \"denyReason\": \"Invalid claim\",\\n            \"hasAdditionalRevCodes\": true,\\n            \"pending\": false\\n        } }  \\n      ]}',\n",
       "     'options': {'raw': {'language': 'json'}}},\n",
       "    'url': {'raw': 'http://localhost:8080/get-claim',\n",
       "     'protocol': 'http',\n",
       "     'host': ['localhost'],\n",
       "     'port': '8080',\n",
       "     'path': ['get-claim']}},\n",
       "   'response': []}]}"
      ]
     },
     "execution_count": 12,
     "metadata": {},
     "output_type": "execute_result"
    }
   ],
   "source": [
    "outpt"
   ]
  },
  {
   "cell_type": "code",
   "execution_count": 13,
   "id": "8000b446-cda1-46e7-86fb-4a46f738a0fd",
   "metadata": {},
   "outputs": [
    {
     "name": "stdout",
     "output_type": "stream",
     "text": [
      "{\"item\": [{\"name\": \"Test Case 1\", \"event\": [{\"listen1\": \"prerequest\", \"script1\": {\"exec\": [\"pm.collectionVariables.set(\\\"c_billType\\\",data[\\\"currentClaim\\\"][\\\"billType\\\"]);\"], \"type\": \"text/javascript\", \"packages\": {}}, \"listen2\": \"test\", \"script2\": {\"exec\": [\"pm.test(\\\"Status code is 200\\\", function () {\", \"pm.response.to.have.status(200);\", \"});\", \"pm.test(\\\"excd\\\", function () {\", \"var jsonData = pm.response.json();\", \"pm.expect(jsonData[0].currentClaim.excd).eq(\\\"5JU\\\")\", \"});\"], \"type\": \"text/javascript\", \"packages\": {}}}], \"request\": {\"method\": \"POST\", \"header\": [], \"body\": {\"mode\": \"raw\", \"raw\": \"{\\\"details\\\":[    {  \\n        \\\"currentClaim\\\": {\\n            \\\"claimId\\\": \\\"123\\\",\\n            \\\"billType\\\": 5,\\n            \\\"reimbursementMethod\\\": \\\"cash\\\",\\n            \\\"duplicate\\\": false,\\n            \\\"denyReason\\\": \\\"\\\",\\n            \\\"hasAdditionalRevCodes\\\": false,\\n            \\\"pending\\\": true\\n        },\\n        \\\"previousClaim\\\": {\\n            \\\"claimId\\\": \\\"456\\\",\\n            \\\"billType\\\": 2,\\n            \\\"reimbursementMethod\\\": \\\"check\\\",\\n            \\\"duplicate\\\": true,\\n            \\\"denyReason\\\": \\\"Invalid claim\\\",\\n            \\\"hasAdditionalRevCodes\\\": true,\\n            \\\"pending\\\": false\\n        } }  \\n      ]}\", \"options\": {\"raw\": {\"language\": \"json\"}}}, \"url\": {\"raw\": \"http://localhost:8080/get-claim\", \"protocol\": \"http\", \"host\": [\"localhost\"], \"port\": \"8080\", \"path\": [\"get-claim\"]}}, \"response\": []}]}\n"
     ]
    }
   ],
   "source": [
    "print(json.dumps(outpt))"
   ]
  },
  {
   "cell_type": "code",
   "execution_count": null,
   "id": "a94f078e-9c98-47c0-9573-b957b6eda9da",
   "metadata": {},
   "outputs": [],
   "source": []
  }
 ],
 "metadata": {
  "colab": {
   "provenance": []
  },
  "kernelspec": {
   "display_name": "Python 3 (ipykernel)",
   "language": "python",
   "name": "python3"
  },
  "language_info": {
   "codemirror_mode": {
    "name": "ipython",
    "version": 3
   },
   "file_extension": ".py",
   "mimetype": "text/x-python",
   "name": "python",
   "nbconvert_exporter": "python",
   "pygments_lexer": "ipython3",
   "version": "3.11.7"
  }
 },
 "nbformat": 4,
 "nbformat_minor": 5
}
