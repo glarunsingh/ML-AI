{
 "cells": [
  {
   "cell_type": "code",
   "execution_count": 3,
   "id": "26fd83bd-8fd5-4215-a9d5-1b35d8b95856",
   "metadata": {},
   "outputs": [
    {
     "name": "stdout",
     "output_type": "stream",
     "text": [
      "Defaulting to user installation because normal site-packages is not writeable\n",
      "Collecting nemoguardrails\n",
      "  Using cached nemoguardrails-0.8.3-py3-none-any.whl.metadata (20 kB)\n",
      "Requirement already satisfied: aiohttp>=3.9.2 in c:\\programdata\\anaconda3\\lib\\site-packages (from nemoguardrails) (3.9.3)\n",
      "Collecting annoy>=1.17.3 (from nemoguardrails)\n",
      "  Using cached annoy-1.17.3.tar.gz (647 kB)\n",
      "  Preparing metadata (setup.py): started\n",
      "  Preparing metadata (setup.py): finished with status 'done'\n",
      "Collecting fastapi>=0.103.0 (from nemoguardrails)\n",
      "  Using cached fastapi-0.110.2-py3-none-any.whl.metadata (24 kB)\n",
      "Collecting fastembed>=0.2.2 (from nemoguardrails)\n",
      "  Using cached fastembed-0.2.6-py3-none-any.whl.metadata (4.8 kB)\n",
      "Requirement already satisfied: httpx>=0.24.1 in c:\\users\\janu\\appdata\\roaming\\python\\python311\\site-packages (from nemoguardrails) (0.27.0)\n",
      "Requirement already satisfied: jinja2>=3.1.3 in c:\\programdata\\anaconda3\\lib\\site-packages (from nemoguardrails) (3.1.3)\n",
      "Requirement already satisfied: langchain!=0.1.9,<0.2.0,>=0.1.0 in c:\\users\\janu\\appdata\\roaming\\python\\python311\\site-packages (from nemoguardrails) (0.1.16)\n",
      "Requirement already satisfied: langchain-core!=0.1.26,>=0.1.0 in c:\\users\\janu\\appdata\\roaming\\python\\python311\\site-packages (from nemoguardrails) (0.1.45)\n",
      "Requirement already satisfied: langchain-community<0.1.0,>=0.0.16 in c:\\users\\janu\\appdata\\roaming\\python\\python311\\site-packages (from nemoguardrails) (0.0.34)\n",
      "Collecting lark~=1.1.7 (from nemoguardrails)\n",
      "  Using cached lark-1.1.9-py3-none-any.whl.metadata (1.9 kB)\n",
      "Requirement already satisfied: nest-asyncio>=1.5.6 in c:\\programdata\\anaconda3\\lib\\site-packages (from nemoguardrails) (1.6.0)\n",
      "Requirement already satisfied: prompt-toolkit>=3.0 in c:\\programdata\\anaconda3\\lib\\site-packages (from nemoguardrails) (3.0.43)\n",
      "Requirement already satisfied: pydantic>=1.10 in c:\\programdata\\anaconda3\\lib\\site-packages (from nemoguardrails) (1.10.12)\n",
      "Requirement already satisfied: pyyaml>=6.0 in c:\\programdata\\anaconda3\\lib\\site-packages (from nemoguardrails) (6.0.1)\n",
      "Requirement already satisfied: rich>=13.5.2 in c:\\users\\janu\\appdata\\roaming\\python\\python311\\site-packages (from nemoguardrails) (13.7.1)\n",
      "Collecting simpleeval>=0.9.13 (from nemoguardrails)\n",
      "  Using cached simpleeval-0.9.13-py2.py3-none-any.whl.metadata (15 kB)\n",
      "Collecting starlette>=0.27.0 (from nemoguardrails)\n",
      "  Using cached starlette-0.37.2-py3-none-any.whl.metadata (5.9 kB)\n",
      "Requirement already satisfied: typer>=0.7.0 in c:\\users\\janu\\appdata\\roaming\\python\\python311\\site-packages (from nemoguardrails) (0.9.4)\n",
      "Collecting uvicorn>=0.23 (from nemoguardrails)\n",
      "  Using cached uvicorn-0.29.0-py3-none-any.whl.metadata (6.3 kB)\n",
      "Collecting watchdog>=3.0.0 (from nemoguardrails)\n",
      "  Using cached watchdog-4.0.0-py3-none-win_amd64.whl.metadata (37 kB)\n",
      "Requirement already satisfied: aiosignal>=1.1.2 in c:\\programdata\\anaconda3\\lib\\site-packages (from aiohttp>=3.9.2->nemoguardrails) (1.2.0)\n",
      "Requirement already satisfied: attrs>=17.3.0 in c:\\programdata\\anaconda3\\lib\\site-packages (from aiohttp>=3.9.2->nemoguardrails) (23.1.0)\n",
      "Requirement already satisfied: frozenlist>=1.1.1 in c:\\programdata\\anaconda3\\lib\\site-packages (from aiohttp>=3.9.2->nemoguardrails) (1.4.0)\n",
      "Requirement already satisfied: multidict<7.0,>=4.5 in c:\\programdata\\anaconda3\\lib\\site-packages (from aiohttp>=3.9.2->nemoguardrails) (6.0.4)\n",
      "Requirement already satisfied: yarl<2.0,>=1.0 in c:\\programdata\\anaconda3\\lib\\site-packages (from aiohttp>=3.9.2->nemoguardrails) (1.9.3)\n",
      "Requirement already satisfied: typing-extensions>=4.8.0 in c:\\programdata\\anaconda3\\lib\\site-packages (from fastapi>=0.103.0->nemoguardrails) (4.9.0)\n",
      "Collecting huggingface-hub<0.21,>=0.20 (from fastembed>=0.2.2->nemoguardrails)\n",
      "  Using cached huggingface_hub-0.20.3-py3-none-any.whl.metadata (12 kB)\n",
      "Collecting loguru<0.8.0,>=0.7.2 (from fastembed>=0.2.2->nemoguardrails)\n",
      "  Using cached loguru-0.7.2-py3-none-any.whl.metadata (23 kB)\n",
      "Requirement already satisfied: numpy>=1.21 in c:\\programdata\\anaconda3\\lib\\site-packages (from fastembed>=0.2.2->nemoguardrails) (1.26.4)\n",
      "Collecting onnx<2.0.0,>=1.15.0 (from fastembed>=0.2.2->nemoguardrails)\n",
      "  Using cached onnx-1.16.0-cp311-cp311-win_amd64.whl.metadata (16 kB)\n",
      "Collecting onnxruntime<2.0.0,>=1.17.0 (from fastembed>=0.2.2->nemoguardrails)\n",
      "  Using cached onnxruntime-1.17.3-cp311-cp311-win_amd64.whl.metadata (4.6 kB)\n",
      "Requirement already satisfied: requests<3.0,>=2.31 in c:\\programdata\\anaconda3\\lib\\site-packages (from fastembed>=0.2.2->nemoguardrails) (2.31.0)\n",
      "Requirement already satisfied: tokenizers<0.16.0,>=0.15.1 in c:\\users\\janu\\appdata\\roaming\\python\\python311\\site-packages (from fastembed>=0.2.2->nemoguardrails) (0.15.2)\n",
      "Requirement already satisfied: tqdm<5.0,>=4.66 in c:\\users\\janu\\appdata\\roaming\\python\\python311\\site-packages (from fastembed>=0.2.2->nemoguardrails) (4.66.2)\n",
      "Requirement already satisfied: anyio in c:\\programdata\\anaconda3\\lib\\site-packages (from httpx>=0.24.1->nemoguardrails) (4.2.0)\n",
      "Requirement already satisfied: certifi in c:\\programdata\\anaconda3\\lib\\site-packages (from httpx>=0.24.1->nemoguardrails) (2024.2.2)\n",
      "Requirement already satisfied: httpcore==1.* in c:\\users\\janu\\appdata\\roaming\\python\\python311\\site-packages (from httpx>=0.24.1->nemoguardrails) (1.0.5)\n",
      "Requirement already satisfied: idna in c:\\programdata\\anaconda3\\lib\\site-packages (from httpx>=0.24.1->nemoguardrails) (3.4)\n",
      "Requirement already satisfied: sniffio in c:\\programdata\\anaconda3\\lib\\site-packages (from httpx>=0.24.1->nemoguardrails) (1.3.0)\n",
      "Requirement already satisfied: h11<0.15,>=0.13 in c:\\users\\janu\\appdata\\roaming\\python\\python311\\site-packages (from httpcore==1.*->httpx>=0.24.1->nemoguardrails) (0.14.0)\n",
      "Requirement already satisfied: MarkupSafe>=2.0 in c:\\programdata\\anaconda3\\lib\\site-packages (from jinja2>=3.1.3->nemoguardrails) (2.1.3)\n",
      "Requirement already satisfied: SQLAlchemy<3,>=1.4 in c:\\programdata\\anaconda3\\lib\\site-packages (from langchain!=0.1.9,<0.2.0,>=0.1.0->nemoguardrails) (2.0.25)\n",
      "Requirement already satisfied: dataclasses-json<0.7,>=0.5.7 in c:\\users\\janu\\appdata\\roaming\\python\\python311\\site-packages (from langchain!=0.1.9,<0.2.0,>=0.1.0->nemoguardrails) (0.6.4)\n",
      "Requirement already satisfied: jsonpatch<2.0,>=1.33 in c:\\users\\janu\\appdata\\roaming\\python\\python311\\site-packages (from langchain!=0.1.9,<0.2.0,>=0.1.0->nemoguardrails) (1.33)\n",
      "Requirement already satisfied: langchain-text-splitters<0.1,>=0.0.1 in c:\\users\\janu\\appdata\\roaming\\python\\python311\\site-packages (from langchain!=0.1.9,<0.2.0,>=0.1.0->nemoguardrails) (0.0.1)\n",
      "Requirement already satisfied: langsmith<0.2.0,>=0.1.17 in c:\\users\\janu\\appdata\\roaming\\python\\python311\\site-packages (from langchain!=0.1.9,<0.2.0,>=0.1.0->nemoguardrails) (0.1.43)\n",
      "Requirement already satisfied: tenacity<9.0.0,>=8.1.0 in c:\\programdata\\anaconda3\\lib\\site-packages (from langchain!=0.1.9,<0.2.0,>=0.1.0->nemoguardrails) (8.2.2)\n",
      "Requirement already satisfied: packaging<24.0,>=23.2 in c:\\users\\janu\\appdata\\roaming\\python\\python311\\site-packages (from langchain-core!=0.1.26,>=0.1.0->nemoguardrails) (23.2)\n",
      "Requirement already satisfied: wcwidth in c:\\programdata\\anaconda3\\lib\\site-packages (from prompt-toolkit>=3.0->nemoguardrails) (0.2.5)\n",
      "Requirement already satisfied: markdown-it-py>=2.2.0 in c:\\programdata\\anaconda3\\lib\\site-packages (from rich>=13.5.2->nemoguardrails) (2.2.0)\n",
      "Requirement already satisfied: pygments<3.0.0,>=2.13.0 in c:\\programdata\\anaconda3\\lib\\site-packages (from rich>=13.5.2->nemoguardrails) (2.15.1)\n",
      "Requirement already satisfied: click<9.0.0,>=7.1.1 in c:\\programdata\\anaconda3\\lib\\site-packages (from typer>=0.7.0->nemoguardrails) (8.1.7)\n",
      "Requirement already satisfied: colorama in c:\\programdata\\anaconda3\\lib\\site-packages (from click<9.0.0,>=7.1.1->typer>=0.7.0->nemoguardrails) (0.4.6)\n",
      "Requirement already satisfied: marshmallow<4.0.0,>=3.18.0 in c:\\users\\janu\\appdata\\roaming\\python\\python311\\site-packages (from dataclasses-json<0.7,>=0.5.7->langchain!=0.1.9,<0.2.0,>=0.1.0->nemoguardrails) (3.21.1)\n",
      "Requirement already satisfied: typing-inspect<1,>=0.4.0 in c:\\users\\janu\\appdata\\roaming\\python\\python311\\site-packages (from dataclasses-json<0.7,>=0.5.7->langchain!=0.1.9,<0.2.0,>=0.1.0->nemoguardrails) (0.9.0)\n",
      "Requirement already satisfied: filelock in c:\\programdata\\anaconda3\\lib\\site-packages (from huggingface-hub<0.21,>=0.20->fastembed>=0.2.2->nemoguardrails) (3.13.1)\n",
      "Requirement already satisfied: fsspec>=2023.5.0 in c:\\programdata\\anaconda3\\lib\\site-packages (from huggingface-hub<0.21,>=0.20->fastembed>=0.2.2->nemoguardrails) (2023.10.0)\n",
      "Requirement already satisfied: jsonpointer>=1.9 in c:\\programdata\\anaconda3\\lib\\site-packages (from jsonpatch<2.0,>=1.33->langchain!=0.1.9,<0.2.0,>=0.1.0->nemoguardrails) (2.1)\n",
      "Requirement already satisfied: orjson<4.0.0,>=3.9.14 in c:\\users\\janu\\appdata\\roaming\\python\\python311\\site-packages (from langsmith<0.2.0,>=0.1.17->langchain!=0.1.9,<0.2.0,>=0.1.0->nemoguardrails) (3.10.0)\n",
      "Collecting win32-setctime>=1.0.0 (from loguru<0.8.0,>=0.7.2->fastembed>=0.2.2->nemoguardrails)\n",
      "  Using cached win32_setctime-1.1.0-py3-none-any.whl.metadata (2.3 kB)\n",
      "Requirement already satisfied: mdurl~=0.1 in c:\\programdata\\anaconda3\\lib\\site-packages (from markdown-it-py>=2.2.0->rich>=13.5.2->nemoguardrails) (0.1.0)\n",
      "Requirement already satisfied: protobuf>=3.20.2 in c:\\programdata\\anaconda3\\lib\\site-packages (from onnx<2.0.0,>=1.15.0->fastembed>=0.2.2->nemoguardrails) (3.20.3)\n",
      "Requirement already satisfied: coloredlogs in c:\\users\\janu\\appdata\\roaming\\python\\python311\\site-packages (from onnxruntime<2.0.0,>=1.17.0->fastembed>=0.2.2->nemoguardrails) (15.0.1)\n",
      "Collecting flatbuffers (from onnxruntime<2.0.0,>=1.17.0->fastembed>=0.2.2->nemoguardrails)\n",
      "  Using cached flatbuffers-24.3.25-py2.py3-none-any.whl.metadata (850 bytes)\n",
      "Requirement already satisfied: sympy in c:\\programdata\\anaconda3\\lib\\site-packages (from onnxruntime<2.0.0,>=1.17.0->fastembed>=0.2.2->nemoguardrails) (1.12)\n",
      "Requirement already satisfied: charset-normalizer<4,>=2 in c:\\programdata\\anaconda3\\lib\\site-packages (from requests<3.0,>=2.31->fastembed>=0.2.2->nemoguardrails) (2.0.4)\n",
      "Requirement already satisfied: urllib3<3,>=1.21.1 in c:\\programdata\\anaconda3\\lib\\site-packages (from requests<3.0,>=2.31->fastembed>=0.2.2->nemoguardrails) (2.0.7)\n",
      "Requirement already satisfied: greenlet!=0.4.17 in c:\\programdata\\anaconda3\\lib\\site-packages (from SQLAlchemy<3,>=1.4->langchain!=0.1.9,<0.2.0,>=0.1.0->nemoguardrails) (3.0.1)\n",
      "Requirement already satisfied: mypy-extensions>=0.3.0 in c:\\programdata\\anaconda3\\lib\\site-packages (from typing-inspect<1,>=0.4.0->dataclasses-json<0.7,>=0.5.7->langchain!=0.1.9,<0.2.0,>=0.1.0->nemoguardrails) (1.0.0)\n",
      "Requirement already satisfied: humanfriendly>=9.1 in c:\\users\\janu\\appdata\\roaming\\python\\python311\\site-packages (from coloredlogs->onnxruntime<2.0.0,>=1.17.0->fastembed>=0.2.2->nemoguardrails) (10.0)\n",
      "Requirement already satisfied: mpmath>=0.19 in c:\\programdata\\anaconda3\\lib\\site-packages (from sympy->onnxruntime<2.0.0,>=1.17.0->fastembed>=0.2.2->nemoguardrails) (1.3.0)\n",
      "Requirement already satisfied: pyreadline3 in c:\\users\\janu\\appdata\\roaming\\python\\python311\\site-packages (from humanfriendly>=9.1->coloredlogs->onnxruntime<2.0.0,>=1.17.0->fastembed>=0.2.2->nemoguardrails) (3.4.1)\n",
      "Using cached nemoguardrails-0.8.3-py3-none-any.whl (2.6 MB)\n",
      "Using cached fastapi-0.110.2-py3-none-any.whl (91 kB)\n",
      "Using cached fastembed-0.2.6-py3-none-any.whl (26 kB)\n",
      "Using cached lark-1.1.9-py3-none-any.whl (111 kB)\n",
      "Using cached simpleeval-0.9.13-py2.py3-none-any.whl (15 kB)\n",
      "Using cached starlette-0.37.2-py3-none-any.whl (71 kB)\n",
      "Using cached uvicorn-0.29.0-py3-none-any.whl (60 kB)\n",
      "Using cached watchdog-4.0.0-py3-none-win_amd64.whl (82 kB)\n",
      "Using cached huggingface_hub-0.20.3-py3-none-any.whl (330 kB)\n",
      "Using cached loguru-0.7.2-py3-none-any.whl (62 kB)\n",
      "Using cached onnx-1.16.0-cp311-cp311-win_amd64.whl (14.4 MB)\n",
      "Using cached onnxruntime-1.17.3-cp311-cp311-win_amd64.whl (5.6 MB)\n",
      "Using cached win32_setctime-1.1.0-py3-none-any.whl (3.6 kB)\n",
      "Using cached flatbuffers-24.3.25-py2.py3-none-any.whl (26 kB)\n",
      "Building wheels for collected packages: annoy\n",
      "  Building wheel for annoy (setup.py): started\n",
      "  Building wheel for annoy (setup.py): finished with status 'error'\n",
      "  Running setup.py clean for annoy\n",
      "Failed to build annoy\n",
      "Note: you may need to restart the kernel to use updated packages.\n"
     ]
    },
    {
     "name": "stderr",
     "output_type": "stream",
     "text": [
      "  error: subprocess-exited-with-error\n",
      "  \n",
      "  python setup.py bdist_wheel did not run successfully.\n",
      "  exit code: 1\n",
      "  \n",
      "  [22 lines of output]\n",
      "  C:\\ProgramData\\anaconda3\\Lib\\site-packages\\setuptools\\__init__.py:80: _DeprecatedInstaller: setuptools.installer and fetch_build_eggs are deprecated.\n",
      "  !!\n",
      "  \n",
      "          ********************************************************************************\n",
      "          Requirements should be satisfied by a PEP 517 installer.\n",
      "          If you are using pip, you can try `pip install --use-pep517`.\n",
      "          ********************************************************************************\n",
      "  \n",
      "  !!\n",
      "    dist.fetch_build_eggs(dist.setup_requires)\n",
      "  running bdist_wheel\n",
      "  running build\n",
      "  running build_py\n",
      "  creating build\n",
      "  creating build\\lib.win-amd64-cpython-311\n",
      "  creating build\\lib.win-amd64-cpython-311\\annoy\n",
      "  copying annoy\\__init__.py -> build\\lib.win-amd64-cpython-311\\annoy\n",
      "  copying annoy\\__init__.pyi -> build\\lib.win-amd64-cpython-311\\annoy\n",
      "  copying annoy\\py.typed -> build\\lib.win-amd64-cpython-311\\annoy\n",
      "  running build_ext\n",
      "  building 'annoy.annoylib' extension\n",
      "  error: Microsoft Visual C++ 14.0 or greater is required. Get it with \"Microsoft C++ Build Tools\": https://visualstudio.microsoft.com/visual-cpp-build-tools/\n",
      "  [end of output]\n",
      "  \n",
      "  note: This error originates from a subprocess, and is likely not a problem with pip.\n",
      "  ERROR: Failed building wheel for annoy\n",
      "ERROR: Could not build wheels for annoy, which is required to install pyproject.toml-based projects\n"
     ]
    }
   ],
   "source": [
    "pip install nemoguardrails"
   ]
  },
  {
   "cell_type": "code",
   "execution_count": 5,
   "id": "8a2d906c-95df-4ac8-a8eb-bd02574f38ee",
   "metadata": {},
   "outputs": [
    {
     "name": "stdout",
     "output_type": "stream",
     "text": [
      "Overwriting config/config.yml\n"
     ]
    }
   ],
   "source": [
    "%%writefile config/config.yml\n",
    "models:\n",
    " - type: main\n",
    "   engine: azure\n",
    "   model: gpt-35-turbo-16k"
   ]
  },
  {
   "cell_type": "code",
   "execution_count": 7,
   "id": "40bab8c7-4a5b-4983-b8a3-e4df60f39e00",
   "metadata": {},
   "outputs": [],
   "source": [
    "import os\n",
    "\n",
    "#Setting Environment variable\n",
    "os.environ[\"AZURE_OPENAI_API_VERSION\"] = \"2023-07-01-preview\"\n",
    "os.environ[\"AZURE_OPENAI_ENDPOINT\"] = 'https://dskumar.openai.azure.com/'\n",
    "os.environ[\"AZURE_OPENAI_API_KEY\"] =\"62855d6dd08945819bf83aee0c104127\"\n",
    "os.environ[\"AZURE_OPENAI_CHAT_DEPLOYMENT_NAME\"] =\"DskumarDeployment\"\n",
    "os.environ['OPENAI_TYPE']=\"Azure\"\n",
    "os.environ[\"LLM_MODEL\"] = \"gpt-35-turbo-16k\"\n",
    "os.environ[\"LLM_EMBEDDING_MODEL\"] = \"dskumar-text-embedding-ada-002\""
   ]
  },
  {
   "cell_type": "code",
   "execution_count": 8,
   "id": "cd6ede57-78d5-45f2-bda0-23d47e5a80e8",
   "metadata": {},
   "outputs": [],
   "source": [
    "from langchain_core.messages import AIMessage,SystemMessage,HumanMessage\n",
    "from langchain_openai import AzureChatOpenAI\n",
    "\n",
    "model = AzureChatOpenAI(\n",
    "    openai_api_version=os.environ[\"AZURE_OPENAI_API_VERSION\"],\n",
    "    azure_deployment=os.environ[\"AZURE_OPENAI_CHAT_DEPLOYMENT_NAME\"],\n",
    ")"
   ]
  },
  {
   "cell_type": "code",
   "execution_count": 10,
   "id": "72c08afe-7e98-49f4-87af-3491e2fb9ead",
   "metadata": {},
   "outputs": [
    {
     "ename": "ModuleNotFoundError",
     "evalue": "No module named 'nemoguardrails'",
     "output_type": "error",
     "traceback": [
      "\u001b[1;31m---------------------------------------------------------------------------\u001b[0m",
      "\u001b[1;31mModuleNotFoundError\u001b[0m                       Traceback (most recent call last)",
      "Cell \u001b[1;32mIn[10], line 1\u001b[0m\n\u001b[1;32m----> 1\u001b[0m \u001b[38;5;28;01mimport\u001b[39;00m \u001b[38;5;21;01mnemoguardrails\u001b[39;00m\n",
      "\u001b[1;31mModuleNotFoundError\u001b[0m: No module named 'nemoguardrails'"
     ]
    }
   ],
   "source": [
    "import nemoguardrails"
   ]
  },
  {
   "cell_type": "code",
   "execution_count": 9,
   "id": "f610ea0e-bff2-465e-bfed-0776f92ed945",
   "metadata": {},
   "outputs": [
    {
     "ename": "ModuleNotFoundError",
     "evalue": "No module named 'nemoguardrails'",
     "output_type": "error",
     "traceback": [
      "\u001b[1;31m---------------------------------------------------------------------------\u001b[0m",
      "\u001b[1;31mModuleNotFoundError\u001b[0m                       Traceback (most recent call last)",
      "Cell \u001b[1;32mIn[9], line 1\u001b[0m\n\u001b[1;32m----> 1\u001b[0m \u001b[38;5;28;01mfrom\u001b[39;00m \u001b[38;5;21;01mnemoguardrails\u001b[39;00m \u001b[38;5;28;01mimport\u001b[39;00m LLMRails, RailsConfig\n",
      "\u001b[1;31mModuleNotFoundError\u001b[0m: No module named 'nemoguardrails'"
     ]
    }
   ],
   "source": [
    "from nemoguardrails import LLMRails, RailsConfig"
   ]
  },
  {
   "cell_type": "code",
   "execution_count": 6,
   "id": "ce97bd26-775f-43e0-b885-5132e2f1082b",
   "metadata": {},
   "outputs": [
    {
     "data": {
      "text/plain": [
       "'C:\\\\Users\\\\JANU\\\\OneDrive\\\\Documents\\\\GitHub\\\\python_dumps\\\\Codes\\\\Python_Learning\\\\Langchain\\\\NeMo Guardrails'"
      ]
     },
     "execution_count": 6,
     "metadata": {},
     "output_type": "execute_result"
    }
   ],
   "source": [
    "config = RailsConfig.from_path(\"path/to/config\")\n",
    "\n",
    "app = LLMRails(config, llm=llm)\n",
    "new_message = app.generate(messages=[{\n",
    "    \"role\": \"user\",\n",
    "    \"content\": \"Hello! What can you do for me?\"\n",
    "}])"
   ]
  },
  {
   "cell_type": "code",
   "execution_count": null,
   "id": "cc2d372c-ead8-4815-b4c2-e06438ae53b4",
   "metadata": {},
   "outputs": [],
   "source": [
    "app = LLMRails(config=config, llm=chat_model)\n",
    "app.runtime.register_action_param(\"llm\", chat_model)"
   ]
  }
 ],
 "metadata": {
  "kernelspec": {
   "display_name": "Python 3 (ipykernel)",
   "language": "python",
   "name": "python3"
  },
  "language_info": {
   "codemirror_mode": {
    "name": "ipython",
    "version": 3
   },
   "file_extension": ".py",
   "mimetype": "text/x-python",
   "name": "python",
   "nbconvert_exporter": "python",
   "pygments_lexer": "ipython3",
   "version": "3.11.7"
  }
 },
 "nbformat": 4,
 "nbformat_minor": 5
}
