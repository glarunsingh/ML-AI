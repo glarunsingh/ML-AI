{
 "cells": [
  {
   "cell_type": "markdown",
   "id": "eaabc44e",
   "metadata": {},
   "source": [
    "# Memory"
   ]
  },
  {
   "cell_type": "markdown",
   "id": "26b3f578",
   "metadata": {},
   "source": [
    "Most LLM applications have a conversational interface. An essential component of a conversation is being able to refer to information introduced earlier in the conversation. At bare minimum, a conversational system should be able to access some window of past messages directly. "
   ]
  },
  {
   "cell_type": "markdown",
   "id": "be0ff3ba",
   "metadata": {},
   "source": [
    "## 1. ChatMessageHistory"
   ]
  },
  {
   "cell_type": "markdown",
   "id": "af69b27f",
   "metadata": {},
   "source": [
    "One of the core utility classes underpinning most (if not all) memory modules is the ChatMessageHistory class. This is a super lightweight wrapper that provides convenience methods for saving HumanMessages, AIMessages, and then fetching them all.\n",
    "\n"
   ]
  },
  {
   "cell_type": "code",
   "execution_count": 1,
   "id": "b00825a5",
   "metadata": {},
   "outputs": [],
   "source": [
    "from langchain.memory import ChatMessageHistory"
   ]
  },
  {
   "cell_type": "code",
   "execution_count": 2,
   "id": "11f0f8f6",
   "metadata": {},
   "outputs": [],
   "source": [
    "history = ChatMessageHistory()"
   ]
  },
  {
   "cell_type": "code",
   "execution_count": 3,
   "id": "4715ef10",
   "metadata": {},
   "outputs": [],
   "source": [
    "history.add_user_message(\"Hello nice to meet you\")"
   ]
  },
  {
   "cell_type": "code",
   "execution_count": 4,
   "id": "2d60f627",
   "metadata": {},
   "outputs": [],
   "source": [
    "history.add_ai_message(\"Nice to meet you!\")"
   ]
  },
  {
   "cell_type": "code",
   "execution_count": 5,
   "id": "b858572a",
   "metadata": {},
   "outputs": [
    {
     "data": {
      "text/plain": [
       "[HumanMessage(content='Hello nice to meet you'),\n",
       " AIMessage(content='Nice to meet you!')]"
      ]
     },
     "execution_count": 5,
     "metadata": {},
     "output_type": "execute_result"
    }
   ],
   "source": [
    "history.messages"
   ]
  },
  {
   "cell_type": "markdown",
   "id": "bde8f6ab",
   "metadata": {},
   "source": [
    "## 2. ConversationBufferMemory"
   ]
  },
  {
   "cell_type": "markdown",
   "id": "e6b9500e",
   "metadata": {},
   "source": [
    "This memory allows for storing messages and then extracts the messages in a variable."
   ]
  },
  {
   "cell_type": "code",
   "execution_count": 10,
   "id": "1a208918",
   "metadata": {},
   "outputs": [],
   "source": [
    "import os\n",
    "with open(r\"C:\\Users\\ankit\\OneDrive\\Desktop\\OPEN_AI_API_KEY.txt\",\"r\") as f:\n",
    "    os.environ['OPENAI_API_KEY']=f.read()"
   ]
  },
  {
   "cell_type": "code",
   "execution_count": 6,
   "id": "7b38e16f",
   "metadata": {},
   "outputs": [],
   "source": [
    "from langchain_openai import ChatOpenAI\n",
    "from langchain.chains import ConversationChain\n",
    "from langchain.memory import ConversationBufferMemory"
   ]
  },
  {
   "cell_type": "code",
   "execution_count": 11,
   "id": "d4307001",
   "metadata": {},
   "outputs": [],
   "source": [
    "llm =ChatOpenAI()\n",
    "memory = ConversationBufferMemory()"
   ]
  },
  {
   "cell_type": "code",
   "execution_count": 13,
   "id": "dcc2169e",
   "metadata": {},
   "outputs": [
    {
     "name": "stdout",
     "output_type": "stream",
     "text": [
      "\n",
      "\n",
      "\u001b[1m> Entering new ConversationChain chain...\u001b[0m\n",
      "Prompt after formatting:\n",
      "\u001b[32;1m\u001b[1;3mThe following is a friendly conversation between a human and an AI. The AI is talkative and provides lots of specific details from its context. If the AI does not know the answer to a question, it truthfully says it does not know.\n",
      "\n",
      "Current conversation:\n",
      "\n",
      "Human: Nice to meet you\n",
      "AI:\u001b[0m\n",
      "\n",
      "\u001b[1m> Finished chain.\u001b[0m\n"
     ]
    },
    {
     "data": {
      "text/plain": [
       "'Nice to meet you too! I am an artificial intelligence designed to assist you with any questions or tasks you may have. How can I help you today?'"
      ]
     },
     "execution_count": 13,
     "metadata": {},
     "output_type": "execute_result"
    }
   ],
   "source": [
    "convo=ConversationChain(llm=llm,memory=memory,verbose=True)\n",
    "convo.predict(input=\"Nice to meet you\")"
   ]
  },
  {
   "cell_type": "code",
   "execution_count": 14,
   "id": "1200490e",
   "metadata": {},
   "outputs": [
    {
     "name": "stdout",
     "output_type": "stream",
     "text": [
      "\n",
      "\n",
      "\u001b[1m> Entering new ConversationChain chain...\u001b[0m\n",
      "Prompt after formatting:\n",
      "\u001b[32;1m\u001b[1;3mThe following is a friendly conversation between a human and an AI. The AI is talkative and provides lots of specific details from its context. If the AI does not know the answer to a question, it truthfully says it does not know.\n",
      "\n",
      "Current conversation:\n",
      "Human: Nice to meet you\n",
      "AI: Nice to meet you too! I am an artificial intelligence designed to assist you with any questions or tasks you may have. How can I help you today?\n",
      "Human: Tell me an interesting physics fact\n",
      "AI:\u001b[0m\n",
      "\n",
      "\u001b[1m> Finished chain.\u001b[0m\n"
     ]
    },
    {
     "data": {
      "text/plain": [
       "\"Sure! Did you know that the speed of light in a vacuum is approximately 299,792 kilometers per second? This constant speed plays a crucial role in many fundamental principles of physics, such as Einstein's theory of relativity. It's fascinating to think about how this speed limit affects our understanding of the universe.\""
      ]
     },
     "execution_count": 14,
     "metadata": {},
     "output_type": "execute_result"
    }
   ],
   "source": [
    "convo.predict(input=\"Tell me an interesting physics fact\")"
   ]
  },
  {
   "cell_type": "code",
   "execution_count": 16,
   "id": "e2c37c7b",
   "metadata": {},
   "outputs": [
    {
     "name": "stdout",
     "output_type": "stream",
     "text": [
      "\n",
      "\n",
      "\u001b[1m> Entering new ConversationChain chain...\u001b[0m\n",
      "Prompt after formatting:\n",
      "\u001b[32;1m\u001b[1;3mThe following is a friendly conversation between a human and an AI. The AI is talkative and provides lots of specific details from its context. If the AI does not know the answer to a question, it truthfully says it does not know.\n",
      "\n",
      "Current conversation:\n",
      "Human: Nice to meet you\n",
      "AI: Nice to meet you too! I am an artificial intelligence designed to assist you with any questions or tasks you may have. How can I help you today?\n",
      "Human: Tell me an interesting physics fact\n",
      "AI: Sure! Did you know that the speed of light in a vacuum is approximately 299,792 kilometers per second? This constant speed plays a crucial role in many fundamental principles of physics, such as Einstein's theory of relativity. It's fascinating to think about how this speed limit affects our understanding of the universe.\n",
      "Human: Tell me another physics fact\n",
      "AI: Of course! Another interesting physics fact is that the force of gravity on Earth is approximately 9.81 meters per second squared. This force is what keeps us grounded on the planet and affects everything from the motion of objects to the behavior of celestial bodies in space. It's a fundamental force that shapes our everyday experiences and the dynamics of the universe.\n",
      "Human: Tell me another physics fact\n",
      "AI:\u001b[0m\n",
      "\n",
      "\u001b[1m> Finished chain.\u001b[0m\n"
     ]
    }
   ],
   "source": [
    "x=convo.predict(input=\"Tell me another physics fact\")"
   ]
  },
  {
   "cell_type": "code",
   "execution_count": 19,
   "id": "4b586256",
   "metadata": {},
   "outputs": [
    {
     "name": "stdout",
     "output_type": "stream",
     "text": [
      "Human: Nice to meet you\n",
      "AI: Nice to meet you too! I am an artificial intelligence designed to assist you with any questions or tasks you may have. How can I help you today?\n",
      "Human: Tell me an interesting physics fact\n",
      "AI: Sure! Did you know that the speed of light in a vacuum is approximately 299,792 kilometers per second? This constant speed plays a crucial role in many fundamental principles of physics, such as Einstein's theory of relativity. It's fascinating to think about how this speed limit affects our understanding of the universe.\n",
      "Human: Tell me another physics fact\n",
      "AI: Of course! Another interesting physics fact is that the force of gravity on Earth is approximately 9.81 meters per second squared. This force is what keeps us grounded on the planet and affects everything from the motion of objects to the behavior of celestial bodies in space. It's a fundamental force that shapes our everyday experiences and the dynamics of the universe.\n",
      "Human: Tell me another physics fact\n",
      "AI: I'm glad you're interested in learning more! Here's another physics fact for you: the concept of quantum entanglement, where two particles become interconnected in such a way that the state of one particle instantly affects the state of the other, regardless of the distance between them. This phenomenon has been a key area of study in quantum mechanics and has implications for the fundamental nature of reality. It's a truly mind-boggling aspect of the quantum world.\n"
     ]
    }
   ],
   "source": [
    "print(memory.buffer)"
   ]
  },
  {
   "cell_type": "code",
   "execution_count": 25,
   "id": "d8e33637",
   "metadata": {},
   "outputs": [
    {
     "name": "stdout",
     "output_type": "stream",
     "text": [
      "{'history': \"Human: Nice to meet you\\nAI: Nice to meet you too! I am an artificial intelligence designed to assist you with any questions or tasks you may have. How can I help you today?\\nHuman: Tell me an interesting physics fact\\nAI: Sure! Did you know that the speed of light in a vacuum is approximately 299,792 kilometers per second? This constant speed plays a crucial role in many fundamental principles of physics, such as Einstein's theory of relativity. It's fascinating to think about how this speed limit affects our understanding of the universe.\\nHuman: Tell me another physics fact\\nAI: Of course! Another interesting physics fact is that the force of gravity on Earth is approximately 9.81 meters per second squared. This force is what keeps us grounded on the planet and affects everything from the motion of objects to the behavior of celestial bodies in space. It's a fundamental force that shapes our everyday experiences and the dynamics of the universe.\\nHuman: Tell me another physics fact\\nAI: I'm glad you're interested in learning more! Here's another physics fact for you: the concept of quantum entanglement, where two particles become interconnected in such a way that the state of one particle instantly affects the state of the other, regardless of the distance between them. This phenomenon has been a key area of study in quantum mechanics and has implications for the fundamental nature of reality. It's a truly mind-boggling aspect of the quantum world.\"}\n"
     ]
    }
   ],
   "source": [
    "print(memory.load_memory_variables({}))"
   ]
  },
  {
   "cell_type": "code",
   "execution_count": 27,
   "id": "8f242f64",
   "metadata": {},
   "outputs": [
    {
     "data": {
      "text/plain": [
       "ConversationBufferMemory(chat_memory=ChatMessageHistory(messages=[HumanMessage(content='Nice to meet you'), AIMessage(content='Nice to meet you too! I am an artificial intelligence designed to assist you with any questions or tasks you may have. How can I help you today?'), HumanMessage(content='Tell me an interesting physics fact'), AIMessage(content=\"Sure! Did you know that the speed of light in a vacuum is approximately 299,792 kilometers per second? This constant speed plays a crucial role in many fundamental principles of physics, such as Einstein's theory of relativity. It's fascinating to think about how this speed limit affects our understanding of the universe.\"), HumanMessage(content='Tell me another physics fact'), AIMessage(content=\"Of course! Another interesting physics fact is that the force of gravity on Earth is approximately 9.81 meters per second squared. This force is what keeps us grounded on the planet and affects everything from the motion of objects to the behavior of celestial bodies in space. It's a fundamental force that shapes our everyday experiences and the dynamics of the universe.\"), HumanMessage(content='Tell me another physics fact'), AIMessage(content=\"I'm glad you're interested in learning more! Here's another physics fact for you: the concept of quantum entanglement, where two particles become interconnected in such a way that the state of one particle instantly affects the state of the other, regardless of the distance between them. This phenomenon has been a key area of study in quantum mechanics and has implications for the fundamental nature of reality. It's a truly mind-boggling aspect of the quantum world.\")]))"
      ]
     },
     "execution_count": 27,
     "metadata": {},
     "output_type": "execute_result"
    }
   ],
   "source": [
    "convo.memory"
   ]
  },
  {
   "cell_type": "code",
   "execution_count": 30,
   "id": "12150508",
   "metadata": {},
   "outputs": [],
   "source": [
    "import pickle\n",
    "with open(\"convo.pkl\",\"wb\") as f:\n",
    "    pickle.dump(convo.memory,f)"
   ]
  },
  {
   "cell_type": "code",
   "execution_count": 31,
   "id": "e872681e",
   "metadata": {},
   "outputs": [],
   "source": [
    "with open(\"convo.pkl\",\"rb\") as f:\n",
    "    new_memory=pickle.load(f)"
   ]
  },
  {
   "cell_type": "code",
   "execution_count": 32,
   "id": "215036b3",
   "metadata": {},
   "outputs": [],
   "source": [
    "new_convo=ConversationChain(memory=new_memory,llm=llm,verbose=True)"
   ]
  },
  {
   "cell_type": "code",
   "execution_count": 34,
   "id": "e44f1f23",
   "metadata": {},
   "outputs": [
    {
     "name": "stdout",
     "output_type": "stream",
     "text": [
      "\n",
      "\n",
      "\u001b[1m> Entering new ConversationChain chain...\u001b[0m\n",
      "Prompt after formatting:\n",
      "\u001b[32;1m\u001b[1;3mThe following is a friendly conversation between a human and an AI. The AI is talkative and provides lots of specific details from its context. If the AI does not know the answer to a question, it truthfully says it does not know.\n",
      "\n",
      "Current conversation:\n",
      "Human: Nice to meet you\n",
      "AI: Nice to meet you too! I am an artificial intelligence designed to assist you with any questions or tasks you may have. How can I help you today?\n",
      "Human: Tell me an interesting physics fact\n",
      "AI: Sure! Did you know that the speed of light in a vacuum is approximately 299,792 kilometers per second? This constant speed plays a crucial role in many fundamental principles of physics, such as Einstein's theory of relativity. It's fascinating to think about how this speed limit affects our understanding of the universe.\n",
      "Human: Tell me another physics fact\n",
      "AI: Of course! Another interesting physics fact is that the force of gravity on Earth is approximately 9.81 meters per second squared. This force is what keeps us grounded on the planet and affects everything from the motion of objects to the behavior of celestial bodies in space. It's a fundamental force that shapes our everyday experiences and the dynamics of the universe.\n",
      "Human: Tell me another physics fact\n",
      "AI: I'm glad you're interested in learning more! Here's another physics fact for you: the concept of quantum entanglement, where two particles become interconnected in such a way that the state of one particle instantly affects the state of the other, regardless of the distance between them. This phenomenon has been a key area of study in quantum mechanics and has implications for the fundamental nature of reality. It's a truly mind-boggling aspect of the quantum world.\n",
      "Human: What was the last fact\n",
      "AI:\u001b[0m\n",
      "\n",
      "\u001b[1m> Finished chain.\u001b[0m\n"
     ]
    },
    {
     "data": {
      "text/plain": [
       "\"The last fact I shared was about quantum entanglement, a phenomenon in quantum mechanics where two particles become interconnected in such a way that the state of one particle instantly affects the state of the other, regardless of the distance between them. It's a fascinating concept with implications for our understanding of the fundamental nature of reality. Let me know if you have any more questions or if there's anything else you'd like to learn about!\""
      ]
     },
     "execution_count": 34,
     "metadata": {},
     "output_type": "execute_result"
    }
   ],
   "source": [
    "new_convo.predict(input=\"What was the last fact\")"
   ]
  },
  {
   "cell_type": "markdown",
   "id": "d706f4a7",
   "metadata": {},
   "source": [
    "## 3. ConversationBufferWindowMemory"
   ]
  },
  {
   "cell_type": "markdown",
   "id": "2ff7d7d7",
   "metadata": {},
   "source": [
    "ConversationBufferWindowMemory keeps a list of the interactions of the conversation over time. It only uses the last K interactions. "
   ]
  },
  {
   "cell_type": "code",
   "execution_count": 38,
   "id": "7766b42a",
   "metadata": {},
   "outputs": [],
   "source": [
    "from langchain.memory import ConversationBufferWindowMemory"
   ]
  },
  {
   "cell_type": "code",
   "execution_count": 39,
   "id": "f2f988f1",
   "metadata": {},
   "outputs": [],
   "source": [
    "win_memory=ConversationBufferWindowMemory(k=2)"
   ]
  },
  {
   "cell_type": "code",
   "execution_count": 40,
   "id": "7d640582",
   "metadata": {},
   "outputs": [],
   "source": [
    "convo_2=ConversationChain(llm=llm,memory=win_memory,verbose=True)"
   ]
  },
  {
   "cell_type": "code",
   "execution_count": 41,
   "id": "d60d5f88",
   "metadata": {},
   "outputs": [
    {
     "name": "stdout",
     "output_type": "stream",
     "text": [
      "\n",
      "\n",
      "\u001b[1m> Entering new ConversationChain chain...\u001b[0m\n",
      "Prompt after formatting:\n",
      "\u001b[32;1m\u001b[1;3mThe following is a friendly conversation between a human and an AI. The AI is talkative and provides lots of specific details from its context. If the AI does not know the answer to a question, it truthfully says it does not know.\n",
      "\n",
      "Current conversation:\n",
      "\n",
      "Human: Hi tell me a fact\n",
      "AI:\u001b[0m\n",
      "\n",
      "\u001b[1m> Finished chain.\u001b[0m\n",
      "\n",
      "\n",
      "\u001b[1m> Entering new ConversationChain chain...\u001b[0m\n",
      "Prompt after formatting:\n",
      "\u001b[32;1m\u001b[1;3mThe following is a friendly conversation between a human and an AI. The AI is talkative and provides lots of specific details from its context. If the AI does not know the answer to a question, it truthfully says it does not know.\n",
      "\n",
      "Current conversation:\n",
      "Human: Hi tell me a fact\n",
      "AI: Hello! Did you know that honey never spoils? Archaeologists have found pots of honey in ancient Egyptian tombs that are over 3000 years old and still perfectly edible. Fascinating, isn't it?\n",
      "Human: Tell me another fact\n",
      "AI:\u001b[0m\n",
      "\n",
      "\u001b[1m> Finished chain.\u001b[0m\n",
      "\n",
      "\n",
      "\u001b[1m> Entering new ConversationChain chain...\u001b[0m\n",
      "Prompt after formatting:\n",
      "\u001b[32;1m\u001b[1;3mThe following is a friendly conversation between a human and an AI. The AI is talkative and provides lots of specific details from its context. If the AI does not know the answer to a question, it truthfully says it does not know.\n",
      "\n",
      "Current conversation:\n",
      "Human: Hi tell me a fact\n",
      "AI: Hello! Did you know that honey never spoils? Archaeologists have found pots of honey in ancient Egyptian tombs that are over 3000 years old and still perfectly edible. Fascinating, isn't it?\n",
      "Human: Tell me another fact\n",
      "AI: Sure! Another interesting fact is that the shortest war in history lasted only 38 minutes. It occurred between Britain and Zanzibar on August 27, 1896. Zanzibar surrendered after their palace was bombed by the British navy.\n",
      "Human: Tell me another fact\n",
      "AI:\u001b[0m\n",
      "\n",
      "\u001b[1m> Finished chain.\u001b[0m\n",
      "\n",
      "\n",
      "\u001b[1m> Entering new ConversationChain chain...\u001b[0m\n",
      "Prompt after formatting:\n",
      "\u001b[32;1m\u001b[1;3mThe following is a friendly conversation between a human and an AI. The AI is talkative and provides lots of specific details from its context. If the AI does not know the answer to a question, it truthfully says it does not know.\n",
      "\n",
      "Current conversation:\n",
      "Human: Tell me another fact\n",
      "AI: Sure! Another interesting fact is that the shortest war in history lasted only 38 minutes. It occurred between Britain and Zanzibar on August 27, 1896. Zanzibar surrendered after their palace was bombed by the British navy.\n",
      "Human: Tell me another fact\n",
      "AI: Of course! Did you know that the Great Wall of China is not a single continuous wall, but a series of walls and fortifications built by various Chinese dynasties over centuries? The most well-known sections were built during the Ming Dynasty, spanning over 13,000 miles in total. It's an impressive feat of ancient engineering!\n",
      "Human: Tell me another fact\n",
      "AI:\u001b[0m\n",
      "\n",
      "\u001b[1m> Finished chain.\u001b[0m\n",
      "\n",
      "\n",
      "\u001b[1m> Entering new ConversationChain chain...\u001b[0m\n",
      "Prompt after formatting:\n",
      "\u001b[32;1m\u001b[1;3mThe following is a friendly conversation between a human and an AI. The AI is talkative and provides lots of specific details from its context. If the AI does not know the answer to a question, it truthfully says it does not know.\n",
      "\n",
      "Current conversation:\n",
      "Human: Tell me another fact\n",
      "AI: Of course! Did you know that the Great Wall of China is not a single continuous wall, but a series of walls and fortifications built by various Chinese dynasties over centuries? The most well-known sections were built during the Ming Dynasty, spanning over 13,000 miles in total. It's an impressive feat of ancient engineering!\n",
      "Human: Tell me another fact\n",
      "AI: Certainly! Did you know that honey never spoils? Archaeologists have found pots of honey in ancient Egyptian tombs that are over 3000 years old and still perfectly edible. The unique chemical composition of honey, low water content, and high acidity create an inhospitable environment for bacteria and microorganisms to grow. So feel free to enjoy that jar of honey in your pantry for years to come!\n",
      "Human: Tell me another fact\n",
      "AI:\u001b[0m\n",
      "\n",
      "\u001b[1m> Finished chain.\u001b[0m\n"
     ]
    },
    {
     "data": {
      "text/plain": [
       "\"Absolutely! Here's another fascinating fact: The world's largest desert is not the Sahara, but actually Antarctica. Yes, that's right! Antarctica is classified as a desert because it receives very little precipitation, with an average annual precipitation of only about 2 inches. Despite being covered in ice, it is considered a desert due to its low levels of precipitation. Antarctica is truly a unique and mysterious place on our planet!\""
      ]
     },
     "execution_count": 41,
     "metadata": {},
     "output_type": "execute_result"
    }
   ],
   "source": [
    "convo_2.predict(input=\"Hi tell me a fact\")\n",
    "convo_2.predict(input=\"Tell me another fact\")\n",
    "convo_2.predict(input=\"Tell me another fact\")\n",
    "convo_2.predict(input=\"Tell me another fact\")\n",
    "convo_2.predict(input=\"Tell me another fact\")"
   ]
  },
  {
   "cell_type": "code",
   "execution_count": 43,
   "id": "f83570e5",
   "metadata": {},
   "outputs": [
    {
     "name": "stdout",
     "output_type": "stream",
     "text": [
      "Human: Tell me another fact\n",
      "AI: Certainly! Did you know that honey never spoils? Archaeologists have found pots of honey in ancient Egyptian tombs that are over 3000 years old and still perfectly edible. The unique chemical composition of honey, low water content, and high acidity create an inhospitable environment for bacteria and microorganisms to grow. So feel free to enjoy that jar of honey in your pantry for years to come!\n",
      "Human: Tell me another fact\n",
      "AI: Absolutely! Here's another fascinating fact: The world's largest desert is not the Sahara, but actually Antarctica. Yes, that's right! Antarctica is classified as a desert because it receives very little precipitation, with an average annual precipitation of only about 2 inches. Despite being covered in ice, it is considered a desert due to its low levels of precipitation. Antarctica is truly a unique and mysterious place on our planet!\n"
     ]
    }
   ],
   "source": [
    "print(win_memory.buffer)"
   ]
  },
  {
   "cell_type": "code",
   "execution_count": 47,
   "id": "1d322367",
   "metadata": {},
   "outputs": [
    {
     "data": {
      "text/plain": [
       "ConversationBufferWindowMemory(chat_memory=ChatMessageHistory(messages=[HumanMessage(content='Hi tell me a fact'), AIMessage(content=\"Hello! Did you know that honey never spoils? Archaeologists have found pots of honey in ancient Egyptian tombs that are over 3000 years old and still perfectly edible. Fascinating, isn't it?\"), HumanMessage(content='Tell me another fact'), AIMessage(content='Sure! Another interesting fact is that the shortest war in history lasted only 38 minutes. It occurred between Britain and Zanzibar on August 27, 1896. Zanzibar surrendered after their palace was bombed by the British navy.'), HumanMessage(content='Tell me another fact'), AIMessage(content=\"Of course! Did you know that the Great Wall of China is not a single continuous wall, but a series of walls and fortifications built by various Chinese dynasties over centuries? The most well-known sections were built during the Ming Dynasty, spanning over 13,000 miles in total. It's an impressive feat of ancient engineering!\"), HumanMessage(content='Tell me another fact'), AIMessage(content='Certainly! Did you know that honey never spoils? Archaeologists have found pots of honey in ancient Egyptian tombs that are over 3000 years old and still perfectly edible. The unique chemical composition of honey, low water content, and high acidity create an inhospitable environment for bacteria and microorganisms to grow. So feel free to enjoy that jar of honey in your pantry for years to come!'), HumanMessage(content='Tell me another fact'), AIMessage(content=\"Absolutely! Here's another fascinating fact: The world's largest desert is not the Sahara, but actually Antarctica. Yes, that's right! Antarctica is classified as a desert because it receives very little precipitation, with an average annual precipitation of only about 2 inches. Despite being covered in ice, it is considered a desert due to its low levels of precipitation. Antarctica is truly a unique and mysterious place on our planet!\")]), k=2)"
      ]
     },
     "execution_count": 47,
     "metadata": {},
     "output_type": "execute_result"
    }
   ],
   "source": [
    "convo_2.memory"
   ]
  },
  {
   "cell_type": "markdown",
   "id": "0d1e18b3",
   "metadata": {},
   "source": [
    "## 4. Conversation Summary Memory"
   ]
  },
  {
   "cell_type": "markdown",
   "id": "f7543395",
   "metadata": {},
   "source": [
    " Conversation summary memory summarizes the conversation as it happens and stores the current summary in memory. This memory can then be used to inject the summary of the conversation so far into a prompt/chain"
   ]
  },
  {
   "cell_type": "code",
   "execution_count": 91,
   "id": "be55083a",
   "metadata": {},
   "outputs": [],
   "source": [
    "from langchain.memory import ConversationSummaryMemory\n",
    "summary_memory=ConversationSummaryBufferMemory(llm=llm)\n",
    "convo_summary=ConversationChain(llm=llm,memory=summary_memory,verbose=True)"
   ]
  },
  {
   "cell_type": "code",
   "execution_count": 92,
   "id": "a0f0645e",
   "metadata": {},
   "outputs": [
    {
     "name": "stdout",
     "output_type": "stream",
     "text": [
      "\n",
      "\n",
      "\u001b[1m> Entering new ConversationChain chain...\u001b[0m\n",
      "Prompt after formatting:\n",
      "\u001b[32;1m\u001b[1;3mThe following is a friendly conversation between a human and an AI. The AI is talkative and provides lots of specific details from its context. If the AI does not know the answer to a question, it truthfully says it does not know.\n",
      "\n",
      "Current conversation:\n",
      "\n",
      "Human: Tell me the travels plans\n",
      "AI:\u001b[0m\n",
      "\n",
      "\u001b[1m> Finished chain.\u001b[0m\n"
     ]
    },
    {
     "data": {
      "text/plain": [
       "'Sure! I have analyzed your calendar and found that you have a trip planned to Paris next month. You are scheduled to depart on March 15th and return on March 22nd. You will be staying at a hotel near the Eiffel Tower and have several sightseeing tours and dining reservations booked during your stay. Let me know if you need any more information about your travel plans!'"
      ]
     },
     "execution_count": 92,
     "metadata": {},
     "output_type": "execute_result"
    }
   ],
   "source": [
    "convo_summary.predict(input=\"Tell me the travels plans\")"
   ]
  },
  {
   "cell_type": "code",
   "execution_count": 93,
   "id": "3396839c",
   "metadata": {},
   "outputs": [
    {
     "name": "stdout",
     "output_type": "stream",
     "text": [
      "\n",
      "\n",
      "\u001b[1m> Entering new ConversationChain chain...\u001b[0m\n",
      "Prompt after formatting:\n",
      "\u001b[32;1m\u001b[1;3mThe following is a friendly conversation between a human and an AI. The AI is talkative and provides lots of specific details from its context. If the AI does not know the answer to a question, it truthfully says it does not know.\n",
      "\n",
      "Current conversation:\n",
      "Human: Tell me the travels plans\n",
      "AI: Sure! I have analyzed your calendar and found that you have a trip planned to Paris next month. You are scheduled to depart on March 15th and return on March 22nd. You will be staying at a hotel near the Eiffel Tower and have several sightseeing tours and dining reservations booked during your stay. Let me know if you need any more information about your travel plans!\n",
      "Human: Tell me the travels plans about New york\n",
      "AI:\u001b[0m\n",
      "\n",
      "\u001b[1m> Finished chain.\u001b[0m\n"
     ]
    },
    {
     "data": {
      "text/plain": [
       "\"I'm sorry, but I do not have any travel plans for New York in your calendar. Would you like me to help you plan a trip to New York?\""
      ]
     },
     "execution_count": 93,
     "metadata": {},
     "output_type": "execute_result"
    }
   ],
   "source": [
    "convo_summary.predict(input=\"Tell me the travels plans about New york\")"
   ]
  },
  {
   "cell_type": "code",
   "execution_count": 94,
   "id": "cc91f591",
   "metadata": {},
   "outputs": [
    {
     "name": "stdout",
     "output_type": "stream",
     "text": [
      "\n",
      "\n",
      "\u001b[1m> Entering new ConversationChain chain...\u001b[0m\n",
      "Prompt after formatting:\n",
      "\u001b[32;1m\u001b[1;3mThe following is a friendly conversation between a human and an AI. The AI is talkative and provides lots of specific details from its context. If the AI does not know the answer to a question, it truthfully says it does not know.\n",
      "\n",
      "Current conversation:\n",
      "Human: Tell me the travels plans\n",
      "AI: Sure! I have analyzed your calendar and found that you have a trip planned to Paris next month. You are scheduled to depart on March 15th and return on March 22nd. You will be staying at a hotel near the Eiffel Tower and have several sightseeing tours and dining reservations booked during your stay. Let me know if you need any more information about your travel plans!\n",
      "Human: Tell me the travels plans about New york\n",
      "AI: I'm sorry, but I do not have any travel plans for New York in your calendar. Would you like me to help you plan a trip to New York?\n",
      "Human: Tell me the travels plans about Jaipur\n",
      "AI:\u001b[0m\n",
      "\n",
      "\u001b[1m> Finished chain.\u001b[0m\n"
     ]
    },
    {
     "data": {
      "text/plain": [
       "\"I'm sorry, but I do not have any travel plans for Jaipur in your calendar. Would you like me to help you plan a trip to Jaipur?\""
      ]
     },
     "execution_count": 94,
     "metadata": {},
     "output_type": "execute_result"
    }
   ],
   "source": [
    "convo_summary.predict(input=\"Tell me the travels plans about Jaipur\")"
   ]
  },
  {
   "cell_type": "code",
   "execution_count": 95,
   "id": "d4a90e3e",
   "metadata": {},
   "outputs": [
    {
     "name": "stdout",
     "output_type": "stream",
     "text": [
      "\n",
      "\n",
      "\u001b[1m> Entering new ConversationChain chain...\u001b[0m\n",
      "Prompt after formatting:\n",
      "\u001b[32;1m\u001b[1;3mThe following is a friendly conversation between a human and an AI. The AI is talkative and provides lots of specific details from its context. If the AI does not know the answer to a question, it truthfully says it does not know.\n",
      "\n",
      "Current conversation:\n",
      "Human: Tell me the travels plans\n",
      "AI: Sure! I have analyzed your calendar and found that you have a trip planned to Paris next month. You are scheduled to depart on March 15th and return on March 22nd. You will be staying at a hotel near the Eiffel Tower and have several sightseeing tours and dining reservations booked during your stay. Let me know if you need any more information about your travel plans!\n",
      "Human: Tell me the travels plans about New york\n",
      "AI: I'm sorry, but I do not have any travel plans for New York in your calendar. Would you like me to help you plan a trip to New York?\n",
      "Human: Tell me the travels plans about Jaipur\n",
      "AI: I'm sorry, but I do not have any travel plans for Jaipur in your calendar. Would you like me to help you plan a trip to Jaipur?\n",
      "Human: Tell me the travels plans about Delhi\n",
      "AI:\u001b[0m\n",
      "\n",
      "\u001b[1m> Finished chain.\u001b[0m\n"
     ]
    },
    {
     "data": {
      "text/plain": [
       "\"I'm sorry, but I do not have any travel plans for Delhi in your calendar. Would you like me to help you plan a trip to Delhi?\""
      ]
     },
     "execution_count": 95,
     "metadata": {},
     "output_type": "execute_result"
    }
   ],
   "source": [
    "convo_summary.predict(input=\"Tell me the travels plans about Delhi\")"
   ]
  },
  {
   "cell_type": "markdown",
   "id": "44664a09",
   "metadata": {},
   "source": [
    "## 5. Conversation Summary Buffer Memory"
   ]
  },
  {
   "cell_type": "markdown",
   "id": "9e75b780",
   "metadata": {},
   "source": [
    "ConversationSummaryBufferMemory combines the two ideas. It keeps a buffer of recent interactions in memory, but rather than just completely flushing old interactions it compiles them into a summary and uses both. It uses token length rather than number of interactions to determine when to flush interactions."
   ]
  },
  {
   "cell_type": "code",
   "execution_count": 84,
   "id": "afd08a4a",
   "metadata": {},
   "outputs": [],
   "source": [
    "from langchain.memory import ConversationSummaryBufferMemory"
   ]
  },
  {
   "cell_type": "code",
   "execution_count": 85,
   "id": "c1be0098",
   "metadata": {},
   "outputs": [],
   "source": [
    "summary_buffermemory=ConversationSummaryBufferMemory(llm=llm,max_token_limit=200)"
   ]
  },
  {
   "cell_type": "code",
   "execution_count": 86,
   "id": "dd8ba999",
   "metadata": {},
   "outputs": [],
   "source": [
    "convo_summarybuffer=ConversationChain(llm=llm,memory=summary_buffermemory,verbose=True)"
   ]
  },
  {
   "cell_type": "code",
   "execution_count": 87,
   "id": "3bd7763c",
   "metadata": {},
   "outputs": [
    {
     "name": "stdout",
     "output_type": "stream",
     "text": [
      "\n",
      "\n",
      "\u001b[1m> Entering new ConversationChain chain...\u001b[0m\n",
      "Prompt after formatting:\n",
      "\u001b[32;1m\u001b[1;3mThe following is a friendly conversation between a human and an AI. The AI is talkative and provides lots of specific details from its context. If the AI does not know the answer to a question, it truthfully says it does not know.\n",
      "\n",
      "Current conversation:\n",
      "\n",
      "Human: Tell me the travels plans\n",
      "AI:\u001b[0m\n",
      "\n",
      "\u001b[1m> Finished chain.\u001b[0m\n"
     ]
    },
    {
     "data": {
      "text/plain": [
       "'Well, I have analyzed your previous travel patterns and preferences, and I have come up with a few suggestions for your next trip. Based on your love for nature and outdoor activities, I recommend visiting a national park or going on a hiking trip. Some popular destinations that align with your interests include Yosemite National Park in California, Banff National Park in Canada, or the Appalachian Trail on the East Coast. Would you like me to provide more details on any of these options?'"
      ]
     },
     "execution_count": 87,
     "metadata": {},
     "output_type": "execute_result"
    }
   ],
   "source": [
    "convo_summarybuffer.predict(input=\"Tell me the travels plans\")"
   ]
  },
  {
   "cell_type": "code",
   "execution_count": 88,
   "id": "d8ad98fa",
   "metadata": {},
   "outputs": [
    {
     "name": "stdout",
     "output_type": "stream",
     "text": [
      "\n",
      "\n",
      "\u001b[1m> Entering new ConversationChain chain...\u001b[0m\n",
      "Prompt after formatting:\n",
      "\u001b[32;1m\u001b[1;3mThe following is a friendly conversation between a human and an AI. The AI is talkative and provides lots of specific details from its context. If the AI does not know the answer to a question, it truthfully says it does not know.\n",
      "\n",
      "Current conversation:\n",
      "Human: Tell me the travels plans\n",
      "AI: Well, I have analyzed your previous travel patterns and preferences, and I have come up with a few suggestions for your next trip. Based on your love for nature and outdoor activities, I recommend visiting a national park or going on a hiking trip. Some popular destinations that align with your interests include Yosemite National Park in California, Banff National Park in Canada, or the Appalachian Trail on the East Coast. Would you like me to provide more details on any of these options?\n",
      "Human: Tell me the travels plans about New york\n",
      "AI:\u001b[0m\n",
      "\n",
      "\u001b[1m> Finished chain.\u001b[0m\n"
     ]
    },
    {
     "data": {
      "text/plain": [
       "\"New York City is a bustling metropolis with a lot to offer in terms of travel plans. Some popular attractions in New York City include Times Square, Central Park, the Statue of Liberty, the Empire State Building, Broadway shows, and the museums along Museum Mile. If you're interested in food, there are countless restaurants offering a variety of cuisines to choose from. Additionally, New York City has a vibrant nightlife scene with bars, clubs, and live music venues. Let me know if you'd like more specific information on any of these options!\""
      ]
     },
     "execution_count": 88,
     "metadata": {},
     "output_type": "execute_result"
    }
   ],
   "source": [
    "convo_summarybuffer.predict(input=\"Tell me the travels plans about New york\")"
   ]
  },
  {
   "cell_type": "code",
   "execution_count": 89,
   "id": "38e69c2b",
   "metadata": {},
   "outputs": [
    {
     "name": "stdout",
     "output_type": "stream",
     "text": [
      "\n",
      "\n",
      "\u001b[1m> Entering new ConversationChain chain...\u001b[0m\n",
      "Prompt after formatting:\n",
      "\u001b[32;1m\u001b[1;3mThe following is a friendly conversation between a human and an AI. The AI is talkative and provides lots of specific details from its context. If the AI does not know the answer to a question, it truthfully says it does not know.\n",
      "\n",
      "Current conversation:\n",
      "System: The human asks the AI to provide travel plans. The AI responds by suggesting destinations based on the human's love for nature and outdoor activities, such as Yosemite National Park, Banff National Park, or the Appalachian Trail. The AI offers to provide more details on any of these options if needed.\n",
      "Human: Tell me the travels plans about New york\n",
      "AI: New York City is a bustling metropolis with a lot to offer in terms of travel plans. Some popular attractions in New York City include Times Square, Central Park, the Statue of Liberty, the Empire State Building, Broadway shows, and the museums along Museum Mile. If you're interested in food, there are countless restaurants offering a variety of cuisines to choose from. Additionally, New York City has a vibrant nightlife scene with bars, clubs, and live music venues. Let me know if you'd like more specific information on any of these options!\n",
      "Human: Tell me the travels plans about Jaipur\n",
      "AI:\u001b[0m\n",
      "\n",
      "\u001b[1m> Finished chain.\u001b[0m\n"
     ]
    },
    {
     "data": {
      "text/plain": [
       "\"Jaipur is a beautiful city in the Indian state of Rajasthan known for its rich history, stunning architecture, and vibrant culture. Some popular travel plans in Jaipur include visiting the iconic Amber Fort, exploring the City Palace, admiring the Hawa Mahal (Palace of Winds), and shopping for colorful textiles and handicrafts at the local markets. You can also experience traditional Rajasthani cuisine at local restaurants and attend cultural performances such as folk dances and music shows. If you're interested in history, Jaipur has several museums and historical sites to explore. Let me know if you'd like more information on any of these options!\""
      ]
     },
     "execution_count": 89,
     "metadata": {},
     "output_type": "execute_result"
    }
   ],
   "source": [
    "convo_summarybuffer.predict(input=\"Tell me the travels plans about Jaipur\")"
   ]
  },
  {
   "cell_type": "code",
   "execution_count": 90,
   "id": "1179db06",
   "metadata": {},
   "outputs": [
    {
     "name": "stdout",
     "output_type": "stream",
     "text": [
      "\n",
      "\n",
      "\u001b[1m> Entering new ConversationChain chain...\u001b[0m\n",
      "Prompt after formatting:\n",
      "\u001b[32;1m\u001b[1;3mThe following is a friendly conversation between a human and an AI. The AI is talkative and provides lots of specific details from its context. If the AI does not know the answer to a question, it truthfully says it does not know.\n",
      "\n",
      "Current conversation:\n",
      "System: The human asks the AI to provide travel plans. The AI suggests destinations like Yosemite National Park, Banff National Park, or the Appalachian Trail based on the human's love for nature and outdoor activities. When asked about travel plans for New York, the AI highlights popular attractions like Times Square, Central Park, and the Statue of Liberty, as well as food, nightlife, and cultural options available in the bustling metropolis.\n",
      "Human: Tell me the travels plans about Jaipur\n",
      "AI: Jaipur is a beautiful city in the Indian state of Rajasthan known for its rich history, stunning architecture, and vibrant culture. Some popular travel plans in Jaipur include visiting the iconic Amber Fort, exploring the City Palace, admiring the Hawa Mahal (Palace of Winds), and shopping for colorful textiles and handicrafts at the local markets. You can also experience traditional Rajasthani cuisine at local restaurants and attend cultural performances such as folk dances and music shows. If you're interested in history, Jaipur has several museums and historical sites to explore. Let me know if you'd like more information on any of these options!\n",
      "Human: Tell me the travels plans about Delhi\n",
      "AI:\u001b[0m\n",
      "\n",
      "\u001b[1m> Finished chain.\u001b[0m\n"
     ]
    },
    {
     "data": {
      "text/plain": [
       "\"Delhi, the capital city of India, is a bustling metropolis with a rich history and diverse culture. Some popular travel plans in Delhi include visiting historical sites such as the Red Fort, Qutub Minar, and Humayun's Tomb. You can also explore the vibrant markets of Chandni Chowk, sample delicious street food at local stalls, and shop for traditional Indian handicrafts at Dilli Haat. Other attractions in Delhi include the India Gate, Lotus Temple, and Akshardham Temple. Additionally, you can immerse yourself in the city's cultural heritage by attending dance performances, art exhibitions, and music concerts. Let me know if you'd like more information on any specific activities or attractions in Delhi!\""
      ]
     },
     "execution_count": 90,
     "metadata": {},
     "output_type": "execute_result"
    }
   ],
   "source": [
    "convo_summarybuffer.predict(input=\"Tell me the travels plans about Delhi\")"
   ]
  }
 ],
 "metadata": {
  "kernelspec": {
   "display_name": "Python 3 (ipykernel)",
   "language": "python",
   "name": "python3"
  },
  "language_info": {
   "codemirror_mode": {
    "name": "ipython",
    "version": 3
   },
   "file_extension": ".py",
   "mimetype": "text/x-python",
   "name": "python",
   "nbconvert_exporter": "python",
   "pygments_lexer": "ipython3",
   "version": "3.10.14"
  }
 },
 "nbformat": 4,
 "nbformat_minor": 5
}
