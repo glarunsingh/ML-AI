{
 "cells": [
  {
   "cell_type": "code",
   "execution_count": 1,
   "id": "fb618e2e-c837-442d-9de3-0184ceb6353f",
   "metadata": {},
   "outputs": [
    {
     "name": "stdout",
     "output_type": "stream",
     "text": [
      "Defaulting to user installation because normal site-packages is not writeable\n",
      "Requirement already satisfied: langsmith in c:\\users\\janu\\appdata\\roaming\\python\\python311\\site-packages (0.1.43)\n",
      "Collecting langsmith\n",
      "  Downloading langsmith-0.1.62-py3-none-any.whl.metadata (13 kB)\n",
      "Requirement already satisfied: orjson<4.0.0,>=3.9.14 in c:\\users\\janu\\appdata\\roaming\\python\\python311\\site-packages (from langsmith) (3.10.0)\n",
      "Requirement already satisfied: pydantic<3,>=1 in c:\\programdata\\anaconda3\\lib\\site-packages (from langsmith) (1.10.12)\n",
      "Requirement already satisfied: requests<3,>=2 in c:\\programdata\\anaconda3\\lib\\site-packages (from langsmith) (2.31.0)\n",
      "Requirement already satisfied: typing-extensions>=4.2.0 in c:\\users\\janu\\appdata\\roaming\\python\\python311\\site-packages (from pydantic<3,>=1->langsmith) (4.11.0)\n",
      "Requirement already satisfied: charset-normalizer<4,>=2 in c:\\programdata\\anaconda3\\lib\\site-packages (from requests<3,>=2->langsmith) (2.0.4)\n",
      "Requirement already satisfied: idna<4,>=2.5 in c:\\programdata\\anaconda3\\lib\\site-packages (from requests<3,>=2->langsmith) (3.4)\n",
      "Requirement already satisfied: urllib3<3,>=1.21.1 in c:\\programdata\\anaconda3\\lib\\site-packages (from requests<3,>=2->langsmith) (2.0.7)\n",
      "Requirement already satisfied: certifi>=2017.4.17 in c:\\programdata\\anaconda3\\lib\\site-packages (from requests<3,>=2->langsmith) (2024.2.2)\n",
      "Downloading langsmith-0.1.62-py3-none-any.whl (122 kB)\n",
      "   ---------------------------------------- 0.0/122.3 kB ? eta -:--:--\n",
      "   --- ------------------------------------ 10.2/122.3 kB ? eta -:--:--\n",
      "   ------------------------------------ --- 112.6/122.3 kB 2.2 MB/s eta 0:00:01\n",
      "   ---------------------------------------- 122.3/122.3 kB 1.8 MB/s eta 0:00:00\n",
      "Installing collected packages: langsmith\n",
      "  Attempting uninstall: langsmith\n",
      "    Found existing installation: langsmith 0.1.43\n",
      "    Uninstalling langsmith-0.1.43:\n",
      "      Successfully uninstalled langsmith-0.1.43\n",
      "Successfully installed langsmith-0.1.62\n"
     ]
    }
   ],
   "source": [
    "!pip install -U langsmith"
   ]
  },
  {
   "cell_type": "code",
   "execution_count": 18,
   "id": "8f079a1c-79fc-4103-989e-469f5376f885",
   "metadata": {},
   "outputs": [],
   "source": [
    "import os\n",
    "os.environ['LANGCHAIN_TRACING_V2'] = 'true'\n",
    "os.environ['LANGCHAIN_API_KEY'] = \"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\"\n",
    "os.environ['LANGCHAIN_PROJECT'] = \"Test_project\""
   ]
  },
  {
   "cell_type": "code",
   "execution_count": 28,
   "id": "91194d95-45c2-4e0b-a2b6-7bddf2c371f5",
   "metadata": {},
   "outputs": [],
   "source": [
    "#Setting Environment variable\n",
    "os.environ[\"AZURE_OPENAI_API_VERSION\"] = \"2023-07-01-preview\"\n",
    "os.environ[\"AZURE_OPENAI_ENDPOINT\"] = 'https://dskumar.openai.azure.com/'\n",
    "os.environ[\"AZURE_OPENAI_API_KEY\"] =\"62855d6dd08945819bf83aee0c104127\"\n",
    "os.environ[\"AZURE_OPENAI_CHAT_DEPLOYMENT_NAME\"] =\"DskumarDeployment\"\n",
    "os.environ['OPENAI_TYPE']=\"Azure\"\n",
    "os.environ[\"LLM_MODEL\"] = \"gpt-35-turbo-16k\"\n",
    "os.environ[\"LLM_EMBEDDING_MODEL\"] = \"dskumar-text-embedding-ada-002\"\n",
    "\n",
    "from langchain_core.messages import AIMessage,SystemMessage,HumanMessage\n",
    "from langchain_openai import AzureChatOpenAI\n",
    "\n",
    "azurechatmodel = AzureChatOpenAI(\n",
    "    openai_api_version=os.environ[\"AZURE_OPENAI_API_VERSION\"],\n",
    "    azure_deployment=os.environ[\"AZURE_OPENAI_CHAT_DEPLOYMENT_NAME\"],\n",
    ")\n",
    "\n",
    "embeddings = AzureOpenAIEmbeddings(model = os.environ[\"LLM_EMBEDDING_MODEL\"],)"
   ]
  },
  {
   "cell_type": "code",
   "execution_count": 7,
   "id": "f1d44054-92ad-4be0-bc53-772c631b9b4f",
   "metadata": {},
   "outputs": [],
   "source": [
    "#export LANGCHAIN_TRACING_V2=true\n",
    "#export LANGCHAIN_API_KEY=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\n",
    "#export LANGCHAIN_PROJECT=default"
   ]
  },
  {
   "cell_type": "code",
   "execution_count": 11,
   "id": "af0ff041-c970-40b8-afbf-0f099bfe3a7c",
   "metadata": {},
   "outputs": [],
   "source": [
    "#from openai import OpenAI\n",
    "from langsmith.wrappers import wrap_openai\n",
    "\n",
    "#openai_client = wrap_openai(OpenAI())"
   ]
  },
  {
   "cell_type": "code",
   "execution_count": 20,
   "id": "2ea133ce-08b5-454c-b4fa-5ad09b9e390f",
   "metadata": {},
   "outputs": [],
   "source": [
    "response = azurechatmodel.invoke(\"How langsmith is useful in GenAI?\")"
   ]
  },
  {
   "cell_type": "code",
   "execution_count": 24,
   "id": "57b45dc0-b5c3-421e-bbcd-2ac2d0d73bea",
   "metadata": {},
   "outputs": [
    {
     "name": "stdout",
     "output_type": "stream",
     "text": [
      "Langsmith is useful in GenAI as it helps in generating high-quality and coherent text in multiple languages. It can be used to generate content for various applications such as chatbots, virtual assistants, language translation, content generation, and more. Langsmith's ability to understand and generate text in multiple languages makes it valuable in creating personalized and localized experiences for users across different cultures and languages.\n"
     ]
    }
   ],
   "source": [
    "print(response.content)"
   ]
  },
  {
   "cell_type": "code",
   "execution_count": 29,
   "id": "74cb80ad-81b3-4dbb-9b43-9ab9d47cdb99",
   "metadata": {},
   "outputs": [],
   "source": [
    "from langchain_community.document_loaders import WebBaseLoader\n",
    "from langchain_community.vectorstores import FAISS\n",
    "from langchain_openai import AzureOpenAIEmbeddings\n",
    "from langchain_text_splitters import RecursiveCharacterTextSplitter\n",
    "\n",
    "loader = WebBaseLoader(\"https://docs.smith.langchain.com/overview\")\n",
    "docs = loader.load()\n",
    "documents = RecursiveCharacterTextSplitter(\n",
    "    chunk_size=1000, chunk_overlap=200\n",
    ").split_documents(docs)\n",
    "vector = FAISS.from_documents(documents, embeddings,\n",
    ")\n",
    "retriever = vector.as_retriever()"
   ]
  },
  {
   "cell_type": "code",
   "execution_count": 31,
   "id": "5950179e-84bc-42d3-9dec-e7fd5a8c8c12",
   "metadata": {},
   "outputs": [],
   "source": [
    "from langchain.tools.retriever import create_retriever_tool\n",
    "\n",
    "retriever_tool = create_retriever_tool(\n",
    "    retriever,\n",
    "    \"langsmith_search\",\n",
    "    \"Search for information about LangSmith. For any questions about LangSmith, you must use this tool!\",\n",
    ")"
   ]
  },
  {
   "cell_type": "code",
   "execution_count": 32,
   "id": "234f48d6-7dc1-41c1-a4f4-21af45735758",
   "metadata": {},
   "outputs": [],
   "source": [
    "tools = [retriever_tool]"
   ]
  },
  {
   "cell_type": "code",
   "execution_count": 25,
   "id": "5d79fd8c-62fd-40d3-9c8c-7a10fd416a8e",
   "metadata": {},
   "outputs": [
    {
     "data": {
      "text/plain": [
       "[SystemMessagePromptTemplate(prompt=PromptTemplate(input_variables=[], template='You are a helpful assistant')),\n",
       " MessagesPlaceholder(variable_name='chat_history', optional=True),\n",
       " HumanMessagePromptTemplate(prompt=PromptTemplate(input_variables=['input'], template='{input}')),\n",
       " MessagesPlaceholder(variable_name='agent_scratchpad')]"
      ]
     },
     "execution_count": 25,
     "metadata": {},
     "output_type": "execute_result"
    }
   ],
   "source": [
    "from langchain import hub\n",
    "\n",
    "# Get the prompt to use - you can modify this! - https://smith.langchain.com/hub/hwchase17/openai-functions-agent\n",
    "prompt = hub.pull(\"hwchase17/openai-functions-agent\")\n",
    "prompt.messages"
   ]
  },
  {
   "cell_type": "code",
   "execution_count": 33,
   "id": "5c0ac087-becd-4e43-a667-2760f2f1587e",
   "metadata": {},
   "outputs": [],
   "source": [
    "from langchain.agents import create_tool_calling_agent\n",
    "\n",
    "agent = create_tool_calling_agent(azurechatmodel, tools, prompt)"
   ]
  },
  {
   "cell_type": "code",
   "execution_count": 35,
   "id": "49f43a5d-8e1e-4c6b-b0f5-3e0d8e11753b",
   "metadata": {},
   "outputs": [],
   "source": [
    "from langchain.agents import AgentExecutor\n",
    "\n",
    "agent_executor = AgentExecutor(agent=agent, tools=tools, verbose=True)"
   ]
  },
  {
   "cell_type": "code",
   "execution_count": 36,
   "id": "4672872c-7c0a-435f-a88f-d78e86d2b34b",
   "metadata": {},
   "outputs": [
    {
     "name": "stdout",
     "output_type": "stream",
     "text": [
      "\n",
      "\n",
      "\u001b[1m> Entering new AgentExecutor chain...\u001b[0m\n",
      "\u001b[32;1m\u001b[1;3mLangSmith can help with testing in the following ways:\n",
      "\n",
      "1. Test Case Generation: LangSmith can generate test cases automatically based on specifications or requirements. It uses techniques like symbolic execution, constraint solving, and fuzzing to generate comprehensive test cases that cover different execution paths.\n",
      "\n",
      "2. Test Data Generation: LangSmith can generate test data automatically for different types of inputs, such as integers, strings, dates, etc. It can also generate test data that satisfies specific constraints or properties.\n",
      "\n",
      "3. Test Execution: LangSmith can execute test cases automatically and provide detailed reports on the test results. It can detect and report any failures or errors encountered during the test execution.\n",
      "\n",
      "4. Test Coverage Analysis: LangSmith can analyze the coverage of test cases to determine the extent to which the code or system under test has been exercised. It can identify areas of the code that have not been covered by the test cases and suggest additional test cases to improve coverage.\n",
      "\n",
      "5. Test Oracle Generation: LangSmith can automatically generate test oracles, which are the expected outputs or behaviors for a given set of test inputs. It uses techniques like code analysis, model checking, and machine learning to infer the expected behavior of the system under test.\n",
      "\n",
      "6. Test Prioritization: LangSmith can prioritize test cases based on their likelihood of finding bugs or faults. It uses techniques like fault localization, code profiling, and historical data analysis to determine the most critical test cases that should be executed first.\n",
      "\n",
      "Overall, LangSmith aims to improve the efficiency and effectiveness of software testing by automating various testing tasks and providing intelligent insights and recommendations.\u001b[0m\n",
      "\n",
      "\u001b[1m> Finished chain.\u001b[0m\n"
     ]
    },
    {
     "data": {
      "text/plain": [
       "{'input': 'how can langsmith help with testing?',\n",
       " 'output': 'LangSmith can help with testing in the following ways:\\n\\n1. Test Case Generation: LangSmith can generate test cases automatically based on specifications or requirements. It uses techniques like symbolic execution, constraint solving, and fuzzing to generate comprehensive test cases that cover different execution paths.\\n\\n2. Test Data Generation: LangSmith can generate test data automatically for different types of inputs, such as integers, strings, dates, etc. It can also generate test data that satisfies specific constraints or properties.\\n\\n3. Test Execution: LangSmith can execute test cases automatically and provide detailed reports on the test results. It can detect and report any failures or errors encountered during the test execution.\\n\\n4. Test Coverage Analysis: LangSmith can analyze the coverage of test cases to determine the extent to which the code or system under test has been exercised. It can identify areas of the code that have not been covered by the test cases and suggest additional test cases to improve coverage.\\n\\n5. Test Oracle Generation: LangSmith can automatically generate test oracles, which are the expected outputs or behaviors for a given set of test inputs. It uses techniques like code analysis, model checking, and machine learning to infer the expected behavior of the system under test.\\n\\n6. Test Prioritization: LangSmith can prioritize test cases based on their likelihood of finding bugs or faults. It uses techniques like fault localization, code profiling, and historical data analysis to determine the most critical test cases that should be executed first.\\n\\nOverall, LangSmith aims to improve the efficiency and effectiveness of software testing by automating various testing tasks and providing intelligent insights and recommendations.'}"
      ]
     },
     "execution_count": 36,
     "metadata": {},
     "output_type": "execute_result"
    }
   ],
   "source": [
    "agent_executor.invoke({\"input\": \"how can langsmith help with testing?\"})"
   ]
  },
  {
   "cell_type": "code",
   "execution_count": 38,
   "id": "bee8215d-226b-4963-ac4c-5d5603b29d4c",
   "metadata": {},
   "outputs": [
    {
     "name": "stdout",
     "output_type": "stream",
     "text": [
      "A black hole is a region in space where gravity is so strong that nothing, not even light, can escape its pull. It is created when a massive star collapses under its own gravitational force, causing an extremely dense and compact object. The gravitational force of a black hole is generated by its singularity, a point of infinite density at its core. The boundary surrounding the singularity is called the event horizon, beyond which anything that enters can never escape. Black holes have a profound effect on their surroundings, distorting space and time around them. They can grow in size by absorbing matter and merging with other black holes. Although black holes are invisible, their presence can be detected through their gravitational influence on nearby objects."
     ]
    }
   ],
   "source": [
    "from langchain_core.output_parsers import StrOutputParser\n",
    "from langchain_core.prompts import ChatPromptTemplate\n",
    "\n",
    "prompt = ChatPromptTemplate.from_template(\"tell me a brief explaination about {topic}\")\n",
    "parser = StrOutputParser()\n",
    "chain = prompt | azurechatmodel | parser\n",
    "\n",
    "async for chunk in chain.astream({\"topic\": \"blackhole\"}):\n",
    "    print(chunk, end=\"\", flush=True)"
   ]
  },
  {
   "cell_type": "code",
   "execution_count": null,
   "id": "0e9f6a97-4017-4be7-b7e0-de2c9851e8fc",
   "metadata": {},
   "outputs": [],
   "source": []
  }
 ],
 "metadata": {
  "kernelspec": {
   "display_name": "Python 3 (ipykernel)",
   "language": "python",
   "name": "python3"
  },
  "language_info": {
   "codemirror_mode": {
    "name": "ipython",
    "version": 3
   },
   "file_extension": ".py",
   "mimetype": "text/x-python",
   "name": "python",
   "nbconvert_exporter": "python",
   "pygments_lexer": "ipython3",
   "version": "3.11.7"
  }
 },
 "nbformat": 4,
 "nbformat_minor": 5
}
