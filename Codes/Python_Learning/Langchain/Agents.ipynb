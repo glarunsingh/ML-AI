{
 "cells": [
  {
   "cell_type": "markdown",
   "id": "b7b70b52",
   "metadata": {},
   "source": [
    "# Agents"
   ]
  },
  {
   "cell_type": "code",
   "execution_count": 1,
   "id": "e9eef41b",
   "metadata": {},
   "outputs": [],
   "source": [
    "from langchain.agents import initialize_agent,AgentType,load_tools"
   ]
  },
  {
   "cell_type": "code",
   "execution_count": 2,
   "id": "bf46084b",
   "metadata": {},
   "outputs": [],
   "source": [
    "import os\n",
    "with open(r\"C:\\Users\\ankit\\OneDrive\\Desktop\\OPEN_AI_API_KEY.txt\",\"r\") as f:\n",
    "    os.environ['OPENAI_API_KEY']=f.read()"
   ]
  },
  {
   "cell_type": "markdown",
   "id": "00a37baf",
   "metadata": {},
   "source": [
    "## LLM-math tool"
   ]
  },
  {
   "cell_type": "code",
   "execution_count": 3,
   "id": "164a8382",
   "metadata": {},
   "outputs": [],
   "source": [
    "from langchain.chat_models import ChatOpenAI\n",
    "from langchain.llms import OpenAI"
   ]
  },
  {
   "cell_type": "code",
   "execution_count": 4,
   "id": "59edb64a",
   "metadata": {},
   "outputs": [
    {
     "name": "stderr",
     "output_type": "stream",
     "text": [
      "C:\\Users\\ankit\\anaconda3\\lib\\site-packages\\langchain_core\\_api\\deprecation.py:119: LangChainDeprecationWarning: The class `ChatOpenAI` was deprecated in LangChain 0.0.10 and will be removed in 0.2.0. An updated version of the class exists in the langchain-openai package and should be used instead. To use it run `pip install -U langchain-openai` and import as `from langchain_openai import ChatOpenAI`.\n",
      "  warn_deprecated(\n"
     ]
    }
   ],
   "source": [
    "llm=ChatOpenAI(temperature=0)\n",
    "tools = load_tools(['llm-math'],llm=llm)"
   ]
  },
  {
   "cell_type": "code",
   "execution_count": 13,
   "id": "3001791b",
   "metadata": {},
   "outputs": [
    {
     "data": {
      "text/plain": [
       "['CHAT_CONVERSATIONAL_REACT_DESCRIPTION',\n",
       " 'CHAT_ZERO_SHOT_REACT_DESCRIPTION',\n",
       " 'CONVERSATIONAL_REACT_DESCRIPTION',\n",
       " 'OPENAI_FUNCTIONS',\n",
       " 'OPENAI_MULTI_FUNCTIONS',\n",
       " 'REACT_DOCSTORE',\n",
       " 'SELF_ASK_WITH_SEARCH',\n",
       " 'STRUCTURED_CHAT_ZERO_SHOT_REACT_DESCRIPTION',\n",
       " 'ZERO_SHOT_REACT_DESCRIPTION',\n",
       " '__class__',\n",
       " '__doc__',\n",
       " '__members__',\n",
       " '__module__']"
      ]
     },
     "execution_count": 13,
     "metadata": {},
     "output_type": "execute_result"
    }
   ],
   "source": [
    "dir(AgentType)"
   ]
  },
  {
   "cell_type": "code",
   "execution_count": 5,
   "id": "9d560446",
   "metadata": {},
   "outputs": [
    {
     "name": "stderr",
     "output_type": "stream",
     "text": [
      "C:\\Users\\ankit\\anaconda3\\lib\\site-packages\\langchain_core\\_api\\deprecation.py:119: LangChainDeprecationWarning: The function `initialize_agent` was deprecated in LangChain 0.1.0 and will be removed in 0.2.0. Use Use new agent constructor methods like create_react_agent, create_json_agent, create_structured_chat_agent, etc. instead.\n",
      "  warn_deprecated(\n"
     ]
    }
   ],
   "source": [
    "agent=initialize_agent(tools,llm,agent=AgentType.ZERO_SHOT_REACT_DESCRIPTION,verbose=True)"
   ]
  },
  {
   "cell_type": "code",
   "execution_count": 10,
   "id": "affad46d",
   "metadata": {},
   "outputs": [
    {
     "name": "stdout",
     "output_type": "stream",
     "text": [
      "\n",
      "\n",
      "\u001b[1m> Entering new AgentExecutor chain...\u001b[0m\n",
      "\u001b[32;1m\u001b[1;3mThis question does not require a calculator.\n",
      "Final Answer: The capital of India is New Delhi.\u001b[0m\n",
      "\n",
      "\u001b[1m> Finished chain.\u001b[0m\n"
     ]
    },
    {
     "data": {
      "text/plain": [
       "'The capital of India is New Delhi.'"
      ]
     },
     "execution_count": 10,
     "metadata": {},
     "output_type": "execute_result"
    }
   ],
   "source": [
    "agent.run(\"What is capital of India?\")"
   ]
  },
  {
   "cell_type": "code",
   "execution_count": 6,
   "id": "4efec930",
   "metadata": {},
   "outputs": [
    {
     "name": "stderr",
     "output_type": "stream",
     "text": [
      "C:\\Users\\ankit\\anaconda3\\lib\\site-packages\\langchain_core\\_api\\deprecation.py:119: LangChainDeprecationWarning: The method `Chain.run` was deprecated in langchain 0.1.0 and will be removed in 0.2.0. Use invoke instead.\n",
      "  warn_deprecated(\n"
     ]
    },
    {
     "name": "stdout",
     "output_type": "stream",
     "text": [
      "\n",
      "\n",
      "\u001b[1m> Entering new AgentExecutor chain...\u001b[0m\n",
      "\u001b[32;1m\u001b[1;3mWe need to subtract the number of lemons given to the friend from the total number of lemons.\n",
      "Action: Calculator\n",
      "Action Input: 10 - 2\u001b[0m\n",
      "Observation: \u001b[36;1m\u001b[1;3mAnswer: 8\u001b[0m\n",
      "Thought:\u001b[32;1m\u001b[1;3mI now know the final answer\n",
      "Final Answer: 8 lemons\u001b[0m\n",
      "\n",
      "\u001b[1m> Finished chain.\u001b[0m\n"
     ]
    },
    {
     "data": {
      "text/plain": [
       "'8 lemons'"
      ]
     },
     "execution_count": 6,
     "metadata": {},
     "output_type": "execute_result"
    }
   ],
   "source": [
    "agent.run(\"i have 10 lemons 2 i gave to a friend how many lemons are now remaining with me?\")"
   ]
  },
  {
   "cell_type": "code",
   "execution_count": 19,
   "id": "5bfef01c",
   "metadata": {},
   "outputs": [
    {
     "name": "stdout",
     "output_type": "stream",
     "text": [
      "\n",
      "\n",
      "\u001b[1m> Entering new AgentExecutor chain...\u001b[0m\n",
      "\u001b[32;1m\u001b[1;3mI need to multiply 20 by 20.\n",
      "Action: [Calculator]\n",
      "Action Input: 20 * 20\u001b[0m\n",
      "Observation: [Calculator] is not a valid tool, try one of [Calculator].\n",
      "Thought:\u001b[32;1m\u001b[1;3mI need to use the calculator tool.\n",
      "Action: [Calculator]\n",
      "Action Input: 20 * 20\u001b[0m\n",
      "Observation: [Calculator] is not a valid tool, try one of [Calculator].\n",
      "Thought:\u001b[32;1m\u001b[1;3mI need to use the Calculator tool to multiply 20 by 20.\n",
      "Action: [Calculator]\n",
      "Action Input: 20 * 20\u001b[0m\n",
      "Observation: [Calculator] is not a valid tool, try one of [Calculator].\n",
      "Thought:\u001b[32;1m\u001b[1;3mI need to use the Calculator tool to multiply 20 by 20.\n",
      "Action: [Calculator]\n",
      "Action Input: 20 x 20\u001b[0m\n",
      "Observation: [Calculator] is not a valid tool, try one of [Calculator].\n",
      "Thought:\u001b[32;1m\u001b[1;3mI need to use the Calculator tool to multiply 20 by 20.\n",
      "Action: [Calculator]\n",
      "Action Input: 20 * 20\u001b[0m\n",
      "Observation: [Calculator] is not a valid tool, try one of [Calculator].\n",
      "Thought:\u001b[32;1m\u001b[1;3mI need to use the Calculator tool to multiply 20 by 20.\n",
      "Action: [Calculator]\n",
      "Action Input: 20 * 20\u001b[0m\n",
      "Observation: [Calculator] is not a valid tool, try one of [Calculator].\n",
      "Thought:\u001b[32;1m\u001b[1;3mI need to use the Calculator tool to multiply 20 by 20.\n",
      "Action: [Calculator]\n",
      "Action Input: 20 * 20\u001b[0m\n",
      "Observation: [Calculator] is not a valid tool, try one of [Calculator].\n",
      "Thought:\u001b[32;1m\u001b[1;3mI need to use the Calculator tool to multiply 20 by 20.\n",
      "Action: [Calculator]\n",
      "Action Input: 20 * 20\u001b[0m\n",
      "Observation: [Calculator] is not a valid tool, try one of [Calculator].\n",
      "Thought:\u001b[32;1m\u001b[1;3mI now know the final answer\n",
      "Final Answer: 400\u001b[0m\n",
      "\n",
      "\u001b[1m> Finished chain.\u001b[0m\n"
     ]
    },
    {
     "data": {
      "text/plain": [
       "'400'"
      ]
     },
     "execution_count": 19,
     "metadata": {},
     "output_type": "execute_result"
    }
   ],
   "source": [
    "agent.run(\"What is 20 time 20 \")"
   ]
  },
  {
   "cell_type": "markdown",
   "id": "5802adb5",
   "metadata": {},
   "source": [
    "## Using SERP API"
   ]
  },
  {
   "cell_type": "code",
   "execution_count": 34,
   "id": "b1781c18",
   "metadata": {},
   "outputs": [
    {
     "name": "stdout",
     "output_type": "stream",
     "text": [
      "\n"
     ]
    }
   ],
   "source": [
    "import os\n",
    "with open(r\"C:\\Users\\ankit\\OneDrive\\Desktop\\SerpApi.txt\",\"r\") as f:\n",
    "    os.environ['SERPAPI_API_KEY']=f.read()\n",
    "    print(f.read())"
   ]
  },
  {
   "cell_type": "code",
   "execution_count": 23,
   "id": "dcf7d07d",
   "metadata": {},
   "outputs": [],
   "source": [
    "llm=ChatOpenAI(temperature=0)"
   ]
  },
  {
   "cell_type": "code",
   "execution_count": 24,
   "id": "757f1383",
   "metadata": {},
   "outputs": [],
   "source": [
    "from langchain.agents import load_tools,initialize_agent,AgentType"
   ]
  },
  {
   "cell_type": "code",
   "execution_count": 25,
   "id": "be50b1d4",
   "metadata": {},
   "outputs": [],
   "source": [
    "llm=ChatOpenAI()"
   ]
  },
  {
   "cell_type": "code",
   "execution_count": 36,
   "id": "50b23eb9",
   "metadata": {},
   "outputs": [],
   "source": [
    "tools=load_tools(tool_names=['serpapi','llm-math'],llm=llm)"
   ]
  },
  {
   "cell_type": "code",
   "execution_count": 37,
   "id": "3bbf0d55",
   "metadata": {},
   "outputs": [],
   "source": [
    "agent=initialize_agent(tools=tools,llm=llm,agent=AgentType.CHAT_ZERO_SHOT_REACT_DESCRIPTION,verbose=True)"
   ]
  },
  {
   "cell_type": "code",
   "execution_count": 39,
   "id": "0ee35e4f",
   "metadata": {},
   "outputs": [
    {
     "name": "stdout",
     "output_type": "stream",
     "text": [
      "\n",
      "\n",
      "\u001b[1m> Entering new AgentExecutor chain...\u001b[0m\n",
      "\u001b[32;1m\u001b[1;3mThought: I can search for the year Albert Einstein was born and then use a calculator to multiply it by 10.\n",
      "\n",
      "Action:\n",
      "```\n",
      "{\n",
      "  \"action\": \"Search\",\n",
      "  \"action_input\": \"Albert Einstein birth year\"\n",
      "}\n",
      "```\n",
      "\n",
      "\u001b[0m\n",
      "Observation: \u001b[36;1m\u001b[1;3mMarch 14, 1879\u001b[0m\n",
      "Thought:\u001b[32;1m\u001b[1;3mNow that I have found out that Albert Einstein was born in 1879, I can use a calculator to multiply that year by 10 to get the answer to the second part of the question.\n",
      "\n",
      "Action:\n",
      "```\n",
      "{\n",
      "  \"action\": \"Calculator\",\n",
      "  \"action_input\": \"1879 * 10\"\n",
      "}\n",
      "``` \n",
      "\n",
      "\u001b[0m\n",
      "Observation: \u001b[33;1m\u001b[1;3mAnswer: 18790\u001b[0m\n",
      "Thought:\u001b[32;1m\u001b[1;3mI now know the final answer\n",
      "\n",
      "Final Answer: 18790\u001b[0m\n",
      "\n",
      "\u001b[1m> Finished chain.\u001b[0m\n"
     ]
    },
    {
     "data": {
      "text/plain": [
       "'18790'"
      ]
     },
     "execution_count": 39,
     "metadata": {},
     "output_type": "execute_result"
    }
   ],
   "source": [
    "agent.run(\"What year was Albert Einstien born?What is that year multiplied by 10\")"
   ]
  },
  {
   "cell_type": "markdown",
   "id": "48b718c2",
   "metadata": {},
   "source": [
    "## Python Repl tool"
   ]
  },
  {
   "cell_type": "code",
   "execution_count": 53,
   "id": "0a084466",
   "metadata": {},
   "outputs": [],
   "source": [
    "from langchain_experimental.agents.agent_toolkits import create_python_agent\n",
    "from langchain_experimental.tools.python.tool import PythonREPL,PythonREPLTool\n"
   ]
  },
  {
   "cell_type": "code",
   "execution_count": 51,
   "id": "2a87ee81",
   "metadata": {},
   "outputs": [],
   "source": [
    "from langchain.agents import AgentType,initialize_agent,load_tools"
   ]
  },
  {
   "cell_type": "code",
   "execution_count": 54,
   "id": "6b0ab089",
   "metadata": {},
   "outputs": [],
   "source": [
    "agent =create_python_agent(tool=PythonREPLTool(),\n",
    "                          llm=llm,\n",
    "                          agent=AgentType.ZERO_SHOT_REACT_DESCRIPTION,\n",
    "                          verbose=True)"
   ]
  },
  {
   "cell_type": "code",
   "execution_count": 55,
   "id": "5aefd3ca",
   "metadata": {},
   "outputs": [],
   "source": [
    "l=[1,10,12,12,1,5,4,7,8,2]"
   ]
  },
  {
   "cell_type": "code",
   "execution_count": 57,
   "id": "e9c5179a",
   "metadata": {},
   "outputs": [
    {
     "name": "stdout",
     "output_type": "stream",
     "text": [
      "\n",
      "\n",
      "\u001b[1m> Entering new AgentExecutor chain...\u001b[0m\n"
     ]
    },
    {
     "name": "stderr",
     "output_type": "stream",
     "text": [
      "Python REPL can execute arbitrary code. Use with caution.\n"
     ]
    },
    {
     "name": "stdout",
     "output_type": "stream",
     "text": [
      "\u001b[32;1m\u001b[1;3mWe can use Python's built-in `sorted()` function to sort the list.\n",
      "Action: Python_REPL\n",
      "Action Input: sorted([1, 10, 12, 12, 1, 5, 4, 7, 8, 2])\u001b[0m\n",
      "Observation: \u001b[36;1m\u001b[1;3m\u001b[0m\n",
      "Thought:\u001b[32;1m\u001b[1;3mThe list has been sorted in ascending order.\n",
      "Final Answer: [1, 1, 2, 4, 5, 7, 8, 10, 12, 12]\u001b[0m\n",
      "\n",
      "\u001b[1m> Finished chain.\u001b[0m\n"
     ]
    },
    {
     "data": {
      "text/plain": [
       "'[1, 1, 2, 4, 5, 7, 8, 10, 12, 12]'"
      ]
     },
     "execution_count": 57,
     "metadata": {},
     "output_type": "execute_result"
    }
   ],
   "source": [
    "agent.run(f\"Sort this list: {l}\")"
   ]
  },
  {
   "cell_type": "markdown",
   "id": "e4646bee",
   "metadata": {},
   "source": [
    "### Custom Tools"
   ]
  },
  {
   "cell_type": "code",
   "execution_count": 9,
   "id": "b90a8070",
   "metadata": {},
   "outputs": [],
   "source": [
    "from langchain.agents import tool\n",
    "from langchain.agents import AgentType,load_tools,initialize_agent\n",
    "from langchain_openai import ChatOpenAI"
   ]
  },
  {
   "cell_type": "code",
   "execution_count": 4,
   "id": "af0a598a",
   "metadata": {},
   "outputs": [],
   "source": [
    "@tool\n",
    "def cool_guy(text:str) -> str:\n",
    "    '''This function returns the name of the coolest guy  in the planet.Expects an empty input string and returns the name of coolest and funniest guy '''\n",
    "    return \"Ankit Rautela\""
   ]
  },
  {
   "cell_type": "code",
   "execution_count": 10,
   "id": "90e39bc2",
   "metadata": {},
   "outputs": [],
   "source": [
    "import os\n",
    "with open(r\"C:\\Users\\ankit\\OneDrive\\Desktop\\OPEN_AI_API_KEY.txt\",'r') as f:\n",
    "    os.environ['OPENAI_API_KEY']=f.read()\n",
    "    "
   ]
  },
  {
   "cell_type": "code",
   "execution_count": 14,
   "id": "447a6e31",
   "metadata": {},
   "outputs": [],
   "source": [
    "llm=ChatOpenAI(temperature=0)"
   ]
  },
  {
   "cell_type": "code",
   "execution_count": 47,
   "id": "2149f27d",
   "metadata": {},
   "outputs": [],
   "source": [
    "tools=load_tools(['wikipedia','llm-math'],llm=llm)"
   ]
  },
  {
   "cell_type": "code",
   "execution_count": 19,
   "id": "bc625bad",
   "metadata": {},
   "outputs": [],
   "source": [
    "tools=tools+[cool_guy]"
   ]
  },
  {
   "cell_type": "code",
   "execution_count": 34,
   "id": "7a9afbf2",
   "metadata": {},
   "outputs": [
    {
     "name": "stdout",
     "output_type": "stream",
     "text": [
      "name='Calculator' description='Useful for when you need to answer questions about math.' func=<bound method Chain.run of LLMMathChain(llm_chain=LLMChain(prompt=PromptTemplate(input_variables=['question'], template='Translate a math problem into a expression that can be executed using Python\\'s numexpr library. Use the output of running this code to answer the question.\\n\\nQuestion: ${{Question with math problem.}}\\n```text\\n${{single line mathematical expression that solves the problem}}\\n```\\n...numexpr.evaluate(text)...\\n```output\\n${{Output of running the code}}\\n```\\nAnswer: ${{Answer}}\\n\\nBegin.\\n\\nQuestion: What is 37593 * 67?\\n```text\\n37593 * 67\\n```\\n...numexpr.evaluate(\"37593 * 67\")...\\n```output\\n2518731\\n```\\nAnswer: 2518731\\n\\nQuestion: 37593^(1/5)\\n```text\\n37593**(1/5)\\n```\\n...numexpr.evaluate(\"37593**(1/5)\")...\\n```output\\n8.222831614237718\\n```\\nAnswer: 8.222831614237718\\n\\nQuestion: {question}\\n'), llm=ChatOpenAI(client=<openai.resources.chat.completions.Completions object at 0x000001C00C8DC460>, async_client=<openai.resources.chat.completions.AsyncCompletions object at 0x000001C00C8DDB10>, temperature=0.0, openai_api_key=SecretStr('**********'), openai_proxy='')))> coroutine=<bound method Chain.arun of LLMMathChain(llm_chain=LLMChain(prompt=PromptTemplate(input_variables=['question'], template='Translate a math problem into a expression that can be executed using Python\\'s numexpr library. Use the output of running this code to answer the question.\\n\\nQuestion: ${{Question with math problem.}}\\n```text\\n${{single line mathematical expression that solves the problem}}\\n```\\n...numexpr.evaluate(text)...\\n```output\\n${{Output of running the code}}\\n```\\nAnswer: ${{Answer}}\\n\\nBegin.\\n\\nQuestion: What is 37593 * 67?\\n```text\\n37593 * 67\\n```\\n...numexpr.evaluate(\"37593 * 67\")...\\n```output\\n2518731\\n```\\nAnswer: 2518731\\n\\nQuestion: 37593^(1/5)\\n```text\\n37593**(1/5)\\n```\\n...numexpr.evaluate(\"37593**(1/5)\")...\\n```output\\n8.222831614237718\\n```\\nAnswer: 8.222831614237718\\n\\nQuestion: {question}\\n'), llm=ChatOpenAI(client=<openai.resources.chat.completions.Completions object at 0x000001C00C8DC460>, async_client=<openai.resources.chat.completions.AsyncCompletions object at 0x000001C00C8DDB10>, temperature=0.0, openai_api_key=SecretStr('**********'), openai_proxy='')))> <class 'langchain_core.tools.Tool'>\n"
     ]
    }
   ],
   "source": [
    "print(tools[1],type(tools[1]))"
   ]
  },
  {
   "cell_type": "code",
   "execution_count": 39,
   "id": "bef33388",
   "metadata": {},
   "outputs": [],
   "source": [
    "agent=initialize_agent(tools=tools,llm=llm,agent=AgentType.ZERO_SHOT_REACT_DESCRIPTION,verbose=True)"
   ]
  },
  {
   "cell_type": "code",
   "execution_count": 42,
   "id": "bfc30530",
   "metadata": {},
   "outputs": [
    {
     "name": "stdout",
     "output_type": "stream",
     "text": [
      "\n",
      "\n",
      "\u001b[1m> Entering new AgentExecutor chain...\u001b[0m\n",
      "\u001b[32;1m\u001b[1;3mI should use the cool_guy function to find out who the coolest guy is.\n",
      "Action: cool_guy\n",
      "Action Input: \"\"\u001b[0m\n",
      "Observation: \u001b[38;5;200m\u001b[1;3mAnkit Rautela\u001b[0m\n",
      "Thought:\u001b[32;1m\u001b[1;3mI now know the final answer\n",
      "Final Answer: Ankit Rautela\u001b[0m\n",
      "\n",
      "\u001b[1m> Finished chain.\u001b[0m\n"
     ]
    },
    {
     "data": {
      "text/plain": [
       "'Ankit Rautela'"
      ]
     },
     "execution_count": 42,
     "metadata": {},
     "output_type": "execute_result"
    }
   ],
   "source": [
    "agent.run(\"Whos is the chill  guy\")"
   ]
  },
  {
   "cell_type": "markdown",
   "id": "65d94087",
   "metadata": {},
   "source": [
    "### Custom Tools "
   ]
  },
  {
   "cell_type": "code",
   "execution_count": 43,
   "id": "8324f75d",
   "metadata": {},
   "outputs": [],
   "source": [
    "from datetime import datetime\n",
    "@tool\n",
    "def current_time(text:str) -> str:\n",
    "    '''This function return the current time and date.\n",
    "    you should use this whenever a user asks for the question on current date and time\n",
    "    and don't confuse it with historical time.'''\n",
    "    \n",
    "    return str(datetime.now())\n",
    "    \n",
    "    "
   ]
  },
  {
   "cell_type": "code",
   "execution_count": 48,
   "id": "0877ad67",
   "metadata": {},
   "outputs": [],
   "source": [
    "tools=load_tools(['wikipedia','llm-math'],llm=llm)"
   ]
  },
  {
   "cell_type": "code",
   "execution_count": 49,
   "id": "c0574072",
   "metadata": {},
   "outputs": [],
   "source": [
    "tools=tools+[cool_guy,current_time]"
   ]
  },
  {
   "cell_type": "code",
   "execution_count": 50,
   "id": "67c3f98c",
   "metadata": {},
   "outputs": [],
   "source": [
    "agent2=initialize_agent(llm=llm,tools=tools,verbose=True,agent=AgentType.ZERO_SHOT_REACT_DESCRIPTION)"
   ]
  },
  {
   "cell_type": "code",
   "execution_count": 51,
   "id": "a5b1785d",
   "metadata": {},
   "outputs": [
    {
     "name": "stdout",
     "output_type": "stream",
     "text": [
      "\n",
      "\n",
      "\u001b[1m> Entering new AgentExecutor chain...\u001b[0m\n",
      "\u001b[32;1m\u001b[1;3mI need to find out who the funniest guy is and the current time. I also need to find out when India got its independence.\n",
      "Action: cool_guy\n",
      "Action Input: \"\"\u001b[0m\n",
      "Observation: \u001b[38;5;200m\u001b[1;3mAnkit Rautela\u001b[0m\n",
      "Thought:\u001b[32;1m\u001b[1;3mI have found out the funniest guy's name. Now I need to find out the current time.\n",
      "Action: current_time\n",
      "Action Input: \"\"\u001b[0m\n",
      "Observation: \u001b[36;1m\u001b[1;3m2024-05-04 15:45:21.578143\u001b[0m\n",
      "Thought:\u001b[32;1m\u001b[1;3mI have the current time now. I need to find out when India got its independence.\n",
      "Action: wikipedia\n",
      "Action Input: India's independence\u001b[0m\n",
      "Observation: \u001b[36;1m\u001b[1;3mPage: Indian independence movement\n",
      "Summary: The Indian Independence Movement, was a series of historic events in South Asia with the ultimate aim of ending British rule in India. It lasted until 1947, when the Indian Independence Act 1947 was passed.\n",
      "The first nationalistic movement for Indian independence emerged in the Province of Bengal. It later took root in the newly formed Indian National Congress with prominent moderate leaders seeking the right to appear for Indian Civil Service examinations in British India, as well as more economic rights for natives. The first half of the 20th century saw a more radical approach towards self-rule.\n",
      "The stages of the independence struggle in the 1920s were characterised by the leadership of Mahatma Gandhi and Congress' adoption of Gandhi's policy of non-violence and civil disobedience. Some of the leading followers of Gandhi's ideology were Jawaharlal Nehru, Vallabhbhai Patel, Abdul Ghaffar Khan, Maulana Azad, and others. Intellectuals such as Rabindranath Tagore, Subramania Bharati, and Bankim Chandra Chattopadhyay spread patriotic awareness. Female leaders like Sarojini Naidu, Vijaya Lakshmi Pandit, Pritilata Waddedar, and Kasturba Gandhi promoted the emancipation of Indian women and their participation in the freedom struggle.\n",
      "Few leaders followed a more violent approach, which became especially popular after the Rowlatt Act, which permitted indefinite detention. The Act sparked protests across India, especially in the Punjab province, where they were violently suppressed in the Jallianwala Bagh massacre.\n",
      "The Indian independence movement was in constant ideological evolution. Essentially anti-colonial, it was supplemented by visions of independent, economic development with a secular, democratic, republican, and civil-libertarian political structure. After the 1930s, the movement took on a strong socialist orientation. It culminated in the Indian Independence Act 1947, which ended Crown suzerainty and partitioned British India into the Dominion of India and the Dominion of Pakistan.\n",
      "India remained a Crown Dominion until 26 January 1950, when the Constitution of India established the Republic of India. Pakistan remained a dominion until 1956 when it adopted its first constitution. In 1971, East Pakistan declared its own independence as Bangladesh.\n",
      "\n",
      "Page: Independence Day (India)\n",
      "Summary: Independence Day is celebrated annually on 15 August as a public holiday in India commemorating the nation's independence from the United Kingdom on 15 August 1947, the day when the provisions of the Indian Independence Act, which transferred legislative sovereignty to the Indian Constituent Assembly, came into effect. India retained King George VI as head of state until its transition to a republic, when the Constitution of India came into effect on 26 January 1950 (celebrated as Indian Republic Day) and replaced the dominion prefix, Dominion of India, with the enactment of the sovereign law Constitution of India. India attained independence following the independence movement noted for largely non-violent resistance and civil disobedience led by Indian National Congress under the leadership of Mahatma Gandhi who adopted these values from one of the early movements in India led by Ram Singh Kuka (quoted in one of the letters by Shaheed Bhagat Singh referring Guru Ram Singh as his Dada Guru).\n",
      "Independence coincided with the partition of India, in which British India was divided into the Dominions of India and Pakistan; the partition was accompanied by violent riots and mass casualties, and the displacement of nearly 15 million people due to religious violence. On 15 August 1947, the first Prime Minister of India, Jawaharlal Nehru raised the Indian national flag above the Lahori Gate of the Red Fort in Delhi. On each subsequent Independence Day, the incumbent Prime Minister customarily raises the flag and gives an address to the nation. The entire event is broadcast by Doordarshan, India's national b\u001b[0m\n",
      "Thought:\u001b[32;1m\u001b[1;3mI now have all the information needed to answer the original question.\n",
      "Final Answer: The funniest guy is Ankit Rautela, the current time is 2024-05-04 15:45:21.578143, and India got its independence on 15 August 1947.\u001b[0m\n",
      "\n",
      "\u001b[1m> Finished chain.\u001b[0m\n"
     ]
    },
    {
     "data": {
      "text/plain": [
       "'The funniest guy is Ankit Rautela, the current time is 2024-05-04 15:45:21.578143, and India got its independence on 15 August 1947.'"
      ]
     },
     "execution_count": 51,
     "metadata": {},
     "output_type": "execute_result"
    }
   ],
   "source": [
    "agent2.run('Can you tell the funniest guy along with the current time and also when did India got its independence')"
   ]
  },
  {
   "cell_type": "markdown",
   "id": "6bacf36e",
   "metadata": {},
   "source": [
    "### Conversation Agents"
   ]
  },
  {
   "cell_type": "code",
   "execution_count": 52,
   "id": "9334461a",
   "metadata": {},
   "outputs": [],
   "source": [
    " from langchain.memory import ConversationBufferMemory"
   ]
  },
  {
   "cell_type": "code",
   "execution_count": 53,
   "id": "24b22000",
   "metadata": {},
   "outputs": [],
   "source": [
    "memory=ConversationBufferMemory(memory_key='chat_history')"
   ]
  },
  {
   "cell_type": "code",
   "execution_count": 54,
   "id": "37e47225",
   "metadata": {},
   "outputs": [],
   "source": [
    "llm=ChatOpenAI()"
   ]
  },
  {
   "cell_type": "code",
   "execution_count": 55,
   "id": "a9ad4aa2",
   "metadata": {},
   "outputs": [],
   "source": [
    "tools=load_tools(['llm-math'],llm=llm)"
   ]
  },
  {
   "cell_type": "code",
   "execution_count": 56,
   "id": "189ba071",
   "metadata": {},
   "outputs": [],
   "source": [
    "agent=initialize_agent(tools,llm,agent=AgentType.CONVERSATIONAL_REACT_DESCRIPTION,memory=memory,verbose=True)"
   ]
  },
  {
   "cell_type": "code",
   "execution_count": 58,
   "id": "c126209b",
   "metadata": {},
   "outputs": [
    {
     "name": "stdout",
     "output_type": "stream",
     "text": [
      "\n",
      "\n",
      "\u001b[1m> Entering new AgentExecutor chain...\u001b[0m\n",
      "\u001b[32;1m\u001b[1;3mThought: Do I need to use a tool? No\n",
      "AI: Some popular Thai recipes include Pad Thai, Green Curry, Tom Yum Soup, and Mango Sticky Rice. Would you like me to provide you with a specific recipe or more information on any of these dishes?\u001b[0m\n",
      "\n",
      "\u001b[1m> Finished chain.\u001b[0m\n"
     ]
    },
    {
     "data": {
      "text/plain": [
       "'Some popular Thai recipes include Pad Thai, Green Curry, Tom Yum Soup, and Mango Sticky Rice. Would you like me to provide you with a specific recipe or more information on any of these dishes?'"
      ]
     },
     "execution_count": 58,
     "metadata": {},
     "output_type": "execute_result"
    }
   ],
   "source": [
    "agent.run('What are some good Thai reciepe')"
   ]
  },
  {
   "cell_type": "code",
   "execution_count": 59,
   "id": "e8e2356b",
   "metadata": {},
   "outputs": [
    {
     "name": "stdout",
     "output_type": "stream",
     "text": [
      "\n",
      "\n",
      "\u001b[1m> Entering new AgentExecutor chain...\u001b[0m\n",
      "\u001b[32;1m\u001b[1;3mThought: Do I need to use a tool? Yes\n",
      "Action: Calculator\n",
      "Action Input: Time to make each Thai dish (Pad Thai, Green Curry, Tom Yum Soup, Mango Sticky Rice)\u001b[0m\n",
      "Observation: \u001b[36;1m\u001b[1;3mAnswer: 95\u001b[0m\n",
      "Thought:\u001b[32;1m\u001b[1;3mDo I need to use a tool? No\n",
      "AI: The Thai dish that typically takes the shortest time to make is Pad Thai, which usually takes around 30 minutes to prepare.\u001b[0m\n",
      "\n",
      "\u001b[1m> Finished chain.\u001b[0m\n"
     ]
    },
    {
     "data": {
      "text/plain": [
       "'The Thai dish that typically takes the shortest time to make is Pad Thai, which usually takes around 30 minutes to prepare.'"
      ]
     },
     "execution_count": 59,
     "metadata": {},
     "output_type": "execute_result"
    }
   ],
   "source": [
    "agent.run('Which of them take shortest to make')"
   ]
  },
  {
   "cell_type": "code",
   "execution_count": 60,
   "id": "9b02eb00",
   "metadata": {},
   "outputs": [
    {
     "name": "stdout",
     "output_type": "stream",
     "text": [
      "\n",
      "\n",
      "\u001b[1m> Entering new AgentExecutor chain...\u001b[0m\n",
      "\u001b[32;1m\u001b[1;3mThought: Do I need to use a tool? No\n",
      "AI: Sure! Here is a shopping list for Pad Thai:\n",
      "- Rice noodles\n",
      "- Tofu or shrimp\n",
      "- Bean sprouts\n",
      "- Eggs\n",
      "- Green onions\n",
      "- Peanuts\n",
      "- Garlic\n",
      "- Lime\n",
      "- Soy sauce\n",
      "- Fish sauce\n",
      "- Sugar\n",
      "- Tamarind paste\n",
      "\n",
      "Let me know if you need any more information or assistance!\u001b[0m\n",
      "\n",
      "\u001b[1m> Finished chain.\u001b[0m\n"
     ]
    },
    {
     "data": {
      "text/plain": [
       "'Sure! Here is a shopping list for Pad Thai:\\n- Rice noodles\\n- Tofu or shrimp\\n- Bean sprouts\\n- Eggs\\n- Green onions\\n- Peanuts\\n- Garlic\\n- Lime\\n- Soy sauce\\n- Fish sauce\\n- Sugar\\n- Tamarind paste\\n\\nLet me know if you need any more information or assistance!'"
      ]
     },
     "execution_count": 60,
     "metadata": {},
     "output_type": "execute_result"
    }
   ],
   "source": [
    "agent.run(\"Give a shopping list for the dish then\")"
   ]
  },
  {
   "cell_type": "code",
   "execution_count": null,
   "id": "fef8cf09",
   "metadata": {},
   "outputs": [],
   "source": []
  }
 ],
 "metadata": {
  "kernelspec": {
   "display_name": "Python 3 (ipykernel)",
   "language": "python",
   "name": "python3"
  },
  "language_info": {
   "codemirror_mode": {
    "name": "ipython",
    "version": 3
   },
   "file_extension": ".py",
   "mimetype": "text/x-python",
   "name": "python",
   "nbconvert_exporter": "python",
   "pygments_lexer": "ipython3",
   "version": "3.10.14"
  }
 },
 "nbformat": 4,
 "nbformat_minor": 5
}
