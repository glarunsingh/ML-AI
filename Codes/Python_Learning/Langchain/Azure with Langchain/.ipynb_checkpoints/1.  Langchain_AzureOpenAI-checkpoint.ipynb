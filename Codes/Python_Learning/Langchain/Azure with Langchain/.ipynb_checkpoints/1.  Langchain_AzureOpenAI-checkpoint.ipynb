{
 "cells": [
  {
   "cell_type": "markdown",
   "id": "398a0f6d-57bb-4523-8871-53257d34adbf",
   "metadata": {},
   "source": [
    "# AzureChatOpenAI"
   ]
  },
  {
   "cell_type": "markdown",
   "id": "0ce248fa-10b0-4353-8e29-d7d473f600f8",
   "metadata": {},
   "source": [
    "Azure OpenAI Service provides REST API access to OpenAI’s powerful language models including the GPT-4, GPT-3.5-Turbo, and Embeddings model series. These models can be easily adapted to your specific task including but not limited to content generation, summarization, semantic search, and natural language to code translation. Users can access the service through REST APIs, Python SDK, or a web-based interface in the Azure OpenAI Studio.\n",
    "\n",
    "This notebook goes over how to connect to an Azure-hosted OpenAI endpoint. First, we need to install the langchain-openai package.\n",
    "\n",
    "**%pip install -qU langchain-openai**\n",
    "\n",
    "Next, let’s set some environment variables to help us connect to the Azure OpenAI service. You can find these values in the Azure portal."
   ]
  },
  {
   "cell_type": "code",
   "execution_count": 3,
   "id": "14edf454",
   "metadata": {},
   "outputs": [],
   "source": [
    "import os\n",
    "\n",
    "#Setting Environment variable\n",
    "os.environ[\"AZURE_OPENAI_API_VERSION\"] = \"2023-07-01-preview\"\n",
    "os.environ[\"AZURE_OPENAI_ENDPOINT\"] = 'https://dskumar.openai.azure.com/'\n",
    "os.environ[\"AZURE_OPENAI_API_KEY\"] =\"62855d6dd08945819bf83aee0c104127\"\n",
    "os.environ[\"AZURE_OPENAI_CHAT_DEPLOYMENT_NAME\"] =\"DskumarDeployment\"\n",
    "os.environ['OPENAI_TYPE']=\"Azure\"\n",
    "os.environ[\"LLM_MODEL\"] = \"gpt-35-turbo-16k\""
   ]
  },
  {
   "cell_type": "code",
   "execution_count": 4,
   "id": "5d56f1a3-46a9-462d-a1f5-1fb9e336397d",
   "metadata": {},
   "outputs": [],
   "source": [
    "from langchain_core.messages import AIMessage,SystemMessage,HumanMessage\n",
    "from langchain_openai import AzureChatOpenAI\n",
    "\n",
    "model = AzureChatOpenAI(\n",
    "    openai_api_version=os.environ[\"AZURE_OPENAI_API_VERSION\"],\n",
    "    azure_deployment=os.environ[\"AZURE_OPENAI_CHAT_DEPLOYMENT_NAME\"],\n",
    ")"
   ]
  },
  {
   "cell_type": "code",
   "execution_count": 5,
   "id": "ac8c484d-747f-4833-9d26-06ac059721c3",
   "metadata": {},
   "outputs": [
    {
     "data": {
      "text/plain": [
       "AIMessage(content=\"J'adore la programmation.\", response_metadata={'token_usage': {'completion_tokens': 8, 'prompt_tokens': 19, 'total_tokens': 27}, 'model_name': 'gpt-35-turbo-16k', 'system_fingerprint': None, 'prompt_filter_results': [{'prompt_index': 0, 'content_filter_results': {'hate': {'filtered': False, 'severity': 'safe'}, 'self_harm': {'filtered': False, 'severity': 'safe'}, 'sexual': {'filtered': False, 'severity': 'safe'}, 'violence': {'filtered': False, 'severity': 'safe'}}}], 'finish_reason': 'stop', 'logprobs': None, 'content_filter_results': {'hate': {'filtered': False, 'severity': 'safe'}, 'self_harm': {'filtered': False, 'severity': 'safe'}, 'sexual': {'filtered': False, 'severity': 'safe'}, 'violence': {'filtered': False, 'severity': 'safe'}}}, id='run-12e3aafd-e792-4682-8e55-abe6510b741e-0')"
      ]
     },
     "execution_count": 5,
     "metadata": {},
     "output_type": "execute_result"
    }
   ],
   "source": [
    "message = HumanMessage(\n",
    "    content=\"Translate this sentence from English to French. I love programming.\"\n",
    ")\n",
    "model.invoke([message])"
   ]
  },
  {
   "cell_type": "code",
   "execution_count": 6,
   "id": "b7fc912c",
   "metadata": {},
   "outputs": [],
   "source": [
    "# Run the LLM\n",
    "result=model.invoke([HumanMessage(content=\"Tell me about langchain\")])"
   ]
  },
  {
   "cell_type": "code",
   "execution_count": 7,
   "id": "90212b2f",
   "metadata": {},
   "outputs": [
    {
     "data": {
      "text/plain": [
       "'LangChain is a blockchain-based platform that aims to revolutionize the language learning industry. It leverages the power of blockchain technology to connect language learners with native speakers, creating a global community for language exchange and education.\\n\\nThe platform provides a decentralized marketplace where users can find language tutors, exchange language learning materials, and participate in language exchange sessions. It aims to remove the barriers and intermediaries in the language learning process, making it more accessible, affordable, and efficient for learners from all around the world.\\n\\nOne of the key features of LangChain is its smart contract system, which ensures secure and transparent transactions between learners and tutors. Smart contracts also enable automatic payments, making the process hassle-free for both parties.\\n\\nIn addition to language learning, LangChain also offers a token economy. The platform has its native cryptocurrency called LangToken, which can be used for various purposes within the ecosystem, such as purchasing language lessons, accessing premium content, and rewarding active community members.\\n\\nBy leveraging blockchain technology, LangChain aims to address some of the common issues in the language learning industry, such as high costs, lack of personalized learning experiences, and limited access to native speakers. It promotes a peer-to-peer approach, allowing learners to directly connect with tutors and practice their target language in an immersive and interactive environment.\\n\\nOverall, LangChain aims to disrupt the traditional language learning industry by providing a decentralized and efficient platform that empowers learners and tutors worldwide.'"
      ]
     },
     "execution_count": 7,
     "metadata": {},
     "output_type": "execute_result"
    }
   ],
   "source": [
    "result.content"
   ]
  },
  {
   "cell_type": "code",
   "execution_count": null,
   "id": "74d0a7d3-e35f-4df0-be29-eeda4d007531",
   "metadata": {},
   "outputs": [],
   "source": []
  }
 ],
 "metadata": {
  "kernelspec": {
   "display_name": "Python 3 (ipykernel)",
   "language": "python",
   "name": "python3"
  },
  "language_info": {
   "codemirror_mode": {
    "name": "ipython",
    "version": 3
   },
   "file_extension": ".py",
   "mimetype": "text/x-python",
   "name": "python",
   "nbconvert_exporter": "python",
   "pygments_lexer": "ipython3",
   "version": "3.11.7"
  }
 },
 "nbformat": 4,
 "nbformat_minor": 5
}
