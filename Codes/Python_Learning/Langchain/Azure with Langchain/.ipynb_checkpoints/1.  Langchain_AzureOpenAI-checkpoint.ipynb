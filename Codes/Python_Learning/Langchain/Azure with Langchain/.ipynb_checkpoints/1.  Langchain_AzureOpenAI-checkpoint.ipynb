{
 "cells": [
  {
   "cell_type": "code",
   "execution_count": 1,
   "id": "f2fdfe48",
   "metadata": {},
   "outputs": [
    {
     "data": {
      "text/plain": [
       "'C:\\\\Users\\\\JANU\\\\OneDrive\\\\Documents\\\\GitHub\\\\python_dumps\\\\Codes\\\\Python_Learning\\\\Langchain\\\\Azure with Langchain'"
      ]
     },
     "execution_count": 1,
     "metadata": {},
     "output_type": "execute_result"
    }
   ],
   "source": [
    "pwd"
   ]
  },
  {
   "cell_type": "code",
   "execution_count": 2,
   "id": "f6c8c420",
   "metadata": {},
   "outputs": [],
   "source": [
    "import os\n",
    "import openai\n",
    "# Import Azure OpenAI\n",
    "from langchain_openai import AzureChatOpenAI"
   ]
  },
  {
   "cell_type": "code",
   "execution_count": 3,
   "id": "14edf454",
   "metadata": {},
   "outputs": [],
   "source": [
    "#Setting Environment variable\n",
    "os.environ[\"OPENAI_API_VERSION\"] = \"2023-07-01-preview\"\n",
    "os.environ[\"AZURE_OPENAI_ENDPOINT\"] = 'https://dskumar.openai.azure.com/'\n",
    "os.environ[\"AZURE_OPENAI_API_KEY\"] =\"62855d6dd08945819bf83aee0c104127\"\n",
    "os.environ[\"DEPLOYMENT_NAME\"] =\"DskumarDeployment\"\n",
    "os.environ['OPENAI_TYPE']=\"Azure\"\n",
    "os.environ[\"LLM_MODEL\"] = \"gpt-35-turbo-16k\""
   ]
  },
  {
   "cell_type": "code",
   "execution_count": 4,
   "id": "f3321fd6",
   "metadata": {},
   "outputs": [],
   "source": [
    "# Create an instance of Azure OpenAI\n",
    "\n",
    "llm = AzureChatOpenAI(\n",
    "    deployment_name=os.getenv(\"DEPLOYMENT_NAME\"),openai_api_type='Azure',\n",
    ")"
   ]
  },
  {
   "cell_type": "code",
   "execution_count": 5,
   "id": "cd8111ce",
   "metadata": {},
   "outputs": [],
   "source": [
    "from langchain_core.messages import AIMessage,SystemMessage,HumanMessage"
   ]
  },
  {
   "cell_type": "code",
   "execution_count": 9,
   "id": "b7fc912c",
   "metadata": {},
   "outputs": [],
   "source": [
    "# Run the LLM\n",
    "result=llm.invoke([HumanMessage(content=\"Tell me about langchain\")])"
   ]
  },
  {
   "cell_type": "code",
   "execution_count": 10,
   "id": "90212b2f",
   "metadata": {},
   "outputs": [
    {
     "data": {
      "text/plain": [
       "\"Langchain is a blockchain-based platform that aims to revolutionize the language industry by leveraging the power of blockchain technology. It is designed to eliminate the inefficiencies and challenges faced by both language service providers (LSPs) and language learners.\\n\\nOne of the key features of Langchain is its decentralized marketplace. LSPs can list their services on the platform, and language learners can easily find and connect with the most suitable LSPs based on their specific requirements. The use of smart contracts ensures transparency and security in these transactions, as all details and payments are recorded on the blockchain.\\n\\nLangchain also incorporates a token system called the Lang Token (LANG), which serves as the native cryptocurrency of the platform. Users can earn LANG tokens by providing language services or by participating in the platform's language learning activities. These tokens can then be used to pay for language services or exchanged for other cryptocurrencies.\\n\\nFurthermore, Langchain aims to promote language learning by providing a range of tools and resources. It offers a language learning platform where users can access courses, tutorials, and interactive materials to improve their language skills. The platform also integrates artificial intelligence technology to personalize the learning experience and provide tailored recommendations.\\n\\nBy leveraging blockchain technology, Langchain addresses several pain points in the language industry, such as high fees, lack of trust, and limited access to reputable language service providers. It aims to create a global community of language enthusiasts, enabling them to easily connect and interact, regardless of geographical barriers.\\n\\nOverall, Langchain aims to disrupt the language industry by providing a decentralized and efficient platform that benefits both language service providers and language learners.\""
      ]
     },
     "execution_count": 10,
     "metadata": {},
     "output_type": "execute_result"
    }
   ],
   "source": [
    "result.content"
   ]
  },
  {
   "cell_type": "code",
   "execution_count": null,
   "id": "e3fe7330",
   "metadata": {},
   "outputs": [],
   "source": []
  },
  {
   "cell_type": "code",
   "execution_count": null,
   "id": "6908646e",
   "metadata": {},
   "outputs": [],
   "source": []
  },
  {
   "cell_type": "code",
   "execution_count": null,
   "id": "789e8053",
   "metadata": {},
   "outputs": [],
   "source": []
  }
 ],
 "metadata": {
  "kernelspec": {
   "display_name": "Python 3 (ipykernel)",
   "language": "python",
   "name": "python3"
  },
  "language_info": {
   "codemirror_mode": {
    "name": "ipython",
    "version": 3
   },
   "file_extension": ".py",
   "mimetype": "text/x-python",
   "name": "python",
   "nbconvert_exporter": "python",
   "pygments_lexer": "ipython3",
   "version": "3.11.7"
  }
 },
 "nbformat": 4,
 "nbformat_minor": 5
}
