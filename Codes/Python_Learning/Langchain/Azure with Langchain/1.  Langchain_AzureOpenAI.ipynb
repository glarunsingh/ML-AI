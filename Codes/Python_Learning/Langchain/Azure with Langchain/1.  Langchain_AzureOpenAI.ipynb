{
 "cells": [
  {
   "cell_type": "markdown",
   "id": "398a0f6d-57bb-4523-8871-53257d34adbf",
   "metadata": {},
   "source": [
    "# AzureChatOpenAI"
   ]
  },
  {
   "cell_type": "markdown",
   "id": "0ce248fa-10b0-4353-8e29-d7d473f600f8",
   "metadata": {},
   "source": [
    "Azure OpenAI Service provides REST API access to OpenAI’s powerful language models including the GPT-4, GPT-3.5-Turbo, and Embeddings model series. These models can be easily adapted to your specific task including but not limited to content generation, summarization, semantic search, and natural language to code translation. Users can access the service through REST APIs, Python SDK, or a web-based interface in the Azure OpenAI Studio.\n",
    "\n",
    "This notebook goes over how to connect to an Azure-hosted OpenAI endpoint. First, we need to install the langchain-openai package.\n",
    "\n",
    "**%pip install -qU langchain-openai**\n",
    "\n",
    "Next, let’s set some environment variables to help us connect to the Azure OpenAI service. You can find these values in the Azure portal."
   ]
  },
  {
   "cell_type": "code",
   "execution_count": 1,
   "id": "14edf454",
   "metadata": {},
   "outputs": [],
   "source": [
    "import os\n",
    "\n",
    "#Setting Environment variable\n",
    "os.environ[\"AZURE_OPENAI_API_VERSION\"] = \"2023-07-01-preview\"\n",
    "os.environ[\"AZURE_OPENAI_ENDPOINT\"] = 'https://dskumar.openai.azure.com/'\n",
    "os.environ[\"AZURE_OPENAI_API_KEY\"] =\"62855d6dd08945819bf83aee0c104127\"\n",
    "os.environ[\"AZURE_OPENAI_CHAT_DEPLOYMENT_NAME\"] =\"DskumarDeployment\"\n",
    "os.environ['OPENAI_TYPE']=\"Azure\"\n",
    "os.environ[\"LLM_MODEL\"] = \"gpt-35-turbo-16k\""
   ]
  },
  {
   "cell_type": "code",
   "execution_count": 2,
   "id": "5d56f1a3-46a9-462d-a1f5-1fb9e336397d",
   "metadata": {},
   "outputs": [],
   "source": [
    "from langchain_core.messages import AIMessage,SystemMessage,HumanMessage\n",
    "from langchain_openai import AzureChatOpenAI, AzureOpenAI\n",
    "\n",
    "\n",
    "model = AzureChatOpenAI(\n",
    "    openai_api_version=os.environ[\"AZURE_OPENAI_API_VERSION\"],\n",
    "    azure_deployment=os.environ[\"AZURE_OPENAI_CHAT_DEPLOYMENT_NAME\"],\n",
    ")\n",
    "\n",
    "llm = AzureOpenAI(openai_api_version=os.environ[\"AZURE_OPENAI_API_VERSION\"],\n",
    "    azure_deployment=os.environ[\"AZURE_OPENAI_CHAT_DEPLOYMENT_NAME\"],)"
   ]
  },
  {
   "cell_type": "code",
   "execution_count": 3,
   "id": "ac8c484d-747f-4833-9d26-06ac059721c3",
   "metadata": {},
   "outputs": [
    {
     "data": {
      "text/plain": [
       "AIMessage(content=\"J'adore programmer.\", additional_kwargs={}, response_metadata={'token_usage': {'completion_tokens': 6, 'prompt_tokens': 19, 'total_tokens': 25, 'completion_tokens_details': None}, 'model_name': 'gpt-35-turbo-16k', 'system_fingerprint': None, 'prompt_filter_results': [{'prompt_index': 0, 'content_filter_results': {'hate': {'filtered': False, 'severity': 'safe'}, 'self_harm': {'filtered': False, 'severity': 'safe'}, 'sexual': {'filtered': False, 'severity': 'safe'}, 'violence': {'filtered': False, 'severity': 'safe'}}}], 'finish_reason': 'stop', 'logprobs': None, 'content_filter_results': {'hate': {'filtered': False, 'severity': 'safe'}, 'self_harm': {'filtered': False, 'severity': 'safe'}, 'sexual': {'filtered': False, 'severity': 'safe'}, 'violence': {'filtered': False, 'severity': 'safe'}}}, id='run-726c6a0a-5453-4847-bbbc-4dfc446f0802-0', usage_metadata={'input_tokens': 19, 'output_tokens': 6, 'total_tokens': 25})"
      ]
     },
     "execution_count": 3,
     "metadata": {},
     "output_type": "execute_result"
    }
   ],
   "source": [
    "message = HumanMessage(\n",
    "    content=\"Translate this sentence from English to French. I love programming.\"\n",
    ")\n",
    "model.invoke([message])"
   ]
  },
  {
   "cell_type": "code",
   "execution_count": 8,
   "id": "b7fc912c",
   "metadata": {},
   "outputs": [],
   "source": [
    "# Run the LLM\n",
    "result=model.invoke([HumanMessage(content=\"what is rag approach in langchain\")])"
   ]
  },
  {
   "cell_type": "code",
   "execution_count": 9,
   "id": "90212b2f",
   "metadata": {},
   "outputs": [
    {
     "data": {
      "text/plain": [
       "'The RAG approach in Langchain refers to the three categories used to assess the difficulty or proficiency level of a language. RAG stands for Red, Amber, and Green.\\n\\n1. Red: This category represents the highest difficulty level or the lowest proficiency level. It indicates that the language is challenging and requires significant effort to learn or use effectively.\\n\\n2. Amber: This category represents a moderate difficulty level or an intermediate proficiency level. It suggests that the language requires some effort to learn or use, but it is not as challenging as the Red category.\\n\\n3. Green: This category represents the lowest difficulty level or the highest proficiency level. It indicates that the language is relatively easy to learn or use, either due to similarities with other languages or simple grammar and vocabulary structures.\\n\\nThe RAG approach helps learners and users of Langchain to assess the complexity and proficiency requirements of different languages, enabling them to make informed decisions about language learning or translation tasks.'"
      ]
     },
     "execution_count": 9,
     "metadata": {},
     "output_type": "execute_result"
    }
   ],
   "source": [
    "result.content"
   ]
  },
  {
   "cell_type": "code",
   "execution_count": null,
   "id": "1a0b800f-644c-4497-a963-85d5279a1315",
   "metadata": {},
   "outputs": [],
   "source": []
  }
 ],
 "metadata": {
  "kernelspec": {
   "display_name": "Python 3 (ipykernel)",
   "language": "python",
   "name": "python3"
  },
  "language_info": {
   "codemirror_mode": {
    "name": "ipython",
    "version": 3
   },
   "file_extension": ".py",
   "mimetype": "text/x-python",
   "name": "python",
   "nbconvert_exporter": "python",
   "pygments_lexer": "ipython3",
   "version": "3.12.4"
  }
 },
 "nbformat": 4,
 "nbformat_minor": 5
}
