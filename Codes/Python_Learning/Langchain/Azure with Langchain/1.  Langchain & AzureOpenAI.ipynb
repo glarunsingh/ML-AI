{
 "cells": [
  {
   "cell_type": "code",
   "execution_count": 1,
   "id": "f2fdfe48",
   "metadata": {},
   "outputs": [
    {
     "data": {
      "text/plain": [
       "'C:\\\\Users\\\\JANU\\\\OneDrive\\\\Documents\\\\GitHub\\\\python_dumps\\\\Codes\\\\Python_Learning\\\\Azure with Langchain'"
      ]
     },
     "execution_count": 1,
     "metadata": {},
     "output_type": "execute_result"
    }
   ],
   "source": [
    "pwd"
   ]
  },
  {
   "cell_type": "code",
   "execution_count": 2,
   "id": "f6c8c420",
   "metadata": {},
   "outputs": [],
   "source": [
    "import os\n",
    "import openai\n",
    "# Import Azure OpenAI\n",
    "from langchain_openai import AzureChatOpenAI"
   ]
  },
  {
   "cell_type": "code",
   "execution_count": 3,
   "id": "14edf454",
   "metadata": {},
   "outputs": [],
   "source": [
    "#Setting Environment variable\n",
    "os.environ[\"OPENAI_API_VERSION\"] = \"2023-07-01-preview\"\n",
    "os.environ[\"AZURE_OPENAI_ENDPOINT\"] = 'https://dskumar.openai.azure.com/'\n",
    "os.environ[\"AZURE_OPENAI_API_KEY\"] =\"62855d6dd08945819bf83aee0c104127\"\n",
    "os.environ[\"DEPLOYMENT_NAME\"] =\"DskumarDeployment\"\n",
    "os.environ['OPENAI_TYPE']=\"Azure\"\n",
    "os.environ[\"LLM_MODEL\"] = \"gpt-35-turbo-16k\""
   ]
  },
  {
   "cell_type": "code",
   "execution_count": 4,
   "id": "f3321fd6",
   "metadata": {},
   "outputs": [],
   "source": [
    "# Create an instance of Azure OpenAI\n",
    "\n",
    "llm = AzureChatOpenAI(\n",
    "    deployment_name=os.getenv(\"DEPLOYMENT_NAME\"),openai_api_type='Azure',\n",
    ")"
   ]
  },
  {
   "cell_type": "code",
   "execution_count": 5,
   "id": "cd8111ce",
   "metadata": {},
   "outputs": [],
   "source": [
    "from langchain_core.messages import AIMessage,SystemMessage,HumanMessage"
   ]
  },
  {
   "cell_type": "code",
   "execution_count": 7,
   "id": "b7fc912c",
   "metadata": {},
   "outputs": [],
   "source": [
    "# Run the LLM\n",
    "result=llm.invoke([HumanMessage(content=\"Tell me about langchain\")])"
   ]
  },
  {
   "cell_type": "code",
   "execution_count": 8,
   "id": "90212b2f",
   "metadata": {},
   "outputs": [
    {
     "data": {
      "text/plain": [
       "\"Langchain is a blockchain-based decentralized translation platform that aims to bridge the language gap and facilitate seamless communication across different languages. It utilizes the power of blockchain technology to create a transparent, secure, and efficient translation ecosystem.\\n\\nThe platform operates on a peer-to-peer network, connecting translators and users directly. It eliminates the need for intermediaries and reduces costs by cutting out the middleman. Translators can offer their services directly to users, and users can choose the translator that best suits their requirements.\\n\\nLangchain leverages smart contracts to automate the translation process, ensuring transparency and accountability. The smart contracts handle the negotiation, agreement, and payment processes, eliminating any trust issues between parties.\\n\\nThe platform offers a wide range of translation services, including text translation, audio transcription, and interpretation. Users can request translations for various purposes, such as business documents, legal contracts, academic papers, and more.\\n\\nTo ensure the quality of translations, Langchain implements a reputation system where users can rate and provide feedback on translators' work. This system helps users in selecting reliable and skilled translators based on their previous performance.\\n\\nLangchain's native cryptocurrency, called LANG tokens, is used for transactions within the platform. Users can purchase LANG tokens to pay for translation services or earn tokens by providing translation services. The use of cryptocurrencies ensures faster and more secure transactions compared to traditional payment methods.\\n\\nOverall, Langchain aims to revolutionize the translation industry by leveraging blockchain technology to create a decentralized and efficient platform that connects translators and users in a transparent and cost-effective manner.\""
      ]
     },
     "execution_count": 8,
     "metadata": {},
     "output_type": "execute_result"
    }
   ],
   "source": [
    "result.content"
   ]
  },
  {
   "cell_type": "code",
   "execution_count": null,
   "id": "e3fe7330",
   "metadata": {},
   "outputs": [],
   "source": []
  },
  {
   "cell_type": "code",
   "execution_count": null,
   "id": "6908646e",
   "metadata": {},
   "outputs": [],
   "source": []
  },
  {
   "cell_type": "code",
   "execution_count": null,
   "id": "789e8053",
   "metadata": {},
   "outputs": [],
   "source": []
  }
 ],
 "metadata": {
  "kernelspec": {
   "display_name": "Python 3 (ipykernel)",
   "language": "python",
   "name": "python3"
  },
  "language_info": {
   "codemirror_mode": {
    "name": "ipython",
    "version": 3
   },
   "file_extension": ".py",
   "mimetype": "text/x-python",
   "name": "python",
   "nbconvert_exporter": "python",
   "pygments_lexer": "ipython3",
   "version": "3.11.7"
  }
 },
 "nbformat": 4,
 "nbformat_minor": 5
}
