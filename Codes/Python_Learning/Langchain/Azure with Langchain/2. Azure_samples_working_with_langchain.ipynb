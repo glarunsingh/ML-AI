{
 "cells": [
  {
   "cell_type": "markdown",
   "id": "6d251ced",
   "metadata": {},
   "source": [
    "# How to use LangChain and Azure OpenAI with Python\n",
    "\n",
    "\n",
    "Langchain is an open source framework for developing applications using large language models (LLM). <br>\n",
    "\n",
    "This guide will demonstrate how to setup and use Azure OpenAI models' API with LangChain.\n",
    "    "
   ]
  },
  {
   "cell_type": "markdown",
   "id": "9d0ee335",
   "metadata": {},
   "source": [
    "## Set Up\n",
    "The following libraries must be installed to use LangChain with Azure OpenAI.<br>"
   ]
  },
  {
   "cell_type": "code",
   "execution_count": 3,
   "id": "35289cea",
   "metadata": {},
   "outputs": [],
   "source": [
    "#!pip install --upgrade openai\n",
    "#!pip install langchain"
   ]
  },
  {
   "cell_type": "markdown",
   "id": "ba880453",
   "metadata": {},
   "source": [
    "## API Configuation and Deployed Model Setup\n",
    "\n",
    "After installing the necessary libraies, the API must be configured. The code below shows how to configure the API directly in your Python environment. \n"
   ]
  },
  {
   "cell_type": "code",
   "execution_count": 4,
   "id": "a9752fda",
   "metadata": {
    "scrolled": true
   },
   "outputs": [],
   "source": [
    "import openai\n",
    "import json\n",
    "import os\n",
    "from langchain.chat_models import AzureChatOpenAI\n",
    "from langchain.schema import HumanMessage\n",
    "from langchain import LLMChain"
   ]
  },
  {
   "cell_type": "code",
   "execution_count": 5,
   "id": "80e17163-c233-4452-a7fe-a3ddb69a7dc7",
   "metadata": {},
   "outputs": [],
   "source": [
    "# Load config values\n",
    "with open(r'config.json') as config_file:\n",
    "    config_details = json.load(config_file)\n",
    "\n",
    "# The base URL for your Azure OpenAI resource. e.g. \"https://<your resource name>.openai.azure.com\"\n",
    "openai_api_base=config_details['OPENAI_API_BASE']\n",
    "    \n",
    "# API version e.g. \"2023-07-01-preview\"\n",
    "openai_api_version=config_details['OPENAI_API_VERSION']\n",
    "\n",
    "# The name of your Azure OpenAI deployment chat model. e.g. \"gpt-35-turbo-0613\"\n",
    "deployment_name=config_details['DEPLOYMENT_NAME']\n",
    "\n",
    "# The API key for your Azure OpenAI resource.\n",
    "os.environ[\"OPENAI_API_KEY\"] = \"62855d6dd08945819bf83aee0c104127\"\n",
    "openai_api_key = os.getenv(\"OPENAI_API_KEY\")\n",
    "\n",
    "# This is set to `azure`\n",
    "openai_api_type=\"azure\""
   ]
  },
  {
   "cell_type": "markdown",
   "id": "52da840e",
   "metadata": {},
   "source": [
    "## Deployed Model Setup"
   ]
  },
  {
   "cell_type": "code",
   "execution_count": 12,
   "id": "041f0a56",
   "metadata": {
    "scrolled": true
   },
   "outputs": [],
   "source": [
    "# Create an instance of chat llm\n",
    "#llm = AzureChatOpenAI(openai_api_base=openai_api_base, openai_api_version=openai_api_version,deployment_name=deployment_name,openai_api_key=openai_api_key,openai_api_type=openai_api_type,)\n",
    "\n",
    "#llm.invoke([HumanMessage(content=\"Write me a poem\")])"
   ]
  },
  {
   "cell_type": "code",
   "execution_count": 13,
   "id": "06faad0b-41cc-44d1-a615-baaed4514fd7",
   "metadata": {},
   "outputs": [],
   "source": [
    "# Create an instance of chat llm\n",
    "llm = AzureChatOpenAI(\n",
    "    azure_deployment=deployment_name,\n",
    "    openai_api_version=openai_api_version,\n",
    "    azure_endpoint=openai_api_base\n",
    ")\n",
    "\n",
    "response = llm.invoke([HumanMessage(content=\"Write me a poem\")])"
   ]
  },
  {
   "cell_type": "code",
   "execution_count": 15,
   "id": "daeeb1d8-f74e-47e8-9d21-4f38482e75ad",
   "metadata": {},
   "outputs": [
    {
     "name": "stdout",
     "output_type": "stream",
     "text": [
      "In the realm of dreams, where words take flight,\n",
      "Let me weave a poem, shimmering with delight.\n",
      "A tapestry spun with threads of emotion and thought,\n",
      "A symphony of words, a canvas of the heart.\n",
      "\n",
      "On the wings of imagination, let us soar,\n",
      "To lands unknown, yet familiar to the core.\n",
      "Where verses dance like fireflies in twilight's glow,\n",
      "And whispers of the soul softly start to flow.\n",
      "\n",
      "In this enchanted realm, let beauty unfurl,\n",
      "Through valleys of laughter and mountains of pearls.\n",
      "Where the sun paints the sky in hues of gold,\n",
      "And the moon weaves stories, legends of old.\n",
      "\n",
      "Let me paint you a picture with words so true,\n",
      "Of love's tender touch and skies of azure blue.\n",
      "Of the gentle rain that quenches the thirst,\n",
      "And the winds that carry secrets, whispered and rehearsed.\n",
      "\n",
      "Let me capture the essence of a moment in time,\n",
      "In verses that rhyme, a rhythm sublime.\n",
      "For poetry, dear friend, is the language of the soul,\n",
      "A portal to emotions, where hearts become whole.\n",
      "\n",
      "So let me write a poem, just for you,\n",
      "A treasure to cherish, forever anew.\n",
      "May it touch your spirit, ignite a spark within,\n",
      "And remind you of the magic that poetry can bring.\n"
     ]
    }
   ],
   "source": [
    "print(response.content)"
   ]
  },
  {
   "cell_type": "markdown",
   "id": "dc7ea2d4",
   "metadata": {},
   "source": [
    "## PromptTemplates\n",
    "\n",
    "Langchain provides a built in PromptsTemplate module to simplify the construction of prompts to get more specific answers."
   ]
  },
  {
   "cell_type": "code",
   "execution_count": 16,
   "id": "927d4bac",
   "metadata": {},
   "outputs": [],
   "source": [
    "from langchain import PromptTemplate\n",
    "\n",
    "from langchain.prompts.chat import (\n",
    "    ChatPromptTemplate,\n",
    "    SystemMessagePromptTemplate,\n",
    "    HumanMessagePromptTemplate,\n",
    ")"
   ]
  },
  {
   "cell_type": "code",
   "execution_count": 20,
   "id": "2308181c-6eec-41ec-a0c8-e7930f27bcde",
   "metadata": {},
   "outputs": [],
   "source": [
    "# First Example\n",
    "template = \"\"\"\n",
    "You are a skin care consulant that recommends products based on customer\n",
    "needs and preferences.\n",
    "\n",
    "What is a good {product_type} to help with {customer_request}?\n",
    "\"\"\"\n",
    "\n",
    "prompt = PromptTemplate(\n",
    "    input_variables=[\"product_type\", \"customer_request\"],\n",
    "    template=template,\n",
    ")"
   ]
  },
  {
   "cell_type": "code",
   "execution_count": 21,
   "id": "8958f8a3-990a-40a0-8dc5-3985ee465dcd",
   "metadata": {},
   "outputs": [
    {
     "name": "stdout",
     "output_type": "stream",
     "text": [
      "Example #1:\n",
      "A good face wash for acne-prone skin is one that effectively cleanses the skin, removes excess oil, unclogs pores, and helps to prevent future breakouts. Here are a few recommendations:\n",
      "\n",
      "1. Neutrogena Oil-Free Acne Wash: This face wash contains salicylic acid, which helps to exfoliate the skin and clear acne. It also helps in reducing inflammation and redness caused by acne.\n",
      "\n",
      "2. La Roche-Posay Effaclar Medicated Gel Cleanser: This gel cleanser is specifically formulated for oily and acne-prone skin. It contains salicylic acid and LHA, which help to unclog pores and reduce excess oil production.\n",
      "\n",
      "3. CeraVe Acne Foaming Cream Cleanser: This cleanser contains benzoyl peroxide, which is effective in treating acne by killing the bacteria that causes breakouts. It also helps in reducing excess oil and improving skin texture.\n",
      "\n",
      "4. Mario Badescu Acne Facial Cleanser: This face wash contains salicylic acid and aloe vera, which work together to reduce acne and soothe the skin. It also helps to unclog pores and prevent future breakouts.\n",
      "\n",
      "5. Bioré Charcoal Acne Clearing Cleanser: This cleanser contains charcoal, which helps to draw out impurities and excess oil from the skin. It also contains salicylic acid to treat and prevent acne.\n",
      "\n",
      "Remember, it's important to choose a face wash that suits your skin type and doesn't cause any irritation. If you have severe acne or any specific concerns, it's best to consult with a dermatologist for personalized recommendations.\n"
     ]
    }
   ],
   "source": [
    "print(\"Example #1:\")\n",
    "response = llm.invoke([HumanMessage(content=prompt.format(\n",
    "        product_type=\"face wash\",\n",
    "        customer_request = \"acne prone skin\"\n",
    "    ))]\n",
    ")\n",
    "\n",
    "print(response.content)"
   ]
  },
  {
   "cell_type": "code",
   "execution_count": 22,
   "id": "502fd3bf-4db5-4016-8c5e-7522e3cf6602",
   "metadata": {},
   "outputs": [],
   "source": [
    "# Second Example\n",
    "system_message = \"You are an AI travel assistant that provides vacation recommendations.\"\n",
    "system_message_prompt = SystemMessagePromptTemplate.from_template(system_message)\n",
    "\n",
    "human_template=\"{text}\"\n",
    "human_message_prompt = HumanMessagePromptTemplate.from_template(human_template)\n",
    "\n",
    "chat_prompt = ChatPromptTemplate.from_messages([system_message_prompt, human_message_prompt])\n",
    "\n",
    "chain = LLMChain(llm=llm, prompt=chat_prompt)"
   ]
  },
  {
   "cell_type": "code",
   "execution_count": 23,
   "id": "7b1d285b-182c-4e12-a20d-f2e6fcce52f8",
   "metadata": {},
   "outputs": [
    {
     "name": "stdout",
     "output_type": "stream",
     "text": [
      "Example #2:\n",
      "For warm weather and beautiful beaches in December, I would recommend the following destinations:\n",
      "\n",
      "1. Maldives: This tropical paradise offers pristine white-sand beaches, crystal-clear turquoise waters, and luxurious resorts. The Maldives experiences year-round warm temperatures, making it an ideal destination for beach lovers.\n",
      "\n",
      "2. Hawaii, USA: With its stunning beaches, lush landscapes, and diverse marine life, Hawaii is a fantastic choice. The islands of Oahu, Maui, and Kauai offer a mix of relaxation and adventure, along with plenty of warm, sunny days.\n",
      "\n",
      "3. Thailand: Head to the southern islands of Thailand, such as Phuket, Krabi, or Koh Samui, for a beach getaway. These destinations boast stunning beaches, warm waters, and a vibrant local culture. December is also a great time to explore Thailand's stunning national parks and enjoy water activities like snorkeling and diving.\n",
      "\n",
      "4. Costa Rica: With its beautiful coastline on both the Pacific Ocean and the Caribbean Sea, Costa Rica offers a variety of beaches to choose from. Enjoy the warm weather, surf the waves, explore national parks, and indulge in adventure activities like zip-lining and hiking.\n",
      "\n",
      "5. Bali, Indonesia: Bali's tropical climate makes it an excellent destination for warm weather in December. The island is famous for its stunning beaches, lush rice terraces, vibrant culture, and delicious cuisine. Visit popular beach towns like Seminyak, Kuta, or Nusa Dua for a relaxing beach vacation.\n",
      "\n",
      "Remember to check travel restrictions and safety guidelines before planning your trip, as they may vary due to the current global situation.\n"
     ]
    }
   ],
   "source": [
    "result = chain.run(f\"Where should I go on vaction in Decemember for warm weather and beaches?\")\n",
    "print(\"Example #2:\")\n",
    "print(result)"
   ]
  },
  {
   "cell_type": "markdown",
   "id": "7b6723eb",
   "metadata": {},
   "source": [
    "## Chains\n",
    "There are many applications of chains that allow you to combine numerous LLM calls and actions.  <br>\n",
    "\n",
    "### Simple Sequential Chains  <br>\n",
    "Allow you to feed the output of one LLM Chain as input for another."
   ]
  },
  {
   "cell_type": "code",
   "execution_count": 27,
   "id": "af7c236f",
   "metadata": {},
   "outputs": [],
   "source": [
    "from langchain.chains import SimpleSequentialChain"
   ]
  },
  {
   "cell_type": "code",
   "execution_count": 28,
   "id": "2a4a32f0",
   "metadata": {},
   "outputs": [],
   "source": [
    "description_template = \"\"\"Your job is to come up with a fun DIY project for the specified gender, age, and description of a kid.\n",
    "% CHILD_DESCRIPTION\n",
    "{child_description}\n",
    "\n",
    "YOUR RESPONSE:\n",
    "\"\"\"\n",
    "description_prompt_template = PromptTemplate(input_variables=[\"child_description\"], template=description_template)\n",
    "\n",
    "topic_chain = LLMChain(llm=llm, prompt=description_prompt_template)"
   ]
  },
  {
   "cell_type": "code",
   "execution_count": 45,
   "id": "594007cd-a609-4c8d-ac5b-8ab312169dbd",
   "metadata": {},
   "outputs": [
    {
     "data": {
      "text/plain": [
       "LLMChain(prompt=PromptTemplate(input_variables=['child_description'], template='Your job is to come up with a fun DIY project for the specified gender, age, and description of a kid.\\n% CHILD_DESCRIPTION\\n{child_description}\\n\\nYOUR RESPONSE:\\n'), llm=AzureChatOpenAI(client=<openai.resources.chat.completions.Completions object at 0x000001D1E1A0B8D0>, async_client=<openai.resources.chat.completions.AsyncCompletions object at 0x000001D1E1A74110>, openai_api_key='62855d6dd08945819bf83aee0c104127', openai_proxy='', azure_endpoint='https://dskumar.openai.azure.com/', deployment_name='DskumarDeployment', openai_api_version='2023-07-01-preview', openai_api_type='azure'))"
      ]
     },
     "execution_count": 45,
     "metadata": {},
     "output_type": "execute_result"
    }
   ],
   "source": [
    "topic_chain"
   ]
  },
  {
   "cell_type": "code",
   "execution_count": 30,
   "id": "6eec47ff",
   "metadata": {},
   "outputs": [],
   "source": [
    "diy_description_template = \"\"\"Given a DIY project, give a short and simple recipe step-by-step guide on how to complete the project and a materials list.\n",
    "% DIY_PROJECT\n",
    "{diy_project}\n",
    "\n",
    "YOUR RESPONSE:\n",
    "\"\"\"\n",
    "diy_prompt_template = PromptTemplate(input_variables=[\"diy_project\"], template=diy_description_template)\n",
    "\n",
    "description_chain = LLMChain(llm=llm, prompt=diy_prompt_template)"
   ]
  },
  {
   "cell_type": "code",
   "execution_count": 46,
   "id": "f98c1f58-8b12-49a0-b78f-81cf31eac5b0",
   "metadata": {},
   "outputs": [
    {
     "data": {
      "text/plain": [
       "LLMChain(prompt=PromptTemplate(input_variables=['diy_project'], template='Given a DIY project, give a short and simple recipe step-by-step guide on how to complete the project and a materials list.\\n% DIY_PROJECT\\n{diy_project}\\n\\nYOUR RESPONSE:\\n'), llm=AzureChatOpenAI(client=<openai.resources.chat.completions.Completions object at 0x000001D1E1A0B8D0>, async_client=<openai.resources.chat.completions.AsyncCompletions object at 0x000001D1E1A74110>, openai_api_key='62855d6dd08945819bf83aee0c104127', openai_proxy='', azure_endpoint='https://dskumar.openai.azure.com/', deployment_name='DskumarDeployment', openai_api_version='2023-07-01-preview', openai_api_type='azure'))"
      ]
     },
     "execution_count": 46,
     "metadata": {},
     "output_type": "execute_result"
    }
   ],
   "source": [
    "description_chain"
   ]
  },
  {
   "cell_type": "code",
   "execution_count": 38,
   "id": "84a15aea",
   "metadata": {},
   "outputs": [],
   "source": [
    "overall_chain = SimpleSequentialChain(chains=[topic_chain, description_chain, verbose=True)"
   ]
  },
  {
   "cell_type": "code",
   "execution_count": 47,
   "id": "57a950bd-f035-41b2-a776-461274b82429",
   "metadata": {},
   "outputs": [
    {
     "data": {
      "text/plain": [
       "SimpleSequentialChain(verbose=True, chains=[LLMChain(prompt=PromptTemplate(input_variables=['child_description'], template='Your job is to come up with a fun DIY project for the specified gender, age, and description of a kid.\\n% CHILD_DESCRIPTION\\n{child_description}\\n\\nYOUR RESPONSE:\\n'), llm=AzureChatOpenAI(client=<openai.resources.chat.completions.Completions object at 0x000001D1E1A0B8D0>, async_client=<openai.resources.chat.completions.AsyncCompletions object at 0x000001D1E1A74110>, openai_api_key='62855d6dd08945819bf83aee0c104127', openai_proxy='', azure_endpoint='https://dskumar.openai.azure.com/', deployment_name='DskumarDeployment', openai_api_version='2023-07-01-preview', openai_api_type='azure')), LLMChain(prompt=PromptTemplate(input_variables=['diy_project'], template='Given a DIY project, give a short and simple recipe step-by-step guide on how to complete the project and a materials list.\\n% DIY_PROJECT\\n{diy_project}\\n\\nYOUR RESPONSE:\\n'), llm=AzureChatOpenAI(client=<openai.resources.chat.completions.Completions object at 0x000001D1E1A0B8D0>, async_client=<openai.resources.chat.completions.AsyncCompletions object at 0x000001D1E1A74110>, openai_api_key='62855d6dd08945819bf83aee0c104127', openai_proxy='', azure_endpoint='https://dskumar.openai.azure.com/', deployment_name='DskumarDeployment', openai_api_version='2023-07-01-preview', openai_api_type='azure'))])"
      ]
     },
     "execution_count": 47,
     "metadata": {},
     "output_type": "execute_result"
    }
   ],
   "source": [
    "overall_chain"
   ]
  },
  {
   "cell_type": "code",
   "execution_count": 52,
   "id": "15928f72",
   "metadata": {},
   "outputs": [
    {
     "name": "stdout",
     "output_type": "stream",
     "text": [
      "\n",
      "\n",
      "\u001b[1m> Entering new SimpleSequentialChain chain...\u001b[0m\n",
      "\u001b[36;1m\u001b[1;3mDIY Project: Build Your Own Miniature Skate Park\n",
      "\n",
      "Description:\n",
      "For the adventurous and creative 10-year-old boy, a fun DIY project would be to build his very own miniature skate park! This project will allow him to unleash his imagination and create a customized skate park that he can use with his skateboards, fingerboards, or toy cars.\n",
      "\n",
      "Materials Needed:\n",
      "1. Cardboard or foam board\n",
      "2. Craft supplies (markers, colored paper, stickers, etc.)\n",
      "3. Scissors\n",
      "4. Hot glue gun or craft glue\n",
      "5. Small wooden blocks or building blocks\n",
      "6. Small ramps or inclines (can be made from cardboard or foam)\n",
      "7. Optional: Toy skateboards, fingerboards, or toy cars\n",
      "\n",
      "Instructions:\n",
      "1. Start by creating a base for the skate park using a large piece of cardboard or foam board. This will be the foundation on which the ramps and obstacles will be placed.\n",
      "\n",
      "2. Use the scissors to cut out smaller pieces of cardboard or foam board to create ramps, half-pipes, and other skate park features. Be creative with the shapes and sizes to make the skate park more exciting.\n",
      "\n",
      "3. Decorate the ramps and obstacles using markers, colored paper, stickers, or any other craft supplies. Add designs, graffiti, or logos to give the skate park a personalized touch.\n",
      "\n",
      "4. Use the hot glue gun or craft glue to secure the ramps and obstacles onto the base. Make sure they are stable and won't move around while playing with the skate park.\n",
      "\n",
      "5. If you have small wooden blocks or building blocks, you can use them to create additional structures like benches, stairs, or rails. Glue them onto the base or attach them to the ramps to create more challenging obstacles.\n",
      "\n",
      "6. Add any additional details or accessories you'd like, such as small toy skateboards, fingerboards, or toy cars to bring the skate park to life.\n",
      "\n",
      "7. Once everything is securely in place, let your creativity run wild and enjoy using your new DIY miniature skate park! You can test out different tricks, set up challenges, or invite friends over for some friendly competition.\n",
      "\n",
      "Remember, safety is essential, so make sure to wear protective gear like helmets and knee pads while using the skate park. Have fun and keep exploring new ways to enhance your skate park with additional features or modifications!\u001b[0m\n",
      "\u001b[33;1m\u001b[1;3mMaterials Needed:\n",
      "1. Cardboard or foam board\n",
      "2. Craft supplies (markers, colored paper, stickers, etc.)\n",
      "3. Scissors\n",
      "4. Hot glue gun or craft glue\n",
      "5. Small wooden blocks or building blocks\n",
      "6. Small ramps or inclines (can be made from cardboard or foam)\n",
      "7. Optional: Toy skateboards, fingerboards, or toy cars\n",
      "\n",
      "Instructions:\n",
      "1. Create a base for the skate park using a large piece of cardboard or foam board.\n",
      "2. Cut smaller pieces of cardboard or foam board to create ramps, half-pipes, and other skate park features.\n",
      "3. Decorate the ramps and obstacles using markers, colored paper, stickers, or other craft supplies.\n",
      "4. Secure the ramps and obstacles onto the base using a hot glue gun or craft glue.\n",
      "5. Use small wooden blocks or building blocks to create additional structures like benches, stairs, or rails.\n",
      "6. Glue the additional structures onto the base or attach them to the ramps for more challenging obstacles.\n",
      "7. Add any additional details or accessories, such as toy skateboards, fingerboards, or toy cars.\n",
      "8. Ensure everything is securely in place and enjoy using your DIY miniature skate park.\n",
      "9. Remember to wear protective gear like helmets and knee pads while using the skate park for safety.\n",
      "10. Have fun and continue to explore ways to enhance your skate park with additional features or modifications.\u001b[0m\n",
      "\n",
      "\u001b[1m> Finished chain.\u001b[0m\n"
     ]
    }
   ],
   "source": [
    "review = overall_chain.run(\"10-year-old boy\")"
   ]
  },
  {
   "cell_type": "code",
   "execution_count": 53,
   "id": "513e247c-06d4-4f29-a93e-894c2cf471a9",
   "metadata": {},
   "outputs": [
    {
     "name": "stdout",
     "output_type": "stream",
     "text": [
      "Materials Needed:\n",
      "1. Cardboard or foam board\n",
      "2. Craft supplies (markers, colored paper, stickers, etc.)\n",
      "3. Scissors\n",
      "4. Hot glue gun or craft glue\n",
      "5. Small wooden blocks or building blocks\n",
      "6. Small ramps or inclines (can be made from cardboard or foam)\n",
      "7. Optional: Toy skateboards, fingerboards, or toy cars\n",
      "\n",
      "Instructions:\n",
      "1. Create a base for the skate park using a large piece of cardboard or foam board.\n",
      "2. Cut smaller pieces of cardboard or foam board to create ramps, half-pipes, and other skate park features.\n",
      "3. Decorate the ramps and obstacles using markers, colored paper, stickers, or other craft supplies.\n",
      "4. Secure the ramps and obstacles onto the base using a hot glue gun or craft glue.\n",
      "5. Use small wooden blocks or building blocks to create additional structures like benches, stairs, or rails.\n",
      "6. Glue the additional structures onto the base or attach them to the ramps for more challenging obstacles.\n",
      "7. Add any additional details or accessories, such as toy skateboards, fingerboards, or toy cars.\n",
      "8. Ensure everything is securely in place and enjoy using your DIY miniature skate park.\n",
      "9. Remember to wear protective gear like helmets and knee pads while using the skate park for safety.\n",
      "10. Have fun and continue to explore ways to enhance your skate park with additional features or modifications.\n"
     ]
    }
   ],
   "source": [
    "print(review)"
   ]
  },
  {
   "cell_type": "code",
   "execution_count": null,
   "id": "126e87e3-6379-4622-82e0-a390e13db8c1",
   "metadata": {},
   "outputs": [],
   "source": []
  }
 ],
 "metadata": {
  "kernelspec": {
   "display_name": "Python 3 (ipykernel)",
   "language": "python",
   "name": "python3"
  },
  "language_info": {
   "codemirror_mode": {
    "name": "ipython",
    "version": 3
   },
   "file_extension": ".py",
   "mimetype": "text/x-python",
   "name": "python",
   "nbconvert_exporter": "python",
   "pygments_lexer": "ipython3",
   "version": "3.11.7"
  }
 },
 "nbformat": 4,
 "nbformat_minor": 5
}
