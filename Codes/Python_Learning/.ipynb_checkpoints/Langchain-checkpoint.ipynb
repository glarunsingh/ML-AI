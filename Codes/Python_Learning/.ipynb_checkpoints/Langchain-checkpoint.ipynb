{
 "cells": [
  {
   "cell_type": "code",
   "execution_count": null,
   "id": "a7cf84be-cbfe-4381-b9a0-9cda6a97b266",
   "metadata": {},
   "outputs": [],
   "source": [
    "#!pip install langchain\n",
    "#!pip install openai\n",
    "#!pip install -U langchain-openai"
   ]
  },
  {
   "cell_type": "code",
   "execution_count": 2,
   "id": "7e4ed245-ade3-4cb9-b102-b3ebce0b237c",
   "metadata": {},
   "outputs": [],
   "source": [
    "import os\n",
    "\n",
    "from secret_key import openapi_key\n",
    "os.environ['OPENAI_API_KEY'] = openapi_key"
   ]
  },
  {
   "cell_type": "code",
   "execution_count": 11,
   "id": "724098b9-3959-4618-86cc-6476427fe295",
   "metadata": {},
   "outputs": [
    {
     "name": "stdout",
     "output_type": "stream",
     "text": [
      "\n",
      "\n",
      "1. Spice Route\n",
      "2. Tandoori Temptations\n",
      "3. Curry Corner\n",
      "4. The Indian Kitchen\n",
      "5. Masala Magic\n",
      "6. Flavors of India\n",
      "7. Naan Stop\n",
      "8. Chai and Chaat\n",
      "9. Biryani Bazaar\n",
      "10. Saffron Sizzle\n",
      "11. The Curry House\n",
      "12. Garam Masala\n",
      "13. Samosa Shack\n",
      "14. Taste of India\n",
      "15. The Indian Pot\n",
      "16. Dosa Delight\n",
      "17. Chutney Chronicles\n",
      "18. The Tandoor House\n",
      "19. Bombay Bites\n",
      "20. Namaste India.\n"
     ]
    }
   ],
   "source": [
    "#from langchain.llms import OpenAI\n",
    "from langchain_openai import OpenAI\n",
    "\n",
    "llm = OpenAI(temperature = 0.6)\n",
    "name = llm(\"I want to open a restaurant for indian food. Suggest some names\")\n",
    "print(name)"
   ]
  },
  {
   "cell_type": "code",
   "execution_count": 9,
   "id": "31326a19-5b1f-4f9b-9942-c5ab07cc1bba",
   "metadata": {},
   "outputs": [
    {
     "name": "stdout",
     "output_type": "stream",
     "text": [
      "Defaulting to user installation because normal site-packages is not writeable\n",
      "Collecting langchain-openai\n",
      "  Downloading langchain_openai-0.1.2-py3-none-any.whl.metadata (2.5 kB)\n",
      "Requirement already satisfied: langchain-core<0.2.0,>=0.1.41 in c:\\users\\janu\\appdata\\roaming\\python\\python311\\site-packages (from langchain-openai) (0.1.41)\n",
      "Requirement already satisfied: openai<2.0.0,>=1.10.0 in c:\\users\\janu\\appdata\\roaming\\python\\python311\\site-packages (from langchain-openai) (1.16.2)\n",
      "Requirement already satisfied: tiktoken<1,>=0.5.2 in c:\\users\\janu\\appdata\\roaming\\python\\python311\\site-packages (from langchain-openai) (0.6.0)\n",
      "Requirement already satisfied: PyYAML>=5.3 in c:\\programdata\\anaconda3\\lib\\site-packages (from langchain-core<0.2.0,>=0.1.41->langchain-openai) (6.0.1)\n",
      "Requirement already satisfied: jsonpatch<2.0,>=1.33 in c:\\users\\janu\\appdata\\roaming\\python\\python311\\site-packages (from langchain-core<0.2.0,>=0.1.41->langchain-openai) (1.33)\n",
      "Requirement already satisfied: langsmith<0.2.0,>=0.1.0 in c:\\users\\janu\\appdata\\roaming\\python\\python311\\site-packages (from langchain-core<0.2.0,>=0.1.41->langchain-openai) (0.1.43)\n",
      "Requirement already satisfied: packaging<24.0,>=23.2 in c:\\users\\janu\\appdata\\roaming\\python\\python311\\site-packages (from langchain-core<0.2.0,>=0.1.41->langchain-openai) (23.2)\n",
      "Requirement already satisfied: pydantic<3,>=1 in c:\\programdata\\anaconda3\\lib\\site-packages (from langchain-core<0.2.0,>=0.1.41->langchain-openai) (1.10.12)\n",
      "Requirement already satisfied: tenacity<9.0.0,>=8.1.0 in c:\\programdata\\anaconda3\\lib\\site-packages (from langchain-core<0.2.0,>=0.1.41->langchain-openai) (8.2.2)\n",
      "Requirement already satisfied: anyio<5,>=3.5.0 in c:\\programdata\\anaconda3\\lib\\site-packages (from openai<2.0.0,>=1.10.0->langchain-openai) (4.2.0)\n",
      "Requirement already satisfied: distro<2,>=1.7.0 in c:\\programdata\\anaconda3\\lib\\site-packages (from openai<2.0.0,>=1.10.0->langchain-openai) (1.8.0)\n",
      "Requirement already satisfied: httpx<1,>=0.23.0 in c:\\users\\janu\\appdata\\roaming\\python\\python311\\site-packages (from openai<2.0.0,>=1.10.0->langchain-openai) (0.27.0)\n",
      "Requirement already satisfied: sniffio in c:\\programdata\\anaconda3\\lib\\site-packages (from openai<2.0.0,>=1.10.0->langchain-openai) (1.3.0)\n",
      "Requirement already satisfied: tqdm>4 in c:\\users\\janu\\appdata\\roaming\\python\\python311\\site-packages (from openai<2.0.0,>=1.10.0->langchain-openai) (4.66.2)\n",
      "Requirement already satisfied: typing-extensions<5,>=4.7 in c:\\programdata\\anaconda3\\lib\\site-packages (from openai<2.0.0,>=1.10.0->langchain-openai) (4.9.0)\n",
      "Requirement already satisfied: regex>=2022.1.18 in c:\\programdata\\anaconda3\\lib\\site-packages (from tiktoken<1,>=0.5.2->langchain-openai) (2023.10.3)\n",
      "Requirement already satisfied: requests>=2.26.0 in c:\\programdata\\anaconda3\\lib\\site-packages (from tiktoken<1,>=0.5.2->langchain-openai) (2.31.0)\n",
      "Requirement already satisfied: idna>=2.8 in c:\\programdata\\anaconda3\\lib\\site-packages (from anyio<5,>=3.5.0->openai<2.0.0,>=1.10.0->langchain-openai) (3.4)\n",
      "Requirement already satisfied: certifi in c:\\programdata\\anaconda3\\lib\\site-packages (from httpx<1,>=0.23.0->openai<2.0.0,>=1.10.0->langchain-openai) (2024.2.2)\n",
      "Requirement already satisfied: httpcore==1.* in c:\\users\\janu\\appdata\\roaming\\python\\python311\\site-packages (from httpx<1,>=0.23.0->openai<2.0.0,>=1.10.0->langchain-openai) (1.0.5)\n",
      "Requirement already satisfied: h11<0.15,>=0.13 in c:\\users\\janu\\appdata\\roaming\\python\\python311\\site-packages (from httpcore==1.*->httpx<1,>=0.23.0->openai<2.0.0,>=1.10.0->langchain-openai) (0.14.0)\n",
      "Requirement already satisfied: jsonpointer>=1.9 in c:\\programdata\\anaconda3\\lib\\site-packages (from jsonpatch<2.0,>=1.33->langchain-core<0.2.0,>=0.1.41->langchain-openai) (2.1)\n",
      "Requirement already satisfied: orjson<4.0.0,>=3.9.14 in c:\\users\\janu\\appdata\\roaming\\python\\python311\\site-packages (from langsmith<0.2.0,>=0.1.0->langchain-core<0.2.0,>=0.1.41->langchain-openai) (3.10.0)\n",
      "Requirement already satisfied: charset-normalizer<4,>=2 in c:\\programdata\\anaconda3\\lib\\site-packages (from requests>=2.26.0->tiktoken<1,>=0.5.2->langchain-openai) (2.0.4)\n",
      "Requirement already satisfied: urllib3<3,>=1.21.1 in c:\\programdata\\anaconda3\\lib\\site-packages (from requests>=2.26.0->tiktoken<1,>=0.5.2->langchain-openai) (2.0.7)\n",
      "Requirement already satisfied: colorama in c:\\programdata\\anaconda3\\lib\\site-packages (from tqdm>4->openai<2.0.0,>=1.10.0->langchain-openai) (0.4.6)\n",
      "Downloading langchain_openai-0.1.2-py3-none-any.whl (33 kB)\n",
      "Installing collected packages: langchain-openai\n",
      "Successfully installed langchain-openai-0.1.2\n"
     ]
    }
   ],
   "source": []
  },
  {
   "cell_type": "code",
   "execution_count": null,
   "id": "22e363ee-c0c8-4a31-a8a9-9206c03daef8",
   "metadata": {},
   "outputs": [],
   "source": []
  }
 ],
 "metadata": {
  "kernelspec": {
   "display_name": "Python 3 (ipykernel)",
   "language": "python",
   "name": "python3"
  },
  "language_info": {
   "codemirror_mode": {
    "name": "ipython",
    "version": 3
   },
   "file_extension": ".py",
   "mimetype": "text/x-python",
   "name": "python",
   "nbconvert_exporter": "python",
   "pygments_lexer": "ipython3",
   "version": "3.11.7"
  }
 },
 "nbformat": 4,
 "nbformat_minor": 5
}
