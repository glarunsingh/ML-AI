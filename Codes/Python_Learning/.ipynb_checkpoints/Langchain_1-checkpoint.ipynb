{
 "cells": [
  {
   "cell_type": "code",
   "execution_count": null,
   "id": "a7cf84be-cbfe-4381-b9a0-9cda6a97b266",
   "metadata": {},
   "outputs": [],
   "source": [
    "#!pip install langchain\n",
    "#!pip install openai\n",
    "#!pip install -U langchain-openai"
   ]
  },
  {
   "cell_type": "code",
   "execution_count": 1,
   "id": "7e4ed245-ade3-4cb9-b102-b3ebce0b237c",
   "metadata": {},
   "outputs": [],
   "source": [
    "import os\n",
    "\n",
    "from secret_key import openapi_key\n",
    "os.environ['OPENAI_API_KEY'] = openapi_key"
   ]
  },
  {
   "cell_type": "code",
   "execution_count": 2,
   "id": "724098b9-3959-4618-86cc-6476427fe295",
   "metadata": {},
   "outputs": [
    {
     "name": "stdout",
     "output_type": "stream",
     "text": [
      "\n",
      "\n",
      "\"Spice Haven\"\n"
     ]
    }
   ],
   "source": [
    "#from langchain.llms import OpenAI\n",
    "from langchain_openai import OpenAI\n",
    "\n",
    "llm = OpenAI(temperature = 0.6)\n",
    "name = llm(\"I want to open a restaurant for indian food. Suggest a name.\")\n",
    "print(name)"
   ]
  },
  {
   "cell_type": "code",
   "execution_count": 3,
   "id": "22e363ee-c0c8-4a31-a8a9-9206c03daef8",
   "metadata": {},
   "outputs": [
    {
     "data": {
      "text/plain": [
       "'I want to open a restaurant for Mexican food. Suggest a name.'"
      ]
     },
     "execution_count": 3,
     "metadata": {},
     "output_type": "execute_result"
    }
   ],
   "source": [
    "from langchain.prompts import PromptTemplate\n",
    "\n",
    "prompt_template_name = PromptTemplate(\n",
    "    input_variables = ['cuisine'],\n",
    "    template = 'I want to open a restaurant for {cuisine} food. Suggest a name.'\n",
    ")\n",
    "\n",
    "prompt_template_name.format(cuisine = 'Mexican')"
   ]
  },
  {
   "cell_type": "markdown",
   "id": "67dded47-d84d-4770-8478-a6ad9077fd43",
   "metadata": {},
   "source": [
    "### Creating Chains"
   ]
  },
  {
   "cell_type": "code",
   "execution_count": 6,
   "id": "e90365f3-3508-4cd5-b3b0-e1b655a8f214",
   "metadata": {},
   "outputs": [
    {
     "data": {
      "text/plain": [
       "'\\n\\n\"Spice Junction\" '"
      ]
     },
     "execution_count": 6,
     "metadata": {},
     "output_type": "execute_result"
    }
   ],
   "source": [
    "from langchain.chains import LLMChain\n",
    "\n",
    "chain = LLMChain(prompt=prompt_template_name, llm=llm)\n",
    "chain.run(\"Indian\")"
   ]
  },
  {
   "cell_type": "markdown",
   "id": "d9330d65-bbfe-4cef-a368-6a606d44ba89",
   "metadata": {},
   "source": [
    "### Simple Sequential Chain\n",
    "returns One Output"
   ]
  },
  {
   "cell_type": "code",
   "execution_count": 12,
   "id": "613ba6c3-c62c-48ea-b260-f3bcc973a3df",
   "metadata": {},
   "outputs": [],
   "source": [
    "#Creating two chains \n",
    "#1st chain \n",
    "prompt_template_name = PromptTemplate(\n",
    "    input_variables = ['cuisine'],\n",
    "    template = 'I want to open a restaurant for {cuisine} food. Suggest a name.'\n",
    ")\n",
    "\n",
    "name_chain = LLMChain(prompt=prompt_template_name, llm=llm)\n",
    "\n",
    "#creating 2nd chain\n",
    "prompt_template_list = PromptTemplate(\n",
    "    input_variables = ['restaurant_name'],\n",
    "    template = 'Suggest some menu items for {restaurant_name}. Return it as a comma separated list.'\n",
    ")\n",
    "\n",
    "food_items_chain = LLMChain(prompt=prompt_template_list, llm=llm)"
   ]
  },
  {
   "cell_type": "code",
   "execution_count": 14,
   "id": "82578a49-d1fb-4258-b2ca-51ddfa997ba7",
   "metadata": {},
   "outputs": [
    {
     "name": "stdout",
     "output_type": "stream",
     "text": [
      "\n",
      "\n",
      "1. Royal Beef Wellington\n",
      "2. Crown Jewel Salad with Pomegranate Vinaigrette\n",
      "3. Regal Lobster Thermidor\n",
      "4. Majestic Chicken Cordon Bleu\n",
      "5. Noble Baked Alaska\n",
      "6. Palace Pasta Carbonara\n",
      "7. Sovereign Seafood Platter\n",
      "8. Imperial Grilled Lamb Chops\n",
      "9. Aristocratic Asparagus Risotto\n",
      "10. Monarch's Chocolate Truffle Cake\n"
     ]
    }
   ],
   "source": [
    "#Output of 1st chain is the input of 2nd chain. \n",
    "\n",
    "from langchain.chains import SimpleSequentialChain\n",
    "chain = SimpleSequentialChain(chains = [name_chain, food_items_chain])\n",
    "response = chain.run('english')\n",
    "print(response)"
   ]
  },
  {
   "cell_type": "markdown",
   "id": "162b61dc-3f31-4548-9228-dfecb0444b42",
   "metadata": {},
   "source": [
    "### Sequential chain\n",
    "\n",
    "*Can give multiple inputs and multiple outputs*"
   ]
  },
  {
   "cell_type": "code",
   "execution_count": 42,
   "id": "a9af218b-81e1-425b-a5b6-903b5001c1c4",
   "metadata": {},
   "outputs": [],
   "source": [
    "llm = OpenAI(temperature=0.8)\n",
    "\n",
    "prompt_template_name = PromptTemplate(\n",
    "    input_variables=['cuisine'],\n",
    "    template='I want to open a restaurant for {cuisine} food. Suggest a name.'                     \n",
    ")\n",
    "\n",
    "name_chain = LLMChain(prompt=prompt_template_name, llm=llm, output_key='res_name')"
   ]
  },
  {
   "cell_type": "code",
   "execution_count": 43,
   "id": "cc837729-a3b6-4b17-808f-6b79cd1f019f",
   "metadata": {},
   "outputs": [],
   "source": [
    "llm = OpenAI(temperature=0.8)\n",
    "\n",
    "prompt_template_items = PromptTemplate(\n",
    "    input_variables=['res_name'],\n",
    "    template='Suggest some menu items for {res_name}. Return it as a comma separated list.'                     \n",
    ")\n",
    "\n",
    "food_items_chain = LLMChain(prompt=prompt_template_items, llm=llm, output_key='menu_items')"
   ]
  },
  {
   "cell_type": "code",
   "execution_count": 46,
   "id": "f28928a1-a7e9-4c94-b22b-c6d91130cde7",
   "metadata": {},
   "outputs": [
    {
     "name": "stdout",
     "output_type": "stream",
     "text": [
      "{'cuisine': 'Arabic', 'restaurant_name': \"\\nSultan's Palace \", 'menu_items': '\\n\\n1. Chicken Shawarma Plate - marinated grilled chicken served with rice, hummus, pita bread, and salad\\n2. Lamb Kebab Skewers - tender chunks of lamb seasoned and grilled to perfection\\n3. Falafel Platter - crispy falafel balls served with tahini sauce, tabbouleh, and pita bread\\n4. Vegetable Tagine - slow-cooked stew of mixed vegetables in a savory tomato-based sauce\\n5. Shish Tawook - grilled chicken breast marinated in a blend of Middle Eastern spices\\n6. Beef Kofta - ground beef mixed with herbs and spices, shaped into patties and grilled\\n7. Mezze Platter - a selection of small dishes including hummus, baba ghanoush, stuffed grape leaves, and olives\\n8. Chicken Mansaf - traditional Jordanian dish of chicken cooked in a yogurt sauce and served over rice \\n9. Mixed Grill Platter - a combination of lamb, chicken, and beef kabobs served with rice, grilled vegetables, and a side of tzatziki sauce\\n10. Baklava - sweet and flaky pastry filled with pistachios and honey, a perfect ending to any meal.'}\n"
     ]
    }
   ],
   "source": [
    "from langchain.chains import SequentialChain\n",
    "\n",
    "SequentialChain(\n",
    "    chains=[name_chain, food_items_chain],\n",
    "    input_variables = ['cuisine'],\n",
    "    output_variables = ['res_name', 'menu_items']    \n",
    ")\n",
    "\n",
    "print(chain({'cuisine':'Arabic'}))"
   ]
  },
  {
   "cell_type": "code",
   "execution_count": 21,
   "id": "9852d4ca-486a-4550-bd55-f52bf2c7d91b",
   "metadata": {},
   "outputs": [],
   "source": []
  },
  {
   "cell_type": "code",
   "execution_count": 49,
   "id": "6bd9d4bb-0995-4f01-9516-93000dfd3531",
   "metadata": {},
   "outputs": [
    {
     "name": "stdout",
     "output_type": "stream",
     "text": [
      "pip 23.3.1 from C:\\ProgramData\\anaconda3\\Lib\\site-packages\\pip (python 3.11)\n",
      "\n",
      "Note: you may need to restart the kernel to use updated packages.\n"
     ]
    }
   ],
   "source": [
    "pip --version"
   ]
  },
  {
   "cell_type": "markdown",
   "id": "d856fd6d-4dfe-4fb8-958e-e0b3f9e4112e",
   "metadata": {},
   "source": [
    "# Agents"
   ]
  },
  {
   "cell_type": "code",
   "execution_count": 4,
   "id": "035a4880-70a6-4558-9594-10b661553547",
   "metadata": {},
   "outputs": [],
   "source": [
    "import os\n",
    "\n",
    "from secret_key import openapi_key\n",
    "os.environ['OPENAI_API_KEY'] = openapi_key"
   ]
  },
  {
   "cell_type": "code",
   "execution_count": 5,
   "id": "e1f8c789-f626-4df8-8b30-0be87a734ef6",
   "metadata": {},
   "outputs": [],
   "source": [
    "from langchain.agents import AgentType, initialize_agent, load_tools\n",
    "from langchain.llms import OpenAI"
   ]
  },
  {
   "cell_type": "code",
   "execution_count": 6,
   "id": "ef8048f6-011e-4235-8d49-62a1000ce7fc",
   "metadata": {},
   "outputs": [
    {
     "ename": "ImportError",
     "evalue": "Could not import wikipedia python package. Please install it with `pip install wikipedia`.",
     "output_type": "error",
     "traceback": [
      "\u001b[1;31m---------------------------------------------------------------------------\u001b[0m",
      "\u001b[1;31mModuleNotFoundError\u001b[0m                       Traceback (most recent call last)",
      "File \u001b[1;32m~\\AppData\\Roaming\\Python\\Python311\\site-packages\\langchain_community\\utilities\\wikipedia.py:33\u001b[0m, in \u001b[0;36mWikipediaAPIWrapper.validate_environment\u001b[1;34m(cls, values)\u001b[0m\n\u001b[0;32m     32\u001b[0m \u001b[38;5;28;01mtry\u001b[39;00m:\n\u001b[1;32m---> 33\u001b[0m     \u001b[38;5;28;01mimport\u001b[39;00m \u001b[38;5;21;01mwikipedia\u001b[39;00m\n\u001b[0;32m     35\u001b[0m     wikipedia\u001b[38;5;241m.\u001b[39mset_lang(values[\u001b[38;5;124m\"\u001b[39m\u001b[38;5;124mlang\u001b[39m\u001b[38;5;124m\"\u001b[39m])\n",
      "\u001b[1;31mModuleNotFoundError\u001b[0m: No module named 'wikipedia'",
      "\nDuring handling of the above exception, another exception occurred:\n",
      "\u001b[1;31mImportError\u001b[0m                               Traceback (most recent call last)",
      "Cell \u001b[1;32mIn[6], line 1\u001b[0m\n\u001b[1;32m----> 1\u001b[0m tools \u001b[38;5;241m=\u001b[39m load_tools(\n\u001b[0;32m      2\u001b[0m     tool_names\u001b[38;5;241m=\u001b[39m[\u001b[38;5;124m\"\u001b[39m\u001b[38;5;124mwikipedia\u001b[39m\u001b[38;5;124m\"\u001b[39m, \u001b[38;5;124m\"\u001b[39m\u001b[38;5;124mllm.math\u001b[39m\u001b[38;5;124m\"\u001b[39m],\n\u001b[0;32m      3\u001b[0m     llm\u001b[38;5;241m=\u001b[39m OpenAI(temperature\u001b[38;5;241m=\u001b[39m\u001b[38;5;241m0.8\u001b[39m)\n\u001b[0;32m      4\u001b[0m           )\n",
      "File \u001b[1;32m~\\AppData\\Roaming\\Python\\Python311\\site-packages\\langchain\\agents\\load_tools.py:681\u001b[0m, in \u001b[0;36mload_tools\u001b[1;34m(tool_names, llm, callbacks, allow_dangerous_tools, **kwargs)\u001b[0m\n\u001b[0;32m    679\u001b[0m     _get_tool_func, extra_keys \u001b[38;5;241m=\u001b[39m _EXTRA_OPTIONAL_TOOLS[name]\n\u001b[0;32m    680\u001b[0m     sub_kwargs \u001b[38;5;241m=\u001b[39m {k: kwargs[k] \u001b[38;5;28;01mfor\u001b[39;00m k \u001b[38;5;129;01min\u001b[39;00m extra_keys \u001b[38;5;28;01mif\u001b[39;00m k \u001b[38;5;129;01min\u001b[39;00m kwargs}\n\u001b[1;32m--> 681\u001b[0m     tool \u001b[38;5;241m=\u001b[39m _get_tool_func(\u001b[38;5;241m*\u001b[39m\u001b[38;5;241m*\u001b[39msub_kwargs)\n\u001b[0;32m    682\u001b[0m     tools\u001b[38;5;241m.\u001b[39mappend(tool)\n\u001b[0;32m    683\u001b[0m \u001b[38;5;28;01melse\u001b[39;00m:\n",
      "File \u001b[1;32m~\\AppData\\Roaming\\Python\\Python311\\site-packages\\langchain\\agents\\load_tools.py:276\u001b[0m, in \u001b[0;36m_get_wikipedia\u001b[1;34m(**kwargs)\u001b[0m\n\u001b[0;32m    275\u001b[0m \u001b[38;5;28;01mdef\u001b[39;00m \u001b[38;5;21m_get_wikipedia\u001b[39m(\u001b[38;5;241m*\u001b[39m\u001b[38;5;241m*\u001b[39mkwargs: Any) \u001b[38;5;241m-\u001b[39m\u001b[38;5;241m>\u001b[39m BaseTool:\n\u001b[1;32m--> 276\u001b[0m     \u001b[38;5;28;01mreturn\u001b[39;00m WikipediaQueryRun(api_wrapper\u001b[38;5;241m=\u001b[39mWikipediaAPIWrapper(\u001b[38;5;241m*\u001b[39m\u001b[38;5;241m*\u001b[39mkwargs))\n",
      "File \u001b[1;32mC:\\ProgramData\\anaconda3\\Lib\\site-packages\\pydantic\\main.py:339\u001b[0m, in \u001b[0;36mpydantic.main.BaseModel.__init__\u001b[1;34m()\u001b[0m\n",
      "File \u001b[1;32mC:\\ProgramData\\anaconda3\\Lib\\site-packages\\pydantic\\main.py:1102\u001b[0m, in \u001b[0;36mpydantic.main.validate_model\u001b[1;34m()\u001b[0m\n",
      "File \u001b[1;32m~\\AppData\\Roaming\\Python\\Python311\\site-packages\\langchain_community\\utilities\\wikipedia.py:38\u001b[0m, in \u001b[0;36mWikipediaAPIWrapper.validate_environment\u001b[1;34m(cls, values)\u001b[0m\n\u001b[0;32m     36\u001b[0m     values[\u001b[38;5;124m\"\u001b[39m\u001b[38;5;124mwiki_client\u001b[39m\u001b[38;5;124m\"\u001b[39m] \u001b[38;5;241m=\u001b[39m wikipedia\n\u001b[0;32m     37\u001b[0m \u001b[38;5;28;01mexcept\u001b[39;00m \u001b[38;5;167;01mImportError\u001b[39;00m:\n\u001b[1;32m---> 38\u001b[0m     \u001b[38;5;28;01mraise\u001b[39;00m \u001b[38;5;167;01mImportError\u001b[39;00m(\n\u001b[0;32m     39\u001b[0m         \u001b[38;5;124m\"\u001b[39m\u001b[38;5;124mCould not import wikipedia python package. \u001b[39m\u001b[38;5;124m\"\u001b[39m\n\u001b[0;32m     40\u001b[0m         \u001b[38;5;124m\"\u001b[39m\u001b[38;5;124mPlease install it with `pip install wikipedia`.\u001b[39m\u001b[38;5;124m\"\u001b[39m\n\u001b[0;32m     41\u001b[0m     )\n\u001b[0;32m     42\u001b[0m \u001b[38;5;28;01mreturn\u001b[39;00m values\n",
      "\u001b[1;31mImportError\u001b[0m: Could not import wikipedia python package. Please install it with `pip install wikipedia`."
     ]
    }
   ],
   "source": [
    "tools = load_tools(\n",
    "    tool_names=[\"Wikipedia\", \"llm.math\"],\n",
    "    llm= OpenAI(temperature=0.8)\n",
    "          )"
   ]
  },
  {
   "cell_type": "code",
   "execution_count": null,
   "id": "c142fb00-675f-4ca7-ba03-65b7f0f3fdf3",
   "metadata": {},
   "outputs": [],
   "source": []
  }
 ],
 "metadata": {
  "kernelspec": {
   "display_name": "Python 3 (ipykernel)",
   "language": "python",
   "name": "python3"
  },
  "language_info": {
   "codemirror_mode": {
    "name": "ipython",
    "version": 3
   },
   "file_extension": ".py",
   "mimetype": "text/x-python",
   "name": "python",
   "nbconvert_exporter": "python",
   "pygments_lexer": "ipython3",
   "version": "3.11.7"
  }
 },
 "nbformat": 4,
 "nbformat_minor": 5
}
