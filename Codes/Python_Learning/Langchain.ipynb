{
 "cells": [
  {
   "cell_type": "code",
   "execution_count": null,
   "id": "a7cf84be-cbfe-4381-b9a0-9cda6a97b266",
   "metadata": {},
   "outputs": [],
   "source": [
    "#!pip install langchain\n",
    "#!pip install openai\n",
    "#!pip install -U langchain-openai"
   ]
  },
  {
   "cell_type": "code",
   "execution_count": 1,
   "id": "7e4ed245-ade3-4cb9-b102-b3ebce0b237c",
   "metadata": {},
   "outputs": [],
   "source": [
    "import os\n",
    "\n",
    "from secret_key import openapi_key\n",
    "os.environ['OPENAI_API_KEY'] = openapi_key"
   ]
  },
  {
   "cell_type": "code",
   "execution_count": 2,
   "id": "724098b9-3959-4618-86cc-6476427fe295",
   "metadata": {},
   "outputs": [
    {
     "name": "stdout",
     "output_type": "stream",
     "text": [
      "\n",
      "\n",
      "\"Spice Haven\"\n"
     ]
    }
   ],
   "source": [
    "#from langchain.llms import OpenAI\n",
    "from langchain_openai import OpenAI\n",
    "\n",
    "llm = OpenAI(temperature = 0.6)\n",
    "name = llm(\"I want to open a restaurant for indian food. Suggest a name.\")\n",
    "print(name)"
   ]
  },
  {
   "cell_type": "code",
   "execution_count": 3,
   "id": "22e363ee-c0c8-4a31-a8a9-9206c03daef8",
   "metadata": {},
   "outputs": [
    {
     "data": {
      "text/plain": [
       "'I want to open a restaurant for Mexican food. Suggest a name.'"
      ]
     },
     "execution_count": 3,
     "metadata": {},
     "output_type": "execute_result"
    }
   ],
   "source": [
    "from langchain.prompts import PromptTemplate\n",
    "\n",
    "prompt_template_name = PromptTemplate(\n",
    "    input_variables = ['cuisine'],\n",
    "    template = 'I want to open a restaurant for {cuisine} food. Suggest a name.'\n",
    ")\n",
    "\n",
    "prompt_template_name.format(cuisine = 'Mexican')"
   ]
  },
  {
   "cell_type": "markdown",
   "id": "67dded47-d84d-4770-8478-a6ad9077fd43",
   "metadata": {},
   "source": [
    "### Creating Chains"
   ]
  },
  {
   "cell_type": "code",
   "execution_count": 6,
   "id": "e90365f3-3508-4cd5-b3b0-e1b655a8f214",
   "metadata": {},
   "outputs": [
    {
     "data": {
      "text/plain": [
       "'\\n\\n\"Spice Junction\" '"
      ]
     },
     "execution_count": 6,
     "metadata": {},
     "output_type": "execute_result"
    }
   ],
   "source": [
    "from langchain.chains import LLMChain\n",
    "\n",
    "chain = LLMChain(prompt=prompt_template_name, llm=llm)\n",
    "chain.run(\"Indian\")"
   ]
  },
  {
   "cell_type": "markdown",
   "id": "d9330d65-bbfe-4cef-a368-6a606d44ba89",
   "metadata": {},
   "source": [
    "### Simple Sequential Chain\n",
    "returns One Output"
   ]
  },
  {
   "cell_type": "code",
   "execution_count": 12,
   "id": "613ba6c3-c62c-48ea-b260-f3bcc973a3df",
   "metadata": {},
   "outputs": [],
   "source": [
    "#Creating two chains \n",
    "#1st chain \n",
    "prompt_template_name = PromptTemplate(\n",
    "    input_variables = ['cuisine'],\n",
    "    template = 'I want to open a restaurant for {cuisine} food. Suggest a name.'\n",
    ")\n",
    "\n",
    "name_chain = LLMChain(prompt=prompt_template_name, llm=llm)\n",
    "\n",
    "#creating 2nd chain\n",
    "prompt_template_list = PromptTemplate(\n",
    "    input_variables = ['restaurant_name'],\n",
    "    template = 'Suggest some menu items for {restaurant_name}. Return it as a comma separated list.'\n",
    ")\n",
    "\n",
    "food_items_chain = LLMChain(prompt=prompt_template_list, llm=llm)"
   ]
  },
  {
   "cell_type": "code",
   "execution_count": 14,
   "id": "82578a49-d1fb-4258-b2ca-51ddfa997ba7",
   "metadata": {},
   "outputs": [
    {
     "name": "stdout",
     "output_type": "stream",
     "text": [
      "\n",
      "\n",
      "1. Royal Beef Wellington\n",
      "2. Crown Jewel Salad with Pomegranate Vinaigrette\n",
      "3. Regal Lobster Thermidor\n",
      "4. Majestic Chicken Cordon Bleu\n",
      "5. Noble Baked Alaska\n",
      "6. Palace Pasta Carbonara\n",
      "7. Sovereign Seafood Platter\n",
      "8. Imperial Grilled Lamb Chops\n",
      "9. Aristocratic Asparagus Risotto\n",
      "10. Monarch's Chocolate Truffle Cake\n"
     ]
    }
   ],
   "source": [
    "#Output of 1st chain is the input of 2nd chain. \n",
    "\n",
    "from langchain.chains import SimpleSequentialChain\n",
    "chain = SimpleSequentialChain(chains = [name_chain, food_items_chain])\n",
    "response = chain.run('english')\n",
    "print(response)"
   ]
  },
  {
   "cell_type": "markdown",
   "id": "162b61dc-3f31-4548-9228-dfecb0444b42",
   "metadata": {},
   "source": [
    "### Sequential chain\n",
    "\n",
    "*Can give multiple inputs and multiple outputs*"
   ]
  },
  {
   "cell_type": "code",
   "execution_count": 42,
   "id": "a9af218b-81e1-425b-a5b6-903b5001c1c4",
   "metadata": {},
   "outputs": [],
   "source": [
    "llm = OpenAI(temperature=0.8)\n",
    "\n",
    "prompt_template_name = PromptTemplate(\n",
    "    input_variables=['cuisine'],\n",
    "    template='I want to open a restaurant for {cuisine} food. Suggest a name.'                     \n",
    ")\n",
    "\n",
    "name_chain = LLMChain(prompt=prompt_template_name, llm=llm, output_key='res_name')"
   ]
  },
  {
   "cell_type": "code",
   "execution_count": 43,
   "id": "cc837729-a3b6-4b17-808f-6b79cd1f019f",
   "metadata": {},
   "outputs": [],
   "source": [
    "llm = OpenAI(temperature=0.8)\n",
    "\n",
    "prompt_template_items = PromptTemplate(\n",
    "    input_variables=['res_name'],\n",
    "    template='Suggest some menu items for {res_name}. Return it as a comma separated list.'                     \n",
    ")\n",
    "\n",
    "food_items_chain = LLMChain(prompt=prompt_template_items, llm=llm, output_key='menu_items')"
   ]
  },
  {
   "cell_type": "code",
   "execution_count": 46,
   "id": "f28928a1-a7e9-4c94-b22b-c6d91130cde7",
   "metadata": {},
   "outputs": [
    {
     "name": "stdout",
     "output_type": "stream",
     "text": [
      "{'cuisine': 'Arabic', 'restaurant_name': \"\\nSultan's Palace \", 'menu_items': '\\n\\n1. Chicken Shawarma Plate - marinated grilled chicken served with rice, hummus, pita bread, and salad\\n2. Lamb Kebab Skewers - tender chunks of lamb seasoned and grilled to perfection\\n3. Falafel Platter - crispy falafel balls served with tahini sauce, tabbouleh, and pita bread\\n4. Vegetable Tagine - slow-cooked stew of mixed vegetables in a savory tomato-based sauce\\n5. Shish Tawook - grilled chicken breast marinated in a blend of Middle Eastern spices\\n6. Beef Kofta - ground beef mixed with herbs and spices, shaped into patties and grilled\\n7. Mezze Platter - a selection of small dishes including hummus, baba ghanoush, stuffed grape leaves, and olives\\n8. Chicken Mansaf - traditional Jordanian dish of chicken cooked in a yogurt sauce and served over rice \\n9. Mixed Grill Platter - a combination of lamb, chicken, and beef kabobs served with rice, grilled vegetables, and a side of tzatziki sauce\\n10. Baklava - sweet and flaky pastry filled with pistachios and honey, a perfect ending to any meal.'}\n"
     ]
    }
   ],
   "source": [
    "from langchain.chains import SequentialChain\n",
    "\n",
    "SequentialChain(\n",
    "    chains=[name_chain, food_items_chain],\n",
    "    input_variables = ['cuisine'],\n",
    "    output_variables = ['res_name', 'menu_items']    \n",
    ")\n",
    "\n",
    "print(chain({'cuisine':'Arabic'}))"
   ]
  },
  {
   "cell_type": "code",
   "execution_count": 21,
   "id": "9852d4ca-486a-4550-bd55-f52bf2c7d91b",
   "metadata": {},
   "outputs": [],
   "source": []
  },
  {
   "cell_type": "code",
   "execution_count": 49,
   "id": "6bd9d4bb-0995-4f01-9516-93000dfd3531",
   "metadata": {},
   "outputs": [
    {
     "name": "stdout",
     "output_type": "stream",
     "text": [
      "pip 23.3.1 from C:\\ProgramData\\anaconda3\\Lib\\site-packages\\pip (python 3.11)\n",
      "\n",
      "Note: you may need to restart the kernel to use updated packages.\n"
     ]
    }
   ],
   "source": [
    "pip --version"
   ]
  },
  {
   "cell_type": "code",
   "execution_count": null,
   "id": "e1f8c789-f626-4df8-8b30-0be87a734ef6",
   "metadata": {},
   "outputs": [],
   "source": []
  },
  {
   "cell_type": "code",
   "execution_count": null,
   "id": "ef8048f6-011e-4235-8d49-62a1000ce7fc",
   "metadata": {},
   "outputs": [],
   "source": []
  }
 ],
 "metadata": {
  "kernelspec": {
   "display_name": "Python 3 (ipykernel)",
   "language": "python",
   "name": "python3"
  },
  "language_info": {
   "codemirror_mode": {
    "name": "ipython",
    "version": 3
   },
   "file_extension": ".py",
   "mimetype": "text/x-python",
   "name": "python",
   "nbconvert_exporter": "python",
   "pygments_lexer": "ipython3",
   "version": "3.11.7"
  }
 },
 "nbformat": 4,
 "nbformat_minor": 5
}
