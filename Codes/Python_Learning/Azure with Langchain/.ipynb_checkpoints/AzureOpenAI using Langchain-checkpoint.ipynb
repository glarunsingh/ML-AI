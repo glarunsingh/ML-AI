{
 "cells": [
  {
   "cell_type": "code",
   "execution_count": 21,
   "id": "f2fdfe48",
   "metadata": {},
   "outputs": [
    {
     "data": {
      "text/plain": [
       "'C:\\\\Users\\\\ankit\\\\AZURE AI'"
      ]
     },
     "execution_count": 21,
     "metadata": {},
     "output_type": "execute_result"
    }
   ],
   "source": [
    "pwd"
   ]
  },
  {
   "cell_type": "code",
   "execution_count": 1,
   "id": "f6c8c420",
   "metadata": {},
   "outputs": [],
   "source": [
    "import os\n",
    "import openai\n",
    "# Import Azure OpenAI\n",
    "from langchain_openai import AzureChatOpenAI"
   ]
  },
  {
   "cell_type": "code",
   "execution_count": 2,
   "id": "14edf454",
   "metadata": {},
   "outputs": [],
   "source": [
    "#Setting Environment variable\n",
    "os.environ[\"OPENAI_API_VERSION\"] = \"2023-07-01-preview\"\n",
    "os.environ[\"AZURE_OPENAI_ENDPOINT\"] = 'https://dskumar.openai.azure.com/'\n",
    "os.environ[\"AZURE_OPENAI_API_KEY\"] =\"62855d6dd08945819bf83aee0c104127\"\n",
    "os.environ[\"DEPLOYMENT_NAME\"] =\"DskumarDeployment\"\n",
    "os.environ['OPENAI_TYPE']=\"Azure\"\n",
    "os.environ[\"LLM_MODEL\"] = \"gpt-35-turbo-16k\""
   ]
  },
  {
   "cell_type": "code",
   "execution_count": 3,
   "id": "f3321fd6",
   "metadata": {},
   "outputs": [],
   "source": [
    "# Create an instance of Azure OpenAI\n",
    "\n",
    "llm = AzureChatOpenAI(\n",
    "    deployment_name=os.getenv(\"DEPLOYMENT_NAME\"),openai_api_type='Azure',\n",
    ")"
   ]
  },
  {
   "cell_type": "code",
   "execution_count": 6,
   "id": "cd8111ce",
   "metadata": {},
   "outputs": [],
   "source": [
    "from langchain_core.messages import AIMessage,SystemMessage,HumanMessage"
   ]
  },
  {
   "cell_type": "code",
   "execution_count": 16,
   "id": "b7fc912c",
   "metadata": {},
   "outputs": [],
   "source": [
    "# Run the LLM\n",
    "result=llm([HumanMessage(content=\"Tell me about langchain\")])"
   ]
  },
  {
   "cell_type": "code",
   "execution_count": 17,
   "id": "90212b2f",
   "metadata": {},
   "outputs": [
    {
     "data": {
      "text/plain": [
       "\"LangChain is a decentralized blockchain platform that aims to revolutionize the language translation industry. It uses blockchain technology to create a decentralized network of translators, eliminating the need for intermediaries and reducing costs for both clients and translators.\\n\\nThe platform operates on a peer-to-peer model, where clients can directly connect with translators who are skilled in the desired language pair. This ensures faster and more efficient translation services, as clients can communicate directly with the translator and provide real-time feedback.\\n\\nLangChain also provides a secure and transparent payment system through its blockchain technology. Clients can pay for translation services using LangChain's native cryptocurrency, eliminating the need for traditional banking systems and reducing transaction fees.\\n\\nOne of the key features of LangChain is its reputation system, which ensures the quality of translations. Translators are rated by clients based on their performance, and these ratings are recorded on the blockchain. This helps clients in selecting the most reliable and skilled translators for their projects.\\n\\nAdditionally, LangChain provides tools and resources to support translators, including a collaborative translation environment and access to translation memory databases. This enables translators to work more efficiently and consistently, resulting in high-quality translations.\\n\\nOverall, LangChain aims to disrupt the traditional language translation industry by providing a decentralized, cost-effective, and efficient platform for clients and translators to connect and collaborate.\""
      ]
     },
     "execution_count": 17,
     "metadata": {},
     "output_type": "execute_result"
    }
   ],
   "source": [
    "result.content"
   ]
  },
  {
   "cell_type": "code",
   "execution_count": null,
   "id": "e3fe7330",
   "metadata": {},
   "outputs": [],
   "source": []
  },
  {
   "cell_type": "code",
   "execution_count": null,
   "id": "6908646e",
   "metadata": {},
   "outputs": [],
   "source": []
  },
  {
   "cell_type": "code",
   "execution_count": null,
   "id": "789e8053",
   "metadata": {},
   "outputs": [],
   "source": []
  }
 ],
 "metadata": {
  "kernelspec": {
   "display_name": "Python 3 (ipykernel)",
   "language": "python",
   "name": "python3"
  },
  "language_info": {
   "codemirror_mode": {
    "name": "ipython",
    "version": 3
   },
   "file_extension": ".py",
   "mimetype": "text/x-python",
   "name": "python",
   "nbconvert_exporter": "python",
   "pygments_lexer": "ipython3",
   "version": "3.10.14"
  }
 },
 "nbformat": 4,
 "nbformat_minor": 5
}
