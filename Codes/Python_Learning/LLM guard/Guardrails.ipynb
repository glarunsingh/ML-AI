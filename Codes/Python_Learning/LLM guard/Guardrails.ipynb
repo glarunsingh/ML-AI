{
 "cells": [
  {
   "cell_type": "markdown",
   "id": "19158bd6-b1d4-45c4-8a66-5ac375a5fe65",
   "metadata": {},
   "source": [
    "# Azure OpenAI Implementation"
   ]
  },
  {
   "cell_type": "code",
   "execution_count": 1,
   "id": "0c2d008c-4877-40ea-ae92-e9e420a46f9a",
   "metadata": {},
   "outputs": [],
   "source": [
    "import os\n",
    "import openai\n",
    "# Import Azure OpenAI\n",
    "from langchain_openai import AzureChatOpenAI\n",
    "\n",
    "\n",
    "#Setting Environment variable\n",
    "os.environ[\"OPENAI_API_VERSION\"] = \"2023-07-01-preview\"\n",
    "os.environ[\"AZURE_OPENAI_ENDPOINT\"] = 'https://dskumar.openai.azure.com/'\n",
    "os.environ[\"AZURE_OPENAI_API_KEY\"] =\"62855d6dd08945819bf83aee0c104127\"\n",
    "os.environ[\"DEPLOYMENT_NAME\"] =\"DskumarDeployment\"\n",
    "os.environ['OPENAI_TYPE']=\"Azure\"\n",
    "os.environ[\"LLM_MODEL\"] = \"gpt-35-turbo-16k\"\n",
    "\n",
    "\n",
    "# Create an instance of Azure OpenAI\n",
    "\n",
    "llm = AzureChatOpenAI(\n",
    "    deployment_name=os.getenv(\"DEPLOYMENT_NAME\"),openai_api_type='Azure',\n",
    ")\n",
    "\n",
    "\n",
    "from langchain_core.messages import AIMessage,SystemMessage,HumanMessage\n"
   ]
  },
  {
   "cell_type": "code",
   "execution_count": 2,
   "id": "dfe6d6de-e224-4f8c-a3b4-ee8f93346252",
   "metadata": {},
   "outputs": [],
   "source": [
    "# Run the LLM\n",
    "result=llm.invoke([HumanMessage(content=\"Are you upto date with all the news available in the market\")])"
   ]
  },
  {
   "cell_type": "code",
   "execution_count": 3,
   "id": "9c98f019-4370-4c56-a8ed-3ff2b0e371bc",
   "metadata": {},
   "outputs": [],
   "source": [
    "result.content"
   ]
  },
  {
   "cell_type": "code",
   "execution_count": 4,
   "id": "a5bf8c51-3378-4b28-a31d-88695cda7e4b",
   "metadata": {},
   "outputs": [],
   "source": []
  },
  {
   "cell_type": "code",
   "execution_count": 5,
   "id": "7471eda2-94e7-42d7-90ae-c55328382b26",
   "metadata": {},
   "outputs": [],
   "source": []
  },
  {
   "cell_type": "code",
   "execution_count": 6,
   "id": "c6a61987-33f8-416e-beca-9aa6df79be61",
   "metadata": {},
   "outputs": [
    {
     "data": {
      "text/plain": [
       "\"As an AI language model, I can provide information on a wide range of topics including recent news. However, I do not have real-time data access and my responses are based on information available up until September 2021. For the most up-to-date news, it's best to refer to reliable news sources or use a news aggregator application or website.\""
      ]
     },
     "execution_count": 6,
     "metadata": {},
     "output_type": "execute_result"
    }
   ],
   "source": []
  },
  {
   "cell_type": "markdown",
   "id": "1fbd5da1-1a97-49de-a6aa-00560372e96a",
   "metadata": {},
   "source": [
    "# GuardRailAI Implementation"
   ]
  },
  {
   "cell_type": "code",
   "execution_count": 1,
   "id": "8a0dc7a2-9158-4e97-99ee-e15d33ffd52d",
   "metadata": {},
   "outputs": [
    {
     "name": "stdout",
     "output_type": "stream",
     "text": [
      "Defaulting to user installation because normal site-packages is not writeable\n",
      "Requirement already satisfied: guardrails-ai in c:\\users\\janu\\appdata\\roaming\\python\\python311\\site-packages (0.4.3)\n",
      "Requirement already satisfied: coloredlogs<16.0.0,>=15.0.1 in c:\\users\\janu\\appdata\\roaming\\python\\python311\\site-packages (from guardrails-ai) (15.0.1)\n",
      "Requirement already satisfied: griffe<0.37.0,>=0.36.9 in c:\\users\\janu\\appdata\\roaming\\python\\python311\\site-packages (from guardrails-ai) (0.36.9)\n",
      "Requirement already satisfied: guardrails-api-client<0.2.0,>=0.1.1 in c:\\users\\janu\\appdata\\roaming\\python\\python311\\site-packages (from guardrails-ai) (0.1.1)\n",
      "Requirement already satisfied: jwt<2.0.0,>=1.3.1 in c:\\users\\janu\\appdata\\roaming\\python\\python311\\site-packages (from guardrails-ai) (1.3.1)\n",
      "Requirement already satisfied: langchain-core<0.2.0,>=0.1.18 in c:\\users\\janu\\appdata\\roaming\\python\\python311\\site-packages (from guardrails-ai) (0.1.42)\n",
      "Requirement already satisfied: lxml<5.0.0,>=4.9.3 in c:\\programdata\\anaconda3\\lib\\site-packages (from guardrails-ai) (4.9.3)\n",
      "Requirement already satisfied: openai<2 in c:\\users\\janu\\appdata\\roaming\\python\\python311\\site-packages (from guardrails-ai) (1.17.0)\n",
      "Requirement already satisfied: opentelemetry-exporter-otlp-proto-grpc==1.20.0 in c:\\users\\janu\\appdata\\roaming\\python\\python311\\site-packages (from guardrails-ai) (1.20.0)\n",
      "Requirement already satisfied: opentelemetry-exporter-otlp-proto-http==1.20.0 in c:\\users\\janu\\appdata\\roaming\\python\\python311\\site-packages (from guardrails-ai) (1.20.0)\n",
      "Requirement already satisfied: opentelemetry-sdk==1.20.0 in c:\\users\\janu\\appdata\\roaming\\python\\python311\\site-packages (from guardrails-ai) (1.20.0)\n",
      "Requirement already satisfied: pydantic<3.0,>=1.10.9 in c:\\programdata\\anaconda3\\lib\\site-packages (from guardrails-ai) (1.10.12)\n",
      "Requirement already satisfied: pydash<8.0.0,>=7.0.6 in c:\\users\\janu\\appdata\\roaming\\python\\python311\\site-packages (from guardrails-ai) (7.0.7)\n",
      "Requirement already satisfied: python-dateutil<3.0.0,>=2.8.2 in c:\\programdata\\anaconda3\\lib\\site-packages (from guardrails-ai) (2.8.2)\n",
      "Requirement already satisfied: regex<2024.0.0,>=2023.10.3 in c:\\programdata\\anaconda3\\lib\\site-packages (from guardrails-ai) (2023.10.3)\n",
      "Requirement already satisfied: requests<3.0.0,>=2.31.0 in c:\\programdata\\anaconda3\\lib\\site-packages (from guardrails-ai) (2.31.0)\n",
      "Requirement already satisfied: rich<14.0.0,>=13.6.0 in c:\\users\\janu\\appdata\\roaming\\python\\python311\\site-packages (from guardrails-ai) (13.7.1)\n",
      "Requirement already satisfied: rstr<4.0.0,>=3.2.2 in c:\\users\\janu\\appdata\\roaming\\python\\python311\\site-packages (from guardrails-ai) (3.2.2)\n",
      "Requirement already satisfied: tenacity>=8.1.0 in c:\\programdata\\anaconda3\\lib\\site-packages (from guardrails-ai) (8.2.2)\n",
      "Requirement already satisfied: tiktoken<0.6.0,>=0.5.1 in c:\\users\\janu\\appdata\\roaming\\python\\python311\\site-packages (from guardrails-ai) (0.5.2)\n",
      "Requirement already satisfied: typer<0.10.0,>=0.9.0 in c:\\users\\janu\\appdata\\roaming\\python\\python311\\site-packages (from typer[all]<0.10.0,>=0.9.0->guardrails-ai) (0.9.4)\n",
      "Requirement already satisfied: typing-extensions<5.0.0,>=4.8.0 in c:\\programdata\\anaconda3\\lib\\site-packages (from guardrails-ai) (4.9.0)\n",
      "Requirement already satisfied: backoff<3.0.0,>=1.10.0 in c:\\users\\janu\\appdata\\roaming\\python\\python311\\site-packages (from opentelemetry-exporter-otlp-proto-grpc==1.20.0->guardrails-ai) (2.2.1)\n",
      "Requirement already satisfied: deprecated>=1.2.6 in c:\\users\\janu\\appdata\\roaming\\python\\python311\\site-packages (from opentelemetry-exporter-otlp-proto-grpc==1.20.0->guardrails-ai) (1.2.14)\n",
      "Requirement already satisfied: googleapis-common-protos~=1.52 in c:\\users\\janu\\appdata\\roaming\\python\\python311\\site-packages (from opentelemetry-exporter-otlp-proto-grpc==1.20.0->guardrails-ai) (1.63.0)\n",
      "Requirement already satisfied: grpcio<2.0.0,>=1.0.0 in c:\\users\\janu\\appdata\\roaming\\python\\python311\\site-packages (from opentelemetry-exporter-otlp-proto-grpc==1.20.0->guardrails-ai) (1.62.1)\n",
      "Requirement already satisfied: opentelemetry-api~=1.15 in c:\\users\\janu\\appdata\\roaming\\python\\python311\\site-packages (from opentelemetry-exporter-otlp-proto-grpc==1.20.0->guardrails-ai) (1.20.0)\n",
      "Requirement already satisfied: opentelemetry-exporter-otlp-proto-common==1.20.0 in c:\\users\\janu\\appdata\\roaming\\python\\python311\\site-packages (from opentelemetry-exporter-otlp-proto-grpc==1.20.0->guardrails-ai) (1.20.0)\n",
      "Requirement already satisfied: opentelemetry-proto==1.20.0 in c:\\users\\janu\\appdata\\roaming\\python\\python311\\site-packages (from opentelemetry-exporter-otlp-proto-grpc==1.20.0->guardrails-ai) (1.20.0)\n",
      "Requirement already satisfied: opentelemetry-semantic-conventions==0.41b0 in c:\\users\\janu\\appdata\\roaming\\python\\python311\\site-packages (from opentelemetry-sdk==1.20.0->guardrails-ai) (0.41b0)\n",
      "Requirement already satisfied: importlib-metadata<7.0,>=6.0 in c:\\users\\janu\\appdata\\roaming\\python\\python311\\site-packages (from opentelemetry-api~=1.15->opentelemetry-exporter-otlp-proto-grpc==1.20.0->guardrails-ai) (6.11.0)\n",
      "Requirement already satisfied: protobuf<5.0,>=3.19 in c:\\programdata\\anaconda3\\lib\\site-packages (from opentelemetry-proto==1.20.0->opentelemetry-exporter-otlp-proto-grpc==1.20.0->guardrails-ai) (3.20.3)\n",
      "Requirement already satisfied: humanfriendly>=9.1 in c:\\users\\janu\\appdata\\roaming\\python\\python311\\site-packages (from coloredlogs<16.0.0,>=15.0.1->guardrails-ai) (10.0)\n",
      "Requirement already satisfied: colorama>=0.4 in c:\\programdata\\anaconda3\\lib\\site-packages (from griffe<0.37.0,>=0.36.9->guardrails-ai) (0.4.6)\n",
      "Requirement already satisfied: httpx<0.28.0,>=0.20.0 in c:\\users\\janu\\appdata\\roaming\\python\\python311\\site-packages (from guardrails-api-client<0.2.0,>=0.1.1->guardrails-ai) (0.27.0)\n",
      "Requirement already satisfied: attrs>=21.3.0 in c:\\programdata\\anaconda3\\lib\\site-packages (from guardrails-api-client<0.2.0,>=0.1.1->guardrails-ai) (23.1.0)\n",
      "Requirement already satisfied: cryptography!=3.4.0,>=3.1 in c:\\programdata\\anaconda3\\lib\\site-packages (from jwt<2.0.0,>=1.3.1->guardrails-ai) (42.0.2)\n",
      "Requirement already satisfied: PyYAML>=5.3 in c:\\programdata\\anaconda3\\lib\\site-packages (from langchain-core<0.2.0,>=0.1.18->guardrails-ai) (6.0.1)\n",
      "Requirement already satisfied: jsonpatch<2.0,>=1.33 in c:\\users\\janu\\appdata\\roaming\\python\\python311\\site-packages (from langchain-core<0.2.0,>=0.1.18->guardrails-ai) (1.33)\n",
      "Requirement already satisfied: langsmith<0.2.0,>=0.1.0 in c:\\users\\janu\\appdata\\roaming\\python\\python311\\site-packages (from langchain-core<0.2.0,>=0.1.18->guardrails-ai) (0.1.43)\n",
      "Requirement already satisfied: packaging<24.0,>=23.2 in c:\\users\\janu\\appdata\\roaming\\python\\python311\\site-packages (from langchain-core<0.2.0,>=0.1.18->guardrails-ai) (23.2)\n",
      "Requirement already satisfied: anyio<5,>=3.5.0 in c:\\programdata\\anaconda3\\lib\\site-packages (from openai<2->guardrails-ai) (4.2.0)\n",
      "Requirement already satisfied: distro<2,>=1.7.0 in c:\\programdata\\anaconda3\\lib\\site-packages (from openai<2->guardrails-ai) (1.8.0)\n",
      "Requirement already satisfied: sniffio in c:\\programdata\\anaconda3\\lib\\site-packages (from openai<2->guardrails-ai) (1.3.0)\n",
      "Requirement already satisfied: tqdm>4 in c:\\users\\janu\\appdata\\roaming\\python\\python311\\site-packages (from openai<2->guardrails-ai) (4.66.2)\n",
      "Requirement already satisfied: six>=1.5 in c:\\programdata\\anaconda3\\lib\\site-packages (from python-dateutil<3.0.0,>=2.8.2->guardrails-ai) (1.16.0)\n",
      "Requirement already satisfied: charset-normalizer<4,>=2 in c:\\programdata\\anaconda3\\lib\\site-packages (from requests<3.0.0,>=2.31.0->guardrails-ai) (2.0.4)\n",
      "Requirement already satisfied: idna<4,>=2.5 in c:\\programdata\\anaconda3\\lib\\site-packages (from requests<3.0.0,>=2.31.0->guardrails-ai) (3.4)\n",
      "Requirement already satisfied: urllib3<3,>=1.21.1 in c:\\programdata\\anaconda3\\lib\\site-packages (from requests<3.0.0,>=2.31.0->guardrails-ai) (2.0.7)\n",
      "Requirement already satisfied: certifi>=2017.4.17 in c:\\programdata\\anaconda3\\lib\\site-packages (from requests<3.0.0,>=2.31.0->guardrails-ai) (2024.2.2)\n",
      "Requirement already satisfied: markdown-it-py>=2.2.0 in c:\\programdata\\anaconda3\\lib\\site-packages (from rich<14.0.0,>=13.6.0->guardrails-ai) (2.2.0)\n",
      "Requirement already satisfied: pygments<3.0.0,>=2.13.0 in c:\\programdata\\anaconda3\\lib\\site-packages (from rich<14.0.0,>=13.6.0->guardrails-ai) (2.15.1)\n",
      "Requirement already satisfied: click<9.0.0,>=7.1.1 in c:\\programdata\\anaconda3\\lib\\site-packages (from typer<0.10.0,>=0.9.0->typer[all]<0.10.0,>=0.9.0->guardrails-ai) (8.1.7)\n",
      "Requirement already satisfied: shellingham<2.0.0,>=1.3.0 in c:\\users\\janu\\appdata\\roaming\\python\\python311\\site-packages (from typer[all]<0.10.0,>=0.9.0->guardrails-ai) (1.5.4)\n",
      "Requirement already satisfied: cffi>=1.12 in c:\\programdata\\anaconda3\\lib\\site-packages (from cryptography!=3.4.0,>=3.1->jwt<2.0.0,>=1.3.1->guardrails-ai) (1.16.0)\n",
      "Requirement already satisfied: wrapt<2,>=1.10 in c:\\programdata\\anaconda3\\lib\\site-packages (from deprecated>=1.2.6->opentelemetry-exporter-otlp-proto-grpc==1.20.0->guardrails-ai) (1.14.1)\n",
      "Requirement already satisfied: httpcore==1.* in c:\\users\\janu\\appdata\\roaming\\python\\python311\\site-packages (from httpx<0.28.0,>=0.20.0->guardrails-api-client<0.2.0,>=0.1.1->guardrails-ai) (1.0.5)\n",
      "Requirement already satisfied: h11<0.15,>=0.13 in c:\\users\\janu\\appdata\\roaming\\python\\python311\\site-packages (from httpcore==1.*->httpx<0.28.0,>=0.20.0->guardrails-api-client<0.2.0,>=0.1.1->guardrails-ai) (0.14.0)\n",
      "Requirement already satisfied: pyreadline3 in c:\\users\\janu\\appdata\\roaming\\python\\python311\\site-packages (from humanfriendly>=9.1->coloredlogs<16.0.0,>=15.0.1->guardrails-ai) (3.4.1)\n",
      "Requirement already satisfied: jsonpointer>=1.9 in c:\\programdata\\anaconda3\\lib\\site-packages (from jsonpatch<2.0,>=1.33->langchain-core<0.2.0,>=0.1.18->guardrails-ai) (2.1)\n",
      "Requirement already satisfied: orjson<4.0.0,>=3.9.14 in c:\\users\\janu\\appdata\\roaming\\python\\python311\\site-packages (from langsmith<0.2.0,>=0.1.0->langchain-core<0.2.0,>=0.1.18->guardrails-ai) (3.10.0)\n",
      "Requirement already satisfied: mdurl~=0.1 in c:\\programdata\\anaconda3\\lib\\site-packages (from markdown-it-py>=2.2.0->rich<14.0.0,>=13.6.0->guardrails-ai) (0.1.0)\n",
      "Requirement already satisfied: pycparser in c:\\programdata\\anaconda3\\lib\\site-packages (from cffi>=1.12->cryptography!=3.4.0,>=3.1->jwt<2.0.0,>=1.3.1->guardrails-ai) (2.21)\n",
      "Requirement already satisfied: zipp>=0.5 in c:\\programdata\\anaconda3\\lib\\site-packages (from importlib-metadata<7.0,>=6.0->opentelemetry-api~=1.15->opentelemetry-exporter-otlp-proto-grpc==1.20.0->guardrails-ai) (3.17.0)\n"
     ]
    }
   ],
   "source": [
    "!pip install guardrails-ai"
   ]
  },
  {
   "cell_type": "code",
   "execution_count": 4,
   "id": "9b14cafe-7b54-43e3-a163-6e0b746b7901",
   "metadata": {},
   "outputs": [
    {
     "name": "stdout",
     "output_type": "stream",
     "text": [
      "Defaulting to user installation because normal site-packages is not writeable\n"
     ]
    },
    {
     "name": "stderr",
     "output_type": "stream",
     "text": [
      "ERROR: Could not find a version that satisfies the requirement git (from versions: none)\n",
      "ERROR: No matching distribution found for git\n"
     ]
    }
   ],
   "source": [
    "#pip list\n",
    "!pip install git"
   ]
  },
  {
   "cell_type": "code",
   "execution_count": 2,
   "id": "53fd9ce5-d4e5-4766-b0b6-95f8c1a50a5b",
   "metadata": {},
   "outputs": [
    {
     "name": "stdout",
     "output_type": "stream",
     "text": [
      "\n",
      "Installing hub://guardrails/detect_pii...\n",
      "\n",
      "[    ] Fetching manifest\n",
      "[=   ] Fetching manifest\n",
      "[==  ] Fetching manifest\n",
      "[=== ] Fetching manifest\n",
      "[ ===] Fetching manifest\n",
      "[  ==] Fetching manifest\n",
      "[    ] Fetching manifest\n",
      "[   =] Fetching manifest\n",
      "[  ==] Fetching manifest\n",
      "[ ===] Fetching manifest\n",
      "[====] Fetching manifest\n",
      "[=== ] Fetching manifest\n",
      "[=   ] Fetching manifest\n",
      "[    ] Fetching manifest\n",
      "[=   ] Fetching manifest\n",
      "[==  ] Fetching manifest\n",
      "[=== ] Fetching manifest\n",
      "[ ===] Fetching manifest\n",
      "[  ==] Fetching manifest\n",
      "[    ] Fetching manifest\n",
      "[   =] Fetching manifest\n",
      "[  ==] Fetching manifest\n",
      "[ ===] Fetching manifest\n",
      "[====] Fetching manifest\n",
      "[=== ] Fetching manifest\n",
      "[=   ] Fetching manifest\n",
      "[    ] Fetching manifest\n",
      "[=   ] Fetching manifest\n",
      "[==  ] Fetching manifest\n",
      "[=== ] Fetching manifest\n",
      "[ ===] Fetching manifest\n",
      "[   =] Fetching manifest\n",
      "[    ] Fetching manifest\n",
      "[   =] Fetching manifest\n",
      "[  ==] Fetching manifest\n",
      "[ ===] Fetching manifest\n",
      "[=== ] Fetching manifest\n",
      "[==  ] Fetching manifest\n",
      "[=   ] Fetching manifest\n",
      "[    ] Fetching manifest\n",
      "[=   ] Fetching manifest\n",
      "[==  ] Fetching manifest\n",
      "[ ===] Fetching manifest\n",
      "[  ==] Fetching manifest\n",
      "[   =] Fetching manifest\n",
      "[    ] Fetching manifest\n",
      "[   =] Fetching manifest\n",
      "[  ==] Fetching manifest\n",
      "[====] Fetching manifest\n",
      "[====] Fetching manifest\n",
      "\n",
      "[    ] Downloading dependencies\n",
      "[=   ] Downloading dependencies\n",
      "[==  ] Downloading dependencies\n",
      "[=== ] Downloading dependencies\n",
      "[ ===] Downloading dependencies\n",
      "[  ==] Downloading dependencies\n",
      "[    ] Downloading dependencies\n",
      "[   =] Downloading dependencies\n",
      "[  ==] Downloading dependencies\n",
      "[ ===] Downloading dependencies\n",
      "[====] Downloading dependencies\n",
      "[=== ] Downloading dependencies\n",
      "[=   ] Downloading dependencies\n",
      "[    ] Downloading dependencies\n",
      "[=   ] Downloading dependencies\n",
      "[==  ] Downloading dependencies\n",
      "[=== ] Downloading dependencies\n",
      "[ ===] Downloading dependencies\n",
      "Failed to install git+https://github.com/guardrails-ai/detect_pii.git\n",
      "Exit code: 1\n",
      "stdout: b''\n",
      "[ ===] Downloading dependencies\n",
      "[ ===] Downloading dependencies\n",
      "\n"
     ]
    },
    {
     "name": "stderr",
     "output_type": "stream",
     "text": [
      "  ERROR: Error [WinError 2] The system cannot find the file specified while executing command git version\n",
      "ERROR: Cannot find command 'git' - do you have 'git' installed and in your PATH?\n"
     ]
    }
   ],
   "source": [
    "!guardrails hub install hub://guardrails/detect_pii"
   ]
  },
  {
   "cell_type": "code",
   "execution_count": 5,
   "id": "2ef07b5f-442b-48f1-9a0b-c1527ac8e977",
   "metadata": {},
   "outputs": [
    {
     "name": "stderr",
     "output_type": "stream",
     "text": [
      "[nltk_data] Downloading package punkt to\n",
      "[nltk_data]     C:\\Users\\JANU\\AppData\\Roaming\\nltk_data...\n",
      "[nltk_data]   Unzipping tokenizers\\punkt.zip.\n"
     ]
    },
    {
     "ename": "ImportError",
     "evalue": "cannot import name 'DetectPII' from 'guardrails.hub' (C:\\Users\\JANU\\AppData\\Roaming\\Python\\Python311\\site-packages\\guardrails\\hub\\__init__.py)",
     "output_type": "error",
     "traceback": [
      "\u001b[1;31m---------------------------------------------------------------------------\u001b[0m",
      "\u001b[1;31mImportError\u001b[0m                               Traceback (most recent call last)",
      "Cell \u001b[1;32mIn[5], line 2\u001b[0m\n\u001b[0;32m      1\u001b[0m \u001b[38;5;66;03m# Import Guard and Validator\u001b[39;00m\n\u001b[1;32m----> 2\u001b[0m \u001b[38;5;28;01mfrom\u001b[39;00m \u001b[38;5;21;01mguardrails\u001b[39;00m\u001b[38;5;21;01m.\u001b[39;00m\u001b[38;5;21;01mhub\u001b[39;00m \u001b[38;5;28;01mimport\u001b[39;00m DetectPII\n\u001b[0;32m      3\u001b[0m \u001b[38;5;28;01mfrom\u001b[39;00m \u001b[38;5;21;01mguardrails\u001b[39;00m \u001b[38;5;28;01mimport\u001b[39;00m Guard\n\u001b[0;32m      6\u001b[0m \u001b[38;5;66;03m# Setup Guard\u001b[39;00m\n",
      "\u001b[1;31mImportError\u001b[0m: cannot import name 'DetectPII' from 'guardrails.hub' (C:\\Users\\JANU\\AppData\\Roaming\\Python\\Python311\\site-packages\\guardrails\\hub\\__init__.py)"
     ]
    }
   ],
   "source": [
    "# Import Guard and Validator\n",
    "from guardrails.hub import DetectPII\n",
    "from guardrails import Guard\n",
    "\n",
    "\n",
    "# Setup Guard\n",
    "guard = Guard().use(DetectPII, [\"EMAIL_ADDRESS\", \"PHONE_NUMBER\"], \"exception\")\n",
    "\n",
    "guard.validate(\"Good morning!\")  # Validator passes\n",
    "try:\n",
    "    guard.validate(\n",
    "        \"If interested, apply at not_a_real_email@guardrailsai.com\"\n",
    "    )  # Validator fails\n",
    "except Exception as e:\n",
    "    print(e)\n"
   ]
  },
  {
   "cell_type": "code",
   "execution_count": null,
   "id": "56f8b2e7-fd66-4837-a79e-0383e0af8094",
   "metadata": {},
   "outputs": [],
   "source": []
  }
 ],
 "metadata": {
  "kernelspec": {
   "display_name": "Python 3 (ipykernel)",
   "language": "python",
   "name": "python3"
  },
  "language_info": {
   "codemirror_mode": {
    "name": "ipython",
    "version": 3
   },
   "file_extension": ".py",
   "mimetype": "text/x-python",
   "name": "python",
   "nbconvert_exporter": "python",
   "pygments_lexer": "ipython3",
   "version": "3.11.7"
  }
 },
 "nbformat": 4,
 "nbformat_minor": 5
}
